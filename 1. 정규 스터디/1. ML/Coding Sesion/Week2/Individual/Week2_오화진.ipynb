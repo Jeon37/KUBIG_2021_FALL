{
  "nbformat": 4,
  "nbformat_minor": 0,
  "metadata": {
    "colab": {
      "name": "Week2_오화진.ipynb",
      "provenance": [],
      "collapsed_sections": []
    },
    "kernelspec": {
      "name": "python3",
      "display_name": "Python 3"
    },
    "language_info": {
      "name": "python"
    }
  },
  "cells": [
    {
      "cell_type": "code",
      "metadata": {
        "id": "5wHsXBEq0oTr"
      },
      "source": [
        "import pandas as pd\n",
        "import numpy as np\n",
        "import seaborn as sns\n",
        "\n",
        "from sklearn.model_selection import train_test_split,cross_val_predict\n",
        "from sklearn.preprocessing import StandardScaler, RobustScaler, MinMaxScaler, MaxAbsScaler\n",
        "from sklearn.neighbors import KNeighborsClassifier\n",
        "from sklearn.model_selection import GridSearchCV\n",
        "from sklearn.metrics import accuracy_score, f1_score, confusion_matrix\n"
      ],
      "execution_count": 38,
      "outputs": []
    },
    {
      "cell_type": "code",
      "metadata": {
        "id": "h2HempQq0yoQ"
      },
      "source": [
        "dat_wine=pd.read_csv('http://archive.ics.uci.edu/ml/machine-learning-databases/'\n",
        "                     'wine/wine.data',header=None)\n",
        "dat_wine.columns = ['class label', 'alchohol', 'malic acid', 'ash', \n",
        "                    'alcalinity of ash', 'magnesium', 'total phenols', \n",
        "                    'flavanoids', 'nonflavanoid phenols', \n",
        "                    'proanthocyanins', 'color intensity', 'hue', \n",
        "                    'OD280', 'proline']  # Column names"
      ],
      "execution_count": 39,
      "outputs": []
    },
    {
      "cell_type": "code",
      "metadata": {
        "id": "vd-xXMKS0zbj"
      },
      "source": [
        "dat_wine_column = dat_wine.columns.to_list()\n",
        "x = dat_wine[dat_wine_column[1:]]\n",
        "y = dat_wine[dat_wine_column[0]]\n",
        "\n",
        "x_train, x_test, y_train, y_test = train_test_split(\n",
        "x, y, test_size=0.33, random_state=64)"
      ],
      "execution_count": 40,
      "outputs": []
    },
    {
      "cell_type": "code",
      "metadata": {
        "id": "uVQPM1_g1DyL"
      },
      "source": [
        "scaler1 = StandardScaler()\n",
        "\n",
        "x_train = scaler1.fit_transform(x_train) \n",
        "x_test = scaler1.transform(x_test) "
      ],
      "execution_count": 41,
      "outputs": []
    },
    {
      "cell_type": "code",
      "metadata": {
        "colab": {
          "base_uri": "https://localhost:8080/"
        },
        "id": "mih3uGf31Ff-",
        "outputId": "d4a018de-2cb1-44a5-cef7-dc46dea31c55"
      },
      "source": [
        "knn_clf = KNeighborsClassifier()\n",
        "param_grid={'n_neighbors': [3,5,6,8,11,12,13,14,15],\n",
        "            'weights': ['uniform','distance']}\n",
        "grid_search = GridSearchCV(knn_clf, param_grid, cv=5, verbose=0)\n",
        "grid_search.fit(x_train, y_train)"
      ],
      "execution_count": 42,
      "outputs": [
        {
          "output_type": "execute_result",
          "data": {
            "text/plain": [
              "GridSearchCV(cv=5, error_score=nan,\n",
              "             estimator=KNeighborsClassifier(algorithm='auto', leaf_size=30,\n",
              "                                            metric='minkowski',\n",
              "                                            metric_params=None, n_jobs=None,\n",
              "                                            n_neighbors=5, p=2,\n",
              "                                            weights='uniform'),\n",
              "             iid='deprecated', n_jobs=None,\n",
              "             param_grid={'n_neighbors': [3, 5, 6, 8, 11, 12, 13, 14, 15],\n",
              "                         'weights': ['uniform', 'distance']},\n",
              "             pre_dispatch='2*n_jobs', refit=True, return_train_score=False,\n",
              "             scoring=None, verbose=0)"
            ]
          },
          "metadata": {
            "tags": []
          },
          "execution_count": 42
        }
      ]
    },
    {
      "cell_type": "code",
      "metadata": {
        "colab": {
          "base_uri": "https://localhost:8080/"
        },
        "id": "g4HW1xnc4N_B",
        "outputId": "e9471230-851d-4147-e6c3-ad62db19f01d"
      },
      "source": [
        "print('best parameter: ',grid_search.best_params_)\n",
        "print('best score: ',grid_search.best_score_)"
      ],
      "execution_count": 43,
      "outputs": [
        {
          "output_type": "stream",
          "text": [
            "best parameter:  {'n_neighbors': 12, 'weights': 'distance'}\n",
            "best score:  0.9666666666666668\n"
          ],
          "name": "stdout"
        }
      ]
    },
    {
      "cell_type": "code",
      "metadata": {
        "colab": {
          "base_uri": "https://localhost:8080/"
        },
        "id": "31tfAaKz5Ier",
        "outputId": "d5012249-5dc9-482d-fb19-eb52fe7306eb"
      },
      "source": [
        "pred=grid_search.predict(x_test)\n",
        "f1 = f1_score(y_test,pred,average='weighted')\n",
        "print('f1 score :', f1)"
      ],
      "execution_count": 44,
      "outputs": [
        {
          "output_type": "stream",
          "text": [
            "f1 score : 0.9830862812260084\n"
          ],
          "name": "stdout"
        }
      ]
    },
    {
      "cell_type": "code",
      "metadata": {
        "colab": {
          "base_uri": "https://localhost:8080/"
        },
        "id": "R8hISqat_0e5",
        "outputId": "a3bd6c79-7f43-40a3-a1f8-8ae413060a74"
      },
      "source": [
        "cm=confusion_matrix(y_test,pred)\n",
        "print('confusion matrix:',cm)"
      ],
      "execution_count": 47,
      "outputs": [
        {
          "output_type": "stream",
          "text": [
            "confusion matrix: [[17  0  0]\n",
            " [ 1 20  0]\n",
            " [ 0  0 21]]\n"
          ],
          "name": "stdout"
        }
      ]
    }
  ]
}