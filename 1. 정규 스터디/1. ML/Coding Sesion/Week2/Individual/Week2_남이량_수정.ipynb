{
  "nbformat": 4,
  "nbformat_minor": 0,
  "metadata": {
    "colab": {
      "name": "Week2_Answer_Individual.ipynb의 사본",
      "provenance": [],
      "collapsed_sections": []
    },
    "kernelspec": {
      "name": "python3",
      "display_name": "Python 3"
    },
    "language_info": {
      "name": "python"
    }
  },
  "cells": [
    {
      "cell_type": "markdown",
      "metadata": {
        "id": "vPAf8IrFYsGG"
      },
      "source": [
        "<h2><b>[개인 과제]</b></h2>\n",
        "\n",
        "````\n",
        "pd.read_csv('http://archive.ics.uci.edu/ml/machine-learning-databases/'\n",
        "                     'wine/wine.data',header=None)\n",
        "````\n",
        "<h3>위와 같은 방식으로 다운받은 데이터에서 Class label이 1인 샘플과 Class label이 1이 아닌 샘플을 구분하게 하는 Binary Classifier를 만들어보세요!</h3>\n",
        "\n",
        "<br>\n",
        "\n",
        "**<h3><조건></h3>**\n",
        "\n",
        "<h3>0. Train-test set 분리 </h3>\n",
        "\n",
        "````\n",
        "X_train, X_test, y_train, y_test = train_test_split(\n",
        "X, y_1, test_size=0.33, random_state=64)\n",
        "````\n",
        "<h3>1. sklearn의 GridSearchCV를 활용하기</h3>\n",
        "\n",
        "````\n",
        "from sklearn.model_selection import GridSearchCV\n",
        "knn_clf = KNeighborsClassifier()\n",
        "grid_search = GridSearchCV(knn_clf, param_grid, cv=5, verbose=0, scoring='f1')\n",
        "````\n",
        "\n",
        "<h3>2. grid-search에서 best-parameter, best score 확인하기</h3>\n",
        "<h3>3. test set에서 f1 score와 confusion matrix 계산하기</h3>\n"
      ]
    },
    {
      "cell_type": "code",
      "metadata": {
        "id": "7Q8tijkrmSZM"
      },
      "source": [
        "import pandas as pd\n",
        "import numpy as np\n",
        "from sklearn.model_selection import GridSearchCV\n",
        "from sklearn.model_selection import train_test_split\n",
        "from sklearn.neighbors import KNeighborsClassifier"
      ],
      "execution_count": 26,
      "outputs": []
    },
    {
      "cell_type": "code",
      "metadata": {
        "id": "BCC9K2tAz7l1"
      },
      "source": [
        "wine_data=pd.read_csv('http://archive.ics.uci.edu/ml/machine-learning-databases/'\n",
        "                     'wine/wine.data',header=None)\n",
        "wine_data.columns = ['class label', 'alchohol', 'malic acid', 'ash', \n",
        "                    'alcalinity of ash', 'magnesium', 'total phenols', \n",
        "                    'flavanoids', 'nonflavanoid phenols', \n",
        "                    'proanthocyanins', 'color intensity', 'hue', \n",
        "                    'OD280', 'proline']"
      ],
      "execution_count": 3,
      "outputs": []
    },
    {
      "cell_type": "code",
      "metadata": {
        "colab": {
          "base_uri": "https://localhost:8080/",
          "height": 436
        },
        "id": "Ba8QtX9O0v3X",
        "outputId": "d87a6985-1c0c-4efd-c105-8143c3527cdb"
      },
      "source": [
        "wine_data"
      ],
      "execution_count": 4,
      "outputs": [
        {
          "output_type": "execute_result",
          "data": {
            "text/html": [
              "<div>\n",
              "<style scoped>\n",
              "    .dataframe tbody tr th:only-of-type {\n",
              "        vertical-align: middle;\n",
              "    }\n",
              "\n",
              "    .dataframe tbody tr th {\n",
              "        vertical-align: top;\n",
              "    }\n",
              "\n",
              "    .dataframe thead th {\n",
              "        text-align: right;\n",
              "    }\n",
              "</style>\n",
              "<table border=\"1\" class=\"dataframe\">\n",
              "  <thead>\n",
              "    <tr style=\"text-align: right;\">\n",
              "      <th></th>\n",
              "      <th>class label</th>\n",
              "      <th>alchohol</th>\n",
              "      <th>malic acid</th>\n",
              "      <th>ash</th>\n",
              "      <th>alcalinity of ash</th>\n",
              "      <th>magnesium</th>\n",
              "      <th>total phenols</th>\n",
              "      <th>flavanoids</th>\n",
              "      <th>nonflavanoid phenols</th>\n",
              "      <th>proanthocyanins</th>\n",
              "      <th>color intensity</th>\n",
              "      <th>hue</th>\n",
              "      <th>OD280</th>\n",
              "      <th>proline</th>\n",
              "    </tr>\n",
              "  </thead>\n",
              "  <tbody>\n",
              "    <tr>\n",
              "      <th>0</th>\n",
              "      <td>1</td>\n",
              "      <td>14.23</td>\n",
              "      <td>1.71</td>\n",
              "      <td>2.43</td>\n",
              "      <td>15.6</td>\n",
              "      <td>127</td>\n",
              "      <td>2.80</td>\n",
              "      <td>3.06</td>\n",
              "      <td>0.28</td>\n",
              "      <td>2.29</td>\n",
              "      <td>5.64</td>\n",
              "      <td>1.04</td>\n",
              "      <td>3.92</td>\n",
              "      <td>1065</td>\n",
              "    </tr>\n",
              "    <tr>\n",
              "      <th>1</th>\n",
              "      <td>1</td>\n",
              "      <td>13.20</td>\n",
              "      <td>1.78</td>\n",
              "      <td>2.14</td>\n",
              "      <td>11.2</td>\n",
              "      <td>100</td>\n",
              "      <td>2.65</td>\n",
              "      <td>2.76</td>\n",
              "      <td>0.26</td>\n",
              "      <td>1.28</td>\n",
              "      <td>4.38</td>\n",
              "      <td>1.05</td>\n",
              "      <td>3.40</td>\n",
              "      <td>1050</td>\n",
              "    </tr>\n",
              "    <tr>\n",
              "      <th>2</th>\n",
              "      <td>1</td>\n",
              "      <td>13.16</td>\n",
              "      <td>2.36</td>\n",
              "      <td>2.67</td>\n",
              "      <td>18.6</td>\n",
              "      <td>101</td>\n",
              "      <td>2.80</td>\n",
              "      <td>3.24</td>\n",
              "      <td>0.30</td>\n",
              "      <td>2.81</td>\n",
              "      <td>5.68</td>\n",
              "      <td>1.03</td>\n",
              "      <td>3.17</td>\n",
              "      <td>1185</td>\n",
              "    </tr>\n",
              "    <tr>\n",
              "      <th>3</th>\n",
              "      <td>1</td>\n",
              "      <td>14.37</td>\n",
              "      <td>1.95</td>\n",
              "      <td>2.50</td>\n",
              "      <td>16.8</td>\n",
              "      <td>113</td>\n",
              "      <td>3.85</td>\n",
              "      <td>3.49</td>\n",
              "      <td>0.24</td>\n",
              "      <td>2.18</td>\n",
              "      <td>7.80</td>\n",
              "      <td>0.86</td>\n",
              "      <td>3.45</td>\n",
              "      <td>1480</td>\n",
              "    </tr>\n",
              "    <tr>\n",
              "      <th>4</th>\n",
              "      <td>1</td>\n",
              "      <td>13.24</td>\n",
              "      <td>2.59</td>\n",
              "      <td>2.87</td>\n",
              "      <td>21.0</td>\n",
              "      <td>118</td>\n",
              "      <td>2.80</td>\n",
              "      <td>2.69</td>\n",
              "      <td>0.39</td>\n",
              "      <td>1.82</td>\n",
              "      <td>4.32</td>\n",
              "      <td>1.04</td>\n",
              "      <td>2.93</td>\n",
              "      <td>735</td>\n",
              "    </tr>\n",
              "    <tr>\n",
              "      <th>...</th>\n",
              "      <td>...</td>\n",
              "      <td>...</td>\n",
              "      <td>...</td>\n",
              "      <td>...</td>\n",
              "      <td>...</td>\n",
              "      <td>...</td>\n",
              "      <td>...</td>\n",
              "      <td>...</td>\n",
              "      <td>...</td>\n",
              "      <td>...</td>\n",
              "      <td>...</td>\n",
              "      <td>...</td>\n",
              "      <td>...</td>\n",
              "      <td>...</td>\n",
              "    </tr>\n",
              "    <tr>\n",
              "      <th>173</th>\n",
              "      <td>3</td>\n",
              "      <td>13.71</td>\n",
              "      <td>5.65</td>\n",
              "      <td>2.45</td>\n",
              "      <td>20.5</td>\n",
              "      <td>95</td>\n",
              "      <td>1.68</td>\n",
              "      <td>0.61</td>\n",
              "      <td>0.52</td>\n",
              "      <td>1.06</td>\n",
              "      <td>7.70</td>\n",
              "      <td>0.64</td>\n",
              "      <td>1.74</td>\n",
              "      <td>740</td>\n",
              "    </tr>\n",
              "    <tr>\n",
              "      <th>174</th>\n",
              "      <td>3</td>\n",
              "      <td>13.40</td>\n",
              "      <td>3.91</td>\n",
              "      <td>2.48</td>\n",
              "      <td>23.0</td>\n",
              "      <td>102</td>\n",
              "      <td>1.80</td>\n",
              "      <td>0.75</td>\n",
              "      <td>0.43</td>\n",
              "      <td>1.41</td>\n",
              "      <td>7.30</td>\n",
              "      <td>0.70</td>\n",
              "      <td>1.56</td>\n",
              "      <td>750</td>\n",
              "    </tr>\n",
              "    <tr>\n",
              "      <th>175</th>\n",
              "      <td>3</td>\n",
              "      <td>13.27</td>\n",
              "      <td>4.28</td>\n",
              "      <td>2.26</td>\n",
              "      <td>20.0</td>\n",
              "      <td>120</td>\n",
              "      <td>1.59</td>\n",
              "      <td>0.69</td>\n",
              "      <td>0.43</td>\n",
              "      <td>1.35</td>\n",
              "      <td>10.20</td>\n",
              "      <td>0.59</td>\n",
              "      <td>1.56</td>\n",
              "      <td>835</td>\n",
              "    </tr>\n",
              "    <tr>\n",
              "      <th>176</th>\n",
              "      <td>3</td>\n",
              "      <td>13.17</td>\n",
              "      <td>2.59</td>\n",
              "      <td>2.37</td>\n",
              "      <td>20.0</td>\n",
              "      <td>120</td>\n",
              "      <td>1.65</td>\n",
              "      <td>0.68</td>\n",
              "      <td>0.53</td>\n",
              "      <td>1.46</td>\n",
              "      <td>9.30</td>\n",
              "      <td>0.60</td>\n",
              "      <td>1.62</td>\n",
              "      <td>840</td>\n",
              "    </tr>\n",
              "    <tr>\n",
              "      <th>177</th>\n",
              "      <td>3</td>\n",
              "      <td>14.13</td>\n",
              "      <td>4.10</td>\n",
              "      <td>2.74</td>\n",
              "      <td>24.5</td>\n",
              "      <td>96</td>\n",
              "      <td>2.05</td>\n",
              "      <td>0.76</td>\n",
              "      <td>0.56</td>\n",
              "      <td>1.35</td>\n",
              "      <td>9.20</td>\n",
              "      <td>0.61</td>\n",
              "      <td>1.60</td>\n",
              "      <td>560</td>\n",
              "    </tr>\n",
              "  </tbody>\n",
              "</table>\n",
              "<p>178 rows × 14 columns</p>\n",
              "</div>"
            ],
            "text/plain": [
              "     class label  alchohol  malic acid  ...   hue  OD280  proline\n",
              "0              1     14.23        1.71  ...  1.04   3.92     1065\n",
              "1              1     13.20        1.78  ...  1.05   3.40     1050\n",
              "2              1     13.16        2.36  ...  1.03   3.17     1185\n",
              "3              1     14.37        1.95  ...  0.86   3.45     1480\n",
              "4              1     13.24        2.59  ...  1.04   2.93      735\n",
              "..           ...       ...         ...  ...   ...    ...      ...\n",
              "173            3     13.71        5.65  ...  0.64   1.74      740\n",
              "174            3     13.40        3.91  ...  0.70   1.56      750\n",
              "175            3     13.27        4.28  ...  0.59   1.56      835\n",
              "176            3     13.17        2.59  ...  0.60   1.62      840\n",
              "177            3     14.13        4.10  ...  0.61   1.60      560\n",
              "\n",
              "[178 rows x 14 columns]"
            ]
          },
          "metadata": {
            "tags": []
          },
          "execution_count": 4
        }
      ]
    },
    {
      "cell_type": "code",
      "metadata": {
        "id": "gnUi3orPz_Al"
      },
      "source": [
        "x=pd.DataFrame(wine_data.drop('class label',axis=1))\n",
        "y=pd.DataFrame(wine_data['class label'])"
      ],
      "execution_count": 23,
      "outputs": []
    },
    {
      "cell_type": "code",
      "metadata": {
        "colab": {
          "base_uri": "https://localhost:8080/",
          "height": 334
        },
        "id": "9eiWoHxI2yQz",
        "outputId": "f746824b-de6d-48f1-e0c7-bb565107b951"
      },
      "source": [
        "wine_1.describe()"
      ],
      "execution_count": 11,
      "outputs": [
        {
          "output_type": "execute_result",
          "data": {
            "text/html": [
              "<div>\n",
              "<style scoped>\n",
              "    .dataframe tbody tr th:only-of-type {\n",
              "        vertical-align: middle;\n",
              "    }\n",
              "\n",
              "    .dataframe tbody tr th {\n",
              "        vertical-align: top;\n",
              "    }\n",
              "\n",
              "    .dataframe thead th {\n",
              "        text-align: right;\n",
              "    }\n",
              "</style>\n",
              "<table border=\"1\" class=\"dataframe\">\n",
              "  <thead>\n",
              "    <tr style=\"text-align: right;\">\n",
              "      <th></th>\n",
              "      <th>class label</th>\n",
              "      <th>alchohol</th>\n",
              "      <th>malic acid</th>\n",
              "      <th>ash</th>\n",
              "      <th>alcalinity of ash</th>\n",
              "      <th>magnesium</th>\n",
              "      <th>total phenols</th>\n",
              "      <th>flavanoids</th>\n",
              "      <th>nonflavanoid phenols</th>\n",
              "      <th>proanthocyanins</th>\n",
              "      <th>color intensity</th>\n",
              "      <th>hue</th>\n",
              "      <th>OD280</th>\n",
              "      <th>proline</th>\n",
              "    </tr>\n",
              "  </thead>\n",
              "  <tbody>\n",
              "    <tr>\n",
              "      <th>count</th>\n",
              "      <td>59.0</td>\n",
              "      <td>59.000000</td>\n",
              "      <td>59.000000</td>\n",
              "      <td>59.000000</td>\n",
              "      <td>59.000000</td>\n",
              "      <td>59.000000</td>\n",
              "      <td>59.000000</td>\n",
              "      <td>59.000000</td>\n",
              "      <td>59.000000</td>\n",
              "      <td>59.000000</td>\n",
              "      <td>59.000000</td>\n",
              "      <td>59.000000</td>\n",
              "      <td>59.000000</td>\n",
              "      <td>59.000000</td>\n",
              "    </tr>\n",
              "    <tr>\n",
              "      <th>mean</th>\n",
              "      <td>1.0</td>\n",
              "      <td>13.744746</td>\n",
              "      <td>2.010678</td>\n",
              "      <td>2.455593</td>\n",
              "      <td>17.037288</td>\n",
              "      <td>106.338983</td>\n",
              "      <td>2.840169</td>\n",
              "      <td>2.982373</td>\n",
              "      <td>0.290000</td>\n",
              "      <td>1.899322</td>\n",
              "      <td>5.528305</td>\n",
              "      <td>1.062034</td>\n",
              "      <td>3.157797</td>\n",
              "      <td>1115.711864</td>\n",
              "    </tr>\n",
              "    <tr>\n",
              "      <th>std</th>\n",
              "      <td>0.0</td>\n",
              "      <td>0.462125</td>\n",
              "      <td>0.688549</td>\n",
              "      <td>0.227166</td>\n",
              "      <td>2.546322</td>\n",
              "      <td>10.498949</td>\n",
              "      <td>0.338961</td>\n",
              "      <td>0.397494</td>\n",
              "      <td>0.070049</td>\n",
              "      <td>0.412109</td>\n",
              "      <td>1.238573</td>\n",
              "      <td>0.116483</td>\n",
              "      <td>0.357077</td>\n",
              "      <td>221.520767</td>\n",
              "    </tr>\n",
              "    <tr>\n",
              "      <th>min</th>\n",
              "      <td>1.0</td>\n",
              "      <td>12.850000</td>\n",
              "      <td>1.350000</td>\n",
              "      <td>2.040000</td>\n",
              "      <td>11.200000</td>\n",
              "      <td>89.000000</td>\n",
              "      <td>2.200000</td>\n",
              "      <td>2.190000</td>\n",
              "      <td>0.170000</td>\n",
              "      <td>1.250000</td>\n",
              "      <td>3.520000</td>\n",
              "      <td>0.820000</td>\n",
              "      <td>2.510000</td>\n",
              "      <td>680.000000</td>\n",
              "    </tr>\n",
              "    <tr>\n",
              "      <th>25%</th>\n",
              "      <td>1.0</td>\n",
              "      <td>13.400000</td>\n",
              "      <td>1.665000</td>\n",
              "      <td>2.295000</td>\n",
              "      <td>16.000000</td>\n",
              "      <td>98.000000</td>\n",
              "      <td>2.600000</td>\n",
              "      <td>2.680000</td>\n",
              "      <td>0.255000</td>\n",
              "      <td>1.640000</td>\n",
              "      <td>4.550000</td>\n",
              "      <td>0.995000</td>\n",
              "      <td>2.870000</td>\n",
              "      <td>987.500000</td>\n",
              "    </tr>\n",
              "    <tr>\n",
              "      <th>50%</th>\n",
              "      <td>1.0</td>\n",
              "      <td>13.750000</td>\n",
              "      <td>1.770000</td>\n",
              "      <td>2.440000</td>\n",
              "      <td>16.800000</td>\n",
              "      <td>104.000000</td>\n",
              "      <td>2.800000</td>\n",
              "      <td>2.980000</td>\n",
              "      <td>0.290000</td>\n",
              "      <td>1.870000</td>\n",
              "      <td>5.400000</td>\n",
              "      <td>1.070000</td>\n",
              "      <td>3.170000</td>\n",
              "      <td>1095.000000</td>\n",
              "    </tr>\n",
              "    <tr>\n",
              "      <th>75%</th>\n",
              "      <td>1.0</td>\n",
              "      <td>14.100000</td>\n",
              "      <td>1.935000</td>\n",
              "      <td>2.615000</td>\n",
              "      <td>18.700000</td>\n",
              "      <td>114.000000</td>\n",
              "      <td>3.000000</td>\n",
              "      <td>3.245000</td>\n",
              "      <td>0.320000</td>\n",
              "      <td>2.090000</td>\n",
              "      <td>6.225000</td>\n",
              "      <td>1.130000</td>\n",
              "      <td>3.420000</td>\n",
              "      <td>1280.000000</td>\n",
              "    </tr>\n",
              "    <tr>\n",
              "      <th>max</th>\n",
              "      <td>1.0</td>\n",
              "      <td>14.830000</td>\n",
              "      <td>4.040000</td>\n",
              "      <td>3.220000</td>\n",
              "      <td>25.000000</td>\n",
              "      <td>132.000000</td>\n",
              "      <td>3.880000</td>\n",
              "      <td>3.930000</td>\n",
              "      <td>0.500000</td>\n",
              "      <td>2.960000</td>\n",
              "      <td>8.900000</td>\n",
              "      <td>1.280000</td>\n",
              "      <td>4.000000</td>\n",
              "      <td>1680.000000</td>\n",
              "    </tr>\n",
              "  </tbody>\n",
              "</table>\n",
              "</div>"
            ],
            "text/plain": [
              "       class label   alchohol  malic acid  ...        hue      OD280      proline\n",
              "count         59.0  59.000000   59.000000  ...  59.000000  59.000000    59.000000\n",
              "mean           1.0  13.744746    2.010678  ...   1.062034   3.157797  1115.711864\n",
              "std            0.0   0.462125    0.688549  ...   0.116483   0.357077   221.520767\n",
              "min            1.0  12.850000    1.350000  ...   0.820000   2.510000   680.000000\n",
              "25%            1.0  13.400000    1.665000  ...   0.995000   2.870000   987.500000\n",
              "50%            1.0  13.750000    1.770000  ...   1.070000   3.170000  1095.000000\n",
              "75%            1.0  14.100000    1.935000  ...   1.130000   3.420000  1280.000000\n",
              "max            1.0  14.830000    4.040000  ...   1.280000   4.000000  1680.000000\n",
              "\n",
              "[8 rows x 14 columns]"
            ]
          },
          "metadata": {
            "tags": []
          },
          "execution_count": 11
        }
      ]
    },
    {
      "cell_type": "code",
      "metadata": {
        "id": "6GEgLj038Mnq"
      },
      "source": [
        "y1= (y['class label']==1)"
      ],
      "execution_count": 72,
      "outputs": []
    },
    {
      "cell_type": "code",
      "metadata": {
        "id": "nF3pol59147H"
      },
      "source": [
        "from sklearn.model_selection import  train_test_split\n",
        "X_train, X_test, y_train, y_test = train_test_split(x, y1,  test_size=0.33, random_state=64) "
      ],
      "execution_count": 73,
      "outputs": []
    },
    {
      "cell_type": "code",
      "metadata": {
        "colab": {
          "base_uri": "https://localhost:8080/"
        },
        "id": "k9RDIAeJ9OkJ",
        "outputId": "175e1297-261b-4131-ae0b-088f107ec3e1"
      },
      "source": [
        "from sklearn.model_selection import GridSearchCV\n",
        "knn_clf = KNeighborsClassifier()\n",
        "grid_search = GridSearchCV(knn_clf, param_grid, cv=5, verbose=0, scoring='f1')\n",
        "grid_search.fit(X_train, y_train)"
      ],
      "execution_count": 74,
      "outputs": [
        {
          "output_type": "execute_result",
          "data": {
            "text/plain": [
              "GridSearchCV(cv=5, error_score=nan,\n",
              "             estimator=KNeighborsClassifier(algorithm='auto', leaf_size=30,\n",
              "                                            metric='minkowski',\n",
              "                                            metric_params=None, n_jobs=None,\n",
              "                                            n_neighbors=5, p=2,\n",
              "                                            weights='uniform'),\n",
              "             iid='deprecated', n_jobs=None,\n",
              "             param_grid=[{'n_neighbors': [3, 4, 5],\n",
              "                          'weights': ['uniform', 'distance']}],\n",
              "             pre_dispatch='2*n_jobs', refit=True, return_train_score=False,\n",
              "             scoring='f1', verbose=0)"
            ]
          },
          "metadata": {
            "tags": []
          },
          "execution_count": 74
        }
      ]
    },
    {
      "cell_type": "code",
      "metadata": {
        "colab": {
          "base_uri": "https://localhost:8080/"
        },
        "id": "B1GCIKQE59K4",
        "outputId": "028c20a2-7fec-4424-e98a-bfa0f6341fea"
      },
      "source": [
        "grid_search.best_params_"
      ],
      "execution_count": 75,
      "outputs": [
        {
          "output_type": "execute_result",
          "data": {
            "text/plain": [
              "{'n_neighbors': 4, 'weights': 'distance'}"
            ]
          },
          "metadata": {
            "tags": []
          },
          "execution_count": 75
        }
      ]
    },
    {
      "cell_type": "code",
      "metadata": {
        "colab": {
          "base_uri": "https://localhost:8080/"
        },
        "id": "WKhPjF806G4o",
        "outputId": "a838f8af-3aa6-4206-849d-e0ffa65377f3"
      },
      "source": [
        "grid_search.best_score_"
      ],
      "execution_count": 76,
      "outputs": [
        {
          "output_type": "execute_result",
          "data": {
            "text/plain": [
              "0.8813725490196079"
            ]
          },
          "metadata": {
            "tags": []
          },
          "execution_count": 76
        }
      ]
    },
    {
      "cell_type": "code",
      "metadata": {
        "id": "VFqkNowz6xHq"
      },
      "source": [
        "from sklearn.model_selection import cross_val_predict\n",
        "knn_model=KNeighborsClassifier(weights='distance',n_neighbors=4)\n",
        "knn_model.fit(X_train, y_train)\n",
        "y_test_pred = cross_val_predict(knn_model, X_test, y_test)"
      ],
      "execution_count": 79,
      "outputs": []
    },
    {
      "cell_type": "code",
      "metadata": {
        "colab": {
          "base_uri": "https://localhost:8080/"
        },
        "id": "OoDdQXgl6N_k",
        "outputId": "682cda86-886a-4485-870e-4f2ef8c39993"
      },
      "source": [
        "from sklearn.metrics import confusion_matrix\n",
        "\n",
        "confusion_matrix(y_test, y_test_pred)"
      ],
      "execution_count": 80,
      "outputs": [
        {
          "output_type": "execute_result",
          "data": {
            "text/plain": [
              "array([[41,  1],\n",
              "       [ 2, 15]])"
            ]
          },
          "metadata": {
            "tags": []
          },
          "execution_count": 80
        }
      ]
    },
    {
      "cell_type": "markdown",
      "metadata": {
        "id": "iS7LGDwQ14qm"
      },
      "source": [
        ""
      ]
    },
    {
      "cell_type": "code",
      "metadata": {
        "colab": {
          "base_uri": "https://localhost:8080/"
        },
        "id": "E8xEJWMVAOLD",
        "outputId": "a5e5345f-0dc4-4a18-a025-59a8e2ba8f21"
      },
      "source": [
        "from sklearn.metrics import f1_score\n",
        "\n",
        "f1_score(y_test, y_test_pred)"
      ],
      "execution_count": 82,
      "outputs": [
        {
          "output_type": "execute_result",
          "data": {
            "text/plain": [
              "0.9090909090909091"
            ]
          },
          "metadata": {
            "tags": []
          },
          "execution_count": 82
        }
      ]
    }
  ]
}