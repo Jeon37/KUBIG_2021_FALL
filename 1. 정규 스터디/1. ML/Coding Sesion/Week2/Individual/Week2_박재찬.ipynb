{
  "nbformat": 4,
  "nbformat_minor": 0,
  "metadata": {
    "colab": {
      "name": "Week2_박재찬.ipynb",
      "provenance": []
    },
    "kernelspec": {
      "name": "python3",
      "display_name": "Python 3"
    },
    "language_info": {
      "name": "python"
    }
  },
  "cells": [
    {
      "cell_type": "code",
      "metadata": {
        "id": "V0N8fzKnztMD"
      },
      "source": [
        "import pandas as pd\n",
        "import seaborn as sns"
      ],
      "execution_count": 119,
      "outputs": []
    },
    {
      "cell_type": "code",
      "metadata": {
        "colab": {
          "base_uri": "https://localhost:8080/",
          "height": 434
        },
        "id": "xnrLUuSHzoZw",
        "outputId": "9458d6db-dc5e-418e-d5f5-f5649f75acbb"
      },
      "source": [
        "df=pd.read_csv('http://archive.ics.uci.edu/ml/machine-learning-databases/wine/wine.data',header=None)\n",
        "df.columns=['class','Alcohol','Malic acid','Ash','Alcalinity of ash','Magnesium','Total phenols','Flavanoids','Nonflavanoid phenols','Proanthocyanins','Color intensity','Hue','OD280/OD315 of diluted wines','Proline']\n",
        "\n",
        "df"
      ],
      "execution_count": 120,
      "outputs": [
        {
          "output_type": "execute_result",
          "data": {
            "text/html": [
              "<div>\n",
              "<style scoped>\n",
              "    .dataframe tbody tr th:only-of-type {\n",
              "        vertical-align: middle;\n",
              "    }\n",
              "\n",
              "    .dataframe tbody tr th {\n",
              "        vertical-align: top;\n",
              "    }\n",
              "\n",
              "    .dataframe thead th {\n",
              "        text-align: right;\n",
              "    }\n",
              "</style>\n",
              "<table border=\"1\" class=\"dataframe\">\n",
              "  <thead>\n",
              "    <tr style=\"text-align: right;\">\n",
              "      <th></th>\n",
              "      <th>class</th>\n",
              "      <th>Alcohol</th>\n",
              "      <th>Malic acid</th>\n",
              "      <th>Ash</th>\n",
              "      <th>Alcalinity of ash</th>\n",
              "      <th>Magnesium</th>\n",
              "      <th>Total phenols</th>\n",
              "      <th>Flavanoids</th>\n",
              "      <th>Nonflavanoid phenols</th>\n",
              "      <th>Proanthocyanins</th>\n",
              "      <th>Color intensity</th>\n",
              "      <th>Hue</th>\n",
              "      <th>OD280/OD315 of diluted wines</th>\n",
              "      <th>Proline</th>\n",
              "    </tr>\n",
              "  </thead>\n",
              "  <tbody>\n",
              "    <tr>\n",
              "      <th>0</th>\n",
              "      <td>1</td>\n",
              "      <td>14.23</td>\n",
              "      <td>1.71</td>\n",
              "      <td>2.43</td>\n",
              "      <td>15.6</td>\n",
              "      <td>127</td>\n",
              "      <td>2.80</td>\n",
              "      <td>3.06</td>\n",
              "      <td>0.28</td>\n",
              "      <td>2.29</td>\n",
              "      <td>5.64</td>\n",
              "      <td>1.04</td>\n",
              "      <td>3.92</td>\n",
              "      <td>1065</td>\n",
              "    </tr>\n",
              "    <tr>\n",
              "      <th>1</th>\n",
              "      <td>1</td>\n",
              "      <td>13.20</td>\n",
              "      <td>1.78</td>\n",
              "      <td>2.14</td>\n",
              "      <td>11.2</td>\n",
              "      <td>100</td>\n",
              "      <td>2.65</td>\n",
              "      <td>2.76</td>\n",
              "      <td>0.26</td>\n",
              "      <td>1.28</td>\n",
              "      <td>4.38</td>\n",
              "      <td>1.05</td>\n",
              "      <td>3.40</td>\n",
              "      <td>1050</td>\n",
              "    </tr>\n",
              "    <tr>\n",
              "      <th>2</th>\n",
              "      <td>1</td>\n",
              "      <td>13.16</td>\n",
              "      <td>2.36</td>\n",
              "      <td>2.67</td>\n",
              "      <td>18.6</td>\n",
              "      <td>101</td>\n",
              "      <td>2.80</td>\n",
              "      <td>3.24</td>\n",
              "      <td>0.30</td>\n",
              "      <td>2.81</td>\n",
              "      <td>5.68</td>\n",
              "      <td>1.03</td>\n",
              "      <td>3.17</td>\n",
              "      <td>1185</td>\n",
              "    </tr>\n",
              "    <tr>\n",
              "      <th>3</th>\n",
              "      <td>1</td>\n",
              "      <td>14.37</td>\n",
              "      <td>1.95</td>\n",
              "      <td>2.50</td>\n",
              "      <td>16.8</td>\n",
              "      <td>113</td>\n",
              "      <td>3.85</td>\n",
              "      <td>3.49</td>\n",
              "      <td>0.24</td>\n",
              "      <td>2.18</td>\n",
              "      <td>7.80</td>\n",
              "      <td>0.86</td>\n",
              "      <td>3.45</td>\n",
              "      <td>1480</td>\n",
              "    </tr>\n",
              "    <tr>\n",
              "      <th>4</th>\n",
              "      <td>1</td>\n",
              "      <td>13.24</td>\n",
              "      <td>2.59</td>\n",
              "      <td>2.87</td>\n",
              "      <td>21.0</td>\n",
              "      <td>118</td>\n",
              "      <td>2.80</td>\n",
              "      <td>2.69</td>\n",
              "      <td>0.39</td>\n",
              "      <td>1.82</td>\n",
              "      <td>4.32</td>\n",
              "      <td>1.04</td>\n",
              "      <td>2.93</td>\n",
              "      <td>735</td>\n",
              "    </tr>\n",
              "    <tr>\n",
              "      <th>...</th>\n",
              "      <td>...</td>\n",
              "      <td>...</td>\n",
              "      <td>...</td>\n",
              "      <td>...</td>\n",
              "      <td>...</td>\n",
              "      <td>...</td>\n",
              "      <td>...</td>\n",
              "      <td>...</td>\n",
              "      <td>...</td>\n",
              "      <td>...</td>\n",
              "      <td>...</td>\n",
              "      <td>...</td>\n",
              "      <td>...</td>\n",
              "      <td>...</td>\n",
              "    </tr>\n",
              "    <tr>\n",
              "      <th>173</th>\n",
              "      <td>3</td>\n",
              "      <td>13.71</td>\n",
              "      <td>5.65</td>\n",
              "      <td>2.45</td>\n",
              "      <td>20.5</td>\n",
              "      <td>95</td>\n",
              "      <td>1.68</td>\n",
              "      <td>0.61</td>\n",
              "      <td>0.52</td>\n",
              "      <td>1.06</td>\n",
              "      <td>7.70</td>\n",
              "      <td>0.64</td>\n",
              "      <td>1.74</td>\n",
              "      <td>740</td>\n",
              "    </tr>\n",
              "    <tr>\n",
              "      <th>174</th>\n",
              "      <td>3</td>\n",
              "      <td>13.40</td>\n",
              "      <td>3.91</td>\n",
              "      <td>2.48</td>\n",
              "      <td>23.0</td>\n",
              "      <td>102</td>\n",
              "      <td>1.80</td>\n",
              "      <td>0.75</td>\n",
              "      <td>0.43</td>\n",
              "      <td>1.41</td>\n",
              "      <td>7.30</td>\n",
              "      <td>0.70</td>\n",
              "      <td>1.56</td>\n",
              "      <td>750</td>\n",
              "    </tr>\n",
              "    <tr>\n",
              "      <th>175</th>\n",
              "      <td>3</td>\n",
              "      <td>13.27</td>\n",
              "      <td>4.28</td>\n",
              "      <td>2.26</td>\n",
              "      <td>20.0</td>\n",
              "      <td>120</td>\n",
              "      <td>1.59</td>\n",
              "      <td>0.69</td>\n",
              "      <td>0.43</td>\n",
              "      <td>1.35</td>\n",
              "      <td>10.20</td>\n",
              "      <td>0.59</td>\n",
              "      <td>1.56</td>\n",
              "      <td>835</td>\n",
              "    </tr>\n",
              "    <tr>\n",
              "      <th>176</th>\n",
              "      <td>3</td>\n",
              "      <td>13.17</td>\n",
              "      <td>2.59</td>\n",
              "      <td>2.37</td>\n",
              "      <td>20.0</td>\n",
              "      <td>120</td>\n",
              "      <td>1.65</td>\n",
              "      <td>0.68</td>\n",
              "      <td>0.53</td>\n",
              "      <td>1.46</td>\n",
              "      <td>9.30</td>\n",
              "      <td>0.60</td>\n",
              "      <td>1.62</td>\n",
              "      <td>840</td>\n",
              "    </tr>\n",
              "    <tr>\n",
              "      <th>177</th>\n",
              "      <td>3</td>\n",
              "      <td>14.13</td>\n",
              "      <td>4.10</td>\n",
              "      <td>2.74</td>\n",
              "      <td>24.5</td>\n",
              "      <td>96</td>\n",
              "      <td>2.05</td>\n",
              "      <td>0.76</td>\n",
              "      <td>0.56</td>\n",
              "      <td>1.35</td>\n",
              "      <td>9.20</td>\n",
              "      <td>0.61</td>\n",
              "      <td>1.60</td>\n",
              "      <td>560</td>\n",
              "    </tr>\n",
              "  </tbody>\n",
              "</table>\n",
              "<p>178 rows × 14 columns</p>\n",
              "</div>"
            ],
            "text/plain": [
              "     class  Alcohol  Malic acid  ...   Hue  OD280/OD315 of diluted wines  Proline\n",
              "0        1    14.23        1.71  ...  1.04                          3.92     1065\n",
              "1        1    13.20        1.78  ...  1.05                          3.40     1050\n",
              "2        1    13.16        2.36  ...  1.03                          3.17     1185\n",
              "3        1    14.37        1.95  ...  0.86                          3.45     1480\n",
              "4        1    13.24        2.59  ...  1.04                          2.93      735\n",
              "..     ...      ...         ...  ...   ...                           ...      ...\n",
              "173      3    13.71        5.65  ...  0.64                          1.74      740\n",
              "174      3    13.40        3.91  ...  0.70                          1.56      750\n",
              "175      3    13.27        4.28  ...  0.59                          1.56      835\n",
              "176      3    13.17        2.59  ...  0.60                          1.62      840\n",
              "177      3    14.13        4.10  ...  0.61                          1.60      560\n",
              "\n",
              "[178 rows x 14 columns]"
            ]
          },
          "metadata": {
            "tags": []
          },
          "execution_count": 120
        }
      ]
    },
    {
      "cell_type": "code",
      "metadata": {
        "id": "oOtBq99Rzp0N"
      },
      "source": [
        "df['class']=df['class'].replace({2:0,3:0})"
      ],
      "execution_count": 121,
      "outputs": []
    },
    {
      "cell_type": "code",
      "metadata": {
        "colab": {
          "base_uri": "https://localhost:8080/",
          "height": 434
        },
        "id": "Y2iETtmK0af3",
        "outputId": "d7f1cc4f-c3d1-40a7-ff80-b9735d5fd29d"
      },
      "source": [
        "df"
      ],
      "execution_count": 122,
      "outputs": [
        {
          "output_type": "execute_result",
          "data": {
            "text/html": [
              "<div>\n",
              "<style scoped>\n",
              "    .dataframe tbody tr th:only-of-type {\n",
              "        vertical-align: middle;\n",
              "    }\n",
              "\n",
              "    .dataframe tbody tr th {\n",
              "        vertical-align: top;\n",
              "    }\n",
              "\n",
              "    .dataframe thead th {\n",
              "        text-align: right;\n",
              "    }\n",
              "</style>\n",
              "<table border=\"1\" class=\"dataframe\">\n",
              "  <thead>\n",
              "    <tr style=\"text-align: right;\">\n",
              "      <th></th>\n",
              "      <th>class</th>\n",
              "      <th>Alcohol</th>\n",
              "      <th>Malic acid</th>\n",
              "      <th>Ash</th>\n",
              "      <th>Alcalinity of ash</th>\n",
              "      <th>Magnesium</th>\n",
              "      <th>Total phenols</th>\n",
              "      <th>Flavanoids</th>\n",
              "      <th>Nonflavanoid phenols</th>\n",
              "      <th>Proanthocyanins</th>\n",
              "      <th>Color intensity</th>\n",
              "      <th>Hue</th>\n",
              "      <th>OD280/OD315 of diluted wines</th>\n",
              "      <th>Proline</th>\n",
              "    </tr>\n",
              "  </thead>\n",
              "  <tbody>\n",
              "    <tr>\n",
              "      <th>0</th>\n",
              "      <td>1</td>\n",
              "      <td>14.23</td>\n",
              "      <td>1.71</td>\n",
              "      <td>2.43</td>\n",
              "      <td>15.6</td>\n",
              "      <td>127</td>\n",
              "      <td>2.80</td>\n",
              "      <td>3.06</td>\n",
              "      <td>0.28</td>\n",
              "      <td>2.29</td>\n",
              "      <td>5.64</td>\n",
              "      <td>1.04</td>\n",
              "      <td>3.92</td>\n",
              "      <td>1065</td>\n",
              "    </tr>\n",
              "    <tr>\n",
              "      <th>1</th>\n",
              "      <td>1</td>\n",
              "      <td>13.20</td>\n",
              "      <td>1.78</td>\n",
              "      <td>2.14</td>\n",
              "      <td>11.2</td>\n",
              "      <td>100</td>\n",
              "      <td>2.65</td>\n",
              "      <td>2.76</td>\n",
              "      <td>0.26</td>\n",
              "      <td>1.28</td>\n",
              "      <td>4.38</td>\n",
              "      <td>1.05</td>\n",
              "      <td>3.40</td>\n",
              "      <td>1050</td>\n",
              "    </tr>\n",
              "    <tr>\n",
              "      <th>2</th>\n",
              "      <td>1</td>\n",
              "      <td>13.16</td>\n",
              "      <td>2.36</td>\n",
              "      <td>2.67</td>\n",
              "      <td>18.6</td>\n",
              "      <td>101</td>\n",
              "      <td>2.80</td>\n",
              "      <td>3.24</td>\n",
              "      <td>0.30</td>\n",
              "      <td>2.81</td>\n",
              "      <td>5.68</td>\n",
              "      <td>1.03</td>\n",
              "      <td>3.17</td>\n",
              "      <td>1185</td>\n",
              "    </tr>\n",
              "    <tr>\n",
              "      <th>3</th>\n",
              "      <td>1</td>\n",
              "      <td>14.37</td>\n",
              "      <td>1.95</td>\n",
              "      <td>2.50</td>\n",
              "      <td>16.8</td>\n",
              "      <td>113</td>\n",
              "      <td>3.85</td>\n",
              "      <td>3.49</td>\n",
              "      <td>0.24</td>\n",
              "      <td>2.18</td>\n",
              "      <td>7.80</td>\n",
              "      <td>0.86</td>\n",
              "      <td>3.45</td>\n",
              "      <td>1480</td>\n",
              "    </tr>\n",
              "    <tr>\n",
              "      <th>4</th>\n",
              "      <td>1</td>\n",
              "      <td>13.24</td>\n",
              "      <td>2.59</td>\n",
              "      <td>2.87</td>\n",
              "      <td>21.0</td>\n",
              "      <td>118</td>\n",
              "      <td>2.80</td>\n",
              "      <td>2.69</td>\n",
              "      <td>0.39</td>\n",
              "      <td>1.82</td>\n",
              "      <td>4.32</td>\n",
              "      <td>1.04</td>\n",
              "      <td>2.93</td>\n",
              "      <td>735</td>\n",
              "    </tr>\n",
              "    <tr>\n",
              "      <th>...</th>\n",
              "      <td>...</td>\n",
              "      <td>...</td>\n",
              "      <td>...</td>\n",
              "      <td>...</td>\n",
              "      <td>...</td>\n",
              "      <td>...</td>\n",
              "      <td>...</td>\n",
              "      <td>...</td>\n",
              "      <td>...</td>\n",
              "      <td>...</td>\n",
              "      <td>...</td>\n",
              "      <td>...</td>\n",
              "      <td>...</td>\n",
              "      <td>...</td>\n",
              "    </tr>\n",
              "    <tr>\n",
              "      <th>173</th>\n",
              "      <td>0</td>\n",
              "      <td>13.71</td>\n",
              "      <td>5.65</td>\n",
              "      <td>2.45</td>\n",
              "      <td>20.5</td>\n",
              "      <td>95</td>\n",
              "      <td>1.68</td>\n",
              "      <td>0.61</td>\n",
              "      <td>0.52</td>\n",
              "      <td>1.06</td>\n",
              "      <td>7.70</td>\n",
              "      <td>0.64</td>\n",
              "      <td>1.74</td>\n",
              "      <td>740</td>\n",
              "    </tr>\n",
              "    <tr>\n",
              "      <th>174</th>\n",
              "      <td>0</td>\n",
              "      <td>13.40</td>\n",
              "      <td>3.91</td>\n",
              "      <td>2.48</td>\n",
              "      <td>23.0</td>\n",
              "      <td>102</td>\n",
              "      <td>1.80</td>\n",
              "      <td>0.75</td>\n",
              "      <td>0.43</td>\n",
              "      <td>1.41</td>\n",
              "      <td>7.30</td>\n",
              "      <td>0.70</td>\n",
              "      <td>1.56</td>\n",
              "      <td>750</td>\n",
              "    </tr>\n",
              "    <tr>\n",
              "      <th>175</th>\n",
              "      <td>0</td>\n",
              "      <td>13.27</td>\n",
              "      <td>4.28</td>\n",
              "      <td>2.26</td>\n",
              "      <td>20.0</td>\n",
              "      <td>120</td>\n",
              "      <td>1.59</td>\n",
              "      <td>0.69</td>\n",
              "      <td>0.43</td>\n",
              "      <td>1.35</td>\n",
              "      <td>10.20</td>\n",
              "      <td>0.59</td>\n",
              "      <td>1.56</td>\n",
              "      <td>835</td>\n",
              "    </tr>\n",
              "    <tr>\n",
              "      <th>176</th>\n",
              "      <td>0</td>\n",
              "      <td>13.17</td>\n",
              "      <td>2.59</td>\n",
              "      <td>2.37</td>\n",
              "      <td>20.0</td>\n",
              "      <td>120</td>\n",
              "      <td>1.65</td>\n",
              "      <td>0.68</td>\n",
              "      <td>0.53</td>\n",
              "      <td>1.46</td>\n",
              "      <td>9.30</td>\n",
              "      <td>0.60</td>\n",
              "      <td>1.62</td>\n",
              "      <td>840</td>\n",
              "    </tr>\n",
              "    <tr>\n",
              "      <th>177</th>\n",
              "      <td>0</td>\n",
              "      <td>14.13</td>\n",
              "      <td>4.10</td>\n",
              "      <td>2.74</td>\n",
              "      <td>24.5</td>\n",
              "      <td>96</td>\n",
              "      <td>2.05</td>\n",
              "      <td>0.76</td>\n",
              "      <td>0.56</td>\n",
              "      <td>1.35</td>\n",
              "      <td>9.20</td>\n",
              "      <td>0.61</td>\n",
              "      <td>1.60</td>\n",
              "      <td>560</td>\n",
              "    </tr>\n",
              "  </tbody>\n",
              "</table>\n",
              "<p>178 rows × 14 columns</p>\n",
              "</div>"
            ],
            "text/plain": [
              "     class  Alcohol  Malic acid  ...   Hue  OD280/OD315 of diluted wines  Proline\n",
              "0        1    14.23        1.71  ...  1.04                          3.92     1065\n",
              "1        1    13.20        1.78  ...  1.05                          3.40     1050\n",
              "2        1    13.16        2.36  ...  1.03                          3.17     1185\n",
              "3        1    14.37        1.95  ...  0.86                          3.45     1480\n",
              "4        1    13.24        2.59  ...  1.04                          2.93      735\n",
              "..     ...      ...         ...  ...   ...                           ...      ...\n",
              "173      0    13.71        5.65  ...  0.64                          1.74      740\n",
              "174      0    13.40        3.91  ...  0.70                          1.56      750\n",
              "175      0    13.27        4.28  ...  0.59                          1.56      835\n",
              "176      0    13.17        2.59  ...  0.60                          1.62      840\n",
              "177      0    14.13        4.10  ...  0.61                          1.60      560\n",
              "\n",
              "[178 rows x 14 columns]"
            ]
          },
          "metadata": {
            "tags": []
          },
          "execution_count": 122
        }
      ]
    },
    {
      "cell_type": "code",
      "metadata": {
        "id": "CaCIE2EW0jJH"
      },
      "source": [
        "col_list=df.columns.to_list()\n",
        "col_list\n",
        "X=df[col_list[1:]]\n",
        "y_1=df[col_list[0]]"
      ],
      "execution_count": 123,
      "outputs": []
    },
    {
      "cell_type": "code",
      "metadata": {
        "id": "_tfQ4r5u0dOT"
      },
      "source": [
        "from sklearn.model_selection import train_test_split\n",
        "X_train, X_test, y_train, y_test = train_test_split(X, y_1, test_size=0.33, random_state=64)"
      ],
      "execution_count": 124,
      "outputs": []
    },
    {
      "cell_type": "code",
      "metadata": {
        "colab": {
          "base_uri": "https://localhost:8080/"
        },
        "id": "-rrRg1zA0pvj",
        "outputId": "9089fe4c-321a-406d-9dec-c592a7084cd0"
      },
      "source": [
        "print(len(X_train))\n",
        "print(len(X_test))\n",
        "print(len(y_train))\n",
        "print(len(y_test))"
      ],
      "execution_count": 125,
      "outputs": [
        {
          "output_type": "stream",
          "text": [
            "119\n",
            "59\n",
            "119\n",
            "59\n"
          ],
          "name": "stdout"
        }
      ]
    },
    {
      "cell_type": "code",
      "metadata": {
        "colab": {
          "base_uri": "https://localhost:8080/",
          "height": 434
        },
        "id": "S89BtqQNZMYw",
        "outputId": "9d491ade-54d0-40de-c302-efdeeb6e9a0b"
      },
      "source": [
        "X_train"
      ],
      "execution_count": 126,
      "outputs": [
        {
          "output_type": "execute_result",
          "data": {
            "text/html": [
              "<div>\n",
              "<style scoped>\n",
              "    .dataframe tbody tr th:only-of-type {\n",
              "        vertical-align: middle;\n",
              "    }\n",
              "\n",
              "    .dataframe tbody tr th {\n",
              "        vertical-align: top;\n",
              "    }\n",
              "\n",
              "    .dataframe thead th {\n",
              "        text-align: right;\n",
              "    }\n",
              "</style>\n",
              "<table border=\"1\" class=\"dataframe\">\n",
              "  <thead>\n",
              "    <tr style=\"text-align: right;\">\n",
              "      <th></th>\n",
              "      <th>Alcohol</th>\n",
              "      <th>Malic acid</th>\n",
              "      <th>Ash</th>\n",
              "      <th>Alcalinity of ash</th>\n",
              "      <th>Magnesium</th>\n",
              "      <th>Total phenols</th>\n",
              "      <th>Flavanoids</th>\n",
              "      <th>Nonflavanoid phenols</th>\n",
              "      <th>Proanthocyanins</th>\n",
              "      <th>Color intensity</th>\n",
              "      <th>Hue</th>\n",
              "      <th>OD280/OD315 of diluted wines</th>\n",
              "      <th>Proline</th>\n",
              "    </tr>\n",
              "  </thead>\n",
              "  <tbody>\n",
              "    <tr>\n",
              "      <th>35</th>\n",
              "      <td>13.48</td>\n",
              "      <td>1.81</td>\n",
              "      <td>2.41</td>\n",
              "      <td>20.5</td>\n",
              "      <td>100</td>\n",
              "      <td>2.70</td>\n",
              "      <td>2.98</td>\n",
              "      <td>0.26</td>\n",
              "      <td>1.86</td>\n",
              "      <td>5.10</td>\n",
              "      <td>1.04</td>\n",
              "      <td>3.47</td>\n",
              "      <td>920</td>\n",
              "    </tr>\n",
              "    <tr>\n",
              "      <th>129</th>\n",
              "      <td>12.04</td>\n",
              "      <td>4.30</td>\n",
              "      <td>2.38</td>\n",
              "      <td>22.0</td>\n",
              "      <td>80</td>\n",
              "      <td>2.10</td>\n",
              "      <td>1.75</td>\n",
              "      <td>0.42</td>\n",
              "      <td>1.35</td>\n",
              "      <td>2.60</td>\n",
              "      <td>0.79</td>\n",
              "      <td>2.57</td>\n",
              "      <td>580</td>\n",
              "    </tr>\n",
              "    <tr>\n",
              "      <th>88</th>\n",
              "      <td>11.64</td>\n",
              "      <td>2.06</td>\n",
              "      <td>2.46</td>\n",
              "      <td>21.6</td>\n",
              "      <td>84</td>\n",
              "      <td>1.95</td>\n",
              "      <td>1.69</td>\n",
              "      <td>0.48</td>\n",
              "      <td>1.35</td>\n",
              "      <td>2.80</td>\n",
              "      <td>1.00</td>\n",
              "      <td>2.75</td>\n",
              "      <td>680</td>\n",
              "    </tr>\n",
              "    <tr>\n",
              "      <th>65</th>\n",
              "      <td>12.37</td>\n",
              "      <td>1.21</td>\n",
              "      <td>2.56</td>\n",
              "      <td>18.1</td>\n",
              "      <td>98</td>\n",
              "      <td>2.42</td>\n",
              "      <td>2.65</td>\n",
              "      <td>0.37</td>\n",
              "      <td>2.08</td>\n",
              "      <td>4.60</td>\n",
              "      <td>1.19</td>\n",
              "      <td>2.30</td>\n",
              "      <td>678</td>\n",
              "    </tr>\n",
              "    <tr>\n",
              "      <th>116</th>\n",
              "      <td>11.82</td>\n",
              "      <td>1.47</td>\n",
              "      <td>1.99</td>\n",
              "      <td>20.8</td>\n",
              "      <td>86</td>\n",
              "      <td>1.98</td>\n",
              "      <td>1.60</td>\n",
              "      <td>0.30</td>\n",
              "      <td>1.53</td>\n",
              "      <td>1.95</td>\n",
              "      <td>0.95</td>\n",
              "      <td>3.33</td>\n",
              "      <td>495</td>\n",
              "    </tr>\n",
              "    <tr>\n",
              "      <th>...</th>\n",
              "      <td>...</td>\n",
              "      <td>...</td>\n",
              "      <td>...</td>\n",
              "      <td>...</td>\n",
              "      <td>...</td>\n",
              "      <td>...</td>\n",
              "      <td>...</td>\n",
              "      <td>...</td>\n",
              "      <td>...</td>\n",
              "      <td>...</td>\n",
              "      <td>...</td>\n",
              "      <td>...</td>\n",
              "      <td>...</td>\n",
              "    </tr>\n",
              "    <tr>\n",
              "      <th>85</th>\n",
              "      <td>12.67</td>\n",
              "      <td>0.98</td>\n",
              "      <td>2.24</td>\n",
              "      <td>18.0</td>\n",
              "      <td>99</td>\n",
              "      <td>2.20</td>\n",
              "      <td>1.94</td>\n",
              "      <td>0.30</td>\n",
              "      <td>1.46</td>\n",
              "      <td>2.62</td>\n",
              "      <td>1.23</td>\n",
              "      <td>3.16</td>\n",
              "      <td>450</td>\n",
              "    </tr>\n",
              "    <tr>\n",
              "      <th>51</th>\n",
              "      <td>13.83</td>\n",
              "      <td>1.65</td>\n",
              "      <td>2.60</td>\n",
              "      <td>17.2</td>\n",
              "      <td>94</td>\n",
              "      <td>2.45</td>\n",
              "      <td>2.99</td>\n",
              "      <td>0.22</td>\n",
              "      <td>2.29</td>\n",
              "      <td>5.60</td>\n",
              "      <td>1.24</td>\n",
              "      <td>3.37</td>\n",
              "      <td>1265</td>\n",
              "    </tr>\n",
              "    <tr>\n",
              "      <th>54</th>\n",
              "      <td>13.74</td>\n",
              "      <td>1.67</td>\n",
              "      <td>2.25</td>\n",
              "      <td>16.4</td>\n",
              "      <td>118</td>\n",
              "      <td>2.60</td>\n",
              "      <td>2.90</td>\n",
              "      <td>0.21</td>\n",
              "      <td>1.62</td>\n",
              "      <td>5.85</td>\n",
              "      <td>0.92</td>\n",
              "      <td>3.20</td>\n",
              "      <td>1060</td>\n",
              "    </tr>\n",
              "    <tr>\n",
              "      <th>166</th>\n",
              "      <td>13.45</td>\n",
              "      <td>3.70</td>\n",
              "      <td>2.60</td>\n",
              "      <td>23.0</td>\n",
              "      <td>111</td>\n",
              "      <td>1.70</td>\n",
              "      <td>0.92</td>\n",
              "      <td>0.43</td>\n",
              "      <td>1.46</td>\n",
              "      <td>10.68</td>\n",
              "      <td>0.85</td>\n",
              "      <td>1.56</td>\n",
              "      <td>695</td>\n",
              "    </tr>\n",
              "    <tr>\n",
              "      <th>119</th>\n",
              "      <td>12.00</td>\n",
              "      <td>3.43</td>\n",
              "      <td>2.00</td>\n",
              "      <td>19.0</td>\n",
              "      <td>87</td>\n",
              "      <td>2.00</td>\n",
              "      <td>1.64</td>\n",
              "      <td>0.37</td>\n",
              "      <td>1.87</td>\n",
              "      <td>1.28</td>\n",
              "      <td>0.93</td>\n",
              "      <td>3.05</td>\n",
              "      <td>564</td>\n",
              "    </tr>\n",
              "  </tbody>\n",
              "</table>\n",
              "<p>119 rows × 13 columns</p>\n",
              "</div>"
            ],
            "text/plain": [
              "     Alcohol  Malic acid   Ash  ...   Hue  OD280/OD315 of diluted wines  Proline\n",
              "35     13.48        1.81  2.41  ...  1.04                          3.47      920\n",
              "129    12.04        4.30  2.38  ...  0.79                          2.57      580\n",
              "88     11.64        2.06  2.46  ...  1.00                          2.75      680\n",
              "65     12.37        1.21  2.56  ...  1.19                          2.30      678\n",
              "116    11.82        1.47  1.99  ...  0.95                          3.33      495\n",
              "..       ...         ...   ...  ...   ...                           ...      ...\n",
              "85     12.67        0.98  2.24  ...  1.23                          3.16      450\n",
              "51     13.83        1.65  2.60  ...  1.24                          3.37     1265\n",
              "54     13.74        1.67  2.25  ...  0.92                          3.20     1060\n",
              "166    13.45        3.70  2.60  ...  0.85                          1.56      695\n",
              "119    12.00        3.43  2.00  ...  0.93                          3.05      564\n",
              "\n",
              "[119 rows x 13 columns]"
            ]
          },
          "metadata": {
            "tags": []
          },
          "execution_count": 126
        }
      ]
    },
    {
      "cell_type": "markdown",
      "metadata": {
        "id": "hHQaaV6BZNQK"
      },
      "source": [
        "##Scaling 적용 "
      ]
    },
    {
      "cell_type": "code",
      "metadata": {
        "colab": {
          "base_uri": "https://localhost:8080/"
        },
        "id": "zyLyHvxwZSHe",
        "outputId": "d0b856d1-2898-4172-f961-facc8324f0fc"
      },
      "source": [
        "from sklearn.preprocessing import MinMaxScaler\n",
        "scaler=MinMaxScaler()\n",
        "scaler.fit(X_train)\n",
        "X_train_scaled=scaler.transform(X_train)\n",
        "print(X_train_scaled)"
      ],
      "execution_count": 127,
      "outputs": [
        {
          "output_type": "stream",
          "text": [
            "[[0.60526316 0.21792261 0.56451613 ... 0.57731959 0.80586081 0.45791726]\n",
            " [0.18421053 0.72505092 0.5483871  ... 0.31958763 0.47619048 0.21540656]\n",
            " [0.06725146 0.2688391  0.59139785 ... 0.53608247 0.54212454 0.28673324]\n",
            " ...\n",
            " [0.68128655 0.18940937 0.47849462 ... 0.45360825 0.70695971 0.55777461]\n",
            " [0.59649123 0.60285132 0.66666667 ... 0.3814433  0.10622711 0.29743224]\n",
            " [0.17251462 0.54786151 0.34408602 ... 0.46391753 0.65201465 0.20399429]]\n"
          ],
          "name": "stdout"
        }
      ]
    },
    {
      "cell_type": "code",
      "metadata": {
        "colab": {
          "base_uri": "https://localhost:8080/",
          "height": 434
        },
        "id": "pV2hJ2FXeuai",
        "outputId": "82b5e985-6231-44c9-f55a-20201c27f46d"
      },
      "source": [
        "X_train"
      ],
      "execution_count": 128,
      "outputs": [
        {
          "output_type": "execute_result",
          "data": {
            "text/html": [
              "<div>\n",
              "<style scoped>\n",
              "    .dataframe tbody tr th:only-of-type {\n",
              "        vertical-align: middle;\n",
              "    }\n",
              "\n",
              "    .dataframe tbody tr th {\n",
              "        vertical-align: top;\n",
              "    }\n",
              "\n",
              "    .dataframe thead th {\n",
              "        text-align: right;\n",
              "    }\n",
              "</style>\n",
              "<table border=\"1\" class=\"dataframe\">\n",
              "  <thead>\n",
              "    <tr style=\"text-align: right;\">\n",
              "      <th></th>\n",
              "      <th>Alcohol</th>\n",
              "      <th>Malic acid</th>\n",
              "      <th>Ash</th>\n",
              "      <th>Alcalinity of ash</th>\n",
              "      <th>Magnesium</th>\n",
              "      <th>Total phenols</th>\n",
              "      <th>Flavanoids</th>\n",
              "      <th>Nonflavanoid phenols</th>\n",
              "      <th>Proanthocyanins</th>\n",
              "      <th>Color intensity</th>\n",
              "      <th>Hue</th>\n",
              "      <th>OD280/OD315 of diluted wines</th>\n",
              "      <th>Proline</th>\n",
              "    </tr>\n",
              "  </thead>\n",
              "  <tbody>\n",
              "    <tr>\n",
              "      <th>35</th>\n",
              "      <td>13.48</td>\n",
              "      <td>1.81</td>\n",
              "      <td>2.41</td>\n",
              "      <td>20.5</td>\n",
              "      <td>100</td>\n",
              "      <td>2.70</td>\n",
              "      <td>2.98</td>\n",
              "      <td>0.26</td>\n",
              "      <td>1.86</td>\n",
              "      <td>5.10</td>\n",
              "      <td>1.04</td>\n",
              "      <td>3.47</td>\n",
              "      <td>920</td>\n",
              "    </tr>\n",
              "    <tr>\n",
              "      <th>129</th>\n",
              "      <td>12.04</td>\n",
              "      <td>4.30</td>\n",
              "      <td>2.38</td>\n",
              "      <td>22.0</td>\n",
              "      <td>80</td>\n",
              "      <td>2.10</td>\n",
              "      <td>1.75</td>\n",
              "      <td>0.42</td>\n",
              "      <td>1.35</td>\n",
              "      <td>2.60</td>\n",
              "      <td>0.79</td>\n",
              "      <td>2.57</td>\n",
              "      <td>580</td>\n",
              "    </tr>\n",
              "    <tr>\n",
              "      <th>88</th>\n",
              "      <td>11.64</td>\n",
              "      <td>2.06</td>\n",
              "      <td>2.46</td>\n",
              "      <td>21.6</td>\n",
              "      <td>84</td>\n",
              "      <td>1.95</td>\n",
              "      <td>1.69</td>\n",
              "      <td>0.48</td>\n",
              "      <td>1.35</td>\n",
              "      <td>2.80</td>\n",
              "      <td>1.00</td>\n",
              "      <td>2.75</td>\n",
              "      <td>680</td>\n",
              "    </tr>\n",
              "    <tr>\n",
              "      <th>65</th>\n",
              "      <td>12.37</td>\n",
              "      <td>1.21</td>\n",
              "      <td>2.56</td>\n",
              "      <td>18.1</td>\n",
              "      <td>98</td>\n",
              "      <td>2.42</td>\n",
              "      <td>2.65</td>\n",
              "      <td>0.37</td>\n",
              "      <td>2.08</td>\n",
              "      <td>4.60</td>\n",
              "      <td>1.19</td>\n",
              "      <td>2.30</td>\n",
              "      <td>678</td>\n",
              "    </tr>\n",
              "    <tr>\n",
              "      <th>116</th>\n",
              "      <td>11.82</td>\n",
              "      <td>1.47</td>\n",
              "      <td>1.99</td>\n",
              "      <td>20.8</td>\n",
              "      <td>86</td>\n",
              "      <td>1.98</td>\n",
              "      <td>1.60</td>\n",
              "      <td>0.30</td>\n",
              "      <td>1.53</td>\n",
              "      <td>1.95</td>\n",
              "      <td>0.95</td>\n",
              "      <td>3.33</td>\n",
              "      <td>495</td>\n",
              "    </tr>\n",
              "    <tr>\n",
              "      <th>...</th>\n",
              "      <td>...</td>\n",
              "      <td>...</td>\n",
              "      <td>...</td>\n",
              "      <td>...</td>\n",
              "      <td>...</td>\n",
              "      <td>...</td>\n",
              "      <td>...</td>\n",
              "      <td>...</td>\n",
              "      <td>...</td>\n",
              "      <td>...</td>\n",
              "      <td>...</td>\n",
              "      <td>...</td>\n",
              "      <td>...</td>\n",
              "    </tr>\n",
              "    <tr>\n",
              "      <th>85</th>\n",
              "      <td>12.67</td>\n",
              "      <td>0.98</td>\n",
              "      <td>2.24</td>\n",
              "      <td>18.0</td>\n",
              "      <td>99</td>\n",
              "      <td>2.20</td>\n",
              "      <td>1.94</td>\n",
              "      <td>0.30</td>\n",
              "      <td>1.46</td>\n",
              "      <td>2.62</td>\n",
              "      <td>1.23</td>\n",
              "      <td>3.16</td>\n",
              "      <td>450</td>\n",
              "    </tr>\n",
              "    <tr>\n",
              "      <th>51</th>\n",
              "      <td>13.83</td>\n",
              "      <td>1.65</td>\n",
              "      <td>2.60</td>\n",
              "      <td>17.2</td>\n",
              "      <td>94</td>\n",
              "      <td>2.45</td>\n",
              "      <td>2.99</td>\n",
              "      <td>0.22</td>\n",
              "      <td>2.29</td>\n",
              "      <td>5.60</td>\n",
              "      <td>1.24</td>\n",
              "      <td>3.37</td>\n",
              "      <td>1265</td>\n",
              "    </tr>\n",
              "    <tr>\n",
              "      <th>54</th>\n",
              "      <td>13.74</td>\n",
              "      <td>1.67</td>\n",
              "      <td>2.25</td>\n",
              "      <td>16.4</td>\n",
              "      <td>118</td>\n",
              "      <td>2.60</td>\n",
              "      <td>2.90</td>\n",
              "      <td>0.21</td>\n",
              "      <td>1.62</td>\n",
              "      <td>5.85</td>\n",
              "      <td>0.92</td>\n",
              "      <td>3.20</td>\n",
              "      <td>1060</td>\n",
              "    </tr>\n",
              "    <tr>\n",
              "      <th>166</th>\n",
              "      <td>13.45</td>\n",
              "      <td>3.70</td>\n",
              "      <td>2.60</td>\n",
              "      <td>23.0</td>\n",
              "      <td>111</td>\n",
              "      <td>1.70</td>\n",
              "      <td>0.92</td>\n",
              "      <td>0.43</td>\n",
              "      <td>1.46</td>\n",
              "      <td>10.68</td>\n",
              "      <td>0.85</td>\n",
              "      <td>1.56</td>\n",
              "      <td>695</td>\n",
              "    </tr>\n",
              "    <tr>\n",
              "      <th>119</th>\n",
              "      <td>12.00</td>\n",
              "      <td>3.43</td>\n",
              "      <td>2.00</td>\n",
              "      <td>19.0</td>\n",
              "      <td>87</td>\n",
              "      <td>2.00</td>\n",
              "      <td>1.64</td>\n",
              "      <td>0.37</td>\n",
              "      <td>1.87</td>\n",
              "      <td>1.28</td>\n",
              "      <td>0.93</td>\n",
              "      <td>3.05</td>\n",
              "      <td>564</td>\n",
              "    </tr>\n",
              "  </tbody>\n",
              "</table>\n",
              "<p>119 rows × 13 columns</p>\n",
              "</div>"
            ],
            "text/plain": [
              "     Alcohol  Malic acid   Ash  ...   Hue  OD280/OD315 of diluted wines  Proline\n",
              "35     13.48        1.81  2.41  ...  1.04                          3.47      920\n",
              "129    12.04        4.30  2.38  ...  0.79                          2.57      580\n",
              "88     11.64        2.06  2.46  ...  1.00                          2.75      680\n",
              "65     12.37        1.21  2.56  ...  1.19                          2.30      678\n",
              "116    11.82        1.47  1.99  ...  0.95                          3.33      495\n",
              "..       ...         ...   ...  ...   ...                           ...      ...\n",
              "85     12.67        0.98  2.24  ...  1.23                          3.16      450\n",
              "51     13.83        1.65  2.60  ...  1.24                          3.37     1265\n",
              "54     13.74        1.67  2.25  ...  0.92                          3.20     1060\n",
              "166    13.45        3.70  2.60  ...  0.85                          1.56      695\n",
              "119    12.00        3.43  2.00  ...  0.93                          3.05      564\n",
              "\n",
              "[119 rows x 13 columns]"
            ]
          },
          "metadata": {
            "tags": []
          },
          "execution_count": 128
        }
      ]
    },
    {
      "cell_type": "code",
      "metadata": {
        "colab": {
          "base_uri": "https://localhost:8080/"
        },
        "id": "jme77w1AcMwK",
        "outputId": "fd4dc253-8dca-4f96-a2cb-04c509b01073"
      },
      "source": [
        "X_test_scaled=scaler.transform(X_test)\n",
        "print(X_test_scaled)\n",
        "print(X_test_scaled.max(axis=0))\n",
        "print(X_test_scaled.min(axis=0))"
      ],
      "execution_count": 129,
      "outputs": [
        {
          "output_type": "stream",
          "text": [
            "[[ 0.51461988  0.90631365  0.51612903  0.58762887  0.17857143  0.26480836\n",
            "   0.08077994  0.90566038  0.35962145  0.69537815  0.12371134  0.07692308\n",
            "   0.31883024]\n",
            " [ 0.26900585  0.0509165   0.3172043   0.21649485  0.69047619  0.32055749\n",
            "   0.42061281  0.41509434  0.74132492  0.22268908  0.59793814  0.38095238\n",
            "   0.33666191]\n",
            " [ 0.62865497  0.20162933  0.59139785  0.51030928  0.45238095  0.68989547\n",
            "   0.67966574  0.13207547  0.64353312  0.52205882  0.51546392  0.64468864\n",
            "   0.60057061]\n",
            " [ 0.61111111  0.48472505  0.67741935  0.69072165  0.53571429  0.14634146\n",
            "   0.34261838  0.16981132  0.26498423  0.76890756  0.11340206  0.01098901\n",
            "   0.15834522]\n",
            " [ 0.58479532  0.63136456  0.40860215  0.42268041  0.14285714  0.51219512\n",
            "   0.65181058  0.26415094  0.33753943  0.31512605  0.44329897  0.63369963\n",
            "   0.53994294]\n",
            " [ 0.27192982  0.34826884  0.59139785  0.53608247  0.23809524  0.55052265\n",
            "   0.49303621  0.39622642  0.28391167  0.15966387  0.32989691  0.77289377\n",
            "   0.11412268]\n",
            " [ 0.60526316  0.18940937  0.68817204  0.61340206  0.13095238  0.56445993\n",
            "   0.21169916  0.73584906  0.59305994  1.09978992  0.09278351  0.18681319\n",
            "   0.24393723]\n",
            " [ 0.67836257  0.73727088  0.48387097  0.61340206  0.11904762  0.10452962\n",
            "   0.0362117   0.73584906  0.23343849  0.56092437  0.30927835  0.17582418\n",
            "   0.17261056]\n",
            " [ 0.58187135  0.64562118  0.60215054  0.63917526  0.28571429  0.28571429\n",
            "   0.11420613  0.56603774  0.31545741  0.63235294  0.22680412  0.10622711\n",
            "   0.33666191]\n",
            " [ 0.42982456  0.45824847  0.55913978  0.48453608  0.30952381  0.11149826\n",
            "   0.24512535  0.20754717  0.13249211  0.43277311  0.26804124  0.05494505\n",
            "   0.17974322]\n",
            " [ 0.29532164  0.75152749  0.73655914  0.81958763  0.28571429  0.42508711\n",
            "   0.49860724  0.56603774  0.41009464  0.08403361  0.45360825  0.67765568\n",
            "   0.06205421]\n",
            " [ 0.47368421  0.03258656  0.18817204  0.27835052  0.0952381   0.33797909\n",
            "   0.47075209  0.20754717  0.33123028  0.3487395   0.73195876  0.44322344\n",
            "   0.08131241]\n",
            " [ 0.85672515  0.19144603  0.72043011  0.74226804  0.23809524  0.63414634\n",
            "   0.27019499  0.75471698  0.72239748  1.23109244  0.09278351  0.25274725\n",
            "   0.2724679 ]\n",
            " [ 0.6871345   0.16089613  0.72043011  0.45876289  0.64285714  0.68641115\n",
            "   0.66852368  0.69811321  0.29652997  0.43277311  0.79381443  0.63369963\n",
            "   0.68259629]\n",
            " [ 0.54385965  0.7209776   0.48387097  0.48453608  0.5         0.21254355\n",
            "   0.09749304  0.56603774  0.29652997  0.93697479  0.11340206  0.10622711\n",
            "   0.39728959]\n",
            " [ 0.12573099  0.0305499   0.65591398  0.3814433   0.19047619  0.42508711\n",
            "   0.52089136  0.16981132  0.61198738  0.18592437  0.31958763  0.66300366\n",
            "   0.17261056]\n",
            " [ 0.70467836  0.20570265  0.56989247  0.17525773  0.39285714  1.01045296\n",
            "   0.94707521  0.35849057  0.46056782  0.60609244  0.54639175  0.72893773\n",
            "   0.65049929]\n",
            " [ 0.23391813  0.09164969  0.20967742  0.31958763  0.86904762  0.30313589\n",
            "   0.26183844  0.01886792  0.65930599  0.16491597  0.82474227  0.65934066\n",
            "   0.31383738]\n",
            " [ 0.4122807   0.53564155  0.50537634  0.45876289  0.11904762  0.17421603\n",
            "   0.08913649  0.50943396  0.17665615  0.94327731  0.24742268  0.17582418\n",
            "   0.29029957]\n",
            " [ 0.97660819  0.20162933  0.55376344  0.04123711  0.1547619   0.73867596\n",
            "   0.93314763  0.56603774  0.75709779  0.43277311  0.79381443  0.53479853\n",
            "   0.62196862]\n",
            " [ 0.21929825  0.17718941  0.51075269  0.62886598  0.14285714  0.27874564\n",
            "   0.37604457  0.56603774  0.36277603  0.12289916  0.87628866  0.36263736\n",
            "   0.15477889]\n",
            " [ 0.80409357  0.3604888   0.60215054  0.48453608  0.1547619   0.24390244\n",
            "   0.10027855  0.58490566  0.26182965  0.88445378  0.1443299   0.16117216\n",
            "   0.2724679 ]\n",
            " [ 0.37719298  0.63747454  0.55913978  0.63917526  0.27380952  0.6445993\n",
            "   0.61559889  0.56603774  0.48580442  0.1355042   0.73195876  0.68131868\n",
            "   0.13195435]\n",
            " [ 0.32163743  0.10183299  0.47849462  0.3556701   0.08333333  0.3554007\n",
            "   0.06685237  0.88679245  0.26498423  0.43802521  0.27835052  0.08791209\n",
            "   0.26533524]\n",
            " [ 0.06140351  0.25458248  0.49462366  0.3814433   0.23809524  0.71080139\n",
            "   0.53481894  0.0754717   0.29652997  0.20693277  0.70103093  0.61904762\n",
            "   0.04778887]\n",
            " [ 0.7748538   0.28716904  0.67204301  0.36082474  0.51190476  0.56445993\n",
            "   0.60445682  0.33962264  0.26498423  0.3960084   0.59793814  0.84615385\n",
            "   0.7253923 ]\n",
            " [ 0.47953216  1.0305499   0.41397849  0.56185567  0.0952381   0.57142857\n",
            "   0.64345404  0.32075472  0.50473186  0.13865546  0.25773196  0.67032967\n",
            "   0.07275321]\n",
            " [ 0.19590643  0.27291242  0.1827957   0.3556701   0.22619048  0.43554007\n",
            "   0.5097493   0.24528302  0.31230284  0.21218487  0.81443299  0.61904762\n",
            "   0.30813124]\n",
            " [ 0.28070175  0.06720978  0.39784946  0.40721649  0.11904762  0.88501742\n",
            "   0.94986072  0.20754717  0.48580442  0.33823529  0.57731959  0.54945055\n",
            "   0.2724679 ]\n",
            " [ 0.70760234  0.16904277  0.67741935  0.48453608  0.44047619  0.68641115\n",
            "   0.85236769  0.50943396  0.41324921  0.55882353  0.67010309  0.47619048\n",
            "   0.60770328]\n",
            " [ 0.25730994  0.49490835  0.45698925  0.3814433   0.11904762  0.65156794\n",
            "   0.73816156  0.60377358  0.75709779  0.10714286  0.96907216  0.57142857\n",
            "   0.09129815]\n",
            " [ 0.67836257  0.15478615  0.72043011  0.61340206  0.27380952  0.70383275\n",
            "   0.81058496  0.30188679  0.6214511   0.46428571  0.73195876  0.52747253\n",
            "   0.71825963]\n",
            " [ 0.69298246  0.4114053   0.50537634  0.58762887  0.14285714  0.12891986\n",
            "   0.09470752  0.52830189  0.1955836   0.87184874  0.22680412  0.15018315\n",
            "   0.2403709 ]\n",
            " [ 0.35964912  0.12627291  0.35483871  0.31958763  0.26190476  0.36236934\n",
            "   0.29805014  0.75471698  0.06624606  0.46953782  0.51546392  0.11721612\n",
            "   0.12268188]\n",
            " [ 0.42690058  0.78818737  0.60215054  0.56185567  0.0952381   0.25087108\n",
            "   0.08635097  0.64150943  0.14195584  0.66911765  0.06185567  0.21611722\n",
            "   0.24750357]\n",
            " [ 0.71929825  0.23625255  0.77419355  0.45360825  0.3452381   0.68641115\n",
            "   0.73259053  0.45283019  0.42586751  0.33823529  0.79381443  0.78021978\n",
            "   0.45435093]\n",
            " [ 0.30409357  0.46639511  0.68817204  0.84536082  0.22619048  0.32055749\n",
            "   0.06685237  0.94339623  0.23028391  0.65336134  0.19587629  0.16849817\n",
            "   0.42938659]\n",
            " [ 0.19590643  0.12016293  0.50537634  0.67010309 -0.0952381   0.42508711\n",
            "   0.34818942  0.54716981  0.30599369  0.04831933  0.60824742  0.71062271\n",
            "   0.24750357]\n",
            " [ 0.42105263  0.17515275  0.62365591  0.37113402  0.20238095  0.52264808\n",
            "   0.56545961  0.24528302  0.33123028  0.27836134  0.62886598  0.86446886\n",
            "   0.5256776 ]\n",
            " [ 0.32748538  0.97148676  0.68817204  0.74226804  0.21428571  0.28222997\n",
            "   0.0724234   0.94339623  0.21766562  0.3907563   0.35051546  0.15384615\n",
            "   0.16904422]\n",
            " [ 0.57017544  0.3706721   0.53225806  0.48453608  0.13095238  0.14634146\n",
            "   0.04456825  0.45283019  0.07255521  0.45378151  0.22680412  0.43956044\n",
            "   0.35805991]\n",
            " [ 0.76315789  0.19144603  0.45698925  0.27835052  0.21428571  0.58188153\n",
            "   0.55431755  0.24528302  0.49526814  0.3592437   0.57731959  0.84981685\n",
            "   0.53994294]\n",
            " [ 0.11111111  0.28309572  0.76344086  0.92268041  0.16666667  0.40069686\n",
            "   0.52924791  0.8490566   0.42586751  0.18067227  0.50515464  0.42857143\n",
            "   0.13409415]\n",
            " [ 0.6754386   0.14052953  0.61290323  0.31443299  0.35714286  0.84320557\n",
            "   0.9275766   0.11320755  0.51419558  0.57983193  0.42268041  0.58608059\n",
            "   0.71825963]\n",
            " [ 0.81578947  0.20773931  0.58602151  0.2371134   0.4047619   0.79790941\n",
            "   0.84958217  0.39622642  0.49211356  0.57457983  0.58762887  0.57875458\n",
            "   0.83594864]\n",
            " [ 0.65204678  0.48065173  0.64516129  0.2371134   0.45238095  0.59930314\n",
            "   0.74930362  0.0754717   0.39432177  0.4012605   0.49484536  0.76556777\n",
            "   0.40442225]\n",
            " [ 0.39766082  0.33604888  0.49462366  0.45876289  0.0952381   0.14285714\n",
            "   0.04735376  0.66037736  0.07255521  0.90546208  0.09278351  0.13186813\n",
            "   0.13694722]\n",
            " [ 0.11988304  0.19959267  0.27956989  0.45876289  0.0952381   0.52961672\n",
            "   0.36211699  0.45283019  0.31861199  0.08193277  0.4742268   0.42857143\n",
            "   0.09771755]\n",
            " [ 0.37719298  0.57230143  0.53763441  0.56185567  0.33333333  0.25087108\n",
            "   0.23955432  0.0754717   0.13564669  0.3907563   0.30927835  0.00732601\n",
            "   0.2296719 ]\n",
            " [ 0.51169591  0.57637475  0.42473118  0.53608247  0.28571429  0.18118467\n",
            "   0.05849582  0.56603774  0.2807571   0.28571429  0.12371134  0.15018315\n",
            "   0.39372325]\n",
            " [ 0.04385965  0.26680244  1.00537634  0.92268041  0.48809524  0.76655052\n",
            "   1.32033426  0.64150943  0.46056782  0.49579832  0.46391753  0.88644689\n",
            "   0.13338088]\n",
            " [ 0.72222222  0.23421589  0.66129032  0.22680412  0.27380952  0.79094077\n",
            "   0.89693593  0.0754717   0.40694006  0.43592437  0.41237113  0.83882784\n",
            "   0.58273894]\n",
            " [ 0.05847953  0.12423625  0.72043011  0.48453608  0.19047619  0.61324042\n",
            "   0.71866295  0.30188679  0.65615142  0.14390756  0.49484536  0.72893773\n",
            "   0.28673324]\n",
            " [ 0.51461988  0.37678208  0.54301075  0.48453608  0.5         0.23344948\n",
            "   0.09470752  0.75471698  0.33123028  0.84243697  0.12371134  0.12820513\n",
            "   0.40085592]\n",
            " [ 0.38304094  0.21792261  0.4516129   0.42268041  0.0952381   0.42508711\n",
            "   0.61002786  0.24528302  0.42902208  0.27521008  0.70103093  0.68498168\n",
            "   0.31098431]\n",
            " [ 0.69005848  0.23625255  0.70967742  0.33505155  0.44047619  0.70383275\n",
            "   0.68245125  0.49056604  0.40063091  0.52731092  0.67010309  0.60805861\n",
            "   0.78245364]\n",
            " [-0.11111111  0.15682281  0.4516129   0.56185567  0.08333333  0.51567944\n",
            "   0.5097493   0.73584906  0.50473186  0.06512605  1.26804124  0.58608059\n",
            "   0.09201141]\n",
            " [ 0.79532164  0.68431772  0.74193548  0.71649485  0.21428571  0.3728223\n",
            "   0.11699164  0.81132075  0.29652997  0.83193277  0.13402062  0.12087912\n",
            "   0.20114123]\n",
            " [ 0.47953216  0.20977597  0.39784946  0.32989691  0.3452381   0.70383275\n",
            "   0.74094708  0.28301887  0.51104101  0.39495798  0.41237113  0.76190476\n",
            "   0.43295292]]\n",
            "[0.97660819 1.0305499  1.00537634 0.92268041 0.86904762 1.01045296\n",
            " 1.32033426 0.94339623 0.75709779 1.23109244 1.26804124 0.88644689\n",
            " 0.83594864]\n",
            "[-0.11111111  0.0305499   0.1827957   0.04123711 -0.0952381   0.10452962\n",
            "  0.0362117   0.01886792  0.06624606  0.04831933  0.06185567  0.00732601\n",
            "  0.04778887]\n"
          ],
          "name": "stdout"
        }
      ]
    },
    {
      "cell_type": "markdown",
      "metadata": {
        "id": "QJpzalo-gFr2"
      },
      "source": [
        "#EDA"
      ]
    },
    {
      "cell_type": "code",
      "metadata": {
        "colab": {
          "base_uri": "https://localhost:8080/",
          "height": 549
        },
        "id": "nYEYGdm5cmVQ",
        "outputId": "ba4b2a32-6678-4158-b9cb-1a07d5b459f0"
      },
      "source": [
        "#Class 별로 \n",
        "g=sns.FacetGrid(df,row='class')\n",
        "g.map(sns.distplot,'Alcohol')"
      ],
      "execution_count": 130,
      "outputs": [
        {
          "output_type": "stream",
          "text": [
            "/usr/local/lib/python3.7/dist-packages/seaborn/distributions.py:2557: FutureWarning: `distplot` is a deprecated function and will be removed in a future version. Please adapt your code to use either `displot` (a figure-level function with similar flexibility) or `histplot` (an axes-level function for histograms).\n",
            "  warnings.warn(msg, FutureWarning)\n",
            "/usr/local/lib/python3.7/dist-packages/seaborn/distributions.py:2557: FutureWarning: `distplot` is a deprecated function and will be removed in a future version. Please adapt your code to use either `displot` (a figure-level function with similar flexibility) or `histplot` (an axes-level function for histograms).\n",
            "  warnings.warn(msg, FutureWarning)\n"
          ],
          "name": "stderr"
        },
        {
          "output_type": "execute_result",
          "data": {
            "text/plain": [
              "<seaborn.axisgrid.FacetGrid at 0x7fb836366b90>"
            ]
          },
          "metadata": {
            "tags": []
          },
          "execution_count": 130
        },
        {
          "output_type": "display_data",
          "data": {
            "image/png": "[encoded data removed]",
            "text/plain": [
              "<Figure size 216x432 with 2 Axes>"
            ]
          },
          "metadata": {
            "tags": [],
            "needs_background": "light"
          }
        }
      ]
    },
    {
      "cell_type": "code",
      "metadata": {
        "colab": {
          "base_uri": "https://localhost:8080/",
          "height": 352
        },
        "id": "sfhavW2mgIZH",
        "outputId": "506619f9-113e-452a-9247-fee1aafa254e"
      },
      "source": [
        "sns.distplot(X_train['Alcohol'])"
      ],
      "execution_count": 131,
      "outputs": [
        {
          "output_type": "stream",
          "text": [
            "/usr/local/lib/python3.7/dist-packages/seaborn/distributions.py:2557: FutureWarning: `distplot` is a deprecated function and will be removed in a future version. Please adapt your code to use either `displot` (a figure-level function with similar flexibility) or `histplot` (an axes-level function for histograms).\n",
            "  warnings.warn(msg, FutureWarning)\n"
          ],
          "name": "stderr"
        },
        {
          "output_type": "execute_result",
          "data": {
            "text/plain": [
              "<matplotlib.axes._subplots.AxesSubplot at 0x7fb836225f10>"
            ]
          },
          "metadata": {
            "tags": []
          },
          "execution_count": 131
        },
        {
          "output_type": "display_data",
          "data": {
            "image/png": "[encoded data removed]",
            "text/plain": [
              "<Figure size 432x288 with 1 Axes>"
            ]
          },
          "metadata": {
            "tags": [],
            "needs_background": "light"
          }
        }
      ]
    },
    {
      "cell_type": "code",
      "metadata": {
        "colab": {
          "base_uri": "https://localhost:8080/",
          "height": 338
        },
        "id": "p8A6GE4SgbAH",
        "outputId": "9f109bae-1701-4f88-a24a-fa21938557fc"
      },
      "source": [
        "#Alcohol Scaling 이후\n",
        "sns.distplot(X_train_scaled[:,0])"
      ],
      "execution_count": 132,
      "outputs": [
        {
          "output_type": "stream",
          "text": [
            "/usr/local/lib/python3.7/dist-packages/seaborn/distributions.py:2557: FutureWarning: `distplot` is a deprecated function and will be removed in a future version. Please adapt your code to use either `displot` (a figure-level function with similar flexibility) or `histplot` (an axes-level function for histograms).\n",
            "  warnings.warn(msg, FutureWarning)\n"
          ],
          "name": "stderr"
        },
        {
          "output_type": "execute_result",
          "data": {
            "text/plain": [
              "<matplotlib.axes._subplots.AxesSubplot at 0x7fb8361ae9d0>"
            ]
          },
          "metadata": {
            "tags": []
          },
          "execution_count": 132
        },
        {
          "output_type": "display_data",
          "data": {
            "image/png": "[encoded data removed]",
            "text/plain": [
              "<Figure size 432x288 with 1 Axes>"
            ]
          },
          "metadata": {
            "tags": [],
            "needs_background": "light"
          }
        }
      ]
    },
    {
      "cell_type": "code",
      "metadata": {
        "colab": {
          "base_uri": "https://localhost:8080/",
          "height": 338
        },
        "id": "-qM0YAqlg2DE",
        "outputId": "cd18bc2a-6898-4a53-da54-70ba727924da"
      },
      "source": [
        "#Malic acid scaling 이후\n",
        "sns.distplot(X_train_scaled[:,1])"
      ],
      "execution_count": 133,
      "outputs": [
        {
          "output_type": "stream",
          "text": [
            "/usr/local/lib/python3.7/dist-packages/seaborn/distributions.py:2557: FutureWarning: `distplot` is a deprecated function and will be removed in a future version. Please adapt your code to use either `displot` (a figure-level function with similar flexibility) or `histplot` (an axes-level function for histograms).\n",
            "  warnings.warn(msg, FutureWarning)\n"
          ],
          "name": "stderr"
        },
        {
          "output_type": "execute_result",
          "data": {
            "text/plain": [
              "<matplotlib.axes._subplots.AxesSubplot at 0x7fb836139fd0>"
            ]
          },
          "metadata": {
            "tags": []
          },
          "execution_count": 133
        },
        {
          "output_type": "display_data",
          "data": {
            "image/png": "[encoded data removed]",
            "text/plain": [
              "<Figure size 432x288 with 1 Axes>"
            ]
          },
          "metadata": {
            "tags": [],
            "needs_background": "light"
          }
        }
      ]
    },
    {
      "cell_type": "code",
      "metadata": {
        "colab": {
          "base_uri": "https://localhost:8080/",
          "height": 352
        },
        "id": "eIPvHt30hdLc",
        "outputId": "14af242e-3e2a-40aa-b057-b1ff46988c38"
      },
      "source": [
        "sns.distplot(X_test['Alcohol'])"
      ],
      "execution_count": 134,
      "outputs": [
        {
          "output_type": "stream",
          "text": [
            "/usr/local/lib/python3.7/dist-packages/seaborn/distributions.py:2557: FutureWarning: `distplot` is a deprecated function and will be removed in a future version. Please adapt your code to use either `displot` (a figure-level function with similar flexibility) or `histplot` (an axes-level function for histograms).\n",
            "  warnings.warn(msg, FutureWarning)\n"
          ],
          "name": "stderr"
        },
        {
          "output_type": "execute_result",
          "data": {
            "text/plain": [
              "<matplotlib.axes._subplots.AxesSubplot at 0x7fb8360eb350>"
            ]
          },
          "metadata": {
            "tags": []
          },
          "execution_count": 134
        },
        {
          "output_type": "display_data",
          "data": {
            "image/png": "[encoded data removed]",
            "text/plain": [
              "<Figure size 432x288 with 1 Axes>"
            ]
          },
          "metadata": {
            "tags": [],
            "needs_background": "light"
          }
        }
      ]
    },
    {
      "cell_type": "code",
      "metadata": {
        "colab": {
          "base_uri": "https://localhost:8080/",
          "height": 338
        },
        "id": "EPfTNLtVhiic",
        "outputId": "03ddb05d-c24f-4a69-a166-e74e47d8f975"
      },
      "source": [
        "sns.distplot(X_test_scaled[:,0])"
      ],
      "execution_count": 135,
      "outputs": [
        {
          "output_type": "stream",
          "text": [
            "/usr/local/lib/python3.7/dist-packages/seaborn/distributions.py:2557: FutureWarning: `distplot` is a deprecated function and will be removed in a future version. Please adapt your code to use either `displot` (a figure-level function with similar flexibility) or `histplot` (an axes-level function for histograms).\n",
            "  warnings.warn(msg, FutureWarning)\n"
          ],
          "name": "stderr"
        },
        {
          "output_type": "execute_result",
          "data": {
            "text/plain": [
              "<matplotlib.axes._subplots.AxesSubplot at 0x7fb835fc5190>"
            ]
          },
          "metadata": {
            "tags": []
          },
          "execution_count": 135
        },
        {
          "output_type": "display_data",
          "data": {
            "image/png": "[encoded data removed]",
            "text/plain": [
              "<Figure size 432x288 with 1 Axes>"
            ]
          },
          "metadata": {
            "tags": [],
            "needs_background": "light"
          }
        }
      ]
    },
    {
      "cell_type": "markdown",
      "metadata": {
        "id": "5nosHf3rb2An"
      },
      "source": [
        "##KNN Classifier (Scaling 적용 전) + GridsearchCV"
      ]
    },
    {
      "cell_type": "code",
      "metadata": {
        "id": "kv8dANHs01QE"
      },
      "source": [
        "from sklearn.model_selection import GridSearchCV\n",
        "from sklearn.neighbors import KNeighborsClassifier\n",
        "knn_clf = KNeighborsClassifier()\n",
        "param_grid={'n_neighbors':list(range(2,10)),\n",
        "             'weights':['uniform','distance'],\n",
        "             'metric':['euclidean','manhattan']}\n",
        "grid_search = GridSearchCV(knn_clf, param_grid, cv=5, verbose=0, scoring='f1')\n",
        "gs=grid_search.fit(X_train,y_train)"
      ],
      "execution_count": 136,
      "outputs": []
    },
    {
      "cell_type": "code",
      "metadata": {
        "colab": {
          "base_uri": "https://localhost:8080/"
        },
        "id": "M7JWvGaQTQr7",
        "outputId": "0199375c-5252-4b29-8d06-de8a2fa019bf"
      },
      "source": [
        "print(gs.best_params_)\n",
        "print(gs.best_score_)"
      ],
      "execution_count": 137,
      "outputs": [
        {
          "output_type": "stream",
          "text": [
            "{'metric': 'manhattan', 'n_neighbors': 2, 'weights': 'distance'}\n",
            "0.9047058823529414\n"
          ],
          "name": "stdout"
        }
      ]
    },
    {
      "cell_type": "code",
      "metadata": {
        "id": "fF7xHE0JT05q"
      },
      "source": [
        "pred=gs.predict(X_test)"
      ],
      "execution_count": 138,
      "outputs": []
    },
    {
      "cell_type": "code",
      "metadata": {
        "colab": {
          "base_uri": "https://localhost:8080/"
        },
        "id": "R1ZqLzWaT38p",
        "outputId": "fe8b15aa-500a-4838-f597-d46ec6cf4b38"
      },
      "source": [
        "gs.score(X_test,y_test)"
      ],
      "execution_count": 139,
      "outputs": [
        {
          "output_type": "execute_result",
          "data": {
            "text/plain": [
              "0.8421052631578947"
            ]
          },
          "metadata": {
            "tags": []
          },
          "execution_count": 139
        }
      ]
    },
    {
      "cell_type": "code",
      "metadata": {
        "colab": {
          "base_uri": "https://localhost:8080/"
        },
        "id": "l0lHUlImT9Q2",
        "outputId": "3d3db395-1d8a-423c-bc2e-159b0483cc27"
      },
      "source": [
        "from sklearn.metrics import confusion_matrix\n",
        "\n",
        "confusion_matrix(y_test,pred)"
      ],
      "execution_count": 140,
      "outputs": [
        {
          "output_type": "execute_result",
          "data": {
            "text/plain": [
              "array([[37,  5],\n",
              "       [ 1, 16]])"
            ]
          },
          "metadata": {
            "tags": []
          },
          "execution_count": 140
        }
      ]
    },
    {
      "cell_type": "code",
      "metadata": {
        "colab": {
          "base_uri": "https://localhost:8080/",
          "height": 297
        },
        "id": "oCdz9L9pUGj7",
        "outputId": "4fa48840-242e-411f-f70e-f66261d0e411"
      },
      "source": [
        "from sklearn.metrics import plot_confusion_matrix\n",
        "\n",
        "plot_confusion_matrix(gs,X_test,y_test)"
      ],
      "execution_count": 141,
      "outputs": [
        {
          "output_type": "execute_result",
          "data": {
            "text/plain": [
              "<sklearn.metrics._plot.confusion_matrix.ConfusionMatrixDisplay at 0x7fb835fa6e10>"
            ]
          },
          "metadata": {
            "tags": []
          },
          "execution_count": 141
        },
        {
          "output_type": "display_data",
          "data": {
            "image/png": "[encoded data removed]",
            "text/plain": [
              "<Figure size 432x288 with 2 Axes>"
            ]
          },
          "metadata": {
            "tags": [],
            "needs_background": "light"
          }
        }
      ]
    },
    {
      "cell_type": "code",
      "metadata": {
        "id": "Ej1l9VhkX7Iq"
      },
      "source": [
        ""
      ],
      "execution_count": 141,
      "outputs": []
    },
    {
      "cell_type": "code",
      "metadata": {
        "id": "J3J4X4dOf6ty"
      },
      "source": [
        "##KNN- Scaling 후"
      ],
      "execution_count": 142,
      "outputs": []
    },
    {
      "cell_type": "code",
      "metadata": {
        "id": "HfX_yPG6cHJd"
      },
      "source": [
        "from sklearn.model_selection import GridSearchCV\n",
        "from sklearn.neighbors import KNeighborsClassifier\n",
        "knn_clf = KNeighborsClassifier()\n",
        "param_grid={'n_neighbors':list(range(2,10)),\n",
        "             'weights':['uniform','distance'],\n",
        "             'metric':['euclidean','manhattan']}\n",
        "grid_search = GridSearchCV(knn_clf, param_grid, cv=5, verbose=0, scoring='f1')\n",
        "gs=grid_search.fit(X_train_scaled,y_train)"
      ],
      "execution_count": 143,
      "outputs": []
    },
    {
      "cell_type": "code",
      "metadata": {
        "colab": {
          "base_uri": "https://localhost:8080/"
        },
        "id": "NV93PcmPfx5Z",
        "outputId": "77646592-4d44-4c69-a78a-70416e818c27"
      },
      "source": [
        "print(gs.best_params_)\n",
        "print(gs.best_score_)"
      ],
      "execution_count": 144,
      "outputs": [
        {
          "output_type": "stream",
          "text": [
            "{'metric': 'manhattan', 'n_neighbors': 2, 'weights': 'uniform'}\n",
            "0.9894736842105264\n"
          ],
          "name": "stdout"
        }
      ]
    },
    {
      "cell_type": "code",
      "metadata": {
        "id": "5kMXIBTRfzVl"
      },
      "source": [
        "pred=gs.predict(X_test_scaled)"
      ],
      "execution_count": 145,
      "outputs": []
    },
    {
      "cell_type": "code",
      "metadata": {
        "colab": {
          "base_uri": "https://localhost:8080/"
        },
        "id": "mIv1tviMf1jX",
        "outputId": "c6ae30ad-77be-40ff-d428-1d13cd65eeb7"
      },
      "source": [
        "gs.score(X_test,y_test)"
      ],
      "execution_count": 146,
      "outputs": [
        {
          "output_type": "execute_result",
          "data": {
            "text/plain": [
              "0.4788732394366197"
            ]
          },
          "metadata": {
            "tags": []
          },
          "execution_count": 146
        }
      ]
    },
    {
      "cell_type": "code",
      "metadata": {
        "colab": {
          "base_uri": "https://localhost:8080/"
        },
        "id": "szi16lsZf3oO",
        "outputId": "780b7e90-31b1-47fd-c96b-efea4019190b"
      },
      "source": [
        "from sklearn.metrics import confusion_matrix\n",
        "\n",
        "confusion_matrix(y_test,pred)"
      ],
      "execution_count": 147,
      "outputs": [
        {
          "output_type": "execute_result",
          "data": {
            "text/plain": [
              "array([[41,  1],\n",
              "       [ 0, 17]])"
            ]
          },
          "metadata": {
            "tags": []
          },
          "execution_count": 147
        }
      ]
    },
    {
      "cell_type": "code",
      "metadata": {
        "colab": {
          "base_uri": "https://localhost:8080/",
          "height": 297
        },
        "id": "ZgSgysKQf5NQ",
        "outputId": "bba8ac56-0841-4369-8d79-a32dd06fd585"
      },
      "source": [
        "from sklearn.metrics import plot_confusion_matrix\n",
        "\n",
        "plot_confusion_matrix(gs,X_test_scaled,y_test)"
      ],
      "execution_count": 148,
      "outputs": [
        {
          "output_type": "execute_result",
          "data": {
            "text/plain": [
              "<sklearn.metrics._plot.confusion_matrix.ConfusionMatrixDisplay at 0x7fb836814910>"
            ]
          },
          "metadata": {
            "tags": []
          },
          "execution_count": 148
        },
        {
          "output_type": "display_data",
          "data": {
            "image/png": "[encoded data removed]",
            "text/plain": [
              "<Figure size 432x288 with 2 Axes>"
            ]
          },
          "metadata": {
            "tags": [],
            "needs_background": "light"
          }
        }
      ]
    }
  ]
}