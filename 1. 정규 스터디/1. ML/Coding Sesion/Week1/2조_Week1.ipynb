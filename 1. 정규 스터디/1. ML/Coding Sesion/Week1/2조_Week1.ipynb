{
 "cells": [
  {
   "cell_type": "code",
   "execution_count": 2,
   "metadata": {
    "ExecuteTime": {
     "end_time": "2021-07-15T06:12:37.775392Z",
     "start_time": "2021-07-15T06:12:36.395774Z"
    }
   },
   "outputs": [],
   "source": [
    "import pandas as pd\n",
    "import matplotlib.pyplot as plt\n",
    "\n",
    "plt.style.use(\"default\")\n",
    "df = pd.read_csv(\"./UNdata_Export_20210713_093426201.csv\")"
   ]
  },
  {
   "cell_type": "code",
   "execution_count": 3,
   "metadata": {
    "ExecuteTime": {
     "end_time": "2021-07-15T06:12:37.790391Z",
     "start_time": "2021-07-15T06:12:37.776389Z"
    }
   },
   "outputs": [
    {
     "data": {
      "text/html": [
       "<div>\n",
       "<style scoped>\n",
       "    .dataframe tbody tr th:only-of-type {\n",
       "        vertical-align: middle;\n",
       "    }\n",
       "\n",
       "    .dataframe tbody tr th {\n",
       "        vertical-align: top;\n",
       "    }\n",
       "\n",
       "    .dataframe thead th {\n",
       "        text-align: right;\n",
       "    }\n",
       "</style>\n",
       "<table border=\"1\" class=\"dataframe\">\n",
       "  <thead>\n",
       "    <tr style=\"text-align: right;\">\n",
       "      <th></th>\n",
       "      <th>Country or Area</th>\n",
       "      <th>Subgroup</th>\n",
       "      <th>Year</th>\n",
       "      <th>Source</th>\n",
       "      <th>Unit</th>\n",
       "      <th>Value</th>\n",
       "      <th>Value Footnotes</th>\n",
       "    </tr>\n",
       "  </thead>\n",
       "  <tbody>\n",
       "    <tr>\n",
       "      <th>0</th>\n",
       "      <td>Afghanistan</td>\n",
       "      <td>Female</td>\n",
       "      <td>2000-2005</td>\n",
       "      <td>UNPD_World Population Prospects_2006 (Internat...</td>\n",
       "      <td>Years</td>\n",
       "      <td>42.0</td>\n",
       "      <td>NaN</td>\n",
       "    </tr>\n",
       "    <tr>\n",
       "      <th>1</th>\n",
       "      <td>Afghanistan</td>\n",
       "      <td>Female</td>\n",
       "      <td>1995-2000</td>\n",
       "      <td>UNPD_World Population Prospects_2006 (Internat...</td>\n",
       "      <td>Years</td>\n",
       "      <td>42.0</td>\n",
       "      <td>NaN</td>\n",
       "    </tr>\n",
       "    <tr>\n",
       "      <th>2</th>\n",
       "      <td>Afghanistan</td>\n",
       "      <td>Female</td>\n",
       "      <td>1990-1995</td>\n",
       "      <td>UNPD_World Population Prospects_2006 (Internat...</td>\n",
       "      <td>Years</td>\n",
       "      <td>42.0</td>\n",
       "      <td>NaN</td>\n",
       "    </tr>\n",
       "    <tr>\n",
       "      <th>3</th>\n",
       "      <td>Afghanistan</td>\n",
       "      <td>Female</td>\n",
       "      <td>1985-1990</td>\n",
       "      <td>UNPD_World Population Prospects_2006 (Internat...</td>\n",
       "      <td>Years</td>\n",
       "      <td>41.0</td>\n",
       "      <td>NaN</td>\n",
       "    </tr>\n",
       "    <tr>\n",
       "      <th>4</th>\n",
       "      <td>Afghanistan</td>\n",
       "      <td>Male</td>\n",
       "      <td>2000-2005</td>\n",
       "      <td>UNPD_World Population Prospects_2006 (Internat...</td>\n",
       "      <td>Years</td>\n",
       "      <td>42.0</td>\n",
       "      <td>NaN</td>\n",
       "    </tr>\n",
       "  </tbody>\n",
       "</table>\n",
       "</div>"
      ],
      "text/plain": [
       "  Country or Area Subgroup       Year  \\\n",
       "0     Afghanistan   Female  2000-2005   \n",
       "1     Afghanistan   Female  1995-2000   \n",
       "2     Afghanistan   Female  1990-1995   \n",
       "3     Afghanistan   Female  1985-1990   \n",
       "4     Afghanistan     Male  2000-2005   \n",
       "\n",
       "                                              Source   Unit  Value  \\\n",
       "0  UNPD_World Population Prospects_2006 (Internat...  Years   42.0   \n",
       "1  UNPD_World Population Prospects_2006 (Internat...  Years   42.0   \n",
       "2  UNPD_World Population Prospects_2006 (Internat...  Years   42.0   \n",
       "3  UNPD_World Population Prospects_2006 (Internat...  Years   41.0   \n",
       "4  UNPD_World Population Prospects_2006 (Internat...  Years   42.0   \n",
       "\n",
       "   Value Footnotes  \n",
       "0              NaN  \n",
       "1              NaN  \n",
       "2              NaN  \n",
       "3              NaN  \n",
       "4              NaN  "
      ]
     },
     "execution_count": 3,
     "metadata": {},
     "output_type": "execute_result"
    }
   ],
   "source": [
    "df.head()"
   ]
  },
  {
   "cell_type": "code",
   "execution_count": 4,
   "metadata": {
    "ExecuteTime": {
     "end_time": "2021-07-15T06:12:37.805348Z",
     "start_time": "2021-07-15T06:12:37.792347Z"
    }
   },
   "outputs": [],
   "source": [
    "df.drop(\"Source\", axis=1)\n",
    "df = df.loc[1:1559]  "
   ]
  },
  {
   "cell_type": "code",
   "execution_count": 5,
   "metadata": {
    "ExecuteTime": {
     "end_time": "2021-07-15T06:12:37.820272Z",
     "start_time": "2021-07-15T06:12:37.807306Z"
    }
   },
   "outputs": [],
   "source": [
    "grouped=  df.groupby(['Year','Subgroup']) # 연도 구간과 성별에 대해 group화"
   ]
  },
  {
   "cell_type": "code",
   "execution_count": 26,
   "metadata": {
    "ExecuteTime": {
     "end_time": "2021-07-15T06:21:51.188590Z",
     "start_time": "2021-07-15T06:21:51.173613Z"
    }
   },
   "outputs": [
    {
     "name": "stdout",
     "output_type": "stream",
     "text": [
      "Year       Subgroup\n",
      "1985-1990  Female      66.902564\n",
      "           Male        62.071795\n",
      "1990-1995  Female      67.902564\n",
      "           Male        62.933333\n",
      "1995-2000  Female      68.733333\n",
      "           Male        63.723077\n",
      "2000-2005  Female      69.567010\n",
      "           Male        64.651282\n",
      "Name: Value, dtype: float64\n"
     ]
    }
   ],
   "source": [
    "sum_grouped = grouped[\"Value\"].mean() # 그룹 별 평균 산출\n",
    "print(sum_grouped)"
   ]
  },
  {
   "cell_type": "code",
   "execution_count": 27,
   "metadata": {
    "ExecuteTime": {
     "end_time": "2021-07-15T06:21:51.696687Z",
     "start_time": "2021-07-15T06:21:51.687205Z"
    }
   },
   "outputs": [
    {
     "name": "stdout",
     "output_type": "stream",
     "text": [
      "                        Value\n",
      "Year      Subgroup           \n",
      "1985-1990 Female    66.902564\n",
      "          Male      62.071795\n",
      "1990-1995 Female    67.902564\n",
      "          Male      62.933333\n",
      "1995-2000 Female    68.733333\n",
      "          Male      63.723077\n",
      "2000-2005 Female    69.567010\n",
      "          Male      64.651282\n"
     ]
    }
   ],
   "source": [
    "sum_grouped = pd.DataFrame(sum_grouped) # 기존 sum_grouped의 자료형 - Series -> DataFrame\n",
    "print(sum_grouped)"
   ]
  },
  {
   "cell_type": "code",
   "execution_count": 24,
   "metadata": {
    "ExecuteTime": {
     "end_time": "2021-07-15T06:21:30.970614Z",
     "start_time": "2021-07-15T06:21:30.956078Z"
    }
   },
   "outputs": [
    {
     "data": {
      "text/html": [
       "<div>\n",
       "<style scoped>\n",
       "    .dataframe tbody tr th:only-of-type {\n",
       "        vertical-align: middle;\n",
       "    }\n",
       "\n",
       "    .dataframe tbody tr th {\n",
       "        vertical-align: top;\n",
       "    }\n",
       "\n",
       "    .dataframe thead tr th {\n",
       "        text-align: left;\n",
       "    }\n",
       "\n",
       "    .dataframe thead tr:last-of-type th {\n",
       "        text-align: right;\n",
       "    }\n",
       "</style>\n",
       "<table border=\"1\" class=\"dataframe\">\n",
       "  <thead>\n",
       "    <tr>\n",
       "      <th></th>\n",
       "      <th colspan=\"2\" halign=\"left\">Value</th>\n",
       "    </tr>\n",
       "    <tr>\n",
       "      <th>Subgroup</th>\n",
       "      <th>Female</th>\n",
       "      <th>Male</th>\n",
       "    </tr>\n",
       "    <tr>\n",
       "      <th>Year</th>\n",
       "      <th></th>\n",
       "      <th></th>\n",
       "    </tr>\n",
       "  </thead>\n",
       "  <tbody>\n",
       "    <tr>\n",
       "      <th>1985-1990</th>\n",
       "      <td>66.902564</td>\n",
       "      <td>62.071795</td>\n",
       "    </tr>\n",
       "    <tr>\n",
       "      <th>1990-1995</th>\n",
       "      <td>67.902564</td>\n",
       "      <td>62.933333</td>\n",
       "    </tr>\n",
       "    <tr>\n",
       "      <th>1995-2000</th>\n",
       "      <td>68.733333</td>\n",
       "      <td>63.723077</td>\n",
       "    </tr>\n",
       "    <tr>\n",
       "      <th>2000-2005</th>\n",
       "      <td>69.567010</td>\n",
       "      <td>64.651282</td>\n",
       "    </tr>\n",
       "  </tbody>\n",
       "</table>\n",
       "</div>"
      ],
      "text/plain": [
       "               Value           \n",
       "Subgroup      Female       Male\n",
       "Year                           \n",
       "1985-1990  66.902564  62.071795\n",
       "1990-1995  67.902564  62.933333\n",
       "1995-2000  68.733333  63.723077\n",
       "2000-2005  69.567010  64.651282"
      ]
     },
     "execution_count": 24,
     "metadata": {},
     "output_type": "execute_result"
    }
   ],
   "source": [
    "sum_grouped = sum_grouped.unstack() # 성별에 따라 값을 정렬하기 위해 unstack화\n",
    "sum_grouped"
   ]
  },
  {
   "cell_type": "code",
   "execution_count": 9,
   "metadata": {
    "ExecuteTime": {
     "end_time": "2021-07-15T06:12:37.880166Z",
     "start_time": "2021-07-15T06:12:37.868146Z"
    }
   },
   "outputs": [],
   "source": [
    "# 한글 오류를 방지하기 위한 코드\n",
    "from matplotlib import font_manager, rc\n",
    "font_path = \"c:/Windows/Fonts/malgun.ttf\"\n",
    "font_name = font_manager.FontProperties(fname=font_path).get_name()\n",
    "rc('font', family= font_name)"
   ]
  },
  {
   "cell_type": "code",
   "execution_count": 15,
   "metadata": {
    "ExecuteTime": {
     "end_time": "2021-07-15T06:13:55.052131Z",
     "start_time": "2021-07-15T06:13:54.800379Z"
    }
   },
   "outputs": [
    {
     "data": {
      "image/png": "[encoded data removed]",
      "text/plain": [
       "<Figure size 900x400 with 1 Axes>"
      ]
     },
     "metadata": {},
     "output_type": "display_data"
    }
   ],
   "source": [
    "plt.rcParams[\"figure.figsize\"] = [9,4]\n",
    "sum_grouped.plot(kind='bar',color=['pink','purple']) # barplot 함수 먼저 그리기\n",
    "plt.plot(sum_grouped.index, sum_grouped[[('Value', 'Female')]],'pink') #여성의 평균기대수명에 대한 추세선 덧그리기\n",
    "plt.plot(sum_grouped.index, sum_grouped[[('Value', 'Male')]],'purple') # 남성의 평균기대수명에 대한 추세선 덧그리기\n",
    "plt.xlabel('연도')\n",
    "plt.ylabel('기대 수명')\n",
    "plt.legend(labels=['여성','남성'])\n",
    "plt.title('1985-2005 연도 구간에 대한 성별 기대 수명')\n",
    "\n",
    "plt.savefig('ML.HW1.png')"
   ]
  }
 ],
 "metadata": {
  "kernelspec": {
   "display_name": "Python 3",
   "language": "python",
   "name": "python3"
  },
  "language_info": {
   "codemirror_mode": {
    "name": "ipython",
    "version": 3
   },
   "file_extension": ".py",
   "mimetype": "text/x-python",
   "name": "python",
   "nbconvert_exporter": "python",
   "pygments_lexer": "ipython3",
   "version": "3.8.3"
  }
 },
 "nbformat": 4,
 "nbformat_minor": 4
}
