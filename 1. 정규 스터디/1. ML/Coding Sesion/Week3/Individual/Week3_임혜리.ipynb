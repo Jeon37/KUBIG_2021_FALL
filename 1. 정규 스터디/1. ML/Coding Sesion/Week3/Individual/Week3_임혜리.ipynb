{
  "nbformat": 4,
  "nbformat_minor": 0,
  "metadata": {
    "kernelspec": {
      "display_name": "Python 3",
      "language": "python",
      "name": "python3"
    },
    "language_info": {
      "codemirror_mode": {
        "name": "ipython",
        "version": 3
      },
      "file_extension": ".py",
      "mimetype": "text/x-python",
      "name": "python",
      "nbconvert_exporter": "python",
      "pygments_lexer": "ipython3",
      "version": "3.7.10"
    },
    "nav_menu": {},
    "toc": {
      "navigate_menu": true,
      "number_sections": true,
      "sideBar": true,
      "threshold": 6,
      "toc_cell": false,
      "toc_section_display": "block",
      "toc_window_display": false
    },
    "colab": {
      "name": "Week3_임혜리",
      "provenance": [],
      "collapsed_sections": []
    }
  },
  "cells": [
    {
      "cell_type": "markdown",
      "metadata": {
        "id": "7gbnmXUe6vxy"
      },
      "source": [
        "<h2><b>[3주차 개인 과제]</b></h2>\n",
        "\n",
        "<h3>Batch Gradient Descent, Stochastic Gradient Descent, Mini-batch Gradient에서 Gradient Update와 Loss function 계산이 어떻게 이뤄지는지를 코드 구현을 통해 이해해보고자 합니다!</h3>\n",
        "\n",
        "[<h3>Hands on ML 4단원 ipynb</h3>](https://https://github.com/ageron/handson-ml2/blob/master/04_training_linear_models.ipynb)\n",
        "\n",
        "[<h3>Batch size, Iteration, epoch 개념 정리</h3>](https://losskatsu.github.io/machine-learning/epoch-batch/#2-batch-size%EC%9D%98-%EC%9D%98%EB%AF%B8)\n",
        "\n",
        "<br>\n",
        "<h2><b>[보충 설명]</b></h2>\n",
        "<h3><b>Batch Gradient Descent</b></h3>\n",
        "\n",
        "````\n",
        "for iteration in range(n_iterations):\n",
        "    gradients = 2/m * X_b.T.dot(X_b.dot(theta) - y)\n",
        "````\n",
        "\n",
        "여기서 n_iterations는 n_epochs와 같은 의미로 쓰인 듯 합니다. Batch Gradient Descent는 전체 데이터를 사용해 학습하므로 1번의 epoch당 batch_size=m이고 iteration은 1번 일어나게 됩니다.\n",
        "\n",
        "<h3><b>Stochastic Gradient Descent</b></h3>\n",
        "\n",
        "````\n",
        "for epoch in range(n_epochs):\n",
        "\tfor i in range(m): \n",
        "        gradients = 2 * xi.T.dot(xi.dot(theta) - yi)\n",
        "````\n",
        "1번의 epoch당 batch_size=1이고 iteration은 m번 일어나는 것을 알 수 있습니다. \n",
        "\n",
        "<h3><b>Mini-Batch Gradient Descent</b></h3>\n",
        "\n",
        "````\n",
        " for epoch in range(n_iterations):\n",
        "\tfor i in range(0, m, minibatch_size):\n",
        "````\n",
        "\n",
        "1번의 epoch당 batch_size=minibatch_size이고 iteration은 m/minibatch_size번 일어나는 것을 알 수 있습니다. 여기서 n_iterations으로 표현하기보단 n_epochs가 더 적절할 듯 한데, 혹시 변수명 지정에 대해 이해하신 분은 제게 알려주시면 감사하겠습니다!\n",
        "\n",
        "<br>\n",
        "<h3><b>RMSE 구하는 법</b></h3>\n",
        "<h3>구현된 코드에서 MSE와 Gradient의 계산식은 다음과 같습니다.</h4>\n",
        "<h4>$\\mathbf{X}: m \\times n 행렬,\\  \\mathbf{y}: m \\times 1 행렬,\\ \\mathbf{\\theta}: 1 \\times n 행렬$</h4>\n",
        "<h4>$\\mathbf{x^{(i)}}: 1 \\times n 행렬,\\  y^{(i)}: 스칼라,\\ x_{j}^{(i)}: 스칼라$</h4>\n",
        "<h3>$m: sample \\ size, \\ n: parameter \\ 개수$\n",
        "\n",
        "<br>\n",
        "<br>\n",
        "<h3>$ MSE = \\frac{1}{m}\\sum_{i=1}^m (\\theta^{T}\\mathbf{x}^{i}-y^{(i)})^{2}$</h3>\n",
        "<h3>$ \\frac{\\partial MSE(\\theta)}{\\partial \\theta_{j}} = \\frac{2}{m}\\sum_{i=1}^m (\\theta^{T}\\mathbf{x}^{i}-y^{(i)})x_{j}^{(i)}$</h3>\n",
        "<h3>$\\nabla_{\\theta}MSE(\\mathbf{\\theta})=\\begin{bmatrix}\n",
        "\\frac{\\partial MSE(\\theta)}{\\partial \\theta_{0}} \\\\\n",
        " \\vdots \\\\\n",
        "\\frac{\\partial MSE(\\theta)}{\\partial \\theta_{n}}\\\\\n",
        "\\end{bmatrix}\n",
        "=\\frac{2}{m}\\mathbf{X}^{T}(\\mathbf{X}\\mathbf{\\theta}-\\mathbf{y})$</h3>\n",
        "<h3>주교재 예시 코드에서는 Gradient가 어떻게 업데이트되는지 알아봤다면, 이번 과제에서 우리는 loss metric으로 가장 많이 사용되는 지표 중 하나인 RMSE(Root Mean Squared Error)를 구하고 학습이 진행됨에 따라 나타나는 변화를 관측하고자 합니다.</h3>\n",
        "<h4>$ RMSE = \\sqrt{\\frac{1}{m}\\sum_{i=1}^m (\\theta^{T}\\mathbf{x}^{i}-y^{(i)})^{2}}$</h4>\n",
        "\n",
        "<br>\n",
        "<h2><b>[문제]</b></h2>\n",
        "<h3> 0. 각 방법에서 학습 횟수(sgd: n_epochs, bgd와 mgd: n_iterations)는 50으로 고정해주세요.</h3>\n",
        "\n",
        "<h3>1. Batch Gradient Descent에서 구현된 코드를 이해해보고, 제시된 plot_loss 함수를 사용해 $\\eta=0.02, 0.1, 0.5$일 때 loss_path_bgd를 subplot을 사용해 그려보고, $\\eta= 0.1$ 일 때 loss_path_bgd_plot을 loss_path_bgd에 저장하시오.</h3>\n",
        "\n",
        "<h3>2. 제시된 코드를 참고해 Stochastic Gradient Descent, Mini-batch Gradient에서 loss_path_sgd, loss_path_mgd를 구해 그래프를 그리고, loss_path_bdg, loss_path_sgd, loss_path_mgd를 비교하는 그래프를 그리시오.</h3>\n",
        "\n",
        "<br>\n",
        "<h3> 코드 작성이 보다 원활하도록 설명이 적힌 주석 앞에 한 줄씩 코드를 채워넣는 방식으로 문제를 출제했습니다. 만일 제가 작성한 코드가 불편하다면, 본인만의 코드를 작성하고 이에 따른 적절한 설명을 주석으로 달아주시면 감사하겠습니다 :)</h3>\n",
        "\n",
        "\n",
        "\n",
        "\n"
      ]
    },
    {
      "cell_type": "markdown",
      "metadata": {
        "id": "vXVaw00R6vxz"
      },
      "source": [
        "# Setup"
      ]
    },
    {
      "cell_type": "code",
      "metadata": {
        "id": "lumVl7ok6vxz"
      },
      "source": [
        "# Python ≥3.5 is required\n",
        "import sys\n",
        "assert sys.version_info >= (3, 5)\n",
        "\n",
        "# Scikit-Learn ≥0.20 is required\n",
        "import sklearn\n",
        "assert sklearn.__version__ >= \"0.20\"\n",
        "\n",
        "# Common imports\n",
        "import numpy as np\n",
        "import os\n",
        "\n",
        "# to make this notebook's output stable across runs\n",
        "np.random.seed(42)\n",
        "\n",
        "# To plot pretty figures\n",
        "%matplotlib inline\n",
        "import matplotlib as mpl\n",
        "import matplotlib.pyplot as plt\n",
        "mpl.rc('axes', labelsize=14)\n",
        "mpl.rc('xtick', labelsize=12)\n",
        "mpl.rc('ytick', labelsize=12)"
      ],
      "execution_count": null,
      "outputs": []
    },
    {
      "cell_type": "markdown",
      "metadata": {
        "id": "pcVw0TDk68uU"
      },
      "source": [
        "# Dataset"
      ]
    },
    {
      "cell_type": "code",
      "metadata": {
        "id": "5vuabgLg1IA0"
      },
      "source": [
        "import numpy as np\n",
        "\n",
        "X = 2 * np.random.rand(100, 1)\n",
        "y = 4 + 3 * X + np.random.randn(100, 1)"
      ],
      "execution_count": null,
      "outputs": []
    },
    {
      "cell_type": "code",
      "metadata": {
        "colab": {
          "base_uri": "https://localhost:8080/",
          "height": 290
        },
        "id": "C78PRidZ1IHK",
        "outputId": "e75c6ec7-18c7-43b8-ee5e-2c02b05ae4fd"
      },
      "source": [
        "plt.plot(X, y, \"b.\")\n",
        "plt.xlabel(\"$x_1$\", fontsize=18)\n",
        "plt.ylabel(\"$y$\", rotation=0, fontsize=18)\n",
        "plt.axis([0, 2, 0, 15])\n",
        "plt.show()"
      ],
      "execution_count": null,
      "outputs": [
        {
          "output_type": "display_data",
          "data": {
            "image/png": "[encoded data removed]",
            "text/plain": [
              "<Figure size 432x288 with 1 Axes>"
            ]
          },
          "metadata": {
            "tags": [],
            "needs_background": "light"
          }
        }
      ]
    },
    {
      "cell_type": "code",
      "metadata": {
        "id": "bCujs8Jt1Lu7"
      },
      "source": [
        "X_b = np.c_[np.ones((100, 1)), X]  # add x0 = 1 to each instance"
      ],
      "execution_count": null,
      "outputs": []
    },
    {
      "cell_type": "markdown",
      "metadata": {
        "id": "J_sFkiPXz3DJ"
      },
      "source": [
        "# Batch Gradient Descent 구현 예시"
      ]
    },
    {
      "cell_type": "code",
      "metadata": {
        "id": "CdWihv7B6vx3"
      },
      "source": [
        "eta = 0.1  # learning rate\n",
        "n_iterations = 50 # n_iterations 변경\n",
        "\n",
        "m = 100\n",
        "\n",
        "theta = np.random.randn(2,1)  # random initialization\n",
        "\n",
        "loss_bgd = []\n",
        "for iteration in range(n_iterations):\n",
        "    loss = np.sqrt((1/m)*(X_b.dot(theta)-y).T.dot(X_b.dot(theta)-y).squeeze()) # RMSE 계산. squeeze는 array를 scalar로 변환하기 위함.\n",
        "    loss_bgd.append(loss)\n",
        "    gradients = 2/m * X_b.T.dot(X_b.dot(theta) - y)\n",
        "    theta = theta - eta * gradients"
      ],
      "execution_count": null,
      "outputs": []
    },
    {
      "cell_type": "code",
      "metadata": {
        "colab": {
          "base_uri": "https://localhost:8080/",
          "height": 286
        },
        "id": "z83Cz0D5hvZb",
        "outputId": "8ac262c7-5bc6-4017-d143-91a5bc159e6f"
      },
      "source": [
        "plt.plot(loss_bgd, marker = '*', color = 'r')"
      ],
      "execution_count": null,
      "outputs": [
        {
          "output_type": "execute_result",
          "data": {
            "text/plain": [
              "[<matplotlib.lines.Line2D at 0x7f720629af10>]"
            ]
          },
          "metadata": {
            "tags": []
          },
          "execution_count": 7
        },
        {
          "output_type": "display_data",
          "data": {
            "image/png": "[encoded data removed]",
            "text/plain": [
              "<Figure size 432x288 with 1 Axes>"
            ]
          },
          "metadata": {
            "tags": [],
            "needs_background": "light"
          }
        }
      ]
    },
    {
      "cell_type": "markdown",
      "metadata": {
        "id": "3mVp0-Ke6vx3"
      },
      "source": [
        "# Batch Gradient Descent with different $\\eta$\n"
      ]
    },
    {
      "cell_type": "code",
      "metadata": {
        "id": "oRem8JX7lPDG"
      },
      "source": [
        "loss_path_bgd = [] # loss_path_bgd 생성\n",
        "\n",
        "def plot_loss(theta, eta, loss_path=None):\n",
        "    m = len(X_b)\n",
        "    n_iterations = 50\n",
        "    loss_path_bgd_plot = [] # plot용 loss_path_bgd 생성\n",
        "    for iteration in range(n_iterations):\n",
        "        loss = np.sqrt((1/m)*(X_b.dot(theta)-y).T.dot(X_b.dot(theta)-y).squeeze()) # RMSE, squeeze는 array를 scalar변환하기 위함\n",
        "        loss_path_bgd_plot.append(loss) # RMSE를 loss_path_bgd_plot에 저장\n",
        "        gradients = 2/m * X_b.T.dot(X_b.dot(theta) - y)\n",
        "        theta = theta - eta * gradients\n",
        "        if loss_path is not None: # loss_path를 지정할 경우\n",
        "            loss_path.append(loss) # loss_path_bgd_plot를 loss_path에 저장\n",
        "    plt.plot(loss_path_bgd_plot, marker = '*', color = 'r') # loss function 그리기\n",
        "    plt.xlabel(\"$n\\_iterations$\", fontsize=12)\n",
        "    plt.axis([0, 50, 0, 20])\n",
        "    plt.title(r\"$\\eta = {}$\".format(eta), fontsize=16)"
      ],
      "execution_count": null,
      "outputs": []
    },
    {
      "cell_type": "code",
      "metadata": {
        "colab": {
          "base_uri": "https://localhost:8080/",
          "height": 309
        },
        "id": "7N_SxaNMnTnO",
        "outputId": "0b8a4de6-704c-498b-f333-b10fb6d446b4"
      },
      "source": [
        "np.random.seed(42)\n",
        "theta = np.random.randn(2,1)  # random initialization\n",
        "\n",
        "plt.figure(figsize=(10,4))\n",
        "plt.subplot(1,3,1);\n",
        "plot_loss(theta, 0.02, loss_path=None)\n",
        "# eta=0.02일 때 plot_loss\n",
        "plt.ylabel(\"$RMSE$\", rotation=90, fontsize=12)\n",
        "plt.subplot(1,3,2);\n",
        "plot_loss(theta, 0.1,loss_path=None)\n",
        "# eta=0.1일 때 plot_loss, loss_path를 loss_path_bgd에 저장하기.\n",
        "plt.subplot(1,3,3);\n",
        "plot_loss(theta, 0.5, loss_path = None)\n",
        "# eta=0.5일 때 plot_loss\n",
        "plt.show()"
      ],
      "execution_count": null,
      "outputs": [
        {
          "output_type": "display_data",
          "data": {
            "image/png": "[encoded data removed]",
            "text/plain": [
              "<Figure size 720x288 with 3 Axes>"
            ]
          },
          "metadata": {
            "tags": [],
            "needs_background": "light"
          }
        }
      ]
    },
    {
      "cell_type": "markdown",
      "metadata": {
        "id": "3TIq__zq6vx4"
      },
      "source": [
        "# Stochastic Gradient Descent"
      ]
    },
    {
      "cell_type": "code",
      "metadata": {
        "id": "INR9DaVj6vx4",
        "colab": {
          "base_uri": "https://localhost:8080/"
        },
        "outputId": "b547b847-98f3-4224-e288-7e0dbed0c54a"
      },
      "source": [
        "theta_path_sgd = []\n",
        "m = len(X_b)\n",
        "np.random.seed(42)\n",
        "print(m)"
      ],
      "execution_count": null,
      "outputs": [
        {
          "output_type": "stream",
          "text": [
            "100\n"
          ],
          "name": "stdout"
        }
      ]
    },
    {
      "cell_type": "code",
      "metadata": {
        "id": "y7wvcka36vx4",
        "colab": {
          "base_uri": "https://localhost:8080/",
          "height": 294
        },
        "outputId": "cbce0249-68a3-43f8-a060-af83c510f7ca"
      },
      "source": [
        "import math\n",
        "n_epochs = 50\n",
        "\n",
        "t0, t1 = 5, 50  # learning schedule hyperparameters\n",
        "\n",
        "def learning_schedule(t):\n",
        "    return t0 / (t + t1) \n",
        "\n",
        "theta = np.random.randn(2,1)  # random initialization\n",
        "loss_path_sgd = []\n",
        "# loss_path_sgd 리스트 생성\n",
        "for epoch in range(n_epochs):\n",
        "    loss_i =[]\n",
        "    # RMSE 계산을 위해 개별 잔차제곱값을 저장할 리스트 \n",
        "    for i in range(m):\n",
        "        random_index = np.random.randint(m)\n",
        "        xi = X_b[random_index:random_index+1]\n",
        "        yi = y[random_index:random_index+1]\n",
        "        loss_i.append((xi.dot(theta)-yi).T.dot(xi.dot(theta)-yi))\n",
        "        # 잔차제곱값을 loss_i에 저장\n",
        "        gradients = 2 * xi.T.dot(xi.dot(theta) - yi)\n",
        "        eta = learning_schedule(epoch * m + i)\n",
        "        theta = theta - eta * gradients\n",
        "    loss_path_sgd.append(np.sqrt(np.mean(loss_i)))\n",
        "    # 잔차제곱값을 평균 후 loss_path_sgd에 저장.\n",
        "\n",
        "plt.plot(loss_path_sgd, marker = '*', color = 'r')\n",
        "plt.xlabel(\"$n\\_epochs$\", fontsize=12)                     # not shown\n",
        "plt.ylabel(\"$RMSE$\", rotation=90, fontsize=12)           # not shown\n",
        "plt.axis([0, 50, 0, 5])                              # not shown\n",
        "plt.show()                                           # not shown"
      ],
      "execution_count": null,
      "outputs": [
        {
          "output_type": "display_data",
          "data": {
            "image/png": "[encoded data removed]",
            "text/plain": [
              "<Figure size 432x288 with 1 Axes>"
            ]
          },
          "metadata": {
            "tags": [],
            "needs_background": "light"
          }
        }
      ]
    },
    {
      "cell_type": "markdown",
      "metadata": {
        "id": "ixvWXRGa6vx5"
      },
      "source": [
        "# Mini-batch Gradient Descent"
      ]
    },
    {
      "cell_type": "code",
      "metadata": {
        "id": "flGJ3-3Q6vx5"
      },
      "source": [
        "theta_path_mgd = []\n",
        "\n",
        "n_iterations = 50\n",
        "minibatch_size = 20\n",
        "\n",
        "np.random.seed(42)\n",
        "theta = np.random.randn(2,1)  # random initialization\n",
        "\n",
        "t0, t1 = 200, 1000\n",
        "def learning_schedule(t):\n",
        "    return t0 / (t + t1)\n",
        "\n",
        "t = 0\n",
        "loss_path_mgd =[]\n",
        "# loss_path_mgd 리스트 생성\n",
        "\n",
        "for epoch in range(n_iterations):\n",
        "    shuffled_indices = np.random.permutation(m)\n",
        "    X_b_shuffled = X_b[shuffled_indices]\n",
        "    y_shuffled = y[shuffled_indices]\n",
        "    loss_ii =[]\n",
        "    # mini_batch당 계산되는 loss(잔차제곱합) 저장하는 리스트 생성\n",
        "    for i in range(0, m, minibatch_size):\n",
        "        t += 1\n",
        "        xi = X_b_shuffled[i:i+minibatch_size]\n",
        "        yi = y_shuffled[i:i+minibatch_size]\n",
        "        loss3 = np.sum((xi.dot(theta)-yi).T.dot(xi.dot(theta)-yi).squeeze())\n",
        "        loss_ii.append(loss3)\n",
        "        # mini_batch당 loss(잔차제곱합) 저장 \n",
        "        gradients = 2/minibatch_size * xi.T.dot(xi.dot(theta) - yi)\n",
        "        eta = learning_schedule(t)\n",
        "        theta = theta - eta * gradients\n",
        "    loss4 = np.sqrt((minibatch_size/m)*sum(loss_ii))\n",
        "    loss_path_mgd.append(loss4)\n",
        "    # 미니 batch 당 잔차제곱합을 모두 받아 RMSE 계산 뒤 loss_path_mgd에 저장"
      ],
      "execution_count": null,
      "outputs": []
    },
    {
      "cell_type": "code",
      "metadata": {
        "colab": {
          "base_uri": "https://localhost:8080/",
          "height": 294
        },
        "id": "2d1t3cM5tOzC",
        "outputId": "5b438638-2ca0-4b4a-9909-44eb86e9945d"
      },
      "source": [
        "plt.plot(loss_path_mgd, marker = '*', color = 'r')\n",
        "# loss_path_mgd 그리기\n",
        "plt.xlabel(\"$n\\_epochs$\", fontsize=12)                     # not shown\n",
        "plt.ylabel(\"$RMSE$\", rotation=90, fontsize=12)           # not shown\n",
        "plt.axis([0, 50, 0, 20])                              # not shown\n",
        "plt.show()  "
      ],
      "execution_count": null,
      "outputs": [
        {
          "output_type": "display_data",
          "data": {
            "image/png": "[encoded data removed]",
            "text/plain": [
              "<Figure size 432x288 with 1 Axes>"
            ]
          },
          "metadata": {
            "tags": [],
            "needs_background": "light"
          }
        }
      ]
    },
    {
      "cell_type": "code",
      "metadata": {
        "id": "eESH4vWA6vx6",
        "colab": {
          "base_uri": "https://localhost:8080/",
          "height": 294
        },
        "outputId": "d90ee103-3d88-4f9d-f230-9ceaa145560a"
      },
      "source": [
        "plt.figure(figsize=(7,4))\n",
        "plt.plot(loss_path_sgd, marker = 's', color = 'r', label = 'Stochastic')\n",
        "plt.plot(loss_path_mgd, marker = '+', color = 'g', label = 'Mini-batch')\n",
        "plt.plot(loss_bgd, marker = 'o', color = 'b', label = 'Batch')\n",
        "plt.legend(loc=\"upper left\", fontsize=16)\n",
        "plt.xlabel(r\"$n\\_iterations$\", fontsize=12)\n",
        "plt.ylabel(r\"$RMSE$\", fontsize=12, rotation=90)\n",
        "plt.axis([0, 50, 0, 20])\n",
        "plt.show()"
      ],
      "execution_count": null,
      "outputs": [
        {
          "output_type": "display_data",
          "data": {
            "image/png": "[encoded data removed]",
            "text/plain": [
              "<Figure size 504x288 with 1 Axes>"
            ]
          },
          "metadata": {
            "tags": [],
            "needs_background": "light"
          }
        }
      ]
    }
  ]
}