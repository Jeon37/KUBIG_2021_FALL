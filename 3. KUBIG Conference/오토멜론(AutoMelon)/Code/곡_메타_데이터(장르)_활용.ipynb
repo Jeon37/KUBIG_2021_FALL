{
  "nbformat": 4,
  "nbformat_minor": 0,
  "metadata": {
    "colab": {
      "name": "곡 메타 데이터(장르) 활용.ipynb",
      "provenance": [],
      "collapsed_sections": [
        "wA0EiENIAKHd",
        "xPvc-pk8r-Do",
        "8Nd5NnqsXuOF"
      ]
    },
    "kernelspec": {
      "name": "python3",
      "display_name": "Python 3"
    }
  },
  "cells": [
    {
      "cell_type": "markdown",
      "source": [
        "# Setup"
      ],
      "metadata": {
        "id": "wA0EiENIAKHd"
      }
    },
    {
      "cell_type": "code",
      "metadata": {
        "colab": {
          "base_uri": "https://localhost:8080/"
        },
        "id": "Xy6BRq3_O0K4",
        "outputId": "607e0d90-48ee-4730-aad3-7927aad4322d"
      },
      "source": [
        "from google.colab import drive\n",
        "drive.mount('/content/drive')"
      ],
      "execution_count": null,
      "outputs": [
        {
          "output_type": "stream",
          "name": "stdout",
          "text": [
            "Mounted at /content/drive\n"
          ]
        }
      ]
    },
    {
      "cell_type": "code",
      "metadata": {
        "id": "qMY5SjnHsK7J"
      },
      "source": [
        "# arena_util.py\n",
        "# -*- coding: utf-8 -*-\n",
        "\n",
        "import io\n",
        "import os\n",
        "import json\n",
        "import distutils.dir_util\n",
        "from collections import Counter\n",
        "\n",
        "import numpy as np\n",
        "\n",
        "\n",
        "def write_json(data, fname):\n",
        "    def _conv(o):\n",
        "        if isinstance(o, np.int64) or isinstance(o, np.int32):\n",
        "            return int(o)\n",
        "        raise TypeError\n",
        "\n",
        "    parent = os.path.dirname(fname)\n",
        "    distutils.dir_util.mkpath(\"./arena_data/\" + parent)\n",
        "    with io.open(\"./arena_data/\" + fname, \"w\", encoding=\"utf8\") as f:\n",
        "        json_str = json.dumps(data, ensure_ascii=False, default=_conv)\n",
        "        f.write(json_str)\n",
        "\n",
        "\n",
        "def load_json(fname):\n",
        "    with open(fname, encoding='utf8') as f:\n",
        "        json_obj = json.load(f)\n",
        "\n",
        "    return json_obj\n",
        "\n",
        "\n",
        "def debug_json(r):\n",
        "    print(json.dumps(r, ensure_ascii=False, indent=4))\n",
        "\n"
      ],
      "execution_count": null,
      "outputs": []
    },
    {
      "cell_type": "code",
      "metadata": {
        "id": "rZ4kyEaPsK7L"
      },
      "source": [
        "# evaluate.py\n",
        "# -*- coding: utf-8 -*-\n",
        "# import fire\n",
        "import numpy as np\n",
        "\n",
        "# from arena_util import load_json\n",
        "\n",
        "\n",
        "class CustomEvaluator:\n",
        "    def _idcg(self, l):\n",
        "        return sum((1.0 / np.log(i + 2) for i in range(l)))\n",
        "\n",
        "    def __init__(self):\n",
        "        self._idcgs = [self._idcg(i) for i in range(101)]\n",
        "\n",
        "    def _ndcg(self, gt, rec):\n",
        "        dcg = 0.0\n",
        "        for i, r in enumerate(rec):\n",
        "            if r in gt:\n",
        "                dcg += 1.0 / np.log(i + 2)\n",
        "\n",
        "        return dcg / self._idcgs[len(gt)]\n",
        "\n",
        "    def _eval(self, gt_fname, rec_fname):\n",
        "        gt_playlists = load_json(gt_fname)\n",
        "        gt_dict = {g[\"id\"]: g for g in gt_playlists}\n",
        "        rec_playlists = load_json(rec_fname)\n",
        "        \n",
        "        music_ndcg = 0.0\n",
        "        tag_ndcg = 0.0\n",
        "\n",
        "        for rec in rec_playlists:\n",
        "            gt = gt_dict[rec[\"id\"]]\n",
        "            music_ndcg += self._ndcg(gt[\"songs\"], rec[\"songs\"][:100])\n",
        "            tag_ndcg += self._ndcg(gt[\"tags\"], rec[\"tags\"][:10])\n",
        "\n",
        "        music_ndcg = music_ndcg / len(rec_playlists)\n",
        "        tag_ndcg = tag_ndcg / len(rec_playlists)\n",
        "        score = music_ndcg * 0.85 + tag_ndcg * 0.15\n",
        "\n",
        "        return music_ndcg, tag_ndcg, score\n",
        "\n",
        "    def evaluate(self, gt_fname, rec_fname):\n",
        "        try:\n",
        "            music_ndcg, tag_ndcg, score = self._eval(gt_fname, rec_fname)\n",
        "            print(f\"Music nDCG: {music_ndcg:.6}\")\n",
        "            print(f\"Tag nDCG: {tag_ndcg:.6}\")\n",
        "            print(f\"Score: {score:.6}\")\n",
        "        except Exception as e:\n",
        "            print(e)\n",
        "\n",
        "\n",
        "# if __name__ == \"__main__\":\n",
        "#     fire.Fire(ArenaEvaluator)\n"
      ],
      "execution_count": null,
      "outputs": []
    },
    {
      "cell_type": "code",
      "metadata": {
        "id": "RDjIAzvbsK7L"
      },
      "source": [
        "from collections import Counter\n",
        "\n",
        "import numpy as np\n",
        "import pandas as pd\n",
        "\n",
        "import scipy.sparse as spr\n",
        "import pickle"
      ],
      "execution_count": null,
      "outputs": []
    },
    {
      "cell_type": "markdown",
      "metadata": {
        "id": "ZExb_2lesK7L"
      },
      "source": [
        "- train/val split"
      ]
    },
    {
      "cell_type": "code",
      "metadata": {
        "id": "AquPjP9SsK7M"
      },
      "source": [
        "# -*- coding: utf-8 -*-\n",
        "import copy\n",
        "import random\n",
        "import numpy as np\n",
        "\n",
        "\n",
        "class ArenaSplitter:\n",
        "    def _split_data(self, playlists):\n",
        "        tot = len(playlists)\n",
        "        train = playlists[:int(tot*0.80)]\n",
        "        val = playlists[int(tot*0.80):]\n",
        "\n",
        "        return train, val\n",
        "\n",
        "    def _mask(self, playlists, mask_cols, del_cols):\n",
        "        q_pl = copy.deepcopy(playlists)\n",
        "        a_pl = copy.deepcopy(playlists)\n",
        "\n",
        "        for i in range(len(playlists)):\n",
        "            for del_col in del_cols:\n",
        "                q_pl[i][del_col] = []\n",
        "                if del_col == 'songs':\n",
        "                    a_pl[i][del_col] = a_pl[i][del_col][:100]\n",
        "                elif del_col == 'tags':\n",
        "                    a_pl[i][del_col] = a_pl[i][del_col][:10]\n",
        "\n",
        "            for col in mask_cols:\n",
        "                mask_len = len(playlists[i][col])\n",
        "                mask = np.full(mask_len, False)\n",
        "                mask[:mask_len//2] = True\n",
        "                np.random.shuffle(mask)\n",
        "\n",
        "                q_pl[i][col] = list(np.array(q_pl[i][col])[mask])\n",
        "                a_pl[i][col] = list(np.array(a_pl[i][col])[np.invert(mask)])\n",
        "\n",
        "        return q_pl, a_pl\n",
        "\n",
        "    def _mask_data(self, playlists):\n",
        "        playlists = copy.deepcopy(playlists)\n",
        "        tot = len(playlists)\n",
        "        song_only = playlists[:int(tot * 0.3)]\n",
        "        song_and_tags = playlists[int(tot * 0.3):int(tot * 0.8)]\n",
        "        tags_only = playlists[int(tot * 0.8):int(tot * 0.95)]\n",
        "        title_only = playlists[int(tot * 0.95):]\n",
        "\n",
        "        print(f\"Total: {len(playlists)}, \"\n",
        "              f\"Song only: {len(song_only)}, \"\n",
        "              f\"Song & Tags: {len(song_and_tags)}, \"\n",
        "              f\"Tags only: {len(tags_only)}, \"\n",
        "              f\"Title only: {len(title_only)}\")\n",
        "\n",
        "        song_q, song_a = self._mask(song_only, ['songs'], ['tags'])\n",
        "        songtag_q, songtag_a = self._mask(song_and_tags, ['songs', 'tags'], [])\n",
        "        tag_q, tag_a = self._mask(tags_only, ['tags'], ['songs'])\n",
        "        title_q, title_a = self._mask(title_only, [], ['songs', 'tags'])\n",
        "\n",
        "        q = song_q + songtag_q + tag_q + title_q\n",
        "        a = song_a + songtag_a + tag_a + title_a\n",
        "\n",
        "        shuffle_indices = np.arange(len(q))\n",
        "        np.random.shuffle(shuffle_indices)\n",
        "\n",
        "        q = list(np.array(q)[shuffle_indices])\n",
        "        a = list(np.array(a)[shuffle_indices])\n",
        "\n",
        "        return q, a\n",
        "\n",
        "    def run(self, fname):\n",
        "        random.seed(777)\n",
        "\n",
        "        print(\"Reading data...\\n\")\n",
        "        playlists = load_json(fname)\n",
        "        random.shuffle(playlists)\n",
        "        print(f\"Total playlists: {len(playlists)}\")\n",
        "\n",
        "        print(\"Splitting data...\")\n",
        "        train, val = self._split_data(playlists)\n",
        "\n",
        "        print(\"Original train...\")\n",
        "        write_json(train, \"orig/train.json\")\n",
        "        print(\"Original val...\")\n",
        "        write_json(val, \"orig/val.json\")\n",
        "\n",
        "        print(\"Masked val...\")\n",
        "        val_q, val_a = self._mask_data(val)\n",
        "        write_json(val_q, \"questions/val.json\")\n",
        "        write_json(val_a, \"answers/val.json\")"
      ],
      "execution_count": null,
      "outputs": []
    },
    {
      "cell_type": "code",
      "metadata": {
        "colab": {
          "base_uri": "https://localhost:8080/"
        },
        "outputId": "7b0cda79-7418-439f-eaf7-e35725343d6f",
        "id": "0fZ5zpepsK7M"
      },
      "source": [
        "split = ArenaSplitter()\n",
        "split.run(\"/content/drive/MyDrive/KUBIG 2021-2/추천시스템 프로젝트/멜론데이터/train.json\")"
      ],
      "execution_count": null,
      "outputs": [
        {
          "output_type": "stream",
          "name": "stdout",
          "text": [
            "Reading data...\n",
            "\n",
            "Total playlists: 115071\n",
            "Splitting data...\n",
            "Original train...\n",
            "Original val...\n",
            "Masked val...\n",
            "Total: 23015, Song only: 6904, Song & Tags: 11508, Tags only: 3452, Title only: 1151\n"
          ]
        }
      ]
    },
    {
      "cell_type": "code",
      "metadata": {
        "id": "6YPJf6_TsK7N"
      },
      "source": [
        "genre_gn_all = pd.read_json('/content/drive/MyDrive/KUBIG 2021-2/추천시스템 프로젝트/멜론데이터/genre_gn_all.json', typ = 'series')\n",
        "song_meta = pd.read_json(\"/content/drive/MyDrive/KUBIG 2021-2/추천시스템 프로젝트/멜론데이터/song_meta.json\")\n",
        "train = pd.read_json(\"/content/arena_data/orig/train.json\")\n",
        "test = pd.read_json(\"/content/arena_data/questions/val.json\")"
      ],
      "execution_count": null,
      "outputs": []
    },
    {
      "cell_type": "code",
      "source": [
        "train.head()"
      ],
      "metadata": {
        "colab": {
          "base_uri": "https://localhost:8080/",
          "height": 206
        },
        "outputId": "5d0ddea4-45a9-4dde-abe1-25ddc5a5c7e5",
        "id": "M2e-ZVNjsK7N"
      },
      "execution_count": null,
      "outputs": [
        {
          "output_type": "execute_result",
          "data": {
            "text/html": [
              "\n",
              "  <div id=\"df-cdfd6296-7c37-4912-9f57-1a7a874c1fab\">\n",
              "    <div class=\"colab-df-container\">\n",
              "      <div>\n",
              "<style scoped>\n",
              "    .dataframe tbody tr th:only-of-type {\n",
              "        vertical-align: middle;\n",
              "    }\n",
              "\n",
              "    .dataframe tbody tr th {\n",
              "        vertical-align: top;\n",
              "    }\n",
              "\n",
              "    .dataframe thead th {\n",
              "        text-align: right;\n",
              "    }\n",
              "</style>\n",
              "<table border=\"1\" class=\"dataframe\">\n",
              "  <thead>\n",
              "    <tr style=\"text-align: right;\">\n",
              "      <th></th>\n",
              "      <th>tags</th>\n",
              "      <th>id</th>\n",
              "      <th>plylst_title</th>\n",
              "      <th>songs</th>\n",
              "      <th>like_cnt</th>\n",
              "      <th>updt_date</th>\n",
              "    </tr>\n",
              "  </thead>\n",
              "  <tbody>\n",
              "    <tr>\n",
              "      <th>0</th>\n",
              "      <td>[힐링, 휴식, 밤, 새벽]</td>\n",
              "      <td>147668</td>\n",
              "      <td>To. 힘들고 지친 분들에게</td>\n",
              "      <td>[663185, 649626, 6855, 188486, 348451, 169945,...</td>\n",
              "      <td>12</td>\n",
              "      <td>2016-06-23 10:06:27.000</td>\n",
              "    </tr>\n",
              "    <tr>\n",
              "      <th>1</th>\n",
              "      <td>[팝]</td>\n",
              "      <td>50422</td>\n",
              "      <td>130807-7</td>\n",
              "      <td>[627035, 256438, 603324, 200889, 441319, 21689...</td>\n",
              "      <td>0</td>\n",
              "      <td>2013-08-15 13:17:11.000</td>\n",
              "    </tr>\n",
              "    <tr>\n",
              "      <th>2</th>\n",
              "      <td>[뉴에이지]</td>\n",
              "      <td>116432</td>\n",
              "      <td>숙면을 위한 슬픈 마음을 달래 줄 피아노</td>\n",
              "      <td>[129204, 369497, 649743, 344619, 110281, 63266...</td>\n",
              "      <td>23</td>\n",
              "      <td>2015-09-03 16:51:50.000</td>\n",
              "    </tr>\n",
              "    <tr>\n",
              "      <th>3</th>\n",
              "      <td>[하드락, 록스피릿, 댄스]</td>\n",
              "      <td>55076</td>\n",
              "      <td>당신을 하얗게 불태울 곡들</td>\n",
              "      <td>[677591, 420396, 104934, 119279, 251988, 58850...</td>\n",
              "      <td>1</td>\n",
              "      <td>2017-01-09 15:41:25.000</td>\n",
              "    </tr>\n",
              "    <tr>\n",
              "      <th>4</th>\n",
              "      <td>[힐링, 휴식, 기분전환]</td>\n",
              "      <td>125064</td>\n",
              "      <td>[스피커 필수 / HIPHOP] 듣고 있음 꿀렁꿀렁이고 싶은 힙합음악!</td>\n",
              "      <td>[704455, 694036, 508043, 154933, 57614, 645195...</td>\n",
              "      <td>715</td>\n",
              "      <td>2016-02-22 12:32:50.000</td>\n",
              "    </tr>\n",
              "  </tbody>\n",
              "</table>\n",
              "</div>\n",
              "      <button class=\"colab-df-convert\" onclick=\"convertToInteractive('df-cdfd6296-7c37-4912-9f57-1a7a874c1fab')\"\n",
              "              title=\"Convert this dataframe to an interactive table.\"\n",
              "              style=\"display:none;\">\n",
              "        \n",
              "  <svg xmlns=\"http://www.w3.org/2000/svg\" height=\"24px\"viewBox=\"0 0 24 24\"\n",
              "       width=\"24px\">\n",
              "    <path d=\"M0 0h24v24H0V0z\" fill=\"none\"/>\n",
              "    <path d=\"M18.56 5.44l.94 2.06.94-2.06 2.06-.94-2.06-.94-.94-2.06-.94 2.06-2.06.94zm-11 1L8.5 8.5l.94-2.06 2.06-.94-2.06-.94L8.5 2.5l-.94 2.06-2.06.94zm10 10l.94 2.06.94-2.06 2.06-.94-2.06-.94-.94-2.06-.94 2.06-2.06.94z\"/><path d=\"M17.41 7.96l-1.37-1.37c-.4-.4-.92-.59-1.43-.59-.52 0-1.04.2-1.43.59L10.3 9.45l-7.72 7.72c-.78.78-.78 2.05 0 2.83L4 21.41c.39.39.9.59 1.41.59.51 0 1.02-.2 1.41-.59l7.78-7.78 2.81-2.81c.8-.78.8-2.07 0-2.86zM5.41 20L4 18.59l7.72-7.72 1.47 1.35L5.41 20z\"/>\n",
              "  </svg>\n",
              "      </button>\n",
              "      \n",
              "  <style>\n",
              "    .colab-df-container {\n",
              "      display:flex;\n",
              "      flex-wrap:wrap;\n",
              "      gap: 12px;\n",
              "    }\n",
              "\n",
              "    .colab-df-convert {\n",
              "      background-color: #E8F0FE;\n",
              "      border: none;\n",
              "      border-radius: 50%;\n",
              "      cursor: pointer;\n",
              "      display: none;\n",
              "      fill: #1967D2;\n",
              "      height: 32px;\n",
              "      padding: 0 0 0 0;\n",
              "      width: 32px;\n",
              "    }\n",
              "\n",
              "    .colab-df-convert:hover {\n",
              "      background-color: #E2EBFA;\n",
              "      box-shadow: 0px 1px 2px rgba(60, 64, 67, 0.3), 0px 1px 3px 1px rgba(60, 64, 67, 0.15);\n",
              "      fill: #174EA6;\n",
              "    }\n",
              "\n",
              "    [theme=dark] .colab-df-convert {\n",
              "      background-color: #3B4455;\n",
              "      fill: #D2E3FC;\n",
              "    }\n",
              "\n",
              "    [theme=dark] .colab-df-convert:hover {\n",
              "      background-color: #434B5C;\n",
              "      box-shadow: 0px 1px 3px 1px rgba(0, 0, 0, 0.15);\n",
              "      filter: drop-shadow(0px 1px 2px rgba(0, 0, 0, 0.3));\n",
              "      fill: #FFFFFF;\n",
              "    }\n",
              "  </style>\n",
              "\n",
              "      <script>\n",
              "        const buttonEl =\n",
              "          document.querySelector('#df-cdfd6296-7c37-4912-9f57-1a7a874c1fab button.colab-df-convert');\n",
              "        buttonEl.style.display =\n",
              "          google.colab.kernel.accessAllowed ? 'block' : 'none';\n",
              "\n",
              "        async function convertToInteractive(key) {\n",
              "          const element = document.querySelector('#df-cdfd6296-7c37-4912-9f57-1a7a874c1fab');\n",
              "          const dataTable =\n",
              "            await google.colab.kernel.invokeFunction('convertToInteractive',\n",
              "                                                     [key], {});\n",
              "          if (!dataTable) return;\n",
              "\n",
              "          const docLinkHtml = 'Like what you see? Visit the ' +\n",
              "            '<a target=\"_blank\" href=https://colab.research.google.com/notebooks/data_table.ipynb>data table notebook</a>'\n",
              "            + ' to learn more about interactive tables.';\n",
              "          element.innerHTML = '';\n",
              "          dataTable['output_type'] = 'display_data';\n",
              "          await google.colab.output.renderOutput(dataTable, element);\n",
              "          const docLink = document.createElement('div');\n",
              "          docLink.innerHTML = docLinkHtml;\n",
              "          element.appendChild(docLink);\n",
              "        }\n",
              "      </script>\n",
              "    </div>\n",
              "  </div>\n",
              "  "
            ],
            "text/plain": [
              "              tags      id  ... like_cnt                updt_date\n",
              "0  [힐링, 휴식, 밤, 새벽]  147668  ...       12  2016-06-23 10:06:27.000\n",
              "1              [팝]   50422  ...        0  2013-08-15 13:17:11.000\n",
              "2           [뉴에이지]  116432  ...       23  2015-09-03 16:51:50.000\n",
              "3  [하드락, 록스피릿, 댄스]   55076  ...        1  2017-01-09 15:41:25.000\n",
              "4   [힐링, 휴식, 기분전환]  125064  ...      715  2016-02-22 12:32:50.000\n",
              "\n",
              "[5 rows x 6 columns]"
            ]
          },
          "metadata": {},
          "execution_count": 8
        }
      ]
    },
    {
      "cell_type": "code",
      "source": [
        "song_meta.head()"
      ],
      "metadata": {
        "colab": {
          "base_uri": "https://localhost:8080/",
          "height": 302
        },
        "id": "7CKcPETDui_-",
        "outputId": "5665af63-ccf4-4ee3-9db9-461d03d7f358"
      },
      "execution_count": null,
      "outputs": [
        {
          "output_type": "execute_result",
          "data": {
            "text/html": [
              "\n",
              "  <div id=\"df-95b3dfa3-8c09-4565-9d63-f464bfd88a17\">\n",
              "    <div class=\"colab-df-container\">\n",
              "      <div>\n",
              "<style scoped>\n",
              "    .dataframe tbody tr th:only-of-type {\n",
              "        vertical-align: middle;\n",
              "    }\n",
              "\n",
              "    .dataframe tbody tr th {\n",
              "        vertical-align: top;\n",
              "    }\n",
              "\n",
              "    .dataframe thead th {\n",
              "        text-align: right;\n",
              "    }\n",
              "</style>\n",
              "<table border=\"1\" class=\"dataframe\">\n",
              "  <thead>\n",
              "    <tr style=\"text-align: right;\">\n",
              "      <th></th>\n",
              "      <th>song_gn_dtl_gnr_basket</th>\n",
              "      <th>issue_date</th>\n",
              "      <th>album_name</th>\n",
              "      <th>album_id</th>\n",
              "      <th>artist_id_basket</th>\n",
              "      <th>song_name</th>\n",
              "      <th>song_gn_gnr_basket</th>\n",
              "      <th>artist_name_basket</th>\n",
              "      <th>id</th>\n",
              "    </tr>\n",
              "  </thead>\n",
              "  <tbody>\n",
              "    <tr>\n",
              "      <th>0</th>\n",
              "      <td>[GN0901]</td>\n",
              "      <td>20140512</td>\n",
              "      <td>불후의 명곡 - 7080 추억의 얄개시대 팝송베스트</td>\n",
              "      <td>2255639</td>\n",
              "      <td>[2727]</td>\n",
              "      <td>Feelings</td>\n",
              "      <td>[GN0900]</td>\n",
              "      <td>[Various Artists]</td>\n",
              "      <td>0</td>\n",
              "    </tr>\n",
              "    <tr>\n",
              "      <th>1</th>\n",
              "      <td>[GN1601, GN1606]</td>\n",
              "      <td>20080421</td>\n",
              "      <td>Bach : Partitas Nos. 2, 3 &amp; 4</td>\n",
              "      <td>376431</td>\n",
              "      <td>[29966]</td>\n",
              "      <td>Bach : Partita No. 4 In D Major, BWV 828 - II....</td>\n",
              "      <td>[GN1600]</td>\n",
              "      <td>[Murray Perahia]</td>\n",
              "      <td>1</td>\n",
              "    </tr>\n",
              "    <tr>\n",
              "      <th>2</th>\n",
              "      <td>[GN0901]</td>\n",
              "      <td>20180518</td>\n",
              "      <td>Hit</td>\n",
              "      <td>4698747</td>\n",
              "      <td>[3361]</td>\n",
              "      <td>Solsbury Hill (Remastered 2002)</td>\n",
              "      <td>[GN0900]</td>\n",
              "      <td>[Peter Gabriel]</td>\n",
              "      <td>2</td>\n",
              "    </tr>\n",
              "    <tr>\n",
              "      <th>3</th>\n",
              "      <td>[GN1102, GN1101]</td>\n",
              "      <td>20151016</td>\n",
              "      <td>Feeling Right (Everything Is Nice) (Feat. Popc...</td>\n",
              "      <td>2644882</td>\n",
              "      <td>[838543]</td>\n",
              "      <td>Feeling Right (Everything Is Nice) (Feat. Popc...</td>\n",
              "      <td>[GN1100]</td>\n",
              "      <td>[Matoma]</td>\n",
              "      <td>3</td>\n",
              "    </tr>\n",
              "    <tr>\n",
              "      <th>4</th>\n",
              "      <td>[GN1802, GN1801]</td>\n",
              "      <td>20110824</td>\n",
              "      <td>그남자 그여자</td>\n",
              "      <td>2008470</td>\n",
              "      <td>[560160]</td>\n",
              "      <td>그남자 그여자</td>\n",
              "      <td>[GN1800]</td>\n",
              "      <td>[Jude Law]</td>\n",
              "      <td>4</td>\n",
              "    </tr>\n",
              "  </tbody>\n",
              "</table>\n",
              "</div>\n",
              "      <button class=\"colab-df-convert\" onclick=\"convertToInteractive('df-95b3dfa3-8c09-4565-9d63-f464bfd88a17')\"\n",
              "              title=\"Convert this dataframe to an interactive table.\"\n",
              "              style=\"display:none;\">\n",
              "        \n",
              "  <svg xmlns=\"http://www.w3.org/2000/svg\" height=\"24px\"viewBox=\"0 0 24 24\"\n",
              "       width=\"24px\">\n",
              "    <path d=\"M0 0h24v24H0V0z\" fill=\"none\"/>\n",
              "    <path d=\"M18.56 5.44l.94 2.06.94-2.06 2.06-.94-2.06-.94-.94-2.06-.94 2.06-2.06.94zm-11 1L8.5 8.5l.94-2.06 2.06-.94-2.06-.94L8.5 2.5l-.94 2.06-2.06.94zm10 10l.94 2.06.94-2.06 2.06-.94-2.06-.94-.94-2.06-.94 2.06-2.06.94z\"/><path d=\"M17.41 7.96l-1.37-1.37c-.4-.4-.92-.59-1.43-.59-.52 0-1.04.2-1.43.59L10.3 9.45l-7.72 7.72c-.78.78-.78 2.05 0 2.83L4 21.41c.39.39.9.59 1.41.59.51 0 1.02-.2 1.41-.59l7.78-7.78 2.81-2.81c.8-.78.8-2.07 0-2.86zM5.41 20L4 18.59l7.72-7.72 1.47 1.35L5.41 20z\"/>\n",
              "  </svg>\n",
              "      </button>\n",
              "      \n",
              "  <style>\n",
              "    .colab-df-container {\n",
              "      display:flex;\n",
              "      flex-wrap:wrap;\n",
              "      gap: 12px;\n",
              "    }\n",
              "\n",
              "    .colab-df-convert {\n",
              "      background-color: #E8F0FE;\n",
              "      border: none;\n",
              "      border-radius: 50%;\n",
              "      cursor: pointer;\n",
              "      display: none;\n",
              "      fill: #1967D2;\n",
              "      height: 32px;\n",
              "      padding: 0 0 0 0;\n",
              "      width: 32px;\n",
              "    }\n",
              "\n",
              "    .colab-df-convert:hover {\n",
              "      background-color: #E2EBFA;\n",
              "      box-shadow: 0px 1px 2px rgba(60, 64, 67, 0.3), 0px 1px 3px 1px rgba(60, 64, 67, 0.15);\n",
              "      fill: #174EA6;\n",
              "    }\n",
              "\n",
              "    [theme=dark] .colab-df-convert {\n",
              "      background-color: #3B4455;\n",
              "      fill: #D2E3FC;\n",
              "    }\n",
              "\n",
              "    [theme=dark] .colab-df-convert:hover {\n",
              "      background-color: #434B5C;\n",
              "      box-shadow: 0px 1px 3px 1px rgba(0, 0, 0, 0.15);\n",
              "      filter: drop-shadow(0px 1px 2px rgba(0, 0, 0, 0.3));\n",
              "      fill: #FFFFFF;\n",
              "    }\n",
              "  </style>\n",
              "\n",
              "      <script>\n",
              "        const buttonEl =\n",
              "          document.querySelector('#df-95b3dfa3-8c09-4565-9d63-f464bfd88a17 button.colab-df-convert');\n",
              "        buttonEl.style.display =\n",
              "          google.colab.kernel.accessAllowed ? 'block' : 'none';\n",
              "\n",
              "        async function convertToInteractive(key) {\n",
              "          const element = document.querySelector('#df-95b3dfa3-8c09-4565-9d63-f464bfd88a17');\n",
              "          const dataTable =\n",
              "            await google.colab.kernel.invokeFunction('convertToInteractive',\n",
              "                                                     [key], {});\n",
              "          if (!dataTable) return;\n",
              "\n",
              "          const docLinkHtml = 'Like what you see? Visit the ' +\n",
              "            '<a target=\"_blank\" href=https://colab.research.google.com/notebooks/data_table.ipynb>data table notebook</a>'\n",
              "            + ' to learn more about interactive tables.';\n",
              "          element.innerHTML = '';\n",
              "          dataTable['output_type'] = 'display_data';\n",
              "          await google.colab.output.renderOutput(dataTable, element);\n",
              "          const docLink = document.createElement('div');\n",
              "          docLink.innerHTML = docLinkHtml;\n",
              "          element.appendChild(docLink);\n",
              "        }\n",
              "      </script>\n",
              "    </div>\n",
              "  </div>\n",
              "  "
            ],
            "text/plain": [
              "  song_gn_dtl_gnr_basket  issue_date  ... artist_name_basket  id\n",
              "0               [GN0901]    20140512  ...  [Various Artists]   0\n",
              "1       [GN1601, GN1606]    20080421  ...   [Murray Perahia]   1\n",
              "2               [GN0901]    20180518  ...    [Peter Gabriel]   2\n",
              "3       [GN1102, GN1101]    20151016  ...           [Matoma]   3\n",
              "4       [GN1802, GN1801]    20110824  ...         [Jude Law]   4\n",
              "\n",
              "[5 rows x 9 columns]"
            ]
          },
          "metadata": {},
          "execution_count": 9
        }
      ]
    },
    {
      "cell_type": "code",
      "metadata": {
        "id": "06OdGpaMCRdk"
      },
      "source": [
        "train['istrain'] = 1\n",
        "test['istrain'] = 0\n",
        "\n",
        "n_train = len(train)\n",
        "n_test = len(test)\n",
        "\n",
        "# train + test\n",
        "plylst = pd.concat([train, test], ignore_index=True)\n",
        "\n",
        "# playlist id\n",
        "plylst[\"nid\"] = range(n_train + n_test)\n",
        "\n",
        "# id <-> nid\n",
        "plylst_id_nid = dict(zip(plylst[\"id\"],plylst[\"nid\"]))\n",
        "plylst_nid_id = dict(zip(plylst[\"nid\"],plylst[\"id\"]))"
      ],
      "execution_count": null,
      "outputs": []
    },
    {
      "cell_type": "code",
      "source": [
        "plylst.head()"
      ],
      "metadata": {
        "colab": {
          "base_uri": "https://localhost:8080/",
          "height": 206
        },
        "id": "kiGZ17xzClvg",
        "outputId": "8974f19e-bd66-4091-e902-898ed117742e"
      },
      "execution_count": null,
      "outputs": [
        {
          "output_type": "execute_result",
          "data": {
            "text/html": [
              "\n",
              "  <div id=\"df-ca0f06d8-66bc-4a8b-b47b-0939fafafe82\">\n",
              "    <div class=\"colab-df-container\">\n",
              "      <div>\n",
              "<style scoped>\n",
              "    .dataframe tbody tr th:only-of-type {\n",
              "        vertical-align: middle;\n",
              "    }\n",
              "\n",
              "    .dataframe tbody tr th {\n",
              "        vertical-align: top;\n",
              "    }\n",
              "\n",
              "    .dataframe thead th {\n",
              "        text-align: right;\n",
              "    }\n",
              "</style>\n",
              "<table border=\"1\" class=\"dataframe\">\n",
              "  <thead>\n",
              "    <tr style=\"text-align: right;\">\n",
              "      <th></th>\n",
              "      <th>tags</th>\n",
              "      <th>id</th>\n",
              "      <th>plylst_title</th>\n",
              "      <th>songs</th>\n",
              "      <th>like_cnt</th>\n",
              "      <th>updt_date</th>\n",
              "      <th>istrain</th>\n",
              "      <th>nid</th>\n",
              "    </tr>\n",
              "  </thead>\n",
              "  <tbody>\n",
              "    <tr>\n",
              "      <th>0</th>\n",
              "      <td>[힐링, 휴식, 밤, 새벽]</td>\n",
              "      <td>147668</td>\n",
              "      <td>To. 힘들고 지친 분들에게</td>\n",
              "      <td>[663185, 649626, 6855, 188486, 348451, 169945,...</td>\n",
              "      <td>12</td>\n",
              "      <td>2016-06-23 10:06:27.000</td>\n",
              "      <td>1</td>\n",
              "      <td>0</td>\n",
              "    </tr>\n",
              "    <tr>\n",
              "      <th>1</th>\n",
              "      <td>[팝]</td>\n",
              "      <td>50422</td>\n",
              "      <td>130807-7</td>\n",
              "      <td>[627035, 256438, 603324, 200889, 441319, 21689...</td>\n",
              "      <td>0</td>\n",
              "      <td>2013-08-15 13:17:11.000</td>\n",
              "      <td>1</td>\n",
              "      <td>1</td>\n",
              "    </tr>\n",
              "    <tr>\n",
              "      <th>2</th>\n",
              "      <td>[뉴에이지]</td>\n",
              "      <td>116432</td>\n",
              "      <td>숙면을 위한 슬픈 마음을 달래 줄 피아노</td>\n",
              "      <td>[129204, 369497, 649743, 344619, 110281, 63266...</td>\n",
              "      <td>23</td>\n",
              "      <td>2015-09-03 16:51:50.000</td>\n",
              "      <td>1</td>\n",
              "      <td>2</td>\n",
              "    </tr>\n",
              "    <tr>\n",
              "      <th>3</th>\n",
              "      <td>[하드락, 록스피릿, 댄스]</td>\n",
              "      <td>55076</td>\n",
              "      <td>당신을 하얗게 불태울 곡들</td>\n",
              "      <td>[677591, 420396, 104934, 119279, 251988, 58850...</td>\n",
              "      <td>1</td>\n",
              "      <td>2017-01-09 15:41:25.000</td>\n",
              "      <td>1</td>\n",
              "      <td>3</td>\n",
              "    </tr>\n",
              "    <tr>\n",
              "      <th>4</th>\n",
              "      <td>[힐링, 휴식, 기분전환]</td>\n",
              "      <td>125064</td>\n",
              "      <td>[스피커 필수 / HIPHOP] 듣고 있음 꿀렁꿀렁이고 싶은 힙합음악!</td>\n",
              "      <td>[704455, 694036, 508043, 154933, 57614, 645195...</td>\n",
              "      <td>715</td>\n",
              "      <td>2016-02-22 12:32:50.000</td>\n",
              "      <td>1</td>\n",
              "      <td>4</td>\n",
              "    </tr>\n",
              "  </tbody>\n",
              "</table>\n",
              "</div>\n",
              "      <button class=\"colab-df-convert\" onclick=\"convertToInteractive('df-ca0f06d8-66bc-4a8b-b47b-0939fafafe82')\"\n",
              "              title=\"Convert this dataframe to an interactive table.\"\n",
              "              style=\"display:none;\">\n",
              "        \n",
              "  <svg xmlns=\"http://www.w3.org/2000/svg\" height=\"24px\"viewBox=\"0 0 24 24\"\n",
              "       width=\"24px\">\n",
              "    <path d=\"M0 0h24v24H0V0z\" fill=\"none\"/>\n",
              "    <path d=\"M18.56 5.44l.94 2.06.94-2.06 2.06-.94-2.06-.94-.94-2.06-.94 2.06-2.06.94zm-11 1L8.5 8.5l.94-2.06 2.06-.94-2.06-.94L8.5 2.5l-.94 2.06-2.06.94zm10 10l.94 2.06.94-2.06 2.06-.94-2.06-.94-.94-2.06-.94 2.06-2.06.94z\"/><path d=\"M17.41 7.96l-1.37-1.37c-.4-.4-.92-.59-1.43-.59-.52 0-1.04.2-1.43.59L10.3 9.45l-7.72 7.72c-.78.78-.78 2.05 0 2.83L4 21.41c.39.39.9.59 1.41.59.51 0 1.02-.2 1.41-.59l7.78-7.78 2.81-2.81c.8-.78.8-2.07 0-2.86zM5.41 20L4 18.59l7.72-7.72 1.47 1.35L5.41 20z\"/>\n",
              "  </svg>\n",
              "      </button>\n",
              "      \n",
              "  <style>\n",
              "    .colab-df-container {\n",
              "      display:flex;\n",
              "      flex-wrap:wrap;\n",
              "      gap: 12px;\n",
              "    }\n",
              "\n",
              "    .colab-df-convert {\n",
              "      background-color: #E8F0FE;\n",
              "      border: none;\n",
              "      border-radius: 50%;\n",
              "      cursor: pointer;\n",
              "      display: none;\n",
              "      fill: #1967D2;\n",
              "      height: 32px;\n",
              "      padding: 0 0 0 0;\n",
              "      width: 32px;\n",
              "    }\n",
              "\n",
              "    .colab-df-convert:hover {\n",
              "      background-color: #E2EBFA;\n",
              "      box-shadow: 0px 1px 2px rgba(60, 64, 67, 0.3), 0px 1px 3px 1px rgba(60, 64, 67, 0.15);\n",
              "      fill: #174EA6;\n",
              "    }\n",
              "\n",
              "    [theme=dark] .colab-df-convert {\n",
              "      background-color: #3B4455;\n",
              "      fill: #D2E3FC;\n",
              "    }\n",
              "\n",
              "    [theme=dark] .colab-df-convert:hover {\n",
              "      background-color: #434B5C;\n",
              "      box-shadow: 0px 1px 3px 1px rgba(0, 0, 0, 0.15);\n",
              "      filter: drop-shadow(0px 1px 2px rgba(0, 0, 0, 0.3));\n",
              "      fill: #FFFFFF;\n",
              "    }\n",
              "  </style>\n",
              "\n",
              "      <script>\n",
              "        const buttonEl =\n",
              "          document.querySelector('#df-ca0f06d8-66bc-4a8b-b47b-0939fafafe82 button.colab-df-convert');\n",
              "        buttonEl.style.display =\n",
              "          google.colab.kernel.accessAllowed ? 'block' : 'none';\n",
              "\n",
              "        async function convertToInteractive(key) {\n",
              "          const element = document.querySelector('#df-ca0f06d8-66bc-4a8b-b47b-0939fafafe82');\n",
              "          const dataTable =\n",
              "            await google.colab.kernel.invokeFunction('convertToInteractive',\n",
              "                                                     [key], {});\n",
              "          if (!dataTable) return;\n",
              "\n",
              "          const docLinkHtml = 'Like what you see? Visit the ' +\n",
              "            '<a target=\"_blank\" href=https://colab.research.google.com/notebooks/data_table.ipynb>data table notebook</a>'\n",
              "            + ' to learn more about interactive tables.';\n",
              "          element.innerHTML = '';\n",
              "          dataTable['output_type'] = 'display_data';\n",
              "          await google.colab.output.renderOutput(dataTable, element);\n",
              "          const docLink = document.createElement('div');\n",
              "          docLink.innerHTML = docLinkHtml;\n",
              "          element.appendChild(docLink);\n",
              "        }\n",
              "      </script>\n",
              "    </div>\n",
              "  </div>\n",
              "  "
            ],
            "text/plain": [
              "              tags      id  ... istrain nid\n",
              "0  [힐링, 휴식, 밤, 새벽]  147668  ...       1   0\n",
              "1              [팝]   50422  ...       1   1\n",
              "2           [뉴에이지]  116432  ...       1   2\n",
              "3  [하드락, 록스피릿, 댄스]   55076  ...       1   3\n",
              "4   [힐링, 휴식, 기분전환]  125064  ...       1   4\n",
              "\n",
              "[5 rows x 8 columns]"
            ]
          },
          "metadata": {},
          "execution_count": 29
        }
      ]
    },
    {
      "cell_type": "code",
      "source": [
        "plylst.dtypes"
      ],
      "metadata": {
        "colab": {
          "base_uri": "https://localhost:8080/"
        },
        "id": "_xVRxLD-Gse0",
        "outputId": "d3acd926-22e7-4ed6-ba2e-5594f9633063"
      },
      "execution_count": null,
      "outputs": [
        {
          "output_type": "execute_result",
          "data": {
            "text/plain": [
              "tags            object\n",
              "id               int64\n",
              "plylst_title    object\n",
              "songs           object\n",
              "like_cnt         int64\n",
              "updt_date       object\n",
              "istrain          int64\n",
              "nid              int64\n",
              "dtype: object"
            ]
          },
          "metadata": {},
          "execution_count": 28
        }
      ]
    },
    {
      "cell_type": "markdown",
      "source": [
        "# 플레이리스트별 장르 데이터(곡 메타 데이터) 매핑"
      ],
      "metadata": {
        "id": "xPvc-pk8r-Do"
      }
    },
    {
      "cell_type": "code",
      "metadata": {
        "ExecuteTime": {
          "end_time": "2020-04-26T23:00:41.294122Z",
          "start_time": "2020-04-26T23:00:41.289083Z"
        },
        "id": "XzSJmv8XXWC8"
      },
      "source": [
        "# 장르코드 : gnr_code, 장르명 : gnr_name\n",
        "genre_gn_all = pd.DataFrame(genre_gn_all, columns = ['gnr_name']).reset_index().rename(columns = {'index' : 'gnr_code'})"
      ],
      "execution_count": null,
      "outputs": []
    },
    {
      "cell_type": "code",
      "source": [
        "genre_gn_all"
      ],
      "metadata": {
        "colab": {
          "base_uri": "https://localhost:8080/"
        },
        "id": "IWbtxHrUuvLP",
        "outputId": "f0a4ac92-46c2-4b45-dfff-803af62a364f"
      },
      "execution_count": null,
      "outputs": [
        {
          "output_type": "execute_result",
          "data": {
            "text/html": [
              "\n",
              "  <div id=\"df-456118c9-5b82-4047-aefb-4952408702bc\">\n",
              "    <div class=\"colab-df-container\">\n",
              "      <div>\n",
              "<style scoped>\n",
              "    .dataframe tbody tr th:only-of-type {\n",
              "        vertical-align: middle;\n",
              "    }\n",
              "\n",
              "    .dataframe tbody tr th {\n",
              "        vertical-align: top;\n",
              "    }\n",
              "\n",
              "    .dataframe thead th {\n",
              "        text-align: right;\n",
              "    }\n",
              "</style>\n",
              "<table border=\"1\" class=\"dataframe\">\n",
              "  <thead>\n",
              "    <tr style=\"text-align: right;\">\n",
              "      <th></th>\n",
              "      <th>gnr_code</th>\n",
              "      <th>gnr_name</th>\n",
              "    </tr>\n",
              "  </thead>\n",
              "  <tbody>\n",
              "    <tr>\n",
              "      <th>0</th>\n",
              "      <td>GN0100</td>\n",
              "      <td>발라드</td>\n",
              "    </tr>\n",
              "    <tr>\n",
              "      <th>1</th>\n",
              "      <td>GN0101</td>\n",
              "      <td>세부장르전체</td>\n",
              "    </tr>\n",
              "    <tr>\n",
              "      <th>2</th>\n",
              "      <td>GN0102</td>\n",
              "      <td>'80</td>\n",
              "    </tr>\n",
              "    <tr>\n",
              "      <th>3</th>\n",
              "      <td>GN0103</td>\n",
              "      <td>'90</td>\n",
              "    </tr>\n",
              "    <tr>\n",
              "      <th>4</th>\n",
              "      <td>GN0104</td>\n",
              "      <td>'00</td>\n",
              "    </tr>\n",
              "    <tr>\n",
              "      <th>...</th>\n",
              "      <td>...</td>\n",
              "      <td>...</td>\n",
              "    </tr>\n",
              "    <tr>\n",
              "      <th>249</th>\n",
              "      <td>GN2900</td>\n",
              "      <td>뮤지컬</td>\n",
              "    </tr>\n",
              "    <tr>\n",
              "      <th>250</th>\n",
              "      <td>GN2901</td>\n",
              "      <td>세부장르전체</td>\n",
              "    </tr>\n",
              "    <tr>\n",
              "      <th>251</th>\n",
              "      <td>GN2902</td>\n",
              "      <td>국내뮤지컬</td>\n",
              "    </tr>\n",
              "    <tr>\n",
              "      <th>252</th>\n",
              "      <td>GN2903</td>\n",
              "      <td>국외뮤지컬</td>\n",
              "    </tr>\n",
              "    <tr>\n",
              "      <th>253</th>\n",
              "      <td>GN3000</td>\n",
              "      <td>크리스마스</td>\n",
              "    </tr>\n",
              "  </tbody>\n",
              "</table>\n",
              "<p>254 rows × 2 columns</p>\n",
              "</div>\n",
              "      <button class=\"colab-df-convert\" onclick=\"convertToInteractive('df-456118c9-5b82-4047-aefb-4952408702bc')\"\n",
              "              title=\"Convert this dataframe to an interactive table.\"\n",
              "              style=\"display:none;\">\n",
              "        \n",
              "  <svg xmlns=\"http://www.w3.org/2000/svg\" height=\"24px\"viewBox=\"0 0 24 24\"\n",
              "       width=\"24px\">\n",
              "    <path d=\"M0 0h24v24H0V0z\" fill=\"none\"/>\n",
              "    <path d=\"M18.56 5.44l.94 2.06.94-2.06 2.06-.94-2.06-.94-.94-2.06-.94 2.06-2.06.94zm-11 1L8.5 8.5l.94-2.06 2.06-.94-2.06-.94L8.5 2.5l-.94 2.06-2.06.94zm10 10l.94 2.06.94-2.06 2.06-.94-2.06-.94-.94-2.06-.94 2.06-2.06.94z\"/><path d=\"M17.41 7.96l-1.37-1.37c-.4-.4-.92-.59-1.43-.59-.52 0-1.04.2-1.43.59L10.3 9.45l-7.72 7.72c-.78.78-.78 2.05 0 2.83L4 21.41c.39.39.9.59 1.41.59.51 0 1.02-.2 1.41-.59l7.78-7.78 2.81-2.81c.8-.78.8-2.07 0-2.86zM5.41 20L4 18.59l7.72-7.72 1.47 1.35L5.41 20z\"/>\n",
              "  </svg>\n",
              "      </button>\n",
              "      \n",
              "  <style>\n",
              "    .colab-df-container {\n",
              "      display:flex;\n",
              "      flex-wrap:wrap;\n",
              "      gap: 12px;\n",
              "    }\n",
              "\n",
              "    .colab-df-convert {\n",
              "      background-color: #E8F0FE;\n",
              "      border: none;\n",
              "      border-radius: 50%;\n",
              "      cursor: pointer;\n",
              "      display: none;\n",
              "      fill: #1967D2;\n",
              "      height: 32px;\n",
              "      padding: 0 0 0 0;\n",
              "      width: 32px;\n",
              "    }\n",
              "\n",
              "    .colab-df-convert:hover {\n",
              "      background-color: #E2EBFA;\n",
              "      box-shadow: 0px 1px 2px rgba(60, 64, 67, 0.3), 0px 1px 3px 1px rgba(60, 64, 67, 0.15);\n",
              "      fill: #174EA6;\n",
              "    }\n",
              "\n",
              "    [theme=dark] .colab-df-convert {\n",
              "      background-color: #3B4455;\n",
              "      fill: #D2E3FC;\n",
              "    }\n",
              "\n",
              "    [theme=dark] .colab-df-convert:hover {\n",
              "      background-color: #434B5C;\n",
              "      box-shadow: 0px 1px 3px 1px rgba(0, 0, 0, 0.15);\n",
              "      filter: drop-shadow(0px 1px 2px rgba(0, 0, 0, 0.3));\n",
              "      fill: #FFFFFF;\n",
              "    }\n",
              "  </style>\n",
              "\n",
              "      <script>\n",
              "        const buttonEl =\n",
              "          document.querySelector('#df-456118c9-5b82-4047-aefb-4952408702bc button.colab-df-convert');\n",
              "        buttonEl.style.display =\n",
              "          google.colab.kernel.accessAllowed ? 'block' : 'none';\n",
              "\n",
              "        async function convertToInteractive(key) {\n",
              "          const element = document.querySelector('#df-456118c9-5b82-4047-aefb-4952408702bc');\n",
              "          const dataTable =\n",
              "            await google.colab.kernel.invokeFunction('convertToInteractive',\n",
              "                                                     [key], {});\n",
              "          if (!dataTable) return;\n",
              "\n",
              "          const docLinkHtml = 'Like what you see? Visit the ' +\n",
              "            '<a target=\"_blank\" href=https://colab.research.google.com/notebooks/data_table.ipynb>data table notebook</a>'\n",
              "            + ' to learn more about interactive tables.';\n",
              "          element.innerHTML = '';\n",
              "          dataTable['output_type'] = 'display_data';\n",
              "          await google.colab.output.renderOutput(dataTable, element);\n",
              "          const docLink = document.createElement('div');\n",
              "          docLink.innerHTML = docLinkHtml;\n",
              "          element.appendChild(docLink);\n",
              "        }\n",
              "      </script>\n",
              "    </div>\n",
              "  </div>\n",
              "  "
            ],
            "text/plain": [
              "    gnr_code gnr_name\n",
              "0     GN0100      발라드\n",
              "1     GN0101   세부장르전체\n",
              "2     GN0102      '80\n",
              "3     GN0103      '90\n",
              "4     GN0104      '00\n",
              "..       ...      ...\n",
              "249   GN2900      뮤지컬\n",
              "250   GN2901   세부장르전체\n",
              "251   GN2902    국내뮤지컬\n",
              "252   GN2903    국외뮤지컬\n",
              "253   GN3000    크리스마스\n",
              "\n",
              "[254 rows x 2 columns]"
            ]
          },
          "metadata": {},
          "execution_count": 12
        }
      ]
    },
    {
      "cell_type": "code",
      "source": [
        "big_gnr_code = genre_gn_all[genre_gn_all['gnr_code'].str[-2:] == '00'].reset_index(drop=True)\n",
        "big_gnr_code"
      ],
      "metadata": {
        "colab": {
          "base_uri": "https://localhost:8080/"
        },
        "id": "h1ltGSS9u9zF",
        "outputId": "b276f0e2-7b2e-4d46-d0c5-b675e4462f66"
      },
      "execution_count": null,
      "outputs": [
        {
          "output_type": "execute_result",
          "data": {
            "text/html": [
              "\n",
              "  <div id=\"df-aeddc752-e67a-4e01-b9c1-f3994f57c22d\">\n",
              "    <div class=\"colab-df-container\">\n",
              "      <div>\n",
              "<style scoped>\n",
              "    .dataframe tbody tr th:only-of-type {\n",
              "        vertical-align: middle;\n",
              "    }\n",
              "\n",
              "    .dataframe tbody tr th {\n",
              "        vertical-align: top;\n",
              "    }\n",
              "\n",
              "    .dataframe thead th {\n",
              "        text-align: right;\n",
              "    }\n",
              "</style>\n",
              "<table border=\"1\" class=\"dataframe\">\n",
              "  <thead>\n",
              "    <tr style=\"text-align: right;\">\n",
              "      <th></th>\n",
              "      <th>gnr_code</th>\n",
              "      <th>gnr_name</th>\n",
              "    </tr>\n",
              "  </thead>\n",
              "  <tbody>\n",
              "    <tr>\n",
              "      <th>0</th>\n",
              "      <td>GN0100</td>\n",
              "      <td>발라드</td>\n",
              "    </tr>\n",
              "    <tr>\n",
              "      <th>1</th>\n",
              "      <td>GN0200</td>\n",
              "      <td>댄스</td>\n",
              "    </tr>\n",
              "    <tr>\n",
              "      <th>2</th>\n",
              "      <td>GN0300</td>\n",
              "      <td>랩/힙합</td>\n",
              "    </tr>\n",
              "    <tr>\n",
              "      <th>3</th>\n",
              "      <td>GN0400</td>\n",
              "      <td>R&amp;B/Soul</td>\n",
              "    </tr>\n",
              "    <tr>\n",
              "      <th>4</th>\n",
              "      <td>GN0500</td>\n",
              "      <td>인디음악</td>\n",
              "    </tr>\n",
              "    <tr>\n",
              "      <th>5</th>\n",
              "      <td>GN0600</td>\n",
              "      <td>록/메탈</td>\n",
              "    </tr>\n",
              "    <tr>\n",
              "      <th>6</th>\n",
              "      <td>GN0700</td>\n",
              "      <td>성인가요</td>\n",
              "    </tr>\n",
              "    <tr>\n",
              "      <th>7</th>\n",
              "      <td>GN0800</td>\n",
              "      <td>포크/블루스</td>\n",
              "    </tr>\n",
              "    <tr>\n",
              "      <th>8</th>\n",
              "      <td>GN0900</td>\n",
              "      <td>POP</td>\n",
              "    </tr>\n",
              "    <tr>\n",
              "      <th>9</th>\n",
              "      <td>GN1000</td>\n",
              "      <td>록/메탈</td>\n",
              "    </tr>\n",
              "    <tr>\n",
              "      <th>10</th>\n",
              "      <td>GN1100</td>\n",
              "      <td>일렉트로니카</td>\n",
              "    </tr>\n",
              "    <tr>\n",
              "      <th>11</th>\n",
              "      <td>GN1200</td>\n",
              "      <td>랩/힙합</td>\n",
              "    </tr>\n",
              "    <tr>\n",
              "      <th>12</th>\n",
              "      <td>GN1300</td>\n",
              "      <td>R&amp;B/Soul</td>\n",
              "    </tr>\n",
              "    <tr>\n",
              "      <th>13</th>\n",
              "      <td>GN1400</td>\n",
              "      <td>포크/블루스/컨트리</td>\n",
              "    </tr>\n",
              "    <tr>\n",
              "      <th>14</th>\n",
              "      <td>GN1500</td>\n",
              "      <td>OST</td>\n",
              "    </tr>\n",
              "    <tr>\n",
              "      <th>15</th>\n",
              "      <td>GN1600</td>\n",
              "      <td>클래식</td>\n",
              "    </tr>\n",
              "    <tr>\n",
              "      <th>16</th>\n",
              "      <td>GN1700</td>\n",
              "      <td>재즈</td>\n",
              "    </tr>\n",
              "    <tr>\n",
              "      <th>17</th>\n",
              "      <td>GN1800</td>\n",
              "      <td>뉴에이지</td>\n",
              "    </tr>\n",
              "    <tr>\n",
              "      <th>18</th>\n",
              "      <td>GN1900</td>\n",
              "      <td>J-POP</td>\n",
              "    </tr>\n",
              "    <tr>\n",
              "      <th>19</th>\n",
              "      <td>GN2000</td>\n",
              "      <td>월드뮤직</td>\n",
              "    </tr>\n",
              "    <tr>\n",
              "      <th>20</th>\n",
              "      <td>GN2100</td>\n",
              "      <td>CCM</td>\n",
              "    </tr>\n",
              "    <tr>\n",
              "      <th>21</th>\n",
              "      <td>GN2200</td>\n",
              "      <td>어린이/태교</td>\n",
              "    </tr>\n",
              "    <tr>\n",
              "      <th>22</th>\n",
              "      <td>GN2300</td>\n",
              "      <td>종교음악</td>\n",
              "    </tr>\n",
              "    <tr>\n",
              "      <th>23</th>\n",
              "      <td>GN2400</td>\n",
              "      <td>국악</td>\n",
              "    </tr>\n",
              "    <tr>\n",
              "      <th>24</th>\n",
              "      <td>GN2500</td>\n",
              "      <td>아이돌</td>\n",
              "    </tr>\n",
              "    <tr>\n",
              "      <th>25</th>\n",
              "      <td>GN2600</td>\n",
              "      <td>일렉트로니카</td>\n",
              "    </tr>\n",
              "    <tr>\n",
              "      <th>26</th>\n",
              "      <td>GN2700</td>\n",
              "      <td>EDM</td>\n",
              "    </tr>\n",
              "    <tr>\n",
              "      <th>27</th>\n",
              "      <td>GN2800</td>\n",
              "      <td>뮤직테라피</td>\n",
              "    </tr>\n",
              "    <tr>\n",
              "      <th>28</th>\n",
              "      <td>GN2900</td>\n",
              "      <td>뮤지컬</td>\n",
              "    </tr>\n",
              "    <tr>\n",
              "      <th>29</th>\n",
              "      <td>GN3000</td>\n",
              "      <td>크리스마스</td>\n",
              "    </tr>\n",
              "  </tbody>\n",
              "</table>\n",
              "</div>\n",
              "      <button class=\"colab-df-convert\" onclick=\"convertToInteractive('df-aeddc752-e67a-4e01-b9c1-f3994f57c22d')\"\n",
              "              title=\"Convert this dataframe to an interactive table.\"\n",
              "              style=\"display:none;\">\n",
              "        \n",
              "  <svg xmlns=\"http://www.w3.org/2000/svg\" height=\"24px\"viewBox=\"0 0 24 24\"\n",
              "       width=\"24px\">\n",
              "    <path d=\"M0 0h24v24H0V0z\" fill=\"none\"/>\n",
              "    <path d=\"M18.56 5.44l.94 2.06.94-2.06 2.06-.94-2.06-.94-.94-2.06-.94 2.06-2.06.94zm-11 1L8.5 8.5l.94-2.06 2.06-.94-2.06-.94L8.5 2.5l-.94 2.06-2.06.94zm10 10l.94 2.06.94-2.06 2.06-.94-2.06-.94-.94-2.06-.94 2.06-2.06.94z\"/><path d=\"M17.41 7.96l-1.37-1.37c-.4-.4-.92-.59-1.43-.59-.52 0-1.04.2-1.43.59L10.3 9.45l-7.72 7.72c-.78.78-.78 2.05 0 2.83L4 21.41c.39.39.9.59 1.41.59.51 0 1.02-.2 1.41-.59l7.78-7.78 2.81-2.81c.8-.78.8-2.07 0-2.86zM5.41 20L4 18.59l7.72-7.72 1.47 1.35L5.41 20z\"/>\n",
              "  </svg>\n",
              "      </button>\n",
              "      \n",
              "  <style>\n",
              "    .colab-df-container {\n",
              "      display:flex;\n",
              "      flex-wrap:wrap;\n",
              "      gap: 12px;\n",
              "    }\n",
              "\n",
              "    .colab-df-convert {\n",
              "      background-color: #E8F0FE;\n",
              "      border: none;\n",
              "      border-radius: 50%;\n",
              "      cursor: pointer;\n",
              "      display: none;\n",
              "      fill: #1967D2;\n",
              "      height: 32px;\n",
              "      padding: 0 0 0 0;\n",
              "      width: 32px;\n",
              "    }\n",
              "\n",
              "    .colab-df-convert:hover {\n",
              "      background-color: #E2EBFA;\n",
              "      box-shadow: 0px 1px 2px rgba(60, 64, 67, 0.3), 0px 1px 3px 1px rgba(60, 64, 67, 0.15);\n",
              "      fill: #174EA6;\n",
              "    }\n",
              "\n",
              "    [theme=dark] .colab-df-convert {\n",
              "      background-color: #3B4455;\n",
              "      fill: #D2E3FC;\n",
              "    }\n",
              "\n",
              "    [theme=dark] .colab-df-convert:hover {\n",
              "      background-color: #434B5C;\n",
              "      box-shadow: 0px 1px 3px 1px rgba(0, 0, 0, 0.15);\n",
              "      filter: drop-shadow(0px 1px 2px rgba(0, 0, 0, 0.3));\n",
              "      fill: #FFFFFF;\n",
              "    }\n",
              "  </style>\n",
              "\n",
              "      <script>\n",
              "        const buttonEl =\n",
              "          document.querySelector('#df-aeddc752-e67a-4e01-b9c1-f3994f57c22d button.colab-df-convert');\n",
              "        buttonEl.style.display =\n",
              "          google.colab.kernel.accessAllowed ? 'block' : 'none';\n",
              "\n",
              "        async function convertToInteractive(key) {\n",
              "          const element = document.querySelector('#df-aeddc752-e67a-4e01-b9c1-f3994f57c22d');\n",
              "          const dataTable =\n",
              "            await google.colab.kernel.invokeFunction('convertToInteractive',\n",
              "                                                     [key], {});\n",
              "          if (!dataTable) return;\n",
              "\n",
              "          const docLinkHtml = 'Like what you see? Visit the ' +\n",
              "            '<a target=\"_blank\" href=https://colab.research.google.com/notebooks/data_table.ipynb>data table notebook</a>'\n",
              "            + ' to learn more about interactive tables.';\n",
              "          element.innerHTML = '';\n",
              "          dataTable['output_type'] = 'display_data';\n",
              "          await google.colab.output.renderOutput(dataTable, element);\n",
              "          const docLink = document.createElement('div');\n",
              "          docLink.innerHTML = docLinkHtml;\n",
              "          element.appendChild(docLink);\n",
              "        }\n",
              "      </script>\n",
              "    </div>\n",
              "  </div>\n",
              "  "
            ],
            "text/plain": [
              "   gnr_code    gnr_name\n",
              "0    GN0100         발라드\n",
              "1    GN0200          댄스\n",
              "2    GN0300        랩/힙합\n",
              "3    GN0400    R&B/Soul\n",
              "4    GN0500        인디음악\n",
              "5    GN0600        록/메탈\n",
              "6    GN0700        성인가요\n",
              "7    GN0800      포크/블루스\n",
              "8    GN0900         POP\n",
              "9    GN1000        록/메탈\n",
              "10   GN1100      일렉트로니카\n",
              "11   GN1200        랩/힙합\n",
              "12   GN1300    R&B/Soul\n",
              "13   GN1400  포크/블루스/컨트리\n",
              "14   GN1500         OST\n",
              "15   GN1600         클래식\n",
              "16   GN1700          재즈\n",
              "17   GN1800        뉴에이지\n",
              "18   GN1900       J-POP\n",
              "19   GN2000        월드뮤직\n",
              "20   GN2100         CCM\n",
              "21   GN2200      어린이/태교\n",
              "22   GN2300        종교음악\n",
              "23   GN2400          국악\n",
              "24   GN2500         아이돌\n",
              "25   GN2600      일렉트로니카\n",
              "26   GN2700         EDM\n",
              "27   GN2800       뮤직테라피\n",
              "28   GN2900         뮤지컬\n",
              "29   GN3000       크리스마스"
            ]
          },
          "metadata": {},
          "execution_count": 13
        }
      ]
    },
    {
      "cell_type": "code",
      "metadata": {
        "id": "KGUOf4-7I3HH"
      },
      "source": [
        "def mapping_function(data, col1, col2): \n",
        "    # 플레이리스트 아이디(col1)와 수록곡(col2) 추출\n",
        "    plylst_song_map = data[[col1, col2]]\n",
        "\n",
        "    # unnest col2\n",
        "    plylst_song_map_unnest = np.dstack(\n",
        "        (\n",
        "            np.repeat(plylst_song_map[col1].values, list(map(len, plylst_song_map[col2]))), \n",
        "            np.concatenate(plylst_song_map[col2].values)\n",
        "        )\n",
        "    )\n",
        "\n",
        "    # unnested 데이터프레임 생성 : plylst_song_map\n",
        "    plylst_song_map = pd.DataFrame(data = plylst_song_map_unnest[0], columns = plylst_song_map.columns)\n",
        "    plylst_song_map[col1] = plylst_song_map[col1].astype(int)\n",
        "    plylst_song_map[col2] = plylst_song_map[col2].astype(int)\n",
        "\n",
        "    # unnest 객체 제거\n",
        "    del plylst_song_map_unnest\n",
        "    return plylst_song_map"
      ],
      "execution_count": null,
      "outputs": []
    },
    {
      "cell_type": "code",
      "source": [
        "playlst_song_map = mapping_function(plylst, 'id', 'songs')\n",
        "playlst_song_map = playlst_song_map.rename(columns = {'id' : 'plylst_id'})\n",
        "playlst_song_map"
      ],
      "metadata": {
        "colab": {
          "base_uri": "https://localhost:8080/"
        },
        "id": "PLAgOqTYwTbZ",
        "outputId": "bb7f5c80-a55f-43d6-e14c-b67f9818bc6f"
      },
      "execution_count": null,
      "outputs": [
        {
          "output_type": "execute_result",
          "data": {
            "text/html": [
              "\n",
              "  <div id=\"df-f2f8864e-52d4-4871-8f28-3caaf3b1d020\">\n",
              "    <div class=\"colab-df-container\">\n",
              "      <div>\n",
              "<style scoped>\n",
              "    .dataframe tbody tr th:only-of-type {\n",
              "        vertical-align: middle;\n",
              "    }\n",
              "\n",
              "    .dataframe tbody tr th {\n",
              "        vertical-align: top;\n",
              "    }\n",
              "\n",
              "    .dataframe thead th {\n",
              "        text-align: right;\n",
              "    }\n",
              "</style>\n",
              "<table border=\"1\" class=\"dataframe\">\n",
              "  <thead>\n",
              "    <tr style=\"text-align: right;\">\n",
              "      <th></th>\n",
              "      <th>plylst_id</th>\n",
              "      <th>songs</th>\n",
              "    </tr>\n",
              "  </thead>\n",
              "  <tbody>\n",
              "    <tr>\n",
              "      <th>0</th>\n",
              "      <td>147668</td>\n",
              "      <td>663185</td>\n",
              "    </tr>\n",
              "    <tr>\n",
              "      <th>1</th>\n",
              "      <td>147668</td>\n",
              "      <td>649626</td>\n",
              "    </tr>\n",
              "    <tr>\n",
              "      <th>2</th>\n",
              "      <td>147668</td>\n",
              "      <td>6855</td>\n",
              "    </tr>\n",
              "    <tr>\n",
              "      <th>3</th>\n",
              "      <td>147668</td>\n",
              "      <td>188486</td>\n",
              "    </tr>\n",
              "    <tr>\n",
              "      <th>4</th>\n",
              "      <td>147668</td>\n",
              "      <td>348451</td>\n",
              "    </tr>\n",
              "    <tr>\n",
              "      <th>...</th>\n",
              "      <td>...</td>\n",
              "      <td>...</td>\n",
              "    </tr>\n",
              "    <tr>\n",
              "      <th>4653524</th>\n",
              "      <td>80661</td>\n",
              "      <td>153991</td>\n",
              "    </tr>\n",
              "    <tr>\n",
              "      <th>4653525</th>\n",
              "      <td>80661</td>\n",
              "      <td>193909</td>\n",
              "    </tr>\n",
              "    <tr>\n",
              "      <th>4653526</th>\n",
              "      <td>80661</td>\n",
              "      <td>236205</td>\n",
              "    </tr>\n",
              "    <tr>\n",
              "      <th>4653527</th>\n",
              "      <td>80661</td>\n",
              "      <td>473382</td>\n",
              "    </tr>\n",
              "    <tr>\n",
              "      <th>4653528</th>\n",
              "      <td>80661</td>\n",
              "      <td>25155</td>\n",
              "    </tr>\n",
              "  </tbody>\n",
              "</table>\n",
              "<p>4653529 rows × 2 columns</p>\n",
              "</div>\n",
              "      <button class=\"colab-df-convert\" onclick=\"convertToInteractive('df-f2f8864e-52d4-4871-8f28-3caaf3b1d020')\"\n",
              "              title=\"Convert this dataframe to an interactive table.\"\n",
              "              style=\"display:none;\">\n",
              "        \n",
              "  <svg xmlns=\"http://www.w3.org/2000/svg\" height=\"24px\"viewBox=\"0 0 24 24\"\n",
              "       width=\"24px\">\n",
              "    <path d=\"M0 0h24v24H0V0z\" fill=\"none\"/>\n",
              "    <path d=\"M18.56 5.44l.94 2.06.94-2.06 2.06-.94-2.06-.94-.94-2.06-.94 2.06-2.06.94zm-11 1L8.5 8.5l.94-2.06 2.06-.94-2.06-.94L8.5 2.5l-.94 2.06-2.06.94zm10 10l.94 2.06.94-2.06 2.06-.94-2.06-.94-.94-2.06-.94 2.06-2.06.94z\"/><path d=\"M17.41 7.96l-1.37-1.37c-.4-.4-.92-.59-1.43-.59-.52 0-1.04.2-1.43.59L10.3 9.45l-7.72 7.72c-.78.78-.78 2.05 0 2.83L4 21.41c.39.39.9.59 1.41.59.51 0 1.02-.2 1.41-.59l7.78-7.78 2.81-2.81c.8-.78.8-2.07 0-2.86zM5.41 20L4 18.59l7.72-7.72 1.47 1.35L5.41 20z\"/>\n",
              "  </svg>\n",
              "      </button>\n",
              "      \n",
              "  <style>\n",
              "    .colab-df-container {\n",
              "      display:flex;\n",
              "      flex-wrap:wrap;\n",
              "      gap: 12px;\n",
              "    }\n",
              "\n",
              "    .colab-df-convert {\n",
              "      background-color: #E8F0FE;\n",
              "      border: none;\n",
              "      border-radius: 50%;\n",
              "      cursor: pointer;\n",
              "      display: none;\n",
              "      fill: #1967D2;\n",
              "      height: 32px;\n",
              "      padding: 0 0 0 0;\n",
              "      width: 32px;\n",
              "    }\n",
              "\n",
              "    .colab-df-convert:hover {\n",
              "      background-color: #E2EBFA;\n",
              "      box-shadow: 0px 1px 2px rgba(60, 64, 67, 0.3), 0px 1px 3px 1px rgba(60, 64, 67, 0.15);\n",
              "      fill: #174EA6;\n",
              "    }\n",
              "\n",
              "    [theme=dark] .colab-df-convert {\n",
              "      background-color: #3B4455;\n",
              "      fill: #D2E3FC;\n",
              "    }\n",
              "\n",
              "    [theme=dark] .colab-df-convert:hover {\n",
              "      background-color: #434B5C;\n",
              "      box-shadow: 0px 1px 3px 1px rgba(0, 0, 0, 0.15);\n",
              "      filter: drop-shadow(0px 1px 2px rgba(0, 0, 0, 0.3));\n",
              "      fill: #FFFFFF;\n",
              "    }\n",
              "  </style>\n",
              "\n",
              "      <script>\n",
              "        const buttonEl =\n",
              "          document.querySelector('#df-f2f8864e-52d4-4871-8f28-3caaf3b1d020 button.colab-df-convert');\n",
              "        buttonEl.style.display =\n",
              "          google.colab.kernel.accessAllowed ? 'block' : 'none';\n",
              "\n",
              "        async function convertToInteractive(key) {\n",
              "          const element = document.querySelector('#df-f2f8864e-52d4-4871-8f28-3caaf3b1d020');\n",
              "          const dataTable =\n",
              "            await google.colab.kernel.invokeFunction('convertToInteractive',\n",
              "                                                     [key], {});\n",
              "          if (!dataTable) return;\n",
              "\n",
              "          const docLinkHtml = 'Like what you see? Visit the ' +\n",
              "            '<a target=\"_blank\" href=https://colab.research.google.com/notebooks/data_table.ipynb>data table notebook</a>'\n",
              "            + ' to learn more about interactive tables.';\n",
              "          element.innerHTML = '';\n",
              "          dataTable['output_type'] = 'display_data';\n",
              "          await google.colab.output.renderOutput(dataTable, element);\n",
              "          const docLink = document.createElement('div');\n",
              "          docLink.innerHTML = docLinkHtml;\n",
              "          element.appendChild(docLink);\n",
              "        }\n",
              "      </script>\n",
              "    </div>\n",
              "  </div>\n",
              "  "
            ],
            "text/plain": [
              "         plylst_id   songs\n",
              "0           147668  663185\n",
              "1           147668  649626\n",
              "2           147668    6855\n",
              "3           147668  188486\n",
              "4           147668  348451\n",
              "...            ...     ...\n",
              "4653524      80661  153991\n",
              "4653525      80661  193909\n",
              "4653526      80661  236205\n",
              "4653527      80661  473382\n",
              "4653528      80661   25155\n",
              "\n",
              "[4653529 rows x 2 columns]"
            ]
          },
          "metadata": {},
          "execution_count": 34
        }
      ]
    },
    {
      "cell_type": "code",
      "source": [
        "playlst_song_map.dtypes"
      ],
      "metadata": {
        "colab": {
          "base_uri": "https://localhost:8080/"
        },
        "id": "eUkW5lbWIWk9",
        "outputId": "f913b40c-8caf-4295-854c-57962fc232d1"
      },
      "execution_count": null,
      "outputs": [
        {
          "output_type": "execute_result",
          "data": {
            "text/plain": [
              "plylst_id    int64\n",
              "songs        int64\n",
              "dtype: object"
            ]
          },
          "metadata": {},
          "execution_count": 35
        }
      ]
    },
    {
      "cell_type": "code",
      "source": [
        "song_meta.dtypes"
      ],
      "metadata": {
        "colab": {
          "base_uri": "https://localhost:8080/"
        },
        "id": "kaCKodZ1xigy",
        "outputId": "b2c7b38f-e73c-40eb-eca6-32c5a08349da"
      },
      "execution_count": null,
      "outputs": [
        {
          "output_type": "execute_result",
          "data": {
            "text/plain": [
              "song_gn_dtl_gnr_basket    object\n",
              "issue_date                 int64\n",
              "album_name                object\n",
              "album_id                   int64\n",
              "artist_id_basket          object\n",
              "song_name                 object\n",
              "song_gn_gnr_basket        object\n",
              "artist_name_basket        object\n",
              "id                         int64\n",
              "dtype: object"
            ]
          },
          "metadata": {},
          "execution_count": 36
        }
      ]
    },
    {
      "cell_type": "code",
      "source": [
        "playlst_song_map = playlst_song_map.merge(song_meta[['id', 'song_gn_gnr_basket']], how = 'left', left_on = 'songs', right_on = 'id')"
      ],
      "metadata": {
        "id": "I9C9m1-8xeHl"
      },
      "execution_count": null,
      "outputs": []
    },
    {
      "cell_type": "code",
      "source": [
        "playlst_song_map = playlst_song_map[['plylst_id', 'songs', 'song_gn_gnr_basket']].rename(columns = {'song_gn_gnr_basket':'gnr_code'})"
      ],
      "metadata": {
        "id": "6psAV7g0z9zH"
      },
      "execution_count": null,
      "outputs": []
    },
    {
      "cell_type": "code",
      "source": [
        "playlst_song_map"
      ],
      "metadata": {
        "colab": {
          "base_uri": "https://localhost:8080/"
        },
        "id": "G-nXWGiV1KS2",
        "outputId": "919b7be0-0313-4518-bd29-f22d99851077"
      },
      "execution_count": null,
      "outputs": [
        {
          "output_type": "execute_result",
          "data": {
            "text/html": [
              "\n",
              "  <div id=\"df-f508099f-4aae-4919-aece-996b0be1ede4\">\n",
              "    <div class=\"colab-df-container\">\n",
              "      <div>\n",
              "<style scoped>\n",
              "    .dataframe tbody tr th:only-of-type {\n",
              "        vertical-align: middle;\n",
              "    }\n",
              "\n",
              "    .dataframe tbody tr th {\n",
              "        vertical-align: top;\n",
              "    }\n",
              "\n",
              "    .dataframe thead th {\n",
              "        text-align: right;\n",
              "    }\n",
              "</style>\n",
              "<table border=\"1\" class=\"dataframe\">\n",
              "  <thead>\n",
              "    <tr style=\"text-align: right;\">\n",
              "      <th></th>\n",
              "      <th>plylst_id</th>\n",
              "      <th>songs</th>\n",
              "      <th>gnr_code</th>\n",
              "    </tr>\n",
              "  </thead>\n",
              "  <tbody>\n",
              "    <tr>\n",
              "      <th>0</th>\n",
              "      <td>147668</td>\n",
              "      <td>663185</td>\n",
              "      <td>[GN1500]</td>\n",
              "    </tr>\n",
              "    <tr>\n",
              "      <th>1</th>\n",
              "      <td>147668</td>\n",
              "      <td>649626</td>\n",
              "      <td>[GN0600]</td>\n",
              "    </tr>\n",
              "    <tr>\n",
              "      <th>2</th>\n",
              "      <td>147668</td>\n",
              "      <td>6855</td>\n",
              "      <td>[GN0600]</td>\n",
              "    </tr>\n",
              "    <tr>\n",
              "      <th>3</th>\n",
              "      <td>147668</td>\n",
              "      <td>188486</td>\n",
              "      <td>[GN0500, GN0100]</td>\n",
              "    </tr>\n",
              "    <tr>\n",
              "      <th>4</th>\n",
              "      <td>147668</td>\n",
              "      <td>348451</td>\n",
              "      <td>[GN0200]</td>\n",
              "    </tr>\n",
              "    <tr>\n",
              "      <th>...</th>\n",
              "      <td>...</td>\n",
              "      <td>...</td>\n",
              "      <td>...</td>\n",
              "    </tr>\n",
              "    <tr>\n",
              "      <th>4653524</th>\n",
              "      <td>80661</td>\n",
              "      <td>153991</td>\n",
              "      <td>[GN1700]</td>\n",
              "    </tr>\n",
              "    <tr>\n",
              "      <th>4653525</th>\n",
              "      <td>80661</td>\n",
              "      <td>193909</td>\n",
              "      <td>[GN1700]</td>\n",
              "    </tr>\n",
              "    <tr>\n",
              "      <th>4653526</th>\n",
              "      <td>80661</td>\n",
              "      <td>236205</td>\n",
              "      <td>[GN1900]</td>\n",
              "    </tr>\n",
              "    <tr>\n",
              "      <th>4653527</th>\n",
              "      <td>80661</td>\n",
              "      <td>473382</td>\n",
              "      <td>[GN1700]</td>\n",
              "    </tr>\n",
              "    <tr>\n",
              "      <th>4653528</th>\n",
              "      <td>80661</td>\n",
              "      <td>25155</td>\n",
              "      <td>[GN1700]</td>\n",
              "    </tr>\n",
              "  </tbody>\n",
              "</table>\n",
              "<p>4653529 rows × 3 columns</p>\n",
              "</div>\n",
              "      <button class=\"colab-df-convert\" onclick=\"convertToInteractive('df-f508099f-4aae-4919-aece-996b0be1ede4')\"\n",
              "              title=\"Convert this dataframe to an interactive table.\"\n",
              "              style=\"display:none;\">\n",
              "        \n",
              "  <svg xmlns=\"http://www.w3.org/2000/svg\" height=\"24px\"viewBox=\"0 0 24 24\"\n",
              "       width=\"24px\">\n",
              "    <path d=\"M0 0h24v24H0V0z\" fill=\"none\"/>\n",
              "    <path d=\"M18.56 5.44l.94 2.06.94-2.06 2.06-.94-2.06-.94-.94-2.06-.94 2.06-2.06.94zm-11 1L8.5 8.5l.94-2.06 2.06-.94-2.06-.94L8.5 2.5l-.94 2.06-2.06.94zm10 10l.94 2.06.94-2.06 2.06-.94-2.06-.94-.94-2.06-.94 2.06-2.06.94z\"/><path d=\"M17.41 7.96l-1.37-1.37c-.4-.4-.92-.59-1.43-.59-.52 0-1.04.2-1.43.59L10.3 9.45l-7.72 7.72c-.78.78-.78 2.05 0 2.83L4 21.41c.39.39.9.59 1.41.59.51 0 1.02-.2 1.41-.59l7.78-7.78 2.81-2.81c.8-.78.8-2.07 0-2.86zM5.41 20L4 18.59l7.72-7.72 1.47 1.35L5.41 20z\"/>\n",
              "  </svg>\n",
              "      </button>\n",
              "      \n",
              "  <style>\n",
              "    .colab-df-container {\n",
              "      display:flex;\n",
              "      flex-wrap:wrap;\n",
              "      gap: 12px;\n",
              "    }\n",
              "\n",
              "    .colab-df-convert {\n",
              "      background-color: #E8F0FE;\n",
              "      border: none;\n",
              "      border-radius: 50%;\n",
              "      cursor: pointer;\n",
              "      display: none;\n",
              "      fill: #1967D2;\n",
              "      height: 32px;\n",
              "      padding: 0 0 0 0;\n",
              "      width: 32px;\n",
              "    }\n",
              "\n",
              "    .colab-df-convert:hover {\n",
              "      background-color: #E2EBFA;\n",
              "      box-shadow: 0px 1px 2px rgba(60, 64, 67, 0.3), 0px 1px 3px 1px rgba(60, 64, 67, 0.15);\n",
              "      fill: #174EA6;\n",
              "    }\n",
              "\n",
              "    [theme=dark] .colab-df-convert {\n",
              "      background-color: #3B4455;\n",
              "      fill: #D2E3FC;\n",
              "    }\n",
              "\n",
              "    [theme=dark] .colab-df-convert:hover {\n",
              "      background-color: #434B5C;\n",
              "      box-shadow: 0px 1px 3px 1px rgba(0, 0, 0, 0.15);\n",
              "      filter: drop-shadow(0px 1px 2px rgba(0, 0, 0, 0.3));\n",
              "      fill: #FFFFFF;\n",
              "    }\n",
              "  </style>\n",
              "\n",
              "      <script>\n",
              "        const buttonEl =\n",
              "          document.querySelector('#df-f508099f-4aae-4919-aece-996b0be1ede4 button.colab-df-convert');\n",
              "        buttonEl.style.display =\n",
              "          google.colab.kernel.accessAllowed ? 'block' : 'none';\n",
              "\n",
              "        async function convertToInteractive(key) {\n",
              "          const element = document.querySelector('#df-f508099f-4aae-4919-aece-996b0be1ede4');\n",
              "          const dataTable =\n",
              "            await google.colab.kernel.invokeFunction('convertToInteractive',\n",
              "                                                     [key], {});\n",
              "          if (!dataTable) return;\n",
              "\n",
              "          const docLinkHtml = 'Like what you see? Visit the ' +\n",
              "            '<a target=\"_blank\" href=https://colab.research.google.com/notebooks/data_table.ipynb>data table notebook</a>'\n",
              "            + ' to learn more about interactive tables.';\n",
              "          element.innerHTML = '';\n",
              "          dataTable['output_type'] = 'display_data';\n",
              "          await google.colab.output.renderOutput(dataTable, element);\n",
              "          const docLink = document.createElement('div');\n",
              "          docLink.innerHTML = docLinkHtml;\n",
              "          element.appendChild(docLink);\n",
              "        }\n",
              "      </script>\n",
              "    </div>\n",
              "  </div>\n",
              "  "
            ],
            "text/plain": [
              "         plylst_id   songs          gnr_code\n",
              "0           147668  663185          [GN1500]\n",
              "1           147668  649626          [GN0600]\n",
              "2           147668    6855          [GN0600]\n",
              "3           147668  188486  [GN0500, GN0100]\n",
              "4           147668  348451          [GN0200]\n",
              "...            ...     ...               ...\n",
              "4653524      80661  153991          [GN1700]\n",
              "4653525      80661  193909          [GN1700]\n",
              "4653526      80661  236205          [GN1900]\n",
              "4653527      80661  473382          [GN1700]\n",
              "4653528      80661   25155          [GN1700]\n",
              "\n",
              "[4653529 rows x 3 columns]"
            ]
          },
          "metadata": {},
          "execution_count": 39
        }
      ]
    },
    {
      "cell_type": "code",
      "source": [
        "plylst_gnr_map = playlst_song_map.groupby('plylst_id').apply(lambda x: np.concatenate(x['gnr_code'].values))"
      ],
      "metadata": {
        "id": "4IdVjkEi2wm3"
      },
      "execution_count": null,
      "outputs": []
    },
    {
      "cell_type": "code",
      "source": [
        "plylst_gnr_map = pd.DataFrame(plylst_gnr_map, columns = ['big_gnr_code']).reset_index()"
      ],
      "metadata": {
        "id": "wgDK7GmN9nq3"
      },
      "execution_count": null,
      "outputs": []
    },
    {
      "cell_type": "code",
      "source": [
        "plylst_gnr_map"
      ],
      "metadata": {
        "colab": {
          "base_uri": "https://localhost:8080/"
        },
        "id": "Tcm4jx8uAkk0",
        "outputId": "43b9d802-6a70-45fe-ab66-4f2dbe86c793"
      },
      "execution_count": null,
      "outputs": [
        {
          "output_type": "execute_result",
          "data": {
            "text/html": [
              "\n",
              "  <div id=\"df-cd20d693-059d-4cde-a06b-6337b1158a79\">\n",
              "    <div class=\"colab-df-container\">\n",
              "      <div>\n",
              "<style scoped>\n",
              "    .dataframe tbody tr th:only-of-type {\n",
              "        vertical-align: middle;\n",
              "    }\n",
              "\n",
              "    .dataframe tbody tr th {\n",
              "        vertical-align: top;\n",
              "    }\n",
              "\n",
              "    .dataframe thead th {\n",
              "        text-align: right;\n",
              "    }\n",
              "</style>\n",
              "<table border=\"1\" class=\"dataframe\">\n",
              "  <thead>\n",
              "    <tr style=\"text-align: right;\">\n",
              "      <th></th>\n",
              "      <th>plylst_id</th>\n",
              "      <th>big_gnr_code</th>\n",
              "    </tr>\n",
              "  </thead>\n",
              "  <tbody>\n",
              "    <tr>\n",
              "      <th>0</th>\n",
              "      <td>1</td>\n",
              "      <td>[GN0300, GN0300]</td>\n",
              "    </tr>\n",
              "    <tr>\n",
              "      <th>1</th>\n",
              "      <td>2</td>\n",
              "      <td>[GN0500, GN0600, GN0900, GN1000, GN0900, GN100...</td>\n",
              "    </tr>\n",
              "    <tr>\n",
              "      <th>2</th>\n",
              "      <td>4</td>\n",
              "      <td>[GN1300, GN0300, GN2500, GN0300, GN2500, GN020...</td>\n",
              "    </tr>\n",
              "    <tr>\n",
              "      <th>3</th>\n",
              "      <td>5</td>\n",
              "      <td>[GN0200, GN0500, GN0800, GN0600, GN0100, GN010...</td>\n",
              "    </tr>\n",
              "    <tr>\n",
              "      <th>4</th>\n",
              "      <td>6</td>\n",
              "      <td>[GN2700, GN1100, GN2700, GN1100, GN1100, GN110...</td>\n",
              "    </tr>\n",
              "    <tr>\n",
              "      <th>...</th>\n",
              "      <td>...</td>\n",
              "      <td>...</td>\n",
              "    </tr>\n",
              "    <tr>\n",
              "      <th>110460</th>\n",
              "      <td>153422</td>\n",
              "      <td>[GN1300, GN1200, GN0500, GN0100, GN0900, GN090...</td>\n",
              "    </tr>\n",
              "    <tr>\n",
              "      <th>110461</th>\n",
              "      <td>153423</td>\n",
              "      <td>[GN0500, GN0600, GN0500, GN0400, GN0500, GN040...</td>\n",
              "    </tr>\n",
              "    <tr>\n",
              "      <th>110462</th>\n",
              "      <td>153425</td>\n",
              "      <td>[GN1600, GN1600, GN1600, GN1000, GN1600, GN160...</td>\n",
              "    </tr>\n",
              "    <tr>\n",
              "      <th>110463</th>\n",
              "      <td>153426</td>\n",
              "      <td>[GN1200, GN1200, GN1200, GN1200, GN1200, GN120...</td>\n",
              "    </tr>\n",
              "    <tr>\n",
              "      <th>110464</th>\n",
              "      <td>153428</td>\n",
              "      <td>[GN0300, GN0300, GN0300, GN0300, GN0300, GN050...</td>\n",
              "    </tr>\n",
              "  </tbody>\n",
              "</table>\n",
              "<p>110465 rows × 2 columns</p>\n",
              "</div>\n",
              "      <button class=\"colab-df-convert\" onclick=\"convertToInteractive('df-cd20d693-059d-4cde-a06b-6337b1158a79')\"\n",
              "              title=\"Convert this dataframe to an interactive table.\"\n",
              "              style=\"display:none;\">\n",
              "        \n",
              "  <svg xmlns=\"http://www.w3.org/2000/svg\" height=\"24px\"viewBox=\"0 0 24 24\"\n",
              "       width=\"24px\">\n",
              "    <path d=\"M0 0h24v24H0V0z\" fill=\"none\"/>\n",
              "    <path d=\"M18.56 5.44l.94 2.06.94-2.06 2.06-.94-2.06-.94-.94-2.06-.94 2.06-2.06.94zm-11 1L8.5 8.5l.94-2.06 2.06-.94-2.06-.94L8.5 2.5l-.94 2.06-2.06.94zm10 10l.94 2.06.94-2.06 2.06-.94-2.06-.94-.94-2.06-.94 2.06-2.06.94z\"/><path d=\"M17.41 7.96l-1.37-1.37c-.4-.4-.92-.59-1.43-.59-.52 0-1.04.2-1.43.59L10.3 9.45l-7.72 7.72c-.78.78-.78 2.05 0 2.83L4 21.41c.39.39.9.59 1.41.59.51 0 1.02-.2 1.41-.59l7.78-7.78 2.81-2.81c.8-.78.8-2.07 0-2.86zM5.41 20L4 18.59l7.72-7.72 1.47 1.35L5.41 20z\"/>\n",
              "  </svg>\n",
              "      </button>\n",
              "      \n",
              "  <style>\n",
              "    .colab-df-container {\n",
              "      display:flex;\n",
              "      flex-wrap:wrap;\n",
              "      gap: 12px;\n",
              "    }\n",
              "\n",
              "    .colab-df-convert {\n",
              "      background-color: #E8F0FE;\n",
              "      border: none;\n",
              "      border-radius: 50%;\n",
              "      cursor: pointer;\n",
              "      display: none;\n",
              "      fill: #1967D2;\n",
              "      height: 32px;\n",
              "      padding: 0 0 0 0;\n",
              "      width: 32px;\n",
              "    }\n",
              "\n",
              "    .colab-df-convert:hover {\n",
              "      background-color: #E2EBFA;\n",
              "      box-shadow: 0px 1px 2px rgba(60, 64, 67, 0.3), 0px 1px 3px 1px rgba(60, 64, 67, 0.15);\n",
              "      fill: #174EA6;\n",
              "    }\n",
              "\n",
              "    [theme=dark] .colab-df-convert {\n",
              "      background-color: #3B4455;\n",
              "      fill: #D2E3FC;\n",
              "    }\n",
              "\n",
              "    [theme=dark] .colab-df-convert:hover {\n",
              "      background-color: #434B5C;\n",
              "      box-shadow: 0px 1px 3px 1px rgba(0, 0, 0, 0.15);\n",
              "      filter: drop-shadow(0px 1px 2px rgba(0, 0, 0, 0.3));\n",
              "      fill: #FFFFFF;\n",
              "    }\n",
              "  </style>\n",
              "\n",
              "      <script>\n",
              "        const buttonEl =\n",
              "          document.querySelector('#df-cd20d693-059d-4cde-a06b-6337b1158a79 button.colab-df-convert');\n",
              "        buttonEl.style.display =\n",
              "          google.colab.kernel.accessAllowed ? 'block' : 'none';\n",
              "\n",
              "        async function convertToInteractive(key) {\n",
              "          const element = document.querySelector('#df-cd20d693-059d-4cde-a06b-6337b1158a79');\n",
              "          const dataTable =\n",
              "            await google.colab.kernel.invokeFunction('convertToInteractive',\n",
              "                                                     [key], {});\n",
              "          if (!dataTable) return;\n",
              "\n",
              "          const docLinkHtml = 'Like what you see? Visit the ' +\n",
              "            '<a target=\"_blank\" href=https://colab.research.google.com/notebooks/data_table.ipynb>data table notebook</a>'\n",
              "            + ' to learn more about interactive tables.';\n",
              "          element.innerHTML = '';\n",
              "          dataTable['output_type'] = 'display_data';\n",
              "          await google.colab.output.renderOutput(dataTable, element);\n",
              "          const docLink = document.createElement('div');\n",
              "          docLink.innerHTML = docLinkHtml;\n",
              "          element.appendChild(docLink);\n",
              "        }\n",
              "      </script>\n",
              "    </div>\n",
              "  </div>\n",
              "  "
            ],
            "text/plain": [
              "        plylst_id                                       big_gnr_code\n",
              "0               1                                   [GN0300, GN0300]\n",
              "1               2  [GN0500, GN0600, GN0900, GN1000, GN0900, GN100...\n",
              "2               4  [GN1300, GN0300, GN2500, GN0300, GN2500, GN020...\n",
              "3               5  [GN0200, GN0500, GN0800, GN0600, GN0100, GN010...\n",
              "4               6  [GN2700, GN1100, GN2700, GN1100, GN1100, GN110...\n",
              "...           ...                                                ...\n",
              "110460     153422  [GN1300, GN1200, GN0500, GN0100, GN0900, GN090...\n",
              "110461     153423  [GN0500, GN0600, GN0500, GN0400, GN0500, GN040...\n",
              "110462     153425  [GN1600, GN1600, GN1600, GN1000, GN1600, GN160...\n",
              "110463     153426  [GN1200, GN1200, GN1200, GN1200, GN1200, GN120...\n",
              "110464     153428  [GN0300, GN0300, GN0300, GN0300, GN0300, GN050...\n",
              "\n",
              "[110465 rows x 2 columns]"
            ]
          },
          "metadata": {},
          "execution_count": 42
        }
      ]
    },
    {
      "cell_type": "code",
      "source": [
        "plylst = plylst.merge(plylst_gnr_map, how = 'left', left_on = 'id', right_on = 'plylst_id')"
      ],
      "metadata": {
        "id": "WrVzwei_sAed"
      },
      "execution_count": null,
      "outputs": []
    },
    {
      "cell_type": "code",
      "source": [
        "plylst"
      ],
      "metadata": {
        "colab": {
          "base_uri": "https://localhost:8080/"
        },
        "id": "jiThbFxrBSB8",
        "outputId": "6733bcc5-3d06-41c7-e68a-f098a0f8f4cf"
      },
      "execution_count": null,
      "outputs": [
        {
          "output_type": "execute_result",
          "data": {
            "text/html": [
              "\n",
              "  <div id=\"df-42adcfb5-a1ab-467b-96aa-03b10bba926c\">\n",
              "    <div class=\"colab-df-container\">\n",
              "      <div>\n",
              "<style scoped>\n",
              "    .dataframe tbody tr th:only-of-type {\n",
              "        vertical-align: middle;\n",
              "    }\n",
              "\n",
              "    .dataframe tbody tr th {\n",
              "        vertical-align: top;\n",
              "    }\n",
              "\n",
              "    .dataframe thead th {\n",
              "        text-align: right;\n",
              "    }\n",
              "</style>\n",
              "<table border=\"1\" class=\"dataframe\">\n",
              "  <thead>\n",
              "    <tr style=\"text-align: right;\">\n",
              "      <th></th>\n",
              "      <th>tags</th>\n",
              "      <th>id</th>\n",
              "      <th>plylst_title</th>\n",
              "      <th>songs</th>\n",
              "      <th>like_cnt</th>\n",
              "      <th>updt_date</th>\n",
              "      <th>istrain</th>\n",
              "      <th>nid</th>\n",
              "      <th>plylst_id</th>\n",
              "      <th>big_gnr_code</th>\n",
              "    </tr>\n",
              "  </thead>\n",
              "  <tbody>\n",
              "    <tr>\n",
              "      <th>0</th>\n",
              "      <td>[힐링, 휴식, 밤, 새벽]</td>\n",
              "      <td>147668</td>\n",
              "      <td>To. 힘들고 지친 분들에게</td>\n",
              "      <td>[663185, 649626, 6855, 188486, 348451, 169945,...</td>\n",
              "      <td>12</td>\n",
              "      <td>2016-06-23 10:06:27.000</td>\n",
              "      <td>1</td>\n",
              "      <td>0</td>\n",
              "      <td>147668.0</td>\n",
              "      <td>[GN1500, GN0600, GN0600, GN0500, GN0100, GN020...</td>\n",
              "    </tr>\n",
              "    <tr>\n",
              "      <th>1</th>\n",
              "      <td>[팝]</td>\n",
              "      <td>50422</td>\n",
              "      <td>130807-7</td>\n",
              "      <td>[627035, 256438, 603324, 200889, 441319, 21689...</td>\n",
              "      <td>0</td>\n",
              "      <td>2013-08-15 13:17:11.000</td>\n",
              "      <td>1</td>\n",
              "      <td>1</td>\n",
              "      <td>50422.0</td>\n",
              "      <td>[GN1700, GN0900, GN1700, GN1400, GN1400, GN190...</td>\n",
              "    </tr>\n",
              "    <tr>\n",
              "      <th>2</th>\n",
              "      <td>[뉴에이지]</td>\n",
              "      <td>116432</td>\n",
              "      <td>숙면을 위한 슬픈 마음을 달래 줄 피아노</td>\n",
              "      <td>[129204, 369497, 649743, 344619, 110281, 63266...</td>\n",
              "      <td>23</td>\n",
              "      <td>2015-09-03 16:51:50.000</td>\n",
              "      <td>1</td>\n",
              "      <td>2</td>\n",
              "      <td>116432.0</td>\n",
              "      <td>[GN1800, GN1800, GN1800, GN1800, GN1800, GN180...</td>\n",
              "    </tr>\n",
              "    <tr>\n",
              "      <th>3</th>\n",
              "      <td>[하드락, 록스피릿, 댄스]</td>\n",
              "      <td>55076</td>\n",
              "      <td>당신을 하얗게 불태울 곡들</td>\n",
              "      <td>[677591, 420396, 104934, 119279, 251988, 58850...</td>\n",
              "      <td>1</td>\n",
              "      <td>2017-01-09 15:41:25.000</td>\n",
              "      <td>1</td>\n",
              "      <td>3</td>\n",
              "      <td>55076.0</td>\n",
              "      <td>[GN1000, GN2500, GN0300, GN1000, GN2500, GN030...</td>\n",
              "    </tr>\n",
              "    <tr>\n",
              "      <th>4</th>\n",
              "      <td>[힐링, 휴식, 기분전환]</td>\n",
              "      <td>125064</td>\n",
              "      <td>[스피커 필수 / HIPHOP] 듣고 있음 꿀렁꿀렁이고 싶은 힙합음악!</td>\n",
              "      <td>[704455, 694036, 508043, 154933, 57614, 645195...</td>\n",
              "      <td>715</td>\n",
              "      <td>2016-02-22 12:32:50.000</td>\n",
              "      <td>1</td>\n",
              "      <td>4</td>\n",
              "      <td>125064.0</td>\n",
              "      <td>[GN1200, GN1200, GN1200, GN1200, GN1200, GN120...</td>\n",
              "    </tr>\n",
              "    <tr>\n",
              "      <th>...</th>\n",
              "      <td>...</td>\n",
              "      <td>...</td>\n",
              "      <td>...</td>\n",
              "      <td>...</td>\n",
              "      <td>...</td>\n",
              "      <td>...</td>\n",
              "      <td>...</td>\n",
              "      <td>...</td>\n",
              "      <td>...</td>\n",
              "      <td>...</td>\n",
              "    </tr>\n",
              "    <tr>\n",
              "      <th>115066</th>\n",
              "      <td>[]</td>\n",
              "      <td>86994</td>\n",
              "      <td>ㅎㅎㅎㅎㅎㅎ</td>\n",
              "      <td>[30712, 284814, 114387, 117793, 462530, 601315...</td>\n",
              "      <td>1</td>\n",
              "      <td>2016-06-24 15:33:51.000</td>\n",
              "      <td>0</td>\n",
              "      <td>115066</td>\n",
              "      <td>86994.0</td>\n",
              "      <td>[GN2500, GN0300, GN0300, GN2500, GN0200, GN020...</td>\n",
              "    </tr>\n",
              "    <tr>\n",
              "      <th>115067</th>\n",
              "      <td>[밤, 새벽]</td>\n",
              "      <td>80661</td>\n",
              "      <td>연인들을 위한 주말 데이트 음악</td>\n",
              "      <td>[166091, 321101, 630122, 464984, 401055, 15399...</td>\n",
              "      <td>48</td>\n",
              "      <td>2015-07-24 09:44:06.000</td>\n",
              "      <td>0</td>\n",
              "      <td>115067</td>\n",
              "      <td>80661.0</td>\n",
              "      <td>[GN1600, GN1700, GN1500, GN1700, GN1000, GN170...</td>\n",
              "    </tr>\n",
              "    <tr>\n",
              "      <th>115068</th>\n",
              "      <td>[국힙]</td>\n",
              "      <td>138752</td>\n",
              "      <td>ChoiceForYou°단체곡/국내힙합°</td>\n",
              "      <td>[]</td>\n",
              "      <td>3</td>\n",
              "      <td>2019-06-17 16:14:08.000</td>\n",
              "      <td>0</td>\n",
              "      <td>115068</td>\n",
              "      <td>NaN</td>\n",
              "      <td>NaN</td>\n",
              "    </tr>\n",
              "    <tr>\n",
              "      <th>115069</th>\n",
              "      <td>[알앤비]</td>\n",
              "      <td>117885</td>\n",
              "      <td>toctoc dinner</td>\n",
              "      <td>[]</td>\n",
              "      <td>1</td>\n",
              "      <td>2014-02-11 18:08:48.000</td>\n",
              "      <td>0</td>\n",
              "      <td>115069</td>\n",
              "      <td>NaN</td>\n",
              "      <td>NaN</td>\n",
              "    </tr>\n",
              "    <tr>\n",
              "      <th>115070</th>\n",
              "      <td>[]</td>\n",
              "      <td>113869</td>\n",
              "      <td>가을겨울에 듣는 따뜻하고 잔잔한 노래들~</td>\n",
              "      <td>[]</td>\n",
              "      <td>2</td>\n",
              "      <td>2017-09-27 17:14:06.000</td>\n",
              "      <td>0</td>\n",
              "      <td>115070</td>\n",
              "      <td>NaN</td>\n",
              "      <td>NaN</td>\n",
              "    </tr>\n",
              "  </tbody>\n",
              "</table>\n",
              "<p>115071 rows × 10 columns</p>\n",
              "</div>\n",
              "      <button class=\"colab-df-convert\" onclick=\"convertToInteractive('df-42adcfb5-a1ab-467b-96aa-03b10bba926c')\"\n",
              "              title=\"Convert this dataframe to an interactive table.\"\n",
              "              style=\"display:none;\">\n",
              "        \n",
              "  <svg xmlns=\"http://www.w3.org/2000/svg\" height=\"24px\"viewBox=\"0 0 24 24\"\n",
              "       width=\"24px\">\n",
              "    <path d=\"M0 0h24v24H0V0z\" fill=\"none\"/>\n",
              "    <path d=\"M18.56 5.44l.94 2.06.94-2.06 2.06-.94-2.06-.94-.94-2.06-.94 2.06-2.06.94zm-11 1L8.5 8.5l.94-2.06 2.06-.94-2.06-.94L8.5 2.5l-.94 2.06-2.06.94zm10 10l.94 2.06.94-2.06 2.06-.94-2.06-.94-.94-2.06-.94 2.06-2.06.94z\"/><path d=\"M17.41 7.96l-1.37-1.37c-.4-.4-.92-.59-1.43-.59-.52 0-1.04.2-1.43.59L10.3 9.45l-7.72 7.72c-.78.78-.78 2.05 0 2.83L4 21.41c.39.39.9.59 1.41.59.51 0 1.02-.2 1.41-.59l7.78-7.78 2.81-2.81c.8-.78.8-2.07 0-2.86zM5.41 20L4 18.59l7.72-7.72 1.47 1.35L5.41 20z\"/>\n",
              "  </svg>\n",
              "      </button>\n",
              "      \n",
              "  <style>\n",
              "    .colab-df-container {\n",
              "      display:flex;\n",
              "      flex-wrap:wrap;\n",
              "      gap: 12px;\n",
              "    }\n",
              "\n",
              "    .colab-df-convert {\n",
              "      background-color: #E8F0FE;\n",
              "      border: none;\n",
              "      border-radius: 50%;\n",
              "      cursor: pointer;\n",
              "      display: none;\n",
              "      fill: #1967D2;\n",
              "      height: 32px;\n",
              "      padding: 0 0 0 0;\n",
              "      width: 32px;\n",
              "    }\n",
              "\n",
              "    .colab-df-convert:hover {\n",
              "      background-color: #E2EBFA;\n",
              "      box-shadow: 0px 1px 2px rgba(60, 64, 67, 0.3), 0px 1px 3px 1px rgba(60, 64, 67, 0.15);\n",
              "      fill: #174EA6;\n",
              "    }\n",
              "\n",
              "    [theme=dark] .colab-df-convert {\n",
              "      background-color: #3B4455;\n",
              "      fill: #D2E3FC;\n",
              "    }\n",
              "\n",
              "    [theme=dark] .colab-df-convert:hover {\n",
              "      background-color: #434B5C;\n",
              "      box-shadow: 0px 1px 3px 1px rgba(0, 0, 0, 0.15);\n",
              "      filter: drop-shadow(0px 1px 2px rgba(0, 0, 0, 0.3));\n",
              "      fill: #FFFFFF;\n",
              "    }\n",
              "  </style>\n",
              "\n",
              "      <script>\n",
              "        const buttonEl =\n",
              "          document.querySelector('#df-42adcfb5-a1ab-467b-96aa-03b10bba926c button.colab-df-convert');\n",
              "        buttonEl.style.display =\n",
              "          google.colab.kernel.accessAllowed ? 'block' : 'none';\n",
              "\n",
              "        async function convertToInteractive(key) {\n",
              "          const element = document.querySelector('#df-42adcfb5-a1ab-467b-96aa-03b10bba926c');\n",
              "          const dataTable =\n",
              "            await google.colab.kernel.invokeFunction('convertToInteractive',\n",
              "                                                     [key], {});\n",
              "          if (!dataTable) return;\n",
              "\n",
              "          const docLinkHtml = 'Like what you see? Visit the ' +\n",
              "            '<a target=\"_blank\" href=https://colab.research.google.com/notebooks/data_table.ipynb>data table notebook</a>'\n",
              "            + ' to learn more about interactive tables.';\n",
              "          element.innerHTML = '';\n",
              "          dataTable['output_type'] = 'display_data';\n",
              "          await google.colab.output.renderOutput(dataTable, element);\n",
              "          const docLink = document.createElement('div');\n",
              "          docLink.innerHTML = docLinkHtml;\n",
              "          element.appendChild(docLink);\n",
              "        }\n",
              "      </script>\n",
              "    </div>\n",
              "  </div>\n",
              "  "
            ],
            "text/plain": [
              "                   tags  ...                                       big_gnr_code\n",
              "0       [힐링, 휴식, 밤, 새벽]  ...  [GN1500, GN0600, GN0600, GN0500, GN0100, GN020...\n",
              "1                   [팝]  ...  [GN1700, GN0900, GN1700, GN1400, GN1400, GN190...\n",
              "2                [뉴에이지]  ...  [GN1800, GN1800, GN1800, GN1800, GN1800, GN180...\n",
              "3       [하드락, 록스피릿, 댄스]  ...  [GN1000, GN2500, GN0300, GN1000, GN2500, GN030...\n",
              "4        [힐링, 휴식, 기분전환]  ...  [GN1200, GN1200, GN1200, GN1200, GN1200, GN120...\n",
              "...                 ...  ...                                                ...\n",
              "115066               []  ...  [GN2500, GN0300, GN0300, GN2500, GN0200, GN020...\n",
              "115067          [밤, 새벽]  ...  [GN1600, GN1700, GN1500, GN1700, GN1000, GN170...\n",
              "115068             [국힙]  ...                                                NaN\n",
              "115069            [알앤비]  ...                                                NaN\n",
              "115070               []  ...                                                NaN\n",
              "\n",
              "[115071 rows x 10 columns]"
            ]
          },
          "metadata": {},
          "execution_count": 44
        }
      ]
    },
    {
      "cell_type": "markdown",
      "metadata": {
        "id": "8Nd5NnqsXuOF"
      },
      "source": [
        "# 모델링을 위한 전처리"
      ]
    },
    {
      "cell_type": "markdown",
      "metadata": {
        "id": "IP_p3we7Poyq"
      },
      "source": [
        "playlist, song, tag의 id(각각 nid, sid, tid)를 새로 생성하는 이유는, 새로 생성할 id를 matrix의 row, column index로 사용할 것이기 때문입니다.\n",
        "\n",
        "- plylst_id_nid : playlist id -> nid\n",
        "- plylst_nid_id : playlist nid -> id\n",
        "- song_id_sid : song id -> sid\n",
        "- song_sid_id : song sid -> id\n",
        "- tag_id_tid : tag id -> tid\n",
        "- tag_tid_id : tag tid -> id\n",
        "- song_dict : song id -> count\n",
        "- tag_dict : tag id -> count"
      ]
    },
    {
      "cell_type": "code",
      "metadata": {
        "id": "0pa3d4wYQpCZ"
      },
      "source": [
        "plylst_tag = plylst['tags']\n",
        "tag_counter = Counter([tg for tgs in plylst_tag for tg in tgs])\n",
        "tag_dict = {x: tag_counter[x] for x in tag_counter}\n",
        "\n",
        "tag_id_tid = dict()\n",
        "tag_tid_id = dict()\n",
        "for i, t in enumerate(tag_dict):\n",
        "  tag_id_tid[t] = i\n",
        "  tag_tid_id[i] = t\n",
        "\n",
        "n_tags = len(tag_dict)\n",
        "\n",
        "plylst_song = plylst['songs']\n",
        "song_counter = Counter([sg for sgs in plylst_song for sg in sgs])\n",
        "song_dict = {x: song_counter[x] for x in song_counter}\n",
        "\n",
        "song_id_sid = dict()\n",
        "song_sid_id = dict()\n",
        "for i, t in enumerate(song_dict):\n",
        "  song_id_sid[t] = i\n",
        "  song_sid_id[i] = t\n",
        "\n",
        "n_songs = len(song_dict)"
      ],
      "execution_count": null,
      "outputs": []
    },
    {
      "cell_type": "markdown",
      "metadata": {
        "id": "yasM1px9Rp9q"
      },
      "source": [
        "plylst의 songs와 tags를 새로운 id로 변환하여 DataFrame에 추가합니다"
      ]
    },
    {
      "cell_type": "code",
      "metadata": {
        "id": "Bkd8EkxeTXMo"
      },
      "source": [
        "plylst['songs_id'] = plylst['songs'].map(lambda x: [song_id_sid.get(s) for s in x if song_id_sid.get(s) != None])\n",
        "plylst['tags_id'] = plylst['tags'].map(lambda x: [tag_id_tid.get(t) for t in x if tag_id_tid.get(t) != None])"
      ],
      "execution_count": null,
      "outputs": []
    },
    {
      "cell_type": "code",
      "source": [
        "plylst.head()"
      ],
      "metadata": {
        "colab": {
          "base_uri": "https://localhost:8080/",
          "height": 424
        },
        "id": "Vg2LjFdsLKnR",
        "outputId": "ec3342ed-bb6e-4b83-b499-df32dc7e6ae0"
      },
      "execution_count": null,
      "outputs": [
        {
          "output_type": "execute_result",
          "data": {
            "text/html": [
              "\n",
              "  <div id=\"df-e68a1608-e066-4bc5-bdb4-a19e9fcf3567\">\n",
              "    <div class=\"colab-df-container\">\n",
              "      <div>\n",
              "<style scoped>\n",
              "    .dataframe tbody tr th:only-of-type {\n",
              "        vertical-align: middle;\n",
              "    }\n",
              "\n",
              "    .dataframe tbody tr th {\n",
              "        vertical-align: top;\n",
              "    }\n",
              "\n",
              "    .dataframe thead th {\n",
              "        text-align: right;\n",
              "    }\n",
              "</style>\n",
              "<table border=\"1\" class=\"dataframe\">\n",
              "  <thead>\n",
              "    <tr style=\"text-align: right;\">\n",
              "      <th></th>\n",
              "      <th>tags</th>\n",
              "      <th>id</th>\n",
              "      <th>plylst_title</th>\n",
              "      <th>songs</th>\n",
              "      <th>like_cnt</th>\n",
              "      <th>updt_date</th>\n",
              "      <th>istrain</th>\n",
              "      <th>nid</th>\n",
              "      <th>plylst_id</th>\n",
              "      <th>big_gnr_code</th>\n",
              "      <th>songs_id</th>\n",
              "      <th>tags_id</th>\n",
              "    </tr>\n",
              "  </thead>\n",
              "  <tbody>\n",
              "    <tr>\n",
              "      <th>0</th>\n",
              "      <td>[힐링, 휴식, 밤, 새벽]</td>\n",
              "      <td>147668</td>\n",
              "      <td>To. 힘들고 지친 분들에게</td>\n",
              "      <td>[663185, 649626, 6855, 188486, 348451, 169945,...</td>\n",
              "      <td>12</td>\n",
              "      <td>2016-06-23 10:06:27.000</td>\n",
              "      <td>1</td>\n",
              "      <td>0</td>\n",
              "      <td>147668.0</td>\n",
              "      <td>[GN1500, GN0600, GN0600, GN0500, GN0100, GN020...</td>\n",
              "      <td>[0, 1, 2, 3, 4, 5, 6, 7, 8, 9, 10, 11, 12, 13,...</td>\n",
              "      <td>[0, 1, 2, 3]</td>\n",
              "    </tr>\n",
              "    <tr>\n",
              "      <th>1</th>\n",
              "      <td>[팝]</td>\n",
              "      <td>50422</td>\n",
              "      <td>130807-7</td>\n",
              "      <td>[627035, 256438, 603324, 200889, 441319, 21689...</td>\n",
              "      <td>0</td>\n",
              "      <td>2013-08-15 13:17:11.000</td>\n",
              "      <td>1</td>\n",
              "      <td>1</td>\n",
              "      <td>50422.0</td>\n",
              "      <td>[GN1700, GN0900, GN1700, GN1400, GN1400, GN190...</td>\n",
              "      <td>[66, 67, 68, 69, 70, 71, 72, 73, 74, 75, 76, 7...</td>\n",
              "      <td>[4]</td>\n",
              "    </tr>\n",
              "    <tr>\n",
              "      <th>2</th>\n",
              "      <td>[뉴에이지]</td>\n",
              "      <td>116432</td>\n",
              "      <td>숙면을 위한 슬픈 마음을 달래 줄 피아노</td>\n",
              "      <td>[129204, 369497, 649743, 344619, 110281, 63266...</td>\n",
              "      <td>23</td>\n",
              "      <td>2015-09-03 16:51:50.000</td>\n",
              "      <td>1</td>\n",
              "      <td>2</td>\n",
              "      <td>116432.0</td>\n",
              "      <td>[GN1800, GN1800, GN1800, GN1800, GN1800, GN180...</td>\n",
              "      <td>[80, 81, 82, 83, 84, 85, 86, 87, 88, 89, 90, 9...</td>\n",
              "      <td>[5]</td>\n",
              "    </tr>\n",
              "    <tr>\n",
              "      <th>3</th>\n",
              "      <td>[하드락, 록스피릿, 댄스]</td>\n",
              "      <td>55076</td>\n",
              "      <td>당신을 하얗게 불태울 곡들</td>\n",
              "      <td>[677591, 420396, 104934, 119279, 251988, 58850...</td>\n",
              "      <td>1</td>\n",
              "      <td>2017-01-09 15:41:25.000</td>\n",
              "      <td>1</td>\n",
              "      <td>3</td>\n",
              "      <td>55076.0</td>\n",
              "      <td>[GN1000, GN2500, GN0300, GN1000, GN2500, GN030...</td>\n",
              "      <td>[95, 96, 97, 98, 99, 100, 101, 102, 103, 104, ...</td>\n",
              "      <td>[6, 7, 8]</td>\n",
              "    </tr>\n",
              "    <tr>\n",
              "      <th>4</th>\n",
              "      <td>[힐링, 휴식, 기분전환]</td>\n",
              "      <td>125064</td>\n",
              "      <td>[스피커 필수 / HIPHOP] 듣고 있음 꿀렁꿀렁이고 싶은 힙합음악!</td>\n",
              "      <td>[704455, 694036, 508043, 154933, 57614, 645195...</td>\n",
              "      <td>715</td>\n",
              "      <td>2016-02-22 12:32:50.000</td>\n",
              "      <td>1</td>\n",
              "      <td>4</td>\n",
              "      <td>125064.0</td>\n",
              "      <td>[GN1200, GN1200, GN1200, GN1200, GN1200, GN120...</td>\n",
              "      <td>[116, 117, 118, 119, 120, 121, 122, 123, 124, ...</td>\n",
              "      <td>[0, 1, 9]</td>\n",
              "    </tr>\n",
              "  </tbody>\n",
              "</table>\n",
              "</div>\n",
              "      <button class=\"colab-df-convert\" onclick=\"convertToInteractive('df-e68a1608-e066-4bc5-bdb4-a19e9fcf3567')\"\n",
              "              title=\"Convert this dataframe to an interactive table.\"\n",
              "              style=\"display:none;\">\n",
              "        \n",
              "  <svg xmlns=\"http://www.w3.org/2000/svg\" height=\"24px\"viewBox=\"0 0 24 24\"\n",
              "       width=\"24px\">\n",
              "    <path d=\"M0 0h24v24H0V0z\" fill=\"none\"/>\n",
              "    <path d=\"M18.56 5.44l.94 2.06.94-2.06 2.06-.94-2.06-.94-.94-2.06-.94 2.06-2.06.94zm-11 1L8.5 8.5l.94-2.06 2.06-.94-2.06-.94L8.5 2.5l-.94 2.06-2.06.94zm10 10l.94 2.06.94-2.06 2.06-.94-2.06-.94-.94-2.06-.94 2.06-2.06.94z\"/><path d=\"M17.41 7.96l-1.37-1.37c-.4-.4-.92-.59-1.43-.59-.52 0-1.04.2-1.43.59L10.3 9.45l-7.72 7.72c-.78.78-.78 2.05 0 2.83L4 21.41c.39.39.9.59 1.41.59.51 0 1.02-.2 1.41-.59l7.78-7.78 2.81-2.81c.8-.78.8-2.07 0-2.86zM5.41 20L4 18.59l7.72-7.72 1.47 1.35L5.41 20z\"/>\n",
              "  </svg>\n",
              "      </button>\n",
              "      \n",
              "  <style>\n",
              "    .colab-df-container {\n",
              "      display:flex;\n",
              "      flex-wrap:wrap;\n",
              "      gap: 12px;\n",
              "    }\n",
              "\n",
              "    .colab-df-convert {\n",
              "      background-color: #E8F0FE;\n",
              "      border: none;\n",
              "      border-radius: 50%;\n",
              "      cursor: pointer;\n",
              "      display: none;\n",
              "      fill: #1967D2;\n",
              "      height: 32px;\n",
              "      padding: 0 0 0 0;\n",
              "      width: 32px;\n",
              "    }\n",
              "\n",
              "    .colab-df-convert:hover {\n",
              "      background-color: #E2EBFA;\n",
              "      box-shadow: 0px 1px 2px rgba(60, 64, 67, 0.3), 0px 1px 3px 1px rgba(60, 64, 67, 0.15);\n",
              "      fill: #174EA6;\n",
              "    }\n",
              "\n",
              "    [theme=dark] .colab-df-convert {\n",
              "      background-color: #3B4455;\n",
              "      fill: #D2E3FC;\n",
              "    }\n",
              "\n",
              "    [theme=dark] .colab-df-convert:hover {\n",
              "      background-color: #434B5C;\n",
              "      box-shadow: 0px 1px 3px 1px rgba(0, 0, 0, 0.15);\n",
              "      filter: drop-shadow(0px 1px 2px rgba(0, 0, 0, 0.3));\n",
              "      fill: #FFFFFF;\n",
              "    }\n",
              "  </style>\n",
              "\n",
              "      <script>\n",
              "        const buttonEl =\n",
              "          document.querySelector('#df-e68a1608-e066-4bc5-bdb4-a19e9fcf3567 button.colab-df-convert');\n",
              "        buttonEl.style.display =\n",
              "          google.colab.kernel.accessAllowed ? 'block' : 'none';\n",
              "\n",
              "        async function convertToInteractive(key) {\n",
              "          const element = document.querySelector('#df-e68a1608-e066-4bc5-bdb4-a19e9fcf3567');\n",
              "          const dataTable =\n",
              "            await google.colab.kernel.invokeFunction('convertToInteractive',\n",
              "                                                     [key], {});\n",
              "          if (!dataTable) return;\n",
              "\n",
              "          const docLinkHtml = 'Like what you see? Visit the ' +\n",
              "            '<a target=\"_blank\" href=https://colab.research.google.com/notebooks/data_table.ipynb>data table notebook</a>'\n",
              "            + ' to learn more about interactive tables.';\n",
              "          element.innerHTML = '';\n",
              "          dataTable['output_type'] = 'display_data';\n",
              "          await google.colab.output.renderOutput(dataTable, element);\n",
              "          const docLink = document.createElement('div');\n",
              "          docLink.innerHTML = docLinkHtml;\n",
              "          element.appendChild(docLink);\n",
              "        }\n",
              "      </script>\n",
              "    </div>\n",
              "  </div>\n",
              "  "
            ],
            "text/plain": [
              "              tags  ...       tags_id\n",
              "0  [힐링, 휴식, 밤, 새벽]  ...  [0, 1, 2, 3]\n",
              "1              [팝]  ...           [4]\n",
              "2           [뉴에이지]  ...           [5]\n",
              "3  [하드락, 록스피릿, 댄스]  ...     [6, 7, 8]\n",
              "4   [힐링, 휴식, 기분전환]  ...     [0, 1, 9]\n",
              "\n",
              "[5 rows x 12 columns]"
            ]
          },
          "metadata": {},
          "execution_count": 47
        }
      ]
    },
    {
      "cell_type": "code",
      "metadata": {
        "id": "5OZHqvdZUWI-",
        "colab": {
          "base_uri": "https://localhost:8080/"
        },
        "outputId": "b468d1a8-b7ff-404d-de8b-628a8f320f02"
      },
      "source": [
        "plylst_use = plylst[['istrain','nid','updt_date','songs_id','tags_id','big_gnr_code']]\n",
        "plylst_use.loc[:,'num_songs'] = plylst_use['songs_id'].map(len)\n",
        "plylst_use.loc[:,'num_tags'] = plylst_use['tags_id'].map(len)\n",
        "plylst_use = plylst_use.set_index('nid')"
      ],
      "execution_count": null,
      "outputs": [
        {
          "output_type": "stream",
          "name": "stderr",
          "text": [
            "/usr/local/lib/python3.7/dist-packages/pandas/core/indexing.py:1596: SettingWithCopyWarning: \n",
            "A value is trying to be set on a copy of a slice from a DataFrame.\n",
            "Try using .loc[row_indexer,col_indexer] = value instead\n",
            "\n",
            "See the caveats in the documentation: https://pandas.pydata.org/pandas-docs/stable/user_guide/indexing.html#returning-a-view-versus-a-copy\n",
            "  self.obj[key] = _infer_fill_value(value)\n",
            "/usr/local/lib/python3.7/dist-packages/pandas/core/indexing.py:1743: SettingWithCopyWarning: \n",
            "A value is trying to be set on a copy of a slice from a DataFrame.\n",
            "Try using .loc[row_indexer,col_indexer] = value instead\n",
            "\n",
            "See the caveats in the documentation: https://pandas.pydata.org/pandas-docs/stable/user_guide/indexing.html#returning-a-view-versus-a-copy\n",
            "  isetter(ilocs[0], value)\n"
          ]
        }
      ]
    },
    {
      "cell_type": "code",
      "metadata": {
        "colab": {
          "base_uri": "https://localhost:8080/",
          "height": 455
        },
        "id": "Z_7iMQze7GS6",
        "outputId": "34855db2-2e00-4778-a6ce-e997fdbb3a5c"
      },
      "source": [
        "plylst_use"
      ],
      "execution_count": null,
      "outputs": [
        {
          "output_type": "execute_result",
          "data": {
            "text/html": [
              "\n",
              "  <div id=\"df-c9f82943-f514-403b-9615-c672d4e05a9a\">\n",
              "    <div class=\"colab-df-container\">\n",
              "      <div>\n",
              "<style scoped>\n",
              "    .dataframe tbody tr th:only-of-type {\n",
              "        vertical-align: middle;\n",
              "    }\n",
              "\n",
              "    .dataframe tbody tr th {\n",
              "        vertical-align: top;\n",
              "    }\n",
              "\n",
              "    .dataframe thead th {\n",
              "        text-align: right;\n",
              "    }\n",
              "</style>\n",
              "<table border=\"1\" class=\"dataframe\">\n",
              "  <thead>\n",
              "    <tr style=\"text-align: right;\">\n",
              "      <th></th>\n",
              "      <th>istrain</th>\n",
              "      <th>updt_date</th>\n",
              "      <th>songs_id</th>\n",
              "      <th>tags_id</th>\n",
              "      <th>big_gnr_code</th>\n",
              "      <th>num_songs</th>\n",
              "      <th>num_tags</th>\n",
              "    </tr>\n",
              "    <tr>\n",
              "      <th>nid</th>\n",
              "      <th></th>\n",
              "      <th></th>\n",
              "      <th></th>\n",
              "      <th></th>\n",
              "      <th></th>\n",
              "      <th></th>\n",
              "      <th></th>\n",
              "    </tr>\n",
              "  </thead>\n",
              "  <tbody>\n",
              "    <tr>\n",
              "      <th>0</th>\n",
              "      <td>1</td>\n",
              "      <td>2016-06-23 10:06:27.000</td>\n",
              "      <td>[0, 1, 2, 3, 4, 5, 6, 7, 8, 9, 10, 11, 12, 13,...</td>\n",
              "      <td>[0, 1, 2, 3]</td>\n",
              "      <td>[GN1500, GN0600, GN0600, GN0500, GN0100, GN020...</td>\n",
              "      <td>66</td>\n",
              "      <td>4</td>\n",
              "    </tr>\n",
              "    <tr>\n",
              "      <th>1</th>\n",
              "      <td>1</td>\n",
              "      <td>2013-08-15 13:17:11.000</td>\n",
              "      <td>[66, 67, 68, 69, 70, 71, 72, 73, 74, 75, 76, 7...</td>\n",
              "      <td>[4]</td>\n",
              "      <td>[GN1700, GN0900, GN1700, GN1400, GN1400, GN190...</td>\n",
              "      <td>14</td>\n",
              "      <td>1</td>\n",
              "    </tr>\n",
              "    <tr>\n",
              "      <th>2</th>\n",
              "      <td>1</td>\n",
              "      <td>2015-09-03 16:51:50.000</td>\n",
              "      <td>[80, 81, 82, 83, 84, 85, 86, 87, 88, 89, 90, 9...</td>\n",
              "      <td>[5]</td>\n",
              "      <td>[GN1800, GN1800, GN1800, GN1800, GN1800, GN180...</td>\n",
              "      <td>15</td>\n",
              "      <td>1</td>\n",
              "    </tr>\n",
              "    <tr>\n",
              "      <th>3</th>\n",
              "      <td>1</td>\n",
              "      <td>2017-01-09 15:41:25.000</td>\n",
              "      <td>[95, 96, 97, 98, 99, 100, 101, 102, 103, 104, ...</td>\n",
              "      <td>[6, 7, 8]</td>\n",
              "      <td>[GN1000, GN2500, GN0300, GN1000, GN2500, GN030...</td>\n",
              "      <td>21</td>\n",
              "      <td>3</td>\n",
              "    </tr>\n",
              "    <tr>\n",
              "      <th>4</th>\n",
              "      <td>1</td>\n",
              "      <td>2016-02-22 12:32:50.000</td>\n",
              "      <td>[116, 117, 118, 119, 120, 121, 122, 123, 124, ...</td>\n",
              "      <td>[0, 1, 9]</td>\n",
              "      <td>[GN1200, GN1200, GN1200, GN1200, GN1200, GN120...</td>\n",
              "      <td>35</td>\n",
              "      <td>3</td>\n",
              "    </tr>\n",
              "    <tr>\n",
              "      <th>...</th>\n",
              "      <td>...</td>\n",
              "      <td>...</td>\n",
              "      <td>...</td>\n",
              "      <td>...</td>\n",
              "      <td>...</td>\n",
              "      <td>...</td>\n",
              "      <td>...</td>\n",
              "    </tr>\n",
              "    <tr>\n",
              "      <th>115066</th>\n",
              "      <td>0</td>\n",
              "      <td>2016-06-24 15:33:51.000</td>\n",
              "      <td>[4218, 3461, 3442, 4562, 339, 18516, 45319, 23...</td>\n",
              "      <td>[]</td>\n",
              "      <td>[GN2500, GN0300, GN0300, GN2500, GN0200, GN020...</td>\n",
              "      <td>52</td>\n",
              "      <td>0</td>\n",
              "    </tr>\n",
              "    <tr>\n",
              "      <th>115067</th>\n",
              "      <td>0</td>\n",
              "      <td>2015-07-24 09:44:06.000</td>\n",
              "      <td>[179155, 494519, 278615, 57372, 4489, 226672, ...</td>\n",
              "      <td>[2, 3]</td>\n",
              "      <td>[GN1600, GN1700, GN1500, GN1700, GN1000, GN170...</td>\n",
              "      <td>10</td>\n",
              "      <td>2</td>\n",
              "    </tr>\n",
              "    <tr>\n",
              "      <th>115068</th>\n",
              "      <td>0</td>\n",
              "      <td>2019-06-17 16:14:08.000</td>\n",
              "      <td>[]</td>\n",
              "      <td>[332]</td>\n",
              "      <td>NaN</td>\n",
              "      <td>0</td>\n",
              "      <td>1</td>\n",
              "    </tr>\n",
              "    <tr>\n",
              "      <th>115069</th>\n",
              "      <td>0</td>\n",
              "      <td>2014-02-11 18:08:48.000</td>\n",
              "      <td>[]</td>\n",
              "      <td>[38]</td>\n",
              "      <td>NaN</td>\n",
              "      <td>0</td>\n",
              "      <td>1</td>\n",
              "    </tr>\n",
              "    <tr>\n",
              "      <th>115070</th>\n",
              "      <td>0</td>\n",
              "      <td>2017-09-27 17:14:06.000</td>\n",
              "      <td>[]</td>\n",
              "      <td>[]</td>\n",
              "      <td>NaN</td>\n",
              "      <td>0</td>\n",
              "      <td>0</td>\n",
              "    </tr>\n",
              "  </tbody>\n",
              "</table>\n",
              "<p>115071 rows × 7 columns</p>\n",
              "</div>\n",
              "      <button class=\"colab-df-convert\" onclick=\"convertToInteractive('df-c9f82943-f514-403b-9615-c672d4e05a9a')\"\n",
              "              title=\"Convert this dataframe to an interactive table.\"\n",
              "              style=\"display:none;\">\n",
              "        \n",
              "  <svg xmlns=\"http://www.w3.org/2000/svg\" height=\"24px\"viewBox=\"0 0 24 24\"\n",
              "       width=\"24px\">\n",
              "    <path d=\"M0 0h24v24H0V0z\" fill=\"none\"/>\n",
              "    <path d=\"M18.56 5.44l.94 2.06.94-2.06 2.06-.94-2.06-.94-.94-2.06-.94 2.06-2.06.94zm-11 1L8.5 8.5l.94-2.06 2.06-.94-2.06-.94L8.5 2.5l-.94 2.06-2.06.94zm10 10l.94 2.06.94-2.06 2.06-.94-2.06-.94-.94-2.06-.94 2.06-2.06.94z\"/><path d=\"M17.41 7.96l-1.37-1.37c-.4-.4-.92-.59-1.43-.59-.52 0-1.04.2-1.43.59L10.3 9.45l-7.72 7.72c-.78.78-.78 2.05 0 2.83L4 21.41c.39.39.9.59 1.41.59.51 0 1.02-.2 1.41-.59l7.78-7.78 2.81-2.81c.8-.78.8-2.07 0-2.86zM5.41 20L4 18.59l7.72-7.72 1.47 1.35L5.41 20z\"/>\n",
              "  </svg>\n",
              "      </button>\n",
              "      \n",
              "  <style>\n",
              "    .colab-df-container {\n",
              "      display:flex;\n",
              "      flex-wrap:wrap;\n",
              "      gap: 12px;\n",
              "    }\n",
              "\n",
              "    .colab-df-convert {\n",
              "      background-color: #E8F0FE;\n",
              "      border: none;\n",
              "      border-radius: 50%;\n",
              "      cursor: pointer;\n",
              "      display: none;\n",
              "      fill: #1967D2;\n",
              "      height: 32px;\n",
              "      padding: 0 0 0 0;\n",
              "      width: 32px;\n",
              "    }\n",
              "\n",
              "    .colab-df-convert:hover {\n",
              "      background-color: #E2EBFA;\n",
              "      box-shadow: 0px 1px 2px rgba(60, 64, 67, 0.3), 0px 1px 3px 1px rgba(60, 64, 67, 0.15);\n",
              "      fill: #174EA6;\n",
              "    }\n",
              "\n",
              "    [theme=dark] .colab-df-convert {\n",
              "      background-color: #3B4455;\n",
              "      fill: #D2E3FC;\n",
              "    }\n",
              "\n",
              "    [theme=dark] .colab-df-convert:hover {\n",
              "      background-color: #434B5C;\n",
              "      box-shadow: 0px 1px 3px 1px rgba(0, 0, 0, 0.15);\n",
              "      filter: drop-shadow(0px 1px 2px rgba(0, 0, 0, 0.3));\n",
              "      fill: #FFFFFF;\n",
              "    }\n",
              "  </style>\n",
              "\n",
              "      <script>\n",
              "        const buttonEl =\n",
              "          document.querySelector('#df-c9f82943-f514-403b-9615-c672d4e05a9a button.colab-df-convert');\n",
              "        buttonEl.style.display =\n",
              "          google.colab.kernel.accessAllowed ? 'block' : 'none';\n",
              "\n",
              "        async function convertToInteractive(key) {\n",
              "          const element = document.querySelector('#df-c9f82943-f514-403b-9615-c672d4e05a9a');\n",
              "          const dataTable =\n",
              "            await google.colab.kernel.invokeFunction('convertToInteractive',\n",
              "                                                     [key], {});\n",
              "          if (!dataTable) return;\n",
              "\n",
              "          const docLinkHtml = 'Like what you see? Visit the ' +\n",
              "            '<a target=\"_blank\" href=https://colab.research.google.com/notebooks/data_table.ipynb>data table notebook</a>'\n",
              "            + ' to learn more about interactive tables.';\n",
              "          element.innerHTML = '';\n",
              "          dataTable['output_type'] = 'display_data';\n",
              "          await google.colab.output.renderOutput(dataTable, element);\n",
              "          const docLink = document.createElement('div');\n",
              "          docLink.innerHTML = docLinkHtml;\n",
              "          element.appendChild(docLink);\n",
              "        }\n",
              "      </script>\n",
              "    </div>\n",
              "  </div>\n",
              "  "
            ],
            "text/plain": [
              "        istrain                updt_date  ... num_songs num_tags\n",
              "nid                                       ...                   \n",
              "0             1  2016-06-23 10:06:27.000  ...        66        4\n",
              "1             1  2013-08-15 13:17:11.000  ...        14        1\n",
              "2             1  2015-09-03 16:51:50.000  ...        15        1\n",
              "3             1  2017-01-09 15:41:25.000  ...        21        3\n",
              "4             1  2016-02-22 12:32:50.000  ...        35        3\n",
              "...         ...                      ...  ...       ...      ...\n",
              "115066        0  2016-06-24 15:33:51.000  ...        52        0\n",
              "115067        0  2015-07-24 09:44:06.000  ...        10        2\n",
              "115068        0  2019-06-17 16:14:08.000  ...         0        1\n",
              "115069        0  2014-02-11 18:08:48.000  ...         0        1\n",
              "115070        0  2017-09-27 17:14:06.000  ...         0        0\n",
              "\n",
              "[115071 rows x 7 columns]"
            ]
          },
          "metadata": {},
          "execution_count": 57
        }
      ]
    },
    {
      "cell_type": "code",
      "source": [
        "# 각 플레이리스트별 {장르: 등장 빈도} 딕셔너리 (곡, 장르가 nan인 경우는 제외함)\n",
        "plylst_not_na = plylst_use[plylst_use['big_gnr_code'].isnull() == False]\n",
        "gnr_cnt_dict = plylst_not_na['big_gnr_code'].map(lambda x: Counter(x))"
      ],
      "metadata": {
        "id": "MfAd55BPOBka"
      },
      "execution_count": null,
      "outputs": []
    },
    {
      "cell_type": "code",
      "source": [
        "gnr_cnt_dict"
      ],
      "metadata": {
        "colab": {
          "base_uri": "https://localhost:8080/"
        },
        "id": "fGuGl0l706fr",
        "outputId": "dc94372b-a6fe-44da-db67-073cb0b9194c"
      },
      "execution_count": null,
      "outputs": [
        {
          "output_type": "execute_result",
          "data": {
            "text/plain": [
              "nid\n",
              "0         {'GN1500': 7, 'GN0600': 17, 'GN0500': 14, 'GN0...\n",
              "1         {'GN1700': 5, 'GN0900': 1, 'GN1400': 2, 'GN190...\n",
              "2                               {'GN1800': 14, 'GN1500': 1}\n",
              "3         {'GN1000': 15, 'GN2500': 2, 'GN0300': 2, 'GN09...\n",
              "4         {'GN1200': 24, 'GN1300': 7, 'GN0900': 1, 'GN15...\n",
              "                                ...                        \n",
              "115063    {'GN2600': 70, 'GN1100': 21, 'GN2700': 9, 'GN0...\n",
              "115064    {'GN0100': 18, 'GN0500': 5, 'GN0600': 4, 'GN04...\n",
              "115065    {'GN2600': 1, 'GN0900': 2, 'GN0100': 5, 'GN040...\n",
              "115066    {'GN2500': 20, 'GN0300': 11, 'GN0200': 33, 'GN...\n",
              "115067    {'GN1600': 1, 'GN1700': 6, 'GN1500': 1, 'GN100...\n",
              "Name: big_gnr_code, Length: 110465, dtype: object"
            ]
          },
          "metadata": {},
          "execution_count": 166
        }
      ]
    },
    {
      "cell_type": "code",
      "source": [
        "for i in gnr_cnt_dict.iloc[:4]:\n",
        "  print(i.keys())"
      ],
      "metadata": {
        "colab": {
          "base_uri": "https://localhost:8080/"
        },
        "id": "AcK0_XahtXtu",
        "outputId": "e35da29c-e922-4c1b-b28a-2e61c7bbf6b7"
      },
      "execution_count": null,
      "outputs": [
        {
          "output_type": "stream",
          "name": "stdout",
          "text": [
            "dict_keys(['GN1500', 'GN0600', 'GN0500', 'GN0100', 'GN0200', 'GN0800', 'GN0300', 'GN1000', 'GN0900', 'GN0400', 'GN2500', 'GN1700'])\n",
            "dict_keys(['GN1700', 'GN0900', 'GN1400', 'GN1900', 'GN0500', 'GN0300', 'GN1300', 'GN0100'])\n",
            "dict_keys(['GN1800', 'GN1500'])\n",
            "dict_keys(['GN1000', 'GN2500', 'GN0300', 'GN0900', 'GN0600'])\n"
          ]
        }
      ]
    },
    {
      "cell_type": "code",
      "source": [
        "gnr_cnt_dict[0].keys()"
      ],
      "metadata": {
        "colab": {
          "base_uri": "https://localhost:8080/"
        },
        "id": "cqkcr25XrmD7",
        "outputId": "7bf7202e-0b97-4977-cc05-390565f6a5b6"
      },
      "execution_count": null,
      "outputs": [
        {
          "output_type": "execute_result",
          "data": {
            "text/plain": [
              "dict_keys(['GN1500', 'GN0600', 'GN0500', 'GN0100', 'GN0200', 'GN0800', 'GN0300', 'GN1000', 'GN0900', 'GN0400', 'GN2500', 'GN1700'])"
            ]
          },
          "metadata": {},
          "execution_count": 142
        }
      ]
    },
    {
      "cell_type": "code",
      "source": [
        "gnr_cnt_dict[0].values()"
      ],
      "metadata": {
        "colab": {
          "base_uri": "https://localhost:8080/"
        },
        "id": "GUtiVAgFtUf-",
        "outputId": "830dc4e8-945d-4a58-aef3-6502e23e1590"
      },
      "execution_count": null,
      "outputs": [
        {
          "output_type": "execute_result",
          "data": {
            "text/plain": [
              "dict_values([7, 17, 14, 21, 3, 5, 2, 6, 2, 8, 6, 1])"
            ]
          },
          "metadata": {},
          "execution_count": 143
        }
      ]
    },
    {
      "cell_type": "code",
      "source": [
        "# 각 플레이리스트별로 포함된 장르 개수\n",
        "n_gnr = gnr_cnt_dict.map(len)\n",
        "n_gnr"
      ],
      "metadata": {
        "colab": {
          "base_uri": "https://localhost:8080/"
        },
        "id": "bVJltdvru9-B",
        "outputId": "82a98c56-747c-4884-82c6-ccc1fd8e57f5"
      },
      "execution_count": null,
      "outputs": [
        {
          "output_type": "execute_result",
          "data": {
            "text/plain": [
              "nid\n",
              "0         12\n",
              "1          8\n",
              "2          2\n",
              "3          5\n",
              "4          5\n",
              "          ..\n",
              "115063     5\n",
              "115064    16\n",
              "115065     4\n",
              "115066     7\n",
              "115067     5\n",
              "Name: big_gnr_code, Length: 110465, dtype: int64"
            ]
          },
          "metadata": {},
          "execution_count": 156
        }
      ]
    },
    {
      "cell_type": "markdown",
      "source": [
        "- 여기서부터 train/test 다시 나눔"
      ],
      "metadata": {
        "id": "_dHIFLNA93BY"
      }
    },
    {
      "cell_type": "code",
      "metadata": {
        "id": "VeKHBqPawcTA"
      },
      "source": [
        "plylst_train = plylst_use.iloc[:n_train,:]\n",
        "plylst_test = plylst_use.iloc[n_train:,:]"
      ],
      "execution_count": null,
      "outputs": []
    },
    {
      "cell_type": "code",
      "source": [
        "plylst_train"
      ],
      "metadata": {
        "colab": {
          "base_uri": "https://localhost:8080/",
          "height": 499
        },
        "id": "-JoDDRQVzAOz",
        "outputId": "c49a901f-5147-4fc9-fd76-1af075607a10"
      },
      "execution_count": null,
      "outputs": [
        {
          "output_type": "execute_result",
          "data": {
            "text/html": [
              "\n",
              "  <div id=\"df-9dbaf7a0-c1e5-4e60-90e9-56b944f05f4d\">\n",
              "    <div class=\"colab-df-container\">\n",
              "      <div>\n",
              "<style scoped>\n",
              "    .dataframe tbody tr th:only-of-type {\n",
              "        vertical-align: middle;\n",
              "    }\n",
              "\n",
              "    .dataframe tbody tr th {\n",
              "        vertical-align: top;\n",
              "    }\n",
              "\n",
              "    .dataframe thead th {\n",
              "        text-align: right;\n",
              "    }\n",
              "</style>\n",
              "<table border=\"1\" class=\"dataframe\">\n",
              "  <thead>\n",
              "    <tr style=\"text-align: right;\">\n",
              "      <th></th>\n",
              "      <th>istrain</th>\n",
              "      <th>updt_date</th>\n",
              "      <th>songs_id</th>\n",
              "      <th>tags_id</th>\n",
              "      <th>big_gnr_code</th>\n",
              "      <th>num_songs</th>\n",
              "      <th>num_tags</th>\n",
              "    </tr>\n",
              "    <tr>\n",
              "      <th>nid</th>\n",
              "      <th></th>\n",
              "      <th></th>\n",
              "      <th></th>\n",
              "      <th></th>\n",
              "      <th></th>\n",
              "      <th></th>\n",
              "      <th></th>\n",
              "    </tr>\n",
              "  </thead>\n",
              "  <tbody>\n",
              "    <tr>\n",
              "      <th>0</th>\n",
              "      <td>1</td>\n",
              "      <td>2016-06-23 10:06:27.000</td>\n",
              "      <td>[0, 1, 2, 3, 4, 5, 6, 7, 8, 9, 10, 11, 12, 13,...</td>\n",
              "      <td>[0, 1, 2, 3]</td>\n",
              "      <td>[GN1500, GN0600, GN0600, GN0500, GN0100, GN020...</td>\n",
              "      <td>66</td>\n",
              "      <td>4</td>\n",
              "    </tr>\n",
              "    <tr>\n",
              "      <th>1</th>\n",
              "      <td>1</td>\n",
              "      <td>2013-08-15 13:17:11.000</td>\n",
              "      <td>[66, 67, 68, 69, 70, 71, 72, 73, 74, 75, 76, 7...</td>\n",
              "      <td>[4]</td>\n",
              "      <td>[GN1700, GN0900, GN1700, GN1400, GN1400, GN190...</td>\n",
              "      <td>14</td>\n",
              "      <td>1</td>\n",
              "    </tr>\n",
              "    <tr>\n",
              "      <th>2</th>\n",
              "      <td>1</td>\n",
              "      <td>2015-09-03 16:51:50.000</td>\n",
              "      <td>[80, 81, 82, 83, 84, 85, 86, 87, 88, 89, 90, 9...</td>\n",
              "      <td>[5]</td>\n",
              "      <td>[GN1800, GN1800, GN1800, GN1800, GN1800, GN180...</td>\n",
              "      <td>15</td>\n",
              "      <td>1</td>\n",
              "    </tr>\n",
              "    <tr>\n",
              "      <th>3</th>\n",
              "      <td>1</td>\n",
              "      <td>2017-01-09 15:41:25.000</td>\n",
              "      <td>[95, 96, 97, 98, 99, 100, 101, 102, 103, 104, ...</td>\n",
              "      <td>[6, 7, 8]</td>\n",
              "      <td>[GN1000, GN2500, GN0300, GN1000, GN2500, GN030...</td>\n",
              "      <td>21</td>\n",
              "      <td>3</td>\n",
              "    </tr>\n",
              "    <tr>\n",
              "      <th>4</th>\n",
              "      <td>1</td>\n",
              "      <td>2016-02-22 12:32:50.000</td>\n",
              "      <td>[116, 117, 118, 119, 120, 121, 122, 123, 124, ...</td>\n",
              "      <td>[0, 1, 9]</td>\n",
              "      <td>[GN1200, GN1200, GN1200, GN1200, GN1200, GN120...</td>\n",
              "      <td>35</td>\n",
              "      <td>3</td>\n",
              "    </tr>\n",
              "    <tr>\n",
              "      <th>...</th>\n",
              "      <td>...</td>\n",
              "      <td>...</td>\n",
              "      <td>...</td>\n",
              "      <td>...</td>\n",
              "      <td>...</td>\n",
              "      <td>...</td>\n",
              "      <td>...</td>\n",
              "    </tr>\n",
              "    <tr>\n",
              "      <th>92051</th>\n",
              "      <td>1</td>\n",
              "      <td>2020-01-15 15:15:45.000</td>\n",
              "      <td>[7846, 25985, 8369, 25484, 18175, 47640, 64639...</td>\n",
              "      <td>[3155, 60, 58, 418, 23797, 1429]</td>\n",
              "      <td>[GN0100, GN0100, GN0100, GN0800, GN0800, GN080...</td>\n",
              "      <td>200</td>\n",
              "      <td>6</td>\n",
              "    </tr>\n",
              "    <tr>\n",
              "      <th>92052</th>\n",
              "      <td>1</td>\n",
              "      <td>2010-03-23 00:03:00.000</td>\n",
              "      <td>[549717, 312106, 44486, 73897, 549718, 75445, ...</td>\n",
              "      <td>[4]</td>\n",
              "      <td>[GN1000, GN0900, GN0900, GN1200, GN0900, GN130...</td>\n",
              "      <td>12</td>\n",
              "      <td>1</td>\n",
              "    </tr>\n",
              "    <tr>\n",
              "      <th>92053</th>\n",
              "      <td>1</td>\n",
              "      <td>2019-05-15 13:26:07.000</td>\n",
              "      <td>[61348, 16816, 1589, 83322, 8238, 152861, 1528...</td>\n",
              "      <td>[19, 18, 9, 37]</td>\n",
              "      <td>[GN0400, GN0600, GN0400, GN0100, GN0300, GN060...</td>\n",
              "      <td>99</td>\n",
              "      <td>4</td>\n",
              "    </tr>\n",
              "    <tr>\n",
              "      <th>92054</th>\n",
              "      <td>1</td>\n",
              "      <td>2013-12-24 14:40:01.000</td>\n",
              "      <td>[191659, 182526, 549722, 183503, 35025, 79397,...</td>\n",
              "      <td>[159, 38]</td>\n",
              "      <td>[GN1300, GN1300, GN1300, GN1300, GN1300, GN130...</td>\n",
              "      <td>32</td>\n",
              "      <td>2</td>\n",
              "    </tr>\n",
              "    <tr>\n",
              "      <th>92055</th>\n",
              "      <td>1</td>\n",
              "      <td>2009-11-04 04:03:01.000</td>\n",
              "      <td>[6306, 336809, 151243, 401536, 320818, 6277, 2...</td>\n",
              "      <td>[61, 171]</td>\n",
              "      <td>[GN1200, GN1200, GN1200, GN1200, GN1200, GN120...</td>\n",
              "      <td>26</td>\n",
              "      <td>2</td>\n",
              "    </tr>\n",
              "  </tbody>\n",
              "</table>\n",
              "<p>92056 rows × 7 columns</p>\n",
              "</div>\n",
              "      <button class=\"colab-df-convert\" onclick=\"convertToInteractive('df-9dbaf7a0-c1e5-4e60-90e9-56b944f05f4d')\"\n",
              "              title=\"Convert this dataframe to an interactive table.\"\n",
              "              style=\"display:none;\">\n",
              "        \n",
              "  <svg xmlns=\"http://www.w3.org/2000/svg\" height=\"24px\"viewBox=\"0 0 24 24\"\n",
              "       width=\"24px\">\n",
              "    <path d=\"M0 0h24v24H0V0z\" fill=\"none\"/>\n",
              "    <path d=\"M18.56 5.44l.94 2.06.94-2.06 2.06-.94-2.06-.94-.94-2.06-.94 2.06-2.06.94zm-11 1L8.5 8.5l.94-2.06 2.06-.94-2.06-.94L8.5 2.5l-.94 2.06-2.06.94zm10 10l.94 2.06.94-2.06 2.06-.94-2.06-.94-.94-2.06-.94 2.06-2.06.94z\"/><path d=\"M17.41 7.96l-1.37-1.37c-.4-.4-.92-.59-1.43-.59-.52 0-1.04.2-1.43.59L10.3 9.45l-7.72 7.72c-.78.78-.78 2.05 0 2.83L4 21.41c.39.39.9.59 1.41.59.51 0 1.02-.2 1.41-.59l7.78-7.78 2.81-2.81c.8-.78.8-2.07 0-2.86zM5.41 20L4 18.59l7.72-7.72 1.47 1.35L5.41 20z\"/>\n",
              "  </svg>\n",
              "      </button>\n",
              "      \n",
              "  <style>\n",
              "    .colab-df-container {\n",
              "      display:flex;\n",
              "      flex-wrap:wrap;\n",
              "      gap: 12px;\n",
              "    }\n",
              "\n",
              "    .colab-df-convert {\n",
              "      background-color: #E8F0FE;\n",
              "      border: none;\n",
              "      border-radius: 50%;\n",
              "      cursor: pointer;\n",
              "      display: none;\n",
              "      fill: #1967D2;\n",
              "      height: 32px;\n",
              "      padding: 0 0 0 0;\n",
              "      width: 32px;\n",
              "    }\n",
              "\n",
              "    .colab-df-convert:hover {\n",
              "      background-color: #E2EBFA;\n",
              "      box-shadow: 0px 1px 2px rgba(60, 64, 67, 0.3), 0px 1px 3px 1px rgba(60, 64, 67, 0.15);\n",
              "      fill: #174EA6;\n",
              "    }\n",
              "\n",
              "    [theme=dark] .colab-df-convert {\n",
              "      background-color: #3B4455;\n",
              "      fill: #D2E3FC;\n",
              "    }\n",
              "\n",
              "    [theme=dark] .colab-df-convert:hover {\n",
              "      background-color: #434B5C;\n",
              "      box-shadow: 0px 1px 3px 1px rgba(0, 0, 0, 0.15);\n",
              "      filter: drop-shadow(0px 1px 2px rgba(0, 0, 0, 0.3));\n",
              "      fill: #FFFFFF;\n",
              "    }\n",
              "  </style>\n",
              "\n",
              "      <script>\n",
              "        const buttonEl =\n",
              "          document.querySelector('#df-9dbaf7a0-c1e5-4e60-90e9-56b944f05f4d button.colab-df-convert');\n",
              "        buttonEl.style.display =\n",
              "          google.colab.kernel.accessAllowed ? 'block' : 'none';\n",
              "\n",
              "        async function convertToInteractive(key) {\n",
              "          const element = document.querySelector('#df-9dbaf7a0-c1e5-4e60-90e9-56b944f05f4d');\n",
              "          const dataTable =\n",
              "            await google.colab.kernel.invokeFunction('convertToInteractive',\n",
              "                                                     [key], {});\n",
              "          if (!dataTable) return;\n",
              "\n",
              "          const docLinkHtml = 'Like what you see? Visit the ' +\n",
              "            '<a target=\"_blank\" href=https://colab.research.google.com/notebooks/data_table.ipynb>data table notebook</a>'\n",
              "            + ' to learn more about interactive tables.';\n",
              "          element.innerHTML = '';\n",
              "          dataTable['output_type'] = 'display_data';\n",
              "          await google.colab.output.renderOutput(dataTable, element);\n",
              "          const docLink = document.createElement('div');\n",
              "          docLink.innerHTML = docLinkHtml;\n",
              "          element.appendChild(docLink);\n",
              "        }\n",
              "      </script>\n",
              "    </div>\n",
              "  </div>\n",
              "  "
            ],
            "text/plain": [
              "       istrain                updt_date  ... num_songs num_tags\n",
              "nid                                      ...                   \n",
              "0            1  2016-06-23 10:06:27.000  ...        66        4\n",
              "1            1  2013-08-15 13:17:11.000  ...        14        1\n",
              "2            1  2015-09-03 16:51:50.000  ...        15        1\n",
              "3            1  2017-01-09 15:41:25.000  ...        21        3\n",
              "4            1  2016-02-22 12:32:50.000  ...        35        3\n",
              "...        ...                      ...  ...       ...      ...\n",
              "92051        1  2020-01-15 15:15:45.000  ...       200        6\n",
              "92052        1  2010-03-23 00:03:00.000  ...        12        1\n",
              "92053        1  2019-05-15 13:26:07.000  ...        99        4\n",
              "92054        1  2013-12-24 14:40:01.000  ...        32        2\n",
              "92055        1  2009-11-04 04:03:01.000  ...        26        2\n",
              "\n",
              "[92056 rows x 7 columns]"
            ]
          },
          "metadata": {},
          "execution_count": 159
        }
      ]
    },
    {
      "cell_type": "code",
      "source": [
        "sum(plylst_train['big_gnr_code'].isnull()) # train data에는 장르, 곡에 결측값 없음"
      ],
      "metadata": {
        "colab": {
          "base_uri": "https://localhost:8080/"
        },
        "id": "WeXpS9JCw8TL",
        "outputId": "b8a81523-b54a-423c-dabf-0fda60eb1820"
      },
      "execution_count": null,
      "outputs": [
        {
          "output_type": "execute_result",
          "data": {
            "text/plain": [
              "0"
            ]
          },
          "metadata": {},
          "execution_count": 157
        }
      ]
    },
    {
      "cell_type": "code",
      "source": [
        "np.repeat(range(n_train), n_gnr[plylst_train.index])"
      ],
      "metadata": {
        "colab": {
          "base_uri": "https://localhost:8080/"
        },
        "id": "DWf3try0ySZ7",
        "outputId": "ef2d6159-344a-44fe-bdec-b06162af7a78"
      },
      "execution_count": null,
      "outputs": [
        {
          "output_type": "execute_result",
          "data": {
            "text/plain": [
              "array([    0,     0,     0, ..., 92055, 92055, 92055])"
            ]
          },
          "metadata": {},
          "execution_count": 158
        }
      ]
    },
    {
      "cell_type": "code",
      "source": [
        "gnr_cnt_dict[:n_train]"
      ],
      "metadata": {
        "colab": {
          "base_uri": "https://localhost:8080/"
        },
        "id": "8zp-U8cc45kV",
        "outputId": "339f7f75-351f-4dbd-d7b5-4a7dc16f10bc"
      },
      "execution_count": null,
      "outputs": [
        {
          "output_type": "execute_result",
          "data": {
            "text/plain": [
              "nid\n",
              "0        {'GN1500': 7, 'GN0600': 17, 'GN0500': 14, 'GN0...\n",
              "1        {'GN1700': 5, 'GN0900': 1, 'GN1400': 2, 'GN190...\n",
              "2                              {'GN1800': 14, 'GN1500': 1}\n",
              "3        {'GN1000': 15, 'GN2500': 2, 'GN0300': 2, 'GN09...\n",
              "4        {'GN1200': 24, 'GN1300': 7, 'GN0900': 1, 'GN15...\n",
              "                               ...                        \n",
              "92051    {'GN0100': 141, 'GN0800': 15, 'GN0400': 19, 'G...\n",
              "92052    {'GN1000': 1, 'GN0900': 7, 'GN1200': 1, 'GN130...\n",
              "92053    {'GN0400': 18, 'GN0600': 13, 'GN0100': 46, 'GN...\n",
              "92054    {'GN1300': 24, 'GN1200': 4, 'GN0900': 2, 'GN11...\n",
              "92055    {'GN1200': 24, 'GN1500': 2, 'GN2200': 1, 'GN09...\n",
              "Name: big_gnr_code, Length: 92056, dtype: object"
            ]
          },
          "metadata": {},
          "execution_count": 192
        }
      ]
    },
    {
      "cell_type": "code",
      "source": [
        "gnr_list_all = np.concatenate(list(map(lambda x: list(x.keys()), gnr_cnt_dict[:n_train])))\n",
        "gnr_list_all"
      ],
      "metadata": {
        "colab": {
          "base_uri": "https://localhost:8080/"
        },
        "id": "oiNquSyj27BE",
        "outputId": "f118b6a9-500c-47ed-ba13-911e629ad0eb"
      },
      "execution_count": null,
      "outputs": [
        {
          "output_type": "execute_result",
          "data": {
            "text/plain": [
              "array(['GN1500', 'GN0600', 'GN0500', ..., 'GN2200', 'GN0900', 'GN1300'],\n",
              "      dtype='<U32')"
            ]
          },
          "metadata": {},
          "execution_count": 193
        }
      ]
    },
    {
      "cell_type": "code",
      "source": [
        "np.concatenate(list(map(lambda x: list(x.values()), gnr_cnt_dict[:n_train])))"
      ],
      "metadata": {
        "colab": {
          "base_uri": "https://localhost:8080/"
        },
        "id": "cSpR7qHI4U06",
        "outputId": "756723ff-512c-4b4c-80df-bbe2aa66844f"
      },
      "execution_count": null,
      "outputs": [
        {
          "output_type": "execute_result",
          "data": {
            "text/plain": [
              "array([ 7., 17., 14., ...,  1.,  1.,  1.])"
            ]
          },
          "metadata": {},
          "execution_count": 194
        }
      ]
    },
    {
      "cell_type": "markdown",
      "source": [
        "- train data에는 있는데 장르 코드 데이터에는 없는 장르코드: GN9000 는 뭘까? 일단 그냥 포함해서 데이터 만들기"
      ],
      "metadata": {
        "id": "re6IVIcj6Asy"
      }
    },
    {
      "cell_type": "code",
      "source": [
        "gnr_to_idx = dict(zip(Counter(gnr_list_all).keys(), range(len(Counter(gnr_list_all)))))\n",
        "gnr_to_idx"
      ],
      "metadata": {
        "colab": {
          "base_uri": "https://localhost:8080/"
        },
        "id": "_DX6GlV45Ceo",
        "outputId": "677d810c-f765-4293-aac0-276527366ed0"
      },
      "execution_count": null,
      "outputs": [
        {
          "output_type": "execute_result",
          "data": {
            "text/plain": [
              "{'GN0100': 3,\n",
              " 'GN0200': 4,\n",
              " 'GN0300': 6,\n",
              " 'GN0400': 9,\n",
              " 'GN0500': 2,\n",
              " 'GN0600': 1,\n",
              " 'GN0700': 20,\n",
              " 'GN0800': 5,\n",
              " 'GN0900': 8,\n",
              " 'GN1000': 7,\n",
              " 'GN1100': 18,\n",
              " 'GN1200': 16,\n",
              " 'GN1300': 14,\n",
              " 'GN1400': 12,\n",
              " 'GN1500': 0,\n",
              " 'GN1600': 23,\n",
              " 'GN1700': 11,\n",
              " 'GN1800': 15,\n",
              " 'GN1900': 13,\n",
              " 'GN2000': 21,\n",
              " 'GN2100': 22,\n",
              " 'GN2200': 25,\n",
              " 'GN2300': 29,\n",
              " 'GN2400': 27,\n",
              " 'GN2500': 10,\n",
              " 'GN2600': 17,\n",
              " 'GN2700': 19,\n",
              " 'GN2800': 28,\n",
              " 'GN2900': 24,\n",
              " 'GN9000': 26}"
            ]
          },
          "metadata": {},
          "execution_count": 199
        }
      ]
    },
    {
      "cell_type": "code",
      "metadata": {
        "id": "PHV4hy_EQFjV"
      },
      "source": [
        "# bm25 weighting 코드 \n",
        "\n",
        "def bm25_row(X, K1=1.2, B=0.75):\n",
        "    # Weighs each row of a sparse matrix by OkapiBM25 weighting\n",
        "    # calculate idf per term (song or tag)\n",
        "    X = spr.coo_matrix(X)\n",
        "    N = float(X.shape[0])\n",
        "    idf = np.log(N / (1 + np.bincount(X.col)))\n",
        "\n",
        "    # calculate length_norm per document (playlist)\n",
        "    row_sums = np.ravel(X.sum(axis=1))\n",
        "    average_length = row_sums.mean()\n",
        "    length_norm = (1.0 - B) + B * row_sums / average_length\n",
        "\n",
        "    # weight matrix rows by bm25\n",
        "    X.data = X.data * (K1 + 1.0) / (K1 * length_norm[X.row] + X.data) * idf[X.col]\n",
        "    return X.tocsr()"
      ],
      "execution_count": null,
      "outputs": []
    },
    {
      "cell_type": "code",
      "source": [
        "# train data에서 row가 playlist(nid)이고 column이 대분류 장르코드인 sparse_matrix 만들기\n",
        "\n",
        "row = np.repeat(range(n_train), n_gnr[plylst_train.index])\n",
        "col = [gnr_to_idx[gnr] for gnr in gnr_list_all]\n",
        "dat = np.concatenate(list(map(lambda x: list(x.values()), gnr_cnt_dict[:n_train])))\n",
        "\n",
        "train_gnrs_A = spr.csr_matrix((dat, (row, col)), shape=(n_train, 30))\n",
        "train_gnrs_A = bm25_row(train_gnrs_A)"
      ],
      "metadata": {
        "id": "URcq4NrWPaBR"
      },
      "execution_count": null,
      "outputs": []
    },
    {
      "cell_type": "code",
      "source": [
        "train_gnrs_A.shape"
      ],
      "metadata": {
        "colab": {
          "base_uri": "https://localhost:8080/"
        },
        "id": "AhrFHOQ0S3hj",
        "outputId": "6ec7ff9c-cf01-4ee1-b9e2-fe0383d40d19"
      },
      "execution_count": null,
      "outputs": [
        {
          "output_type": "execute_result",
          "data": {
            "text/plain": [
              "(92056, 30)"
            ]
          },
          "metadata": {},
          "execution_count": 295
        }
      ]
    },
    {
      "cell_type": "markdown",
      "metadata": {
        "id": "z1OUOX5TXmI5"
      },
      "source": [
        "test set에서 샘플 300개만 뽑아 테스트해봅니다."
      ]
    },
    {
      "cell_type": "code",
      "metadata": {
        "id": "vWsuvrTTooAF"
      },
      "source": [
        "# sample test\n",
        "np.random.seed(33)\n",
        "n_sample = 300\n",
        "\n",
        "test = plylst_test.iloc[np.random.choice(range(n_test), n_sample, replace=False),:]\n",
        "\n",
        "# real test\n",
        "# test = plylst_test\n",
        "# print(len(test))"
      ],
      "execution_count": null,
      "outputs": []
    },
    {
      "cell_type": "markdown",
      "metadata": {
        "id": "MtsmQyJyjMFu"
      },
      "source": [
        "row가 playlist(nid)이고 column이 item(sid or tid)인 sparse matrix A를 만듭니다."
      ]
    },
    {
      "cell_type": "markdown",
      "metadata": {
        "id": "fRDPWECHEE3y"
      },
      "source": [
        "- 각 플레이리스트(row)별로 포함하는 수록곡/태그의 컬럼에 해당하는 값이 1, 나머지는 0인 sparse matrix 생성 (2개 matrix)\n",
        "- 각 sparse matrix에 bm25 weighting 적용"
      ]
    },
    {
      "cell_type": "code",
      "metadata": {
        "id": "n3Rz08Xown_e"
      },
      "source": [
        "row = np.repeat(range(n_train), plylst_train['num_songs'])\n",
        "col = [song for songs in plylst_train['songs_id'] for song in songs]\n",
        "dat = np.repeat(1, plylst_train['num_songs'].sum())\n",
        "train_songs_A = spr.csr_matrix((dat, (row, col)), shape=(n_train, n_songs))\n",
        "train_songs_A = bm25_row(train_songs_A)\n",
        "\n",
        "row = np.repeat(range(n_train), plylst_train['num_tags'])\n",
        "col = [tag for tags in plylst_train['tags_id'] for tag in tags]\n",
        "dat = np.repeat(1, plylst_train['num_tags'].sum())\n",
        "train_tags_A = spr.csr_matrix((dat, (row, col)), shape=(n_train, n_tags))\n",
        "train_tags_A = bm25_row(train_tags_A)"
      ],
      "execution_count": null,
      "outputs": []
    },
    {
      "cell_type": "code",
      "metadata": {
        "id": "7_QIIL2zCIzt"
      },
      "source": [
        "train_songs_A_T = train_songs_A.T.tocsr()\n",
        "train_tags_A_T = train_tags_A.T.tocsr()"
      ],
      "execution_count": null,
      "outputs": []
    },
    {
      "cell_type": "code",
      "metadata": {
        "colab": {
          "base_uri": "https://localhost:8080/"
        },
        "id": "BDFi_rp7dBpG",
        "outputId": "1bf06b8d-ad2e-4ef8-e4bd-69f4015f6a12"
      },
      "source": [
        "train_songs_A.data"
      ],
      "execution_count": null,
      "outputs": [
        {
          "output_type": "execute_result",
          "data": {
            "text/plain": [
              "array([ 6.45773177,  5.24387366,  4.68657376, ..., 12.22118728,\n",
              "       12.57123369, 13.0645964 ])"
            ]
          },
          "metadata": {},
          "execution_count": 207
        }
      ]
    },
    {
      "cell_type": "code",
      "metadata": {
        "colab": {
          "base_uri": "https://localhost:8080/"
        },
        "id": "plQV1LGTLPnA",
        "outputId": "75b492bd-8ef4-4c5a-a994-6d861c880205"
      },
      "source": [
        "train_songs_A.shape"
      ],
      "execution_count": null,
      "outputs": [
        {
          "output_type": "execute_result",
          "data": {
            "text/plain": [
              "(92056, 576169)"
            ]
          },
          "metadata": {},
          "execution_count": 208
        }
      ]
    },
    {
      "cell_type": "code",
      "source": [
        "# (플레이리스트*장르idx로 이루어진 희소행렬) + (플레이리스트*곡id로 이루어진 희소행렬) \n",
        "\n",
        "train_songs_gnrs_A = spr.hstack([train_gnrs_A, train_songs_A])\n",
        "train_songs_gnrs_A.shape"
      ],
      "metadata": {
        "colab": {
          "base_uri": "https://localhost:8080/"
        },
        "id": "kOW0p9QpTUy1",
        "outputId": "032247cf-ae5e-4020-aae3-ff0c4d3497bf"
      },
      "execution_count": null,
      "outputs": [
        {
          "output_type": "execute_result",
          "data": {
            "text/plain": [
              "(92056, 576199)"
            ]
          },
          "metadata": {},
          "execution_count": 299
        }
      ]
    },
    {
      "cell_type": "markdown",
      "metadata": {
        "id": "8qDwHMf2Gi9y"
      },
      "source": [
        "# 협업필터링: 유사도 계산 및 추천 결과"
      ]
    },
    {
      "cell_type": "markdown",
      "metadata": {
        "id": "Ftcjut6QIzhl"
      },
      "source": [
        "## 유사도를 내적으로 계산"
      ]
    },
    {
      "cell_type": "code",
      "source": [
        "test.head()"
      ],
      "metadata": {
        "colab": {
          "base_uri": "https://localhost:8080/",
          "height": 238
        },
        "id": "CHS-k8h2AptA",
        "outputId": "0cab9bb6-f970-4f7d-fcef-de41a89a9cb6"
      },
      "execution_count": null,
      "outputs": [
        {
          "output_type": "execute_result",
          "data": {
            "text/html": [
              "\n",
              "  <div id=\"df-89b63e3c-5b9e-4e41-9398-1972e309ecd6\">\n",
              "    <div class=\"colab-df-container\">\n",
              "      <div>\n",
              "<style scoped>\n",
              "    .dataframe tbody tr th:only-of-type {\n",
              "        vertical-align: middle;\n",
              "    }\n",
              "\n",
              "    .dataframe tbody tr th {\n",
              "        vertical-align: top;\n",
              "    }\n",
              "\n",
              "    .dataframe thead th {\n",
              "        text-align: right;\n",
              "    }\n",
              "</style>\n",
              "<table border=\"1\" class=\"dataframe\">\n",
              "  <thead>\n",
              "    <tr style=\"text-align: right;\">\n",
              "      <th></th>\n",
              "      <th>istrain</th>\n",
              "      <th>updt_date</th>\n",
              "      <th>songs_id</th>\n",
              "      <th>tags_id</th>\n",
              "      <th>big_gnr_code</th>\n",
              "      <th>num_songs</th>\n",
              "      <th>num_tags</th>\n",
              "    </tr>\n",
              "    <tr>\n",
              "      <th>nid</th>\n",
              "      <th></th>\n",
              "      <th></th>\n",
              "      <th></th>\n",
              "      <th></th>\n",
              "      <th></th>\n",
              "      <th></th>\n",
              "      <th></th>\n",
              "    </tr>\n",
              "  </thead>\n",
              "  <tbody>\n",
              "    <tr>\n",
              "      <th>101788</th>\n",
              "      <td>0</td>\n",
              "      <td>2016-02-05 00:27:32.000</td>\n",
              "      <td>[5738, 8029, 2110, 80206, 21932, 116312, 20924...</td>\n",
              "      <td>[]</td>\n",
              "      <td>[GN0900, GN0900, GN0900, GN0900, GN0900, GN090...</td>\n",
              "      <td>19</td>\n",
              "      <td>0</td>\n",
              "    </tr>\n",
              "    <tr>\n",
              "      <th>99118</th>\n",
              "      <td>0</td>\n",
              "      <td>2016-06-23 10:13:57.000</td>\n",
              "      <td>[316087, 9145, 116469, 45328, 46344, 40948, 52...</td>\n",
              "      <td>[4893, 52, 3490, 50]</td>\n",
              "      <td>[GN1900, GN1700, GN0900, GN1000, GN1700, GN110...</td>\n",
              "      <td>9</td>\n",
              "      <td>4</td>\n",
              "    </tr>\n",
              "    <tr>\n",
              "      <th>103058</th>\n",
              "      <td>0</td>\n",
              "      <td>2015-09-09 13:30:26.000</td>\n",
              "      <td>[144048, 134389, 22478, 71311, 71292, 259684, ...</td>\n",
              "      <td>[75]</td>\n",
              "      <td>[GN1800, GN1800, GN1800, GN1800, GN1800, GN180...</td>\n",
              "      <td>16</td>\n",
              "      <td>1</td>\n",
              "    </tr>\n",
              "    <tr>\n",
              "      <th>111522</th>\n",
              "      <td>0</td>\n",
              "      <td>2017-09-04 22:26:20.000</td>\n",
              "      <td>[222405, 12406, 18133, 359, 73123, 4512, 7539]</td>\n",
              "      <td>[]</td>\n",
              "      <td>[GN0400, GN0100, GN0100, GN0500, GN0800, GN040...</td>\n",
              "      <td>7</td>\n",
              "      <td>0</td>\n",
              "    </tr>\n",
              "    <tr>\n",
              "      <th>94927</th>\n",
              "      <td>0</td>\n",
              "      <td>2008-05-09 13:31:44.000</td>\n",
              "      <td>[153571, 166209, 265198, 161510, 553077]</td>\n",
              "      <td>[]</td>\n",
              "      <td>[GN1500, GN0100, GN1500, GN0100, GN1500, GN150...</td>\n",
              "      <td>5</td>\n",
              "      <td>0</td>\n",
              "    </tr>\n",
              "  </tbody>\n",
              "</table>\n",
              "</div>\n",
              "      <button class=\"colab-df-convert\" onclick=\"convertToInteractive('df-89b63e3c-5b9e-4e41-9398-1972e309ecd6')\"\n",
              "              title=\"Convert this dataframe to an interactive table.\"\n",
              "              style=\"display:none;\">\n",
              "        \n",
              "  <svg xmlns=\"http://www.w3.org/2000/svg\" height=\"24px\"viewBox=\"0 0 24 24\"\n",
              "       width=\"24px\">\n",
              "    <path d=\"M0 0h24v24H0V0z\" fill=\"none\"/>\n",
              "    <path d=\"M18.56 5.44l.94 2.06.94-2.06 2.06-.94-2.06-.94-.94-2.06-.94 2.06-2.06.94zm-11 1L8.5 8.5l.94-2.06 2.06-.94-2.06-.94L8.5 2.5l-.94 2.06-2.06.94zm10 10l.94 2.06.94-2.06 2.06-.94-2.06-.94-.94-2.06-.94 2.06-2.06.94z\"/><path d=\"M17.41 7.96l-1.37-1.37c-.4-.4-.92-.59-1.43-.59-.52 0-1.04.2-1.43.59L10.3 9.45l-7.72 7.72c-.78.78-.78 2.05 0 2.83L4 21.41c.39.39.9.59 1.41.59.51 0 1.02-.2 1.41-.59l7.78-7.78 2.81-2.81c.8-.78.8-2.07 0-2.86zM5.41 20L4 18.59l7.72-7.72 1.47 1.35L5.41 20z\"/>\n",
              "  </svg>\n",
              "      </button>\n",
              "      \n",
              "  <style>\n",
              "    .colab-df-container {\n",
              "      display:flex;\n",
              "      flex-wrap:wrap;\n",
              "      gap: 12px;\n",
              "    }\n",
              "\n",
              "    .colab-df-convert {\n",
              "      background-color: #E8F0FE;\n",
              "      border: none;\n",
              "      border-radius: 50%;\n",
              "      cursor: pointer;\n",
              "      display: none;\n",
              "      fill: #1967D2;\n",
              "      height: 32px;\n",
              "      padding: 0 0 0 0;\n",
              "      width: 32px;\n",
              "    }\n",
              "\n",
              "    .colab-df-convert:hover {\n",
              "      background-color: #E2EBFA;\n",
              "      box-shadow: 0px 1px 2px rgba(60, 64, 67, 0.3), 0px 1px 3px 1px rgba(60, 64, 67, 0.15);\n",
              "      fill: #174EA6;\n",
              "    }\n",
              "\n",
              "    [theme=dark] .colab-df-convert {\n",
              "      background-color: #3B4455;\n",
              "      fill: #D2E3FC;\n",
              "    }\n",
              "\n",
              "    [theme=dark] .colab-df-convert:hover {\n",
              "      background-color: #434B5C;\n",
              "      box-shadow: 0px 1px 3px 1px rgba(0, 0, 0, 0.15);\n",
              "      filter: drop-shadow(0px 1px 2px rgba(0, 0, 0, 0.3));\n",
              "      fill: #FFFFFF;\n",
              "    }\n",
              "  </style>\n",
              "\n",
              "      <script>\n",
              "        const buttonEl =\n",
              "          document.querySelector('#df-89b63e3c-5b9e-4e41-9398-1972e309ecd6 button.colab-df-convert');\n",
              "        buttonEl.style.display =\n",
              "          google.colab.kernel.accessAllowed ? 'block' : 'none';\n",
              "\n",
              "        async function convertToInteractive(key) {\n",
              "          const element = document.querySelector('#df-89b63e3c-5b9e-4e41-9398-1972e309ecd6');\n",
              "          const dataTable =\n",
              "            await google.colab.kernel.invokeFunction('convertToInteractive',\n",
              "                                                     [key], {});\n",
              "          if (!dataTable) return;\n",
              "\n",
              "          const docLinkHtml = 'Like what you see? Visit the ' +\n",
              "            '<a target=\"_blank\" href=https://colab.research.google.com/notebooks/data_table.ipynb>data table notebook</a>'\n",
              "            + ' to learn more about interactive tables.';\n",
              "          element.innerHTML = '';\n",
              "          dataTable['output_type'] = 'display_data';\n",
              "          await google.colab.output.renderOutput(dataTable, element);\n",
              "          const docLink = document.createElement('div');\n",
              "          docLink.innerHTML = docLinkHtml;\n",
              "          element.appendChild(docLink);\n",
              "        }\n",
              "      </script>\n",
              "    </div>\n",
              "  </div>\n",
              "  "
            ],
            "text/plain": [
              "        istrain                updt_date  ... num_songs num_tags\n",
              "nid                                       ...                   \n",
              "101788        0  2016-02-05 00:27:32.000  ...        19        0\n",
              "99118         0  2016-06-23 10:13:57.000  ...         9        4\n",
              "103058        0  2015-09-09 13:30:26.000  ...        16        1\n",
              "111522        0  2017-09-04 22:26:20.000  ...         7        0\n",
              "94927         0  2008-05-09 13:31:44.000  ...         5        0\n",
              "\n",
              "[5 rows x 7 columns]"
            ]
          },
          "metadata": {},
          "execution_count": 211
        }
      ]
    },
    {
      "cell_type": "markdown",
      "source": [
        "##### pid == 101788 인 경우 테스트 코드"
      ],
      "metadata": {
        "id": "6-ebqBd3Jday"
      }
    },
    {
      "cell_type": "code",
      "source": [
        "pid = test.index[0]"
      ],
      "metadata": {
        "id": "r-IA7VpY_1tz"
      },
      "execution_count": null,
      "outputs": []
    },
    {
      "cell_type": "code",
      "source": [
        "test.loc[pid,'big_gnr_code']"
      ],
      "metadata": {
        "colab": {
          "base_uri": "https://localhost:8080/"
        },
        "id": "u8WApQB0EGWn",
        "outputId": "0dfea35b-e454-46cf-c1c6-b0e50a01452d"
      },
      "execution_count": null,
      "outputs": [
        {
          "output_type": "execute_result",
          "data": {
            "text/plain": [
              "array(['GN0900', 'GN0900', 'GN0900', 'GN0900', 'GN0900', 'GN0900',\n",
              "       'GN0900', 'GN1300', 'GN0900', 'GN0900', 'GN0900', 'GN1300',\n",
              "       'GN0900', 'GN0900', 'GN0900', 'GN0900', 'GN1000', 'GN1100',\n",
              "       'GN0900', 'GN1200'], dtype='<U6')"
            ]
          },
          "metadata": {},
          "execution_count": 220
        }
      ]
    },
    {
      "cell_type": "code",
      "source": [
        "gnr_cnt_dict[pid]"
      ],
      "metadata": {
        "colab": {
          "base_uri": "https://localhost:8080/"
        },
        "id": "EfBjBILOCh3n",
        "outputId": "5d28da25-895a-4b53-840a-0a062c813b4f"
      },
      "execution_count": null,
      "outputs": [
        {
          "output_type": "execute_result",
          "data": {
            "text/plain": [
              "Counter({'GN0900': 15, 'GN1000': 1, 'GN1100': 1, 'GN1200': 1, 'GN1300': 2})"
            ]
          },
          "metadata": {},
          "execution_count": 236
        }
      ]
    },
    {
      "cell_type": "code",
      "source": [
        "p_gnr_col = [gnr_to_idx[gnr] for gnr in gnr_cnt_dict[pid]]\n",
        "p_gnr_col"
      ],
      "metadata": {
        "colab": {
          "base_uri": "https://localhost:8080/"
        },
        "id": "0UFaUXsTEOl4",
        "outputId": "679b05e1-e8d9-436e-9f91-cf13936c53d7"
      },
      "execution_count": null,
      "outputs": [
        {
          "output_type": "execute_result",
          "data": {
            "text/plain": [
              "[8, 14, 7, 18, 16]"
            ]
          },
          "metadata": {},
          "execution_count": 237
        }
      ]
    },
    {
      "cell_type": "code",
      "source": [
        "p_gnr_cnt = list(gnr_cnt_dict[pid].values())"
      ],
      "metadata": {
        "id": "iXjfRrbdHLaD"
      },
      "execution_count": null,
      "outputs": []
    },
    {
      "cell_type": "code",
      "source": [
        "p = np.zeros((30,1))      # 전체 장르 개수(30개)를 길이로 하는 0으로 된 배열\n",
        "for i in range(len(p_gnr_col)):\n",
        "  p[p_gnr_col[i]] = p_gnr_cnt[i]"
      ],
      "metadata": {
        "id": "YMdv4JB2EERH"
      },
      "execution_count": null,
      "outputs": []
    },
    {
      "cell_type": "markdown",
      "source": [
        "-test data 중에서 장르와 곡이 결측값인 플레이리스트가 있음에 주의  \n",
        "-곡과 태그가 모두 없는 테스트 데이터의 플레이리스트는 어떻게 유사도를 계산하는 거지...?  \n",
        "-밑의 코드에서 곡 데이터가 없으면 모든 플레이리스트와의 유사도가 0이 되지 않나..?"
      ],
      "metadata": {
        "id": "GEQeRR9MBlAI"
      }
    },
    {
      "cell_type": "markdown",
      "source": [
        "### 플레이리스트에 포함된 장르만 가지고 유사도 계산"
      ],
      "metadata": {
        "id": "eRD0UxpHVAMz"
      }
    },
    {
      "cell_type": "code",
      "metadata": {
        "id": "hncUaaz9-ahN"
      },
      "source": [
        "# 유사도: 내적 활용 \n",
        "from tqdm import tqdm\n",
        "\n",
        "def rec(pids):\n",
        "  tt = 1\n",
        "\n",
        "  res = []\n",
        "\n",
        "  for pid in pids:\n",
        "    p = np.zeros((30,1))      # 전체 장르 개수(30개)를 길이로 하는 0으로 된 배열\n",
        "\n",
        "    # 위 배열에서 해당 플레이리스트가 포함하고 있는 장르 코드에 해당하는 값에 장르 등장 횟수 (나머지는 0)\n",
        "    try:\n",
        "      p_gnr_col = [gnr_to_idx[gnr] for gnr in gnr_cnt_dict[pid]] # 포함하고 있는 장르 코드의 index\n",
        "      p_gnr_cnt = list(gnr_cnt_dict[pid].values()) # 포함하고 있는 장르의 플레이리스트 내 등장 횟수\n",
        "      for i in range(len(p_gnr_col)):\n",
        "        p[p_gnr_col[i]] = p_gnr_cnt[i]\n",
        "    except: # 곡/장르가 결측값인 플레이리스트의 경우 \n",
        "      p = np.zeros((30,1))\n",
        "\n",
        "    val = train_gnrs_A.dot(p).reshape(-1)  # 해당 플레이리스트와 각각의 다른 플레이리스트들 간의 유사도(포함하는 장르 패턴의 유사도)구함\n",
        "\n",
        "    songs_already = test.loc[pid, \"songs_id\"]  # 해당 플레이리스트에 이미 포함된 곡\n",
        "    tags_already = test.loc[pid, \"tags_id\"]    # 해당 플레이리스트에 이미 포함된 태그\n",
        "\n",
        "    cand_song = train_songs_A_T.dot(val) # 각 곡이 해당 플레이리스트에 포함될 가능성\n",
        "    cand_song_idx = cand_song.reshape(-1).argsort()[-150:][::-1]  # 포함될 가능성이 높은 곡 순서대로 150개 곡의 인덱스 배열\n",
        "\n",
        "    cand_song_idx = cand_song_idx[np.isin(cand_song_idx, songs_already) == False][:100]  # 위의 곡들 중에 이미 포함되어 있는 곡 제외하고 상위 100개 곡 인덱스\n",
        "    rec_song_idx = [song_sid_id[i] for i in cand_song_idx]  # 곡 인덱스 바탕으로 추천할 곡 목록 리스트 저장\n",
        "\n",
        "    cand_tag = train_tags_A_T.dot(val)\n",
        "    cand_tag_idx = cand_tag.reshape(-1).argsort()[-15:][::-1]\n",
        "\n",
        "    cand_tag_idx = cand_tag_idx[np.isin(cand_tag_idx, tags_already) == False][:10]\n",
        "    rec_tag_idx = [tag_tid_id[i] for i in cand_tag_idx]\n",
        "\n",
        "    res.append({\n",
        "                \"id\": plylst_nid_id[pid],\n",
        "                \"songs\": rec_song_idx,\n",
        "                \"tags\": rec_tag_idx\n",
        "            })\n",
        "    \n",
        "    if tt % 1000 == 0:  # 플레이리스트 1000개 마다 tt 출력\n",
        "      print(tt)\n",
        "\n",
        "    tt += 1\n",
        "  return res"
      ],
      "execution_count": null,
      "outputs": []
    },
    {
      "cell_type": "code",
      "metadata": {
        "id": "UxfbdCynkN0j"
      },
      "source": [
        "answers = rec(test.index)"
      ],
      "execution_count": null,
      "outputs": []
    },
    {
      "cell_type": "code",
      "metadata": {
        "id": "FqneL6dELvYc"
      },
      "source": [
        "answers"
      ],
      "execution_count": null,
      "outputs": []
    },
    {
      "cell_type": "code",
      "metadata": {
        "id": "5u8ehmbhCtm0"
      },
      "source": [
        "write_json(answers, \"results/results.json\")"
      ],
      "execution_count": null,
      "outputs": []
    },
    {
      "cell_type": "code",
      "metadata": {
        "id": "i_iddRS7tRBe",
        "colab": {
          "base_uri": "https://localhost:8080/"
        },
        "outputId": "ad19e7d0-a2a8-494f-da7a-3e1fd1fde144"
      },
      "source": [
        "evaluator = CustomEvaluator()\n",
        "evaluator.evaluate(\"arena_data/answers/val.json\", \"arena_data/results/results.json\")"
      ],
      "execution_count": null,
      "outputs": [
        {
          "output_type": "stream",
          "name": "stdout",
          "text": [
            "Music nDCG: 0.0356492\n",
            "Tag nDCG: 0.25943\n",
            "Score: 0.0692164\n"
          ]
        }
      ]
    },
    {
      "cell_type": "markdown",
      "source": [
        "- 장르 데이터만 가지고 유사도 계산한 결과, 태그의 score는 어느 정도 나왔지만, 곡의 score가 낮아서 전체적으로 매우 낮게 나옴  \n",
        "Music nDCG: 0.0356492  \n",
        "Tag nDCG: 0.25943  \n",
        "Score: 0.0692164  "
      ],
      "metadata": {
        "id": "vlj-Os4mN5QL"
      }
    },
    {
      "cell_type": "markdown",
      "source": [
        "### 각 플레이리스트에 포함된 곡+장르 데이터를 활용하여 유사도 계산하기"
      ],
      "metadata": {
        "id": "kVrI3tyQPb7m"
      }
    },
    {
      "cell_type": "code",
      "metadata": {
        "id": "TUJDP3NCPrfx"
      },
      "source": [
        "# 유사도: 내적 활용\n",
        "from tqdm import tqdm\n",
        "\n",
        "def rec(pids):\n",
        "  tt = 1\n",
        "\n",
        "  res = []\n",
        "\n",
        "  for pid in pids:\n",
        "    p_gnr = np.zeros((30,1))      # 전체 장르 개수(30개)를 길이로 하는 0으로 된 배열\n",
        "\n",
        "    # 위 배열에서 해당 플레이리스트가 포함하고 있는 장르 코드에 해당하는 값에 장르 등장 횟수 (나머지는 0)\n",
        "    if pid in gnr_cnt_dict.index:\n",
        "      p_gnr_col = [gnr_to_idx[gnr] for gnr in gnr_cnt_dict[pid]] # 포함하고 있는 장르 코드의 index\n",
        "      p_gnr_cnt = list(gnr_cnt_dict[pid].values()) # 포함하고 있는 장르의 플레이리스트 내 등장 횟수\n",
        "      for i in range(len(p_gnr_col)):\n",
        "        p_gnr[p_gnr_col[i]] = p_gnr_cnt[i]\n",
        "    else: # 곡/장르가 결측값인 플레이리스트의 경우 \n",
        "      p_gnr = np.zeros((30,1))\n",
        "\n",
        "    p_song = np.zeros((n_songs,1))      # 전체 곡 개수를 길이로 하는 0으로 된 배열\n",
        "    p_song[test.loc[pid,'songs_id']] = 1   # 위 배열에서 해당 플레이리스트가 포함하고 있는 song_id에 해당하는 값은 1 (나머지는 0)\n",
        "\n",
        "    p_concat = np.concatenate((p_gnr, p_song)) \n",
        "\n",
        "    val = train_songs_gnrs_A.dot(p_concat).reshape(-1)  # 해당 플레이리스트와 각각의 다른 플레이리스트들 간의 유사도 (각 플레이리스트에 포함된 장르와 곡을 기준으로 계산)\n",
        "\n",
        "    songs_already = test.loc[pid, \"songs_id\"]  # 해당 플레이리스트에 이미 포함된 곡\n",
        "    tags_already = test.loc[pid, \"tags_id\"]    # 해당 플레이리스트에 이미 포함된 태그\n",
        "\n",
        "    cand_song = train_songs_A_T.dot(val) # 각 곡이 해당 플레이리스트에 포함될 가능성\n",
        "    cand_song_idx = cand_song.reshape(-1).argsort()[-150:][::-1]  # 포함될 가능성이 높은 곡 순서대로 150개 곡의 인덱스 배열\n",
        "\n",
        "    cand_song_idx = cand_song_idx[np.isin(cand_song_idx, songs_already) == False][:100]  # 위의 곡들 중에 이미 포함되어 있는 곡 제외하고 상위 100개 곡 인덱스\n",
        "    rec_song_idx = [song_sid_id[i] for i in cand_song_idx]  # 곡 인덱스 바탕으로 추천할 곡 목록 리스트 저장\n",
        "\n",
        "    cand_tag = train_tags_A_T.dot(val)\n",
        "    cand_tag_idx = cand_tag.reshape(-1).argsort()[-15:][::-1]\n",
        "\n",
        "    cand_tag_idx = cand_tag_idx[np.isin(cand_tag_idx, tags_already) == False][:10]\n",
        "    rec_tag_idx = [tag_tid_id[i] for i in cand_tag_idx]\n",
        "\n",
        "    res.append({\n",
        "                \"id\": plylst_nid_id[pid],\n",
        "                \"songs\": rec_song_idx,\n",
        "                \"tags\": rec_tag_idx\n",
        "            })\n",
        "    \n",
        "    if tt % 1000 == 0:  # 플레이리스트 1000개 마다 tt 출력\n",
        "      print(tt)\n",
        "\n",
        "    tt += 1\n",
        "  return res"
      ],
      "execution_count": null,
      "outputs": []
    },
    {
      "cell_type": "code",
      "metadata": {
        "id": "U8YVrHUiPrfy"
      },
      "source": [
        "answers = rec(test.index)"
      ],
      "execution_count": null,
      "outputs": []
    },
    {
      "cell_type": "code",
      "metadata": {
        "id": "LUR_HeTXPrfy"
      },
      "source": [
        "write_json(answers, \"results/results.json\")"
      ],
      "execution_count": null,
      "outputs": []
    },
    {
      "cell_type": "code",
      "metadata": {
        "colab": {
          "base_uri": "https://localhost:8080/"
        },
        "outputId": "af24a9b6-baf7-49b7-c49e-1606d4d24b24",
        "id": "q-rtGYmRPrfz"
      },
      "source": [
        "evaluator = CustomEvaluator()\n",
        "evaluator.evaluate(\"arena_data/answers/val.json\", \"arena_data/results/results.json\")"
      ],
      "execution_count": null,
      "outputs": [
        {
          "output_type": "stream",
          "name": "stdout",
          "text": [
            "Music nDCG: 0.0448148\n",
            "Tag nDCG: 0.261376\n",
            "Score: 0.077299\n"
          ]
        }
      ]
    },
    {
      "cell_type": "markdown",
      "source": [
        "- 오히려 곡만 가지고 유사도 구했을 때보다 score가 더 떨어짐"
      ],
      "metadata": {
        "id": "d1oqH702XNaq"
      }
    },
    {
      "cell_type": "markdown",
      "source": [
        "### 곡 추천할 때는 곡 기반으로 유사도를 구하여 추천하고, 태그 추천할 때는 장르 기반 유사도로 추천"
      ],
      "metadata": {
        "id": "2xb-nIhEei5h"
      }
    },
    {
      "cell_type": "code",
      "metadata": {
        "id": "PZeHc8s6e3A3"
      },
      "source": [
        "# 유사도: 내적 활용 \n",
        "from tqdm import tqdm\n",
        "\n",
        "def rec(pids):\n",
        "  tt = 1\n",
        "\n",
        "  res = []\n",
        "\n",
        "  for pid in pids:\n",
        "    p_gnr = np.zeros((30,1))      # 전체 대분류 장르 개수(30개)를 길이로 하는 0으로 된 배열\n",
        "\n",
        "    # 해당 플레이리스트가 포함하는 장르의 인덱스에 해당 장르의 등장 빈도 수 부여 (나머지는 0)\n",
        "    if pid in gnr_cnt_dict.index:\n",
        "      p_gnr_col = [gnr_to_idx[gnr] for gnr in gnr_cnt_dict[pid]] # 포함하고 있는 장르 코드의 index\n",
        "      p_gnr_cnt = list(gnr_cnt_dict[pid].values()) # 포함하고 있는 장르의 플레이리스트 내 등장 횟수\n",
        "      for i in range(len(p_gnr_col)):\n",
        "        p_gnr[p_gnr_col[i]] = p_gnr_cnt[i]\n",
        "    else: # 곡/장르가 결측값인 플레이리스트의 경우 \n",
        "      p_gnr = np.zeros((30,1))\n",
        "\n",
        "    p_song = np.zeros((n_songs,1))      # 전체 곡 개수를 길이로 하는 0으로 된 배열\n",
        "    p_song[test.loc[pid,'songs_id']] = 1   # 해당 플레이리스트가 포함하는 song_id에 해당하는 값은 1 (나머지는 0)\n",
        "\n",
        "    val_gnr = train_gnrs_A.dot(p_gnr).reshape(-1)  # 장르별 빈도수를 나타내는 벡터의 내적을 기준으로 플레이리스트 간의 유사도 계산\n",
        "    val_song = train_songs_A.dot(p_song).reshape(-1)  # 수록곡 벡터의 내적을 기준으로 플레이리스트 간의 유사도 계산\n",
        "\n",
        "    songs_already = test.loc[pid, \"songs_id\"]  # 해당 플레이리스트에 이미 포함된 곡\n",
        "    tags_already = test.loc[pid, \"tags_id\"]    # 해당 플레이리스트에 이미 포함된 태그\n",
        "\n",
        "    cand_song = train_songs_A_T.dot(val_song) # 각 곡의 벡터에 해당 플레이리스트와의 유사도를 내적\n",
        "    cand_song_idx = cand_song.reshape(-1).argsort()[-150:][::-1]  # 포함될 가능성이 높은 곡 순서대로 150개 곡의 인덱스 배열\n",
        "\n",
        "    cand_song_idx = cand_song_idx[np.isin(cand_song_idx, songs_already) == False][:100]  # 위의 곡들 중에 이미 포함되어 있는 곡 제외하고 상위 100개 곡 인덱스\n",
        "    rec_song_idx = [song_sid_id[i] for i in cand_song_idx]  # 곡 인덱스 바탕으로 추천할 곡 목록 리스트 저장\n",
        "\n",
        "    cand_tag = train_tags_A_T.dot(val_gnr)\n",
        "    cand_tag_idx = cand_tag.reshape(-1).argsort()[-15:][::-1]\n",
        "\n",
        "    cand_tag_idx = cand_tag_idx[np.isin(cand_tag_idx, tags_already) == False][:10]\n",
        "    rec_tag_idx = [tag_tid_id[i] for i in cand_tag_idx]\n",
        "\n",
        "    res.append({\n",
        "                \"id\": plylst_nid_id[pid],\n",
        "                \"songs\": rec_song_idx,\n",
        "                \"tags\": rec_tag_idx\n",
        "            })\n",
        "    \n",
        "    if tt % 1000 == 0:  # 플레이리스트 1000개 마다 tt 출력\n",
        "      print(tt)\n",
        "\n",
        "    tt += 1\n",
        "  return res"
      ],
      "execution_count": null,
      "outputs": []
    },
    {
      "cell_type": "code",
      "metadata": {
        "id": "32o7htlPe3A5"
      },
      "source": [
        "answers = rec(test.index)"
      ],
      "execution_count": null,
      "outputs": []
    },
    {
      "cell_type": "code",
      "metadata": {
        "id": "dR2KU--2e3A5"
      },
      "source": [
        "write_json(answers, \"results/results.json\")"
      ],
      "execution_count": null,
      "outputs": []
    },
    {
      "cell_type": "code",
      "metadata": {
        "colab": {
          "base_uri": "https://localhost:8080/"
        },
        "outputId": "8cee0702-0ada-474c-a915-121e264bad76",
        "id": "3r-SFwqje3A6"
      },
      "source": [
        "evaluator = CustomEvaluator()\n",
        "evaluator.evaluate(\"arena_data/answers/val.json\", \"arena_data/results/results.json\")"
      ],
      "execution_count": null,
      "outputs": [
        {
          "output_type": "stream",
          "name": "stdout",
          "text": [
            "Music nDCG: 0.202075\n",
            "Tag nDCG: 0.25943\n",
            "Score: 0.210678\n"
          ]
        }
      ]
    }
  ]
}