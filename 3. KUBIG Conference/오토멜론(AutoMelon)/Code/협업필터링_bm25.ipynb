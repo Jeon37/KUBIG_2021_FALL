{
  "nbformat": 4,
  "nbformat_minor": 0,
  "metadata": {
    "colab": {
      "name": "협업필터링_bm25_수정본.ipynb",
      "provenance": [],
      "collapsed_sections": [
        "V1-PLAI9Nqya",
        "wCMOqPT1Ki3l",
        "8O8UtjsKQDLk"
      ]
    },
    "kernelspec": {
      "name": "python3",
      "display_name": "Python 3"
    }
  },
  "cells": [
    {
      "cell_type": "code",
      "metadata": {
        "colab": {
          "base_uri": "https://localhost:8080/"
        },
        "id": "Xy6BRq3_O0K4",
        "outputId": "af698192-6816-4098-a39f-2d91d715c6d2"
      },
      "source": [
        "from google.colab import drive\n",
        "drive.mount('/content/drive')"
      ],
      "execution_count": null,
      "outputs": [
        {
          "output_type": "stream",
          "name": "stdout",
          "text": [
            "Drive already mounted at /content/drive; to attempt to forcibly remount, call drive.mount(\"/content/drive\", force_remount=True).\n"
          ]
        }
      ]
    },
    {
      "cell_type": "markdown",
      "metadata": {
        "id": "8Nd5NnqsXuOF"
      },
      "source": [
        "# 협업 필터링 (Collaborative filtering)"
      ]
    },
    {
      "cell_type": "markdown",
      "metadata": {
        "id": "AvipkN-4hX8U"
      },
      "source": [
        "- 주어진 train_data를 8:2 비율로 나누어서 검증 데이터(question/answer) 만드는 작업 필요 (여기서 쓰는 val.json 데이터는 대회 제출 시 사용하는 val.json 데이터와 다름)\n",
        "- 카카오 아레나 멜론 깃허브 베이스라인 코드 참고\n",
        " - https://github.com/kakao-arena/melon-playlist-continuation"
      ]
    },
    {
      "cell_type": "code",
      "metadata": {
        "id": "An5xbNYG7hvq"
      },
      "source": [
        "# arena_util.py\n",
        "# -*- coding: utf-8 -*-\n",
        "\n",
        "import io\n",
        "import os\n",
        "import json\n",
        "import distutils.dir_util\n",
        "from collections import Counter\n",
        "\n",
        "import numpy as np\n",
        "\n",
        "\n",
        "def write_json(data, fname):\n",
        "    def _conv(o):\n",
        "        if isinstance(o, np.int64) or isinstance(o, np.int32):\n",
        "            return int(o)\n",
        "        raise TypeError\n",
        "\n",
        "    parent = os.path.dirname(fname)\n",
        "    distutils.dir_util.mkpath(\"./arena_data/\" + parent)\n",
        "    with io.open(\"./arena_data/\" + fname, \"w\", encoding=\"utf8\") as f:\n",
        "        json_str = json.dumps(data, ensure_ascii=False, default=_conv)\n",
        "        f.write(json_str)\n",
        "\n",
        "\n",
        "def load_json(fname):\n",
        "    with open(fname, encoding='utf8') as f:\n",
        "        json_obj = json.load(f)\n",
        "\n",
        "    return json_obj\n",
        "\n",
        "\n",
        "def debug_json(r):\n",
        "    print(json.dumps(r, ensure_ascii=False, indent=4))\n",
        "\n"
      ],
      "execution_count": null,
      "outputs": []
    },
    {
      "cell_type": "code",
      "metadata": {
        "id": "YAVMoJinHq2D"
      },
      "source": [
        "# evaluate.py\n",
        "# -*- coding: utf-8 -*-\n",
        "# import fire\n",
        "import numpy as np\n",
        "\n",
        "# from arena_util import load_json\n",
        "\n",
        "\n",
        "class CustomEvaluator:\n",
        "    def _idcg(self, l):\n",
        "        return sum((1.0 / np.log(i + 2) for i in range(l)))\n",
        "\n",
        "    def __init__(self):\n",
        "        self._idcgs = [self._idcg(i) for i in range(101)]\n",
        "\n",
        "    def _ndcg(self, gt, rec):\n",
        "        dcg = 0.0\n",
        "        for i, r in enumerate(rec):\n",
        "            if r in gt:\n",
        "                dcg += 1.0 / np.log(i + 2)\n",
        "\n",
        "        return dcg / self._idcgs[len(gt)]\n",
        "\n",
        "    def _eval(self, gt_fname, rec_fname):\n",
        "        gt_playlists = load_json(gt_fname)\n",
        "        gt_dict = {g[\"id\"]: g for g in gt_playlists}\n",
        "        rec_playlists = load_json(rec_fname)\n",
        "        \n",
        "        music_ndcg = 0.0\n",
        "        tag_ndcg = 0.0\n",
        "\n",
        "        for rec in rec_playlists:\n",
        "            gt = gt_dict[rec[\"id\"]]\n",
        "            music_ndcg += self._ndcg(gt[\"songs\"], rec[\"songs\"][:100])\n",
        "            tag_ndcg += self._ndcg(gt[\"tags\"], rec[\"tags\"][:10])\n",
        "\n",
        "        music_ndcg = music_ndcg / len(rec_playlists)\n",
        "        tag_ndcg = tag_ndcg / len(rec_playlists)\n",
        "        score = music_ndcg * 0.85 + tag_ndcg * 0.15\n",
        "\n",
        "        return music_ndcg, tag_ndcg, score\n",
        "\n",
        "    def evaluate(self, gt_fname, rec_fname):\n",
        "        try:\n",
        "            music_ndcg, tag_ndcg, score = self._eval(gt_fname, rec_fname)\n",
        "            print(f\"Music nDCG: {music_ndcg:.6}\")\n",
        "            print(f\"Tag nDCG: {tag_ndcg:.6}\")\n",
        "            print(f\"Score: {score:.6}\")\n",
        "        except Exception as e:\n",
        "            print(e)\n",
        "\n",
        "\n",
        "# if __name__ == \"__main__\":\n",
        "#     fire.Fire(ArenaEvaluator)\n"
      ],
      "execution_count": null,
      "outputs": []
    },
    {
      "cell_type": "code",
      "metadata": {
        "id": "thW-afcIIrMF"
      },
      "source": [
        "from collections import Counter\n",
        "\n",
        "import numpy as np\n",
        "import pandas as pd\n",
        "\n",
        "import scipy.sparse as spr\n",
        "import pickle"
      ],
      "execution_count": null,
      "outputs": []
    },
    {
      "cell_type": "markdown",
      "metadata": {
        "id": "sbH8A-taXwxo"
      },
      "source": [
        "- train/val split"
      ]
    },
    {
      "cell_type": "code",
      "metadata": {
        "id": "7s1Cnd78XNQN"
      },
      "source": [
        "# -*- coding: utf-8 -*-\n",
        "import copy\n",
        "import random\n",
        "import numpy as np\n",
        "\n",
        "\n",
        "class ArenaSplitter:\n",
        "    def _split_data(self, playlists):\n",
        "        tot = len(playlists)\n",
        "        train = playlists[:int(tot*0.80)]\n",
        "        val = playlists[int(tot*0.80):]\n",
        "\n",
        "        return train, val\n",
        "\n",
        "    def _mask(self, playlists, mask_cols, del_cols):\n",
        "        q_pl = copy.deepcopy(playlists)\n",
        "        a_pl = copy.deepcopy(playlists)\n",
        "\n",
        "        for i in range(len(playlists)):\n",
        "            for del_col in del_cols:\n",
        "                q_pl[i][del_col] = []\n",
        "                if del_col == 'songs':\n",
        "                    a_pl[i][del_col] = a_pl[i][del_col][:100]\n",
        "                elif del_col == 'tags':\n",
        "                    a_pl[i][del_col] = a_pl[i][del_col][:10]\n",
        "\n",
        "            for col in mask_cols:\n",
        "                mask_len = len(playlists[i][col])\n",
        "                mask = np.full(mask_len, False)\n",
        "                mask[:mask_len//2] = True\n",
        "                np.random.shuffle(mask)\n",
        "\n",
        "                q_pl[i][col] = list(np.array(q_pl[i][col])[mask])\n",
        "                a_pl[i][col] = list(np.array(a_pl[i][col])[np.invert(mask)])\n",
        "\n",
        "        return q_pl, a_pl\n",
        "\n",
        "    def _mask_data(self, playlists):\n",
        "        playlists = copy.deepcopy(playlists)\n",
        "        tot = len(playlists)\n",
        "        song_only = playlists[:int(tot * 0.3)]\n",
        "        song_and_tags = playlists[int(tot * 0.3):int(tot * 0.8)]\n",
        "        tags_only = playlists[int(tot * 0.8):int(tot * 0.95)]\n",
        "        title_only = playlists[int(tot * 0.95):]\n",
        "\n",
        "        print(f\"Total: {len(playlists)}, \"\n",
        "              f\"Song only: {len(song_only)}, \"\n",
        "              f\"Song & Tags: {len(song_and_tags)}, \"\n",
        "              f\"Tags only: {len(tags_only)}, \"\n",
        "              f\"Title only: {len(title_only)}\")\n",
        "\n",
        "        song_q, song_a = self._mask(song_only, ['songs'], ['tags'])\n",
        "        songtag_q, songtag_a = self._mask(song_and_tags, ['songs', 'tags'], [])\n",
        "        tag_q, tag_a = self._mask(tags_only, ['tags'], ['songs'])\n",
        "        title_q, title_a = self._mask(title_only, [], ['songs', 'tags'])\n",
        "\n",
        "        q = song_q + songtag_q + tag_q + title_q\n",
        "        a = song_a + songtag_a + tag_a + title_a\n",
        "\n",
        "        shuffle_indices = np.arange(len(q))\n",
        "        np.random.shuffle(shuffle_indices)\n",
        "\n",
        "        q = list(np.array(q)[shuffle_indices])\n",
        "        a = list(np.array(a)[shuffle_indices])\n",
        "\n",
        "        return q, a\n",
        "\n",
        "    def run(self, fname):\n",
        "        random.seed(777)\n",
        "\n",
        "        print(\"Reading data...\\n\")\n",
        "        playlists = load_json(fname)\n",
        "        random.shuffle(playlists)\n",
        "        print(f\"Total playlists: {len(playlists)}\")\n",
        "\n",
        "        print(\"Splitting data...\")\n",
        "        train, val = self._split_data(playlists)\n",
        "\n",
        "        print(\"Original train...\")\n",
        "        write_json(train, \"orig/train.json\")\n",
        "        print(\"Original val...\")\n",
        "        write_json(val, \"orig/val.json\")\n",
        "\n",
        "        print(\"Masked val...\")\n",
        "        val_q, val_a = self._mask_data(val)\n",
        "        write_json(val_q, \"questions/val.json\")\n",
        "        write_json(val_a, \"answers/val.json\")"
      ],
      "execution_count": null,
      "outputs": []
    },
    {
      "cell_type": "code",
      "metadata": {
        "colab": {
          "base_uri": "https://localhost:8080/"
        },
        "id": "-MSEOBR4XSC7",
        "outputId": "a8ad8323-3309-4f62-e5be-3d3acf9d71fa"
      },
      "source": [
        "split = ArenaSplitter()\n",
        "split.run(\"/content/drive/MyDrive/KUBIG 2021-2/추천시스템 프로젝트/멜론데이터/train.json\")"
      ],
      "execution_count": null,
      "outputs": [
        {
          "output_type": "stream",
          "name": "stdout",
          "text": [
            "Reading data...\n",
            "\n",
            "Total playlists: 115071\n",
            "Splitting data...\n",
            "Original train...\n",
            "Original val...\n",
            "Masked val...\n",
            "Total: 23015, Song only: 6904, Song & Tags: 11508, Tags only: 3452, Title only: 1151\n"
          ]
        }
      ]
    },
    {
      "cell_type": "code",
      "metadata": {
        "id": "1J_GnztkIuTv"
      },
      "source": [
        "song_meta = pd.read_json(\"/content/drive/MyDrive/KUBIG 2021-2/추천시스템 프로젝트/멜론데이터/song_meta.json\")\n",
        "train = pd.read_json(\"/content/arena_data/orig/train.json\")\n",
        "test = pd.read_json(\"/content/arena_data/questions/val.json\")"
      ],
      "execution_count": null,
      "outputs": []
    },
    {
      "cell_type": "markdown",
      "metadata": {
        "id": "IP_p3we7Poyq"
      },
      "source": [
        "playlist, song, tag의 id(각각 nid, sid, tid)를 새로 생성하는 이유는, 새로 생성할 id를 matrix의 row, column index로 사용할 것이기 때문입니다.\n",
        "\n",
        "- plylst_id_nid : playlist id -> nid\n",
        "- plylst_nid_id : playlist nid -> id\n",
        "- song_id_sid : song id -> sid\n",
        "- song_sid_id : song sid -> id\n",
        "- tag_id_tid : tag id -> tid\n",
        "- tag_tid_id : tag tid -> id\n",
        "- song_dict : song id -> count\n",
        "- tag_dict : tag id -> count"
      ]
    },
    {
      "cell_type": "code",
      "source": [
        "train.head()"
      ],
      "metadata": {
        "colab": {
          "base_uri": "https://localhost:8080/",
          "height": 206
        },
        "id": "tVJSTdCV33VD",
        "outputId": "d25c2e97-3ce9-42fc-9638-5b30e3d7962e"
      },
      "execution_count": null,
      "outputs": [
        {
          "output_type": "execute_result",
          "data": {
            "text/html": [
              "\n",
              "  <div id=\"df-a29671c0-eef3-4709-87ac-db92e00576f3\">\n",
              "    <div class=\"colab-df-container\">\n",
              "      <div>\n",
              "<style scoped>\n",
              "    .dataframe tbody tr th:only-of-type {\n",
              "        vertical-align: middle;\n",
              "    }\n",
              "\n",
              "    .dataframe tbody tr th {\n",
              "        vertical-align: top;\n",
              "    }\n",
              "\n",
              "    .dataframe thead th {\n",
              "        text-align: right;\n",
              "    }\n",
              "</style>\n",
              "<table border=\"1\" class=\"dataframe\">\n",
              "  <thead>\n",
              "    <tr style=\"text-align: right;\">\n",
              "      <th></th>\n",
              "      <th>tags</th>\n",
              "      <th>id</th>\n",
              "      <th>plylst_title</th>\n",
              "      <th>songs</th>\n",
              "      <th>like_cnt</th>\n",
              "      <th>updt_date</th>\n",
              "    </tr>\n",
              "  </thead>\n",
              "  <tbody>\n",
              "    <tr>\n",
              "      <th>0</th>\n",
              "      <td>[힐링, 휴식, 밤, 새벽]</td>\n",
              "      <td>147668</td>\n",
              "      <td>To. 힘들고 지친 분들에게</td>\n",
              "      <td>[663185, 649626, 6855, 188486, 348451, 169945,...</td>\n",
              "      <td>12</td>\n",
              "      <td>2016-06-23 10:06:27.000</td>\n",
              "    </tr>\n",
              "    <tr>\n",
              "      <th>1</th>\n",
              "      <td>[팝]</td>\n",
              "      <td>50422</td>\n",
              "      <td>130807-7</td>\n",
              "      <td>[627035, 256438, 603324, 200889, 441319, 21689...</td>\n",
              "      <td>0</td>\n",
              "      <td>2013-08-15 13:17:11.000</td>\n",
              "    </tr>\n",
              "    <tr>\n",
              "      <th>2</th>\n",
              "      <td>[뉴에이지]</td>\n",
              "      <td>116432</td>\n",
              "      <td>숙면을 위한 슬픈 마음을 달래 줄 피아노</td>\n",
              "      <td>[129204, 369497, 649743, 344619, 110281, 63266...</td>\n",
              "      <td>23</td>\n",
              "      <td>2015-09-03 16:51:50.000</td>\n",
              "    </tr>\n",
              "    <tr>\n",
              "      <th>3</th>\n",
              "      <td>[하드락, 록스피릿, 댄스]</td>\n",
              "      <td>55076</td>\n",
              "      <td>당신을 하얗게 불태울 곡들</td>\n",
              "      <td>[677591, 420396, 104934, 119279, 251988, 58850...</td>\n",
              "      <td>1</td>\n",
              "      <td>2017-01-09 15:41:25.000</td>\n",
              "    </tr>\n",
              "    <tr>\n",
              "      <th>4</th>\n",
              "      <td>[힐링, 휴식, 기분전환]</td>\n",
              "      <td>125064</td>\n",
              "      <td>[스피커 필수 / HIPHOP] 듣고 있음 꿀렁꿀렁이고 싶은 힙합음악!</td>\n",
              "      <td>[704455, 694036, 508043, 154933, 57614, 645195...</td>\n",
              "      <td>715</td>\n",
              "      <td>2016-02-22 12:32:50.000</td>\n",
              "    </tr>\n",
              "  </tbody>\n",
              "</table>\n",
              "</div>\n",
              "      <button class=\"colab-df-convert\" onclick=\"convertToInteractive('df-a29671c0-eef3-4709-87ac-db92e00576f3')\"\n",
              "              title=\"Convert this dataframe to an interactive table.\"\n",
              "              style=\"display:none;\">\n",
              "        \n",
              "  <svg xmlns=\"http://www.w3.org/2000/svg\" height=\"24px\"viewBox=\"0 0 24 24\"\n",
              "       width=\"24px\">\n",
              "    <path d=\"M0 0h24v24H0V0z\" fill=\"none\"/>\n",
              "    <path d=\"M18.56 5.44l.94 2.06.94-2.06 2.06-.94-2.06-.94-.94-2.06-.94 2.06-2.06.94zm-11 1L8.5 8.5l.94-2.06 2.06-.94-2.06-.94L8.5 2.5l-.94 2.06-2.06.94zm10 10l.94 2.06.94-2.06 2.06-.94-2.06-.94-.94-2.06-.94 2.06-2.06.94z\"/><path d=\"M17.41 7.96l-1.37-1.37c-.4-.4-.92-.59-1.43-.59-.52 0-1.04.2-1.43.59L10.3 9.45l-7.72 7.72c-.78.78-.78 2.05 0 2.83L4 21.41c.39.39.9.59 1.41.59.51 0 1.02-.2 1.41-.59l7.78-7.78 2.81-2.81c.8-.78.8-2.07 0-2.86zM5.41 20L4 18.59l7.72-7.72 1.47 1.35L5.41 20z\"/>\n",
              "  </svg>\n",
              "      </button>\n",
              "      \n",
              "  <style>\n",
              "    .colab-df-container {\n",
              "      display:flex;\n",
              "      flex-wrap:wrap;\n",
              "      gap: 12px;\n",
              "    }\n",
              "\n",
              "    .colab-df-convert {\n",
              "      background-color: #E8F0FE;\n",
              "      border: none;\n",
              "      border-radius: 50%;\n",
              "      cursor: pointer;\n",
              "      display: none;\n",
              "      fill: #1967D2;\n",
              "      height: 32px;\n",
              "      padding: 0 0 0 0;\n",
              "      width: 32px;\n",
              "    }\n",
              "\n",
              "    .colab-df-convert:hover {\n",
              "      background-color: #E2EBFA;\n",
              "      box-shadow: 0px 1px 2px rgba(60, 64, 67, 0.3), 0px 1px 3px 1px rgba(60, 64, 67, 0.15);\n",
              "      fill: #174EA6;\n",
              "    }\n",
              "\n",
              "    [theme=dark] .colab-df-convert {\n",
              "      background-color: #3B4455;\n",
              "      fill: #D2E3FC;\n",
              "    }\n",
              "\n",
              "    [theme=dark] .colab-df-convert:hover {\n",
              "      background-color: #434B5C;\n",
              "      box-shadow: 0px 1px 3px 1px rgba(0, 0, 0, 0.15);\n",
              "      filter: drop-shadow(0px 1px 2px rgba(0, 0, 0, 0.3));\n",
              "      fill: #FFFFFF;\n",
              "    }\n",
              "  </style>\n",
              "\n",
              "      <script>\n",
              "        const buttonEl =\n",
              "          document.querySelector('#df-a29671c0-eef3-4709-87ac-db92e00576f3 button.colab-df-convert');\n",
              "        buttonEl.style.display =\n",
              "          google.colab.kernel.accessAllowed ? 'block' : 'none';\n",
              "\n",
              "        async function convertToInteractive(key) {\n",
              "          const element = document.querySelector('#df-a29671c0-eef3-4709-87ac-db92e00576f3');\n",
              "          const dataTable =\n",
              "            await google.colab.kernel.invokeFunction('convertToInteractive',\n",
              "                                                     [key], {});\n",
              "          if (!dataTable) return;\n",
              "\n",
              "          const docLinkHtml = 'Like what you see? Visit the ' +\n",
              "            '<a target=\"_blank\" href=https://colab.research.google.com/notebooks/data_table.ipynb>data table notebook</a>'\n",
              "            + ' to learn more about interactive tables.';\n",
              "          element.innerHTML = '';\n",
              "          dataTable['output_type'] = 'display_data';\n",
              "          await google.colab.output.renderOutput(dataTable, element);\n",
              "          const docLink = document.createElement('div');\n",
              "          docLink.innerHTML = docLinkHtml;\n",
              "          element.appendChild(docLink);\n",
              "        }\n",
              "      </script>\n",
              "    </div>\n",
              "  </div>\n",
              "  "
            ],
            "text/plain": [
              "              tags      id  ... like_cnt                updt_date\n",
              "0  [힐링, 휴식, 밤, 새벽]  147668  ...       12  2016-06-23 10:06:27.000\n",
              "1              [팝]   50422  ...        0  2013-08-15 13:17:11.000\n",
              "2           [뉴에이지]  116432  ...       23  2015-09-03 16:51:50.000\n",
              "3  [하드락, 록스피릿, 댄스]   55076  ...        1  2017-01-09 15:41:25.000\n",
              "4   [힐링, 휴식, 기분전환]  125064  ...      715  2016-02-22 12:32:50.000\n",
              "\n",
              "[5 rows x 6 columns]"
            ]
          },
          "metadata": {},
          "execution_count": 10
        }
      ]
    },
    {
      "cell_type": "code",
      "metadata": {
        "id": "AU1b8AwJJ5cR"
      },
      "source": [
        "train['istrain'] = 1\n",
        "test['istrain'] = 0\n",
        "\n",
        "n_train = len(train)\n",
        "n_test = len(test)\n",
        "\n",
        "# train + test\n",
        "plylst = pd.concat([train, test], ignore_index=True)\n",
        "\n",
        "# playlist id\n",
        "plylst[\"nid\"] = range(n_train + n_test)\n",
        "\n",
        "# id <-> nid\n",
        "plylst_id_nid = dict(zip(plylst[\"id\"],plylst[\"nid\"]))\n",
        "plylst_nid_id = dict(zip(plylst[\"nid\"],plylst[\"id\"]))"
      ],
      "execution_count": null,
      "outputs": []
    },
    {
      "cell_type": "code",
      "metadata": {
        "id": "0pa3d4wYQpCZ"
      },
      "source": [
        "plylst_tag = plylst['tags']\n",
        "tag_counter = Counter([tg for tgs in plylst_tag for tg in tgs])\n",
        "tag_dict = {x: tag_counter[x] for x in tag_counter}\n",
        "\n",
        "tag_id_tid = dict()\n",
        "tag_tid_id = dict()\n",
        "for i, t in enumerate(tag_dict):\n",
        "  tag_id_tid[t] = i\n",
        "  tag_tid_id[i] = t\n",
        "\n",
        "n_tags = len(tag_dict)\n",
        "\n",
        "plylst_song = plylst['songs']\n",
        "song_counter = Counter([sg for sgs in plylst_song for sg in sgs])\n",
        "song_dict = {x: song_counter[x] for x in song_counter}\n",
        "\n",
        "song_id_sid = dict()\n",
        "song_sid_id = dict()\n",
        "for i, t in enumerate(song_dict):\n",
        "  song_id_sid[t] = i\n",
        "  song_sid_id[i] = t\n",
        "\n",
        "n_songs = len(song_dict)"
      ],
      "execution_count": null,
      "outputs": []
    },
    {
      "cell_type": "markdown",
      "metadata": {
        "id": "yasM1px9Rp9q"
      },
      "source": [
        "plylst의 songs와 tags를 새로운 id로 변환하여 DataFrame에 추가합니다"
      ]
    },
    {
      "cell_type": "code",
      "metadata": {
        "id": "Bkd8EkxeTXMo"
      },
      "source": [
        "plylst['songs_id'] = plylst['songs'].map(lambda x: [song_id_sid.get(s) for s in x if song_id_sid.get(s) != None])\n",
        "plylst['tags_id'] = plylst['tags'].map(lambda x: [tag_id_tid.get(t) for t in x if tag_id_tid.get(t) != None])"
      ],
      "execution_count": null,
      "outputs": []
    },
    {
      "cell_type": "code",
      "metadata": {
        "id": "5OZHqvdZUWI-",
        "colab": {
          "base_uri": "https://localhost:8080/"
        },
        "outputId": "7fd8989c-f920-4901-b0fc-5586ccc50b9e"
      },
      "source": [
        "plylst_use = plylst[['istrain','nid','updt_date','songs_id','tags_id']]\n",
        "plylst_use.loc[:,'num_songs'] = plylst_use['songs_id'].map(len)\n",
        "plylst_use.loc[:,'num_tags'] = plylst_use['tags_id'].map(len)\n",
        "plylst_use = plylst_use.set_index('nid')"
      ],
      "execution_count": null,
      "outputs": [
        {
          "output_type": "stream",
          "name": "stderr",
          "text": [
            "/usr/local/lib/python3.7/dist-packages/pandas/core/indexing.py:1596: SettingWithCopyWarning: \n",
            "A value is trying to be set on a copy of a slice from a DataFrame.\n",
            "Try using .loc[row_indexer,col_indexer] = value instead\n",
            "\n",
            "See the caveats in the documentation: https://pandas.pydata.org/pandas-docs/stable/user_guide/indexing.html#returning-a-view-versus-a-copy\n",
            "  self.obj[key] = _infer_fill_value(value)\n",
            "/usr/local/lib/python3.7/dist-packages/pandas/core/indexing.py:1743: SettingWithCopyWarning: \n",
            "A value is trying to be set on a copy of a slice from a DataFrame.\n",
            "Try using .loc[row_indexer,col_indexer] = value instead\n",
            "\n",
            "See the caveats in the documentation: https://pandas.pydata.org/pandas-docs/stable/user_guide/indexing.html#returning-a-view-versus-a-copy\n",
            "  isetter(ilocs[0], value)\n"
          ]
        }
      ]
    },
    {
      "cell_type": "code",
      "metadata": {
        "id": "VeKHBqPawcTA"
      },
      "source": [
        "plylst_train = plylst_use.iloc[:n_train,:]\n",
        "plylst_test = plylst_use.iloc[n_train:,:]"
      ],
      "execution_count": null,
      "outputs": []
    },
    {
      "cell_type": "code",
      "metadata": {
        "colab": {
          "base_uri": "https://localhost:8080/",
          "height": 455
        },
        "id": "Z_7iMQze7GS6",
        "outputId": "f7f606c4-1434-4970-e46c-0ea711d2de0e"
      },
      "source": [
        "plylst_use"
      ],
      "execution_count": null,
      "outputs": [
        {
          "output_type": "execute_result",
          "data": {
            "text/html": [
              "\n",
              "  <div id=\"df-8afcea9d-b8b8-496e-ab74-48fcab3c77c7\">\n",
              "    <div class=\"colab-df-container\">\n",
              "      <div>\n",
              "<style scoped>\n",
              "    .dataframe tbody tr th:only-of-type {\n",
              "        vertical-align: middle;\n",
              "    }\n",
              "\n",
              "    .dataframe tbody tr th {\n",
              "        vertical-align: top;\n",
              "    }\n",
              "\n",
              "    .dataframe thead th {\n",
              "        text-align: right;\n",
              "    }\n",
              "</style>\n",
              "<table border=\"1\" class=\"dataframe\">\n",
              "  <thead>\n",
              "    <tr style=\"text-align: right;\">\n",
              "      <th></th>\n",
              "      <th>istrain</th>\n",
              "      <th>updt_date</th>\n",
              "      <th>songs_id</th>\n",
              "      <th>tags_id</th>\n",
              "      <th>num_songs</th>\n",
              "      <th>num_tags</th>\n",
              "    </tr>\n",
              "    <tr>\n",
              "      <th>nid</th>\n",
              "      <th></th>\n",
              "      <th></th>\n",
              "      <th></th>\n",
              "      <th></th>\n",
              "      <th></th>\n",
              "      <th></th>\n",
              "    </tr>\n",
              "  </thead>\n",
              "  <tbody>\n",
              "    <tr>\n",
              "      <th>0</th>\n",
              "      <td>1</td>\n",
              "      <td>2016-06-23 10:06:27.000</td>\n",
              "      <td>[0, 1, 2, 3, 4, 5, 6, 7, 8, 9, 10, 11, 12, 13,...</td>\n",
              "      <td>[0, 1, 2, 3]</td>\n",
              "      <td>66</td>\n",
              "      <td>4</td>\n",
              "    </tr>\n",
              "    <tr>\n",
              "      <th>1</th>\n",
              "      <td>1</td>\n",
              "      <td>2013-08-15 13:17:11.000</td>\n",
              "      <td>[66, 67, 68, 69, 70, 71, 72, 73, 74, 75, 76, 7...</td>\n",
              "      <td>[4]</td>\n",
              "      <td>14</td>\n",
              "      <td>1</td>\n",
              "    </tr>\n",
              "    <tr>\n",
              "      <th>2</th>\n",
              "      <td>1</td>\n",
              "      <td>2015-09-03 16:51:50.000</td>\n",
              "      <td>[80, 81, 82, 83, 84, 85, 86, 87, 88, 89, 90, 9...</td>\n",
              "      <td>[5]</td>\n",
              "      <td>15</td>\n",
              "      <td>1</td>\n",
              "    </tr>\n",
              "    <tr>\n",
              "      <th>3</th>\n",
              "      <td>1</td>\n",
              "      <td>2017-01-09 15:41:25.000</td>\n",
              "      <td>[95, 96, 97, 98, 99, 100, 101, 102, 103, 104, ...</td>\n",
              "      <td>[6, 7, 8]</td>\n",
              "      <td>21</td>\n",
              "      <td>3</td>\n",
              "    </tr>\n",
              "    <tr>\n",
              "      <th>4</th>\n",
              "      <td>1</td>\n",
              "      <td>2016-02-22 12:32:50.000</td>\n",
              "      <td>[116, 117, 118, 119, 120, 121, 122, 123, 124, ...</td>\n",
              "      <td>[0, 1, 9]</td>\n",
              "      <td>35</td>\n",
              "      <td>3</td>\n",
              "    </tr>\n",
              "    <tr>\n",
              "      <th>...</th>\n",
              "      <td>...</td>\n",
              "      <td>...</td>\n",
              "      <td>...</td>\n",
              "      <td>...</td>\n",
              "      <td>...</td>\n",
              "      <td>...</td>\n",
              "    </tr>\n",
              "    <tr>\n",
              "      <th>115066</th>\n",
              "      <td>0</td>\n",
              "      <td>2015-04-07 11:18:51.000</td>\n",
              "      <td>[111028, 576173, 9706, 29137, 12406, 5087, 462...</td>\n",
              "      <td>[2, 3]</td>\n",
              "      <td>27</td>\n",
              "      <td>2</td>\n",
              "    </tr>\n",
              "    <tr>\n",
              "      <th>115067</th>\n",
              "      <td>0</td>\n",
              "      <td>2020-04-20 07:40:58.000</td>\n",
              "      <td>[354, 2045, 7872, 1380, 4885, 7875, 312, 2081,...</td>\n",
              "      <td>[126, 129, 60, 58, 34]</td>\n",
              "      <td>36</td>\n",
              "      <td>5</td>\n",
              "    </tr>\n",
              "    <tr>\n",
              "      <th>115068</th>\n",
              "      <td>0</td>\n",
              "      <td>2007-04-08 16:54:15.000</td>\n",
              "      <td>[462, 42948, 385640, 120811, 1555, 420, 16865]</td>\n",
              "      <td>[]</td>\n",
              "      <td>7</td>\n",
              "      <td>0</td>\n",
              "    </tr>\n",
              "    <tr>\n",
              "      <th>115069</th>\n",
              "      <td>0</td>\n",
              "      <td>2010-01-04 15:35:11.000</td>\n",
              "      <td>[326412, 240343, 223948, 329234, 244908, 57617...</td>\n",
              "      <td>[]</td>\n",
              "      <td>55</td>\n",
              "      <td>0</td>\n",
              "    </tr>\n",
              "    <tr>\n",
              "      <th>115070</th>\n",
              "      <td>0</td>\n",
              "      <td>2015-04-10 15:40:41.000</td>\n",
              "      <td>[25760, 316575, 102259, 35681, 270755, 142352,...</td>\n",
              "      <td>[3]</td>\n",
              "      <td>26</td>\n",
              "      <td>1</td>\n",
              "    </tr>\n",
              "  </tbody>\n",
              "</table>\n",
              "<p>115071 rows × 6 columns</p>\n",
              "</div>\n",
              "      <button class=\"colab-df-convert\" onclick=\"convertToInteractive('df-8afcea9d-b8b8-496e-ab74-48fcab3c77c7')\"\n",
              "              title=\"Convert this dataframe to an interactive table.\"\n",
              "              style=\"display:none;\">\n",
              "        \n",
              "  <svg xmlns=\"http://www.w3.org/2000/svg\" height=\"24px\"viewBox=\"0 0 24 24\"\n",
              "       width=\"24px\">\n",
              "    <path d=\"M0 0h24v24H0V0z\" fill=\"none\"/>\n",
              "    <path d=\"M18.56 5.44l.94 2.06.94-2.06 2.06-.94-2.06-.94-.94-2.06-.94 2.06-2.06.94zm-11 1L8.5 8.5l.94-2.06 2.06-.94-2.06-.94L8.5 2.5l-.94 2.06-2.06.94zm10 10l.94 2.06.94-2.06 2.06-.94-2.06-.94-.94-2.06-.94 2.06-2.06.94z\"/><path d=\"M17.41 7.96l-1.37-1.37c-.4-.4-.92-.59-1.43-.59-.52 0-1.04.2-1.43.59L10.3 9.45l-7.72 7.72c-.78.78-.78 2.05 0 2.83L4 21.41c.39.39.9.59 1.41.59.51 0 1.02-.2 1.41-.59l7.78-7.78 2.81-2.81c.8-.78.8-2.07 0-2.86zM5.41 20L4 18.59l7.72-7.72 1.47 1.35L5.41 20z\"/>\n",
              "  </svg>\n",
              "      </button>\n",
              "      \n",
              "  <style>\n",
              "    .colab-df-container {\n",
              "      display:flex;\n",
              "      flex-wrap:wrap;\n",
              "      gap: 12px;\n",
              "    }\n",
              "\n",
              "    .colab-df-convert {\n",
              "      background-color: #E8F0FE;\n",
              "      border: none;\n",
              "      border-radius: 50%;\n",
              "      cursor: pointer;\n",
              "      display: none;\n",
              "      fill: #1967D2;\n",
              "      height: 32px;\n",
              "      padding: 0 0 0 0;\n",
              "      width: 32px;\n",
              "    }\n",
              "\n",
              "    .colab-df-convert:hover {\n",
              "      background-color: #E2EBFA;\n",
              "      box-shadow: 0px 1px 2px rgba(60, 64, 67, 0.3), 0px 1px 3px 1px rgba(60, 64, 67, 0.15);\n",
              "      fill: #174EA6;\n",
              "    }\n",
              "\n",
              "    [theme=dark] .colab-df-convert {\n",
              "      background-color: #3B4455;\n",
              "      fill: #D2E3FC;\n",
              "    }\n",
              "\n",
              "    [theme=dark] .colab-df-convert:hover {\n",
              "      background-color: #434B5C;\n",
              "      box-shadow: 0px 1px 3px 1px rgba(0, 0, 0, 0.15);\n",
              "      filter: drop-shadow(0px 1px 2px rgba(0, 0, 0, 0.3));\n",
              "      fill: #FFFFFF;\n",
              "    }\n",
              "  </style>\n",
              "\n",
              "      <script>\n",
              "        const buttonEl =\n",
              "          document.querySelector('#df-8afcea9d-b8b8-496e-ab74-48fcab3c77c7 button.colab-df-convert');\n",
              "        buttonEl.style.display =\n",
              "          google.colab.kernel.accessAllowed ? 'block' : 'none';\n",
              "\n",
              "        async function convertToInteractive(key) {\n",
              "          const element = document.querySelector('#df-8afcea9d-b8b8-496e-ab74-48fcab3c77c7');\n",
              "          const dataTable =\n",
              "            await google.colab.kernel.invokeFunction('convertToInteractive',\n",
              "                                                     [key], {});\n",
              "          if (!dataTable) return;\n",
              "\n",
              "          const docLinkHtml = 'Like what you see? Visit the ' +\n",
              "            '<a target=\"_blank\" href=https://colab.research.google.com/notebooks/data_table.ipynb>data table notebook</a>'\n",
              "            + ' to learn more about interactive tables.';\n",
              "          element.innerHTML = '';\n",
              "          dataTable['output_type'] = 'display_data';\n",
              "          await google.colab.output.renderOutput(dataTable, element);\n",
              "          const docLink = document.createElement('div');\n",
              "          docLink.innerHTML = docLinkHtml;\n",
              "          element.appendChild(docLink);\n",
              "        }\n",
              "      </script>\n",
              "    </div>\n",
              "  </div>\n",
              "  "
            ],
            "text/plain": [
              "        istrain                updt_date  ... num_songs num_tags\n",
              "nid                                       ...                   \n",
              "0             1  2016-06-23 10:06:27.000  ...        66        4\n",
              "1             1  2013-08-15 13:17:11.000  ...        14        1\n",
              "2             1  2015-09-03 16:51:50.000  ...        15        1\n",
              "3             1  2017-01-09 15:41:25.000  ...        21        3\n",
              "4             1  2016-02-22 12:32:50.000  ...        35        3\n",
              "...         ...                      ...  ...       ...      ...\n",
              "115066        0  2015-04-07 11:18:51.000  ...        27        2\n",
              "115067        0  2020-04-20 07:40:58.000  ...        36        5\n",
              "115068        0  2007-04-08 16:54:15.000  ...         7        0\n",
              "115069        0  2010-01-04 15:35:11.000  ...        55        0\n",
              "115070        0  2015-04-10 15:40:41.000  ...        26        1\n",
              "\n",
              "[115071 rows x 6 columns]"
            ]
          },
          "metadata": {},
          "execution_count": 16
        }
      ]
    },
    {
      "cell_type": "markdown",
      "metadata": {
        "id": "z1OUOX5TXmI5"
      },
      "source": [
        "test set에서 샘플 300개만 뽑아 테스트해봅니다."
      ]
    },
    {
      "cell_type": "code",
      "metadata": {
        "id": "vWsuvrTTooAF"
      },
      "source": [
        "# sample test\n",
        "np.random.seed(33)\n",
        "n_sample = 300\n",
        "\n",
        "test = plylst_test.iloc[np.random.choice(range(n_test), n_sample, replace=False),:]\n",
        "\n",
        "# real test\n",
        "# test = plylst_test\n",
        "# print(len(test))"
      ],
      "execution_count": null,
      "outputs": []
    },
    {
      "cell_type": "markdown",
      "metadata": {
        "id": "MtsmQyJyjMFu"
      },
      "source": [
        "row가 playlist(nid)이고 column이 item(sid or tid)인 sparse matrix A를 만듭니다."
      ]
    },
    {
      "cell_type": "markdown",
      "metadata": {
        "id": "fRDPWECHEE3y"
      },
      "source": [
        "- 각 플레이리스트(row)별로 포함하는 수록곡/태그의 컬럼에 해당하는 값이 1, 나머지는 0인 sparse matrix 생성 (2개 matrix)\n",
        "- 각 sparse matrix에 bm25 weighting 적용"
      ]
    },
    {
      "cell_type": "code",
      "metadata": {
        "id": "PHV4hy_EQFjV"
      },
      "source": [
        "# bm25 weighting 코드 \n",
        "\n",
        "def bm25_row(X, K1=1.2, B=0.75):\n",
        "    # Weighs each row of a sparse matrix by OkapiBM25 weighting\n",
        "    # calculate idf per term (song or tag)\n",
        "    X = spr.coo_matrix(X)\n",
        "    N = float(X.shape[0])\n",
        "    idf = np.log(N / (1 + np.bincount(X.col)))\n",
        "\n",
        "    # calculate length_norm per document (playlist)\n",
        "    row_sums = np.ravel(X.sum(axis=1))\n",
        "    average_length = row_sums.mean()\n",
        "    length_norm = (1.0 - B) + B * row_sums / average_length\n",
        "\n",
        "    # weight matrix rows by bm25\n",
        "    X.data = X.data * (K1 + 1.0) / (K1 * length_norm[X.row] + X.data) * idf[X.col]\n",
        "    return X.tocsr()"
      ],
      "execution_count": null,
      "outputs": []
    },
    {
      "cell_type": "markdown",
      "metadata": {
        "id": "u4GbJHyXQ0cP"
      },
      "source": [
        "- bm25 관련 자료: https://simonezz.tistory.com/41 "
      ]
    },
    {
      "cell_type": "code",
      "metadata": {
        "id": "n3Rz08Xown_e"
      },
      "source": [
        "row = np.repeat(range(n_train), plylst_train['num_songs'])\n",
        "col = [song for songs in plylst_train['songs_id'] for song in songs]\n",
        "dat = np.repeat(1, plylst_train['num_songs'].sum())\n",
        "train_songs_A = spr.csr_matrix((dat, (row, col)), shape=(n_train, n_songs))\n",
        "train_songs_A = bm25_row(train_songs_A)\n",
        "\n",
        "row = np.repeat(range(n_train), plylst_train['num_tags'])\n",
        "col = [tag for tags in plylst_train['tags_id'] for tag in tags]\n",
        "dat = np.repeat(1, plylst_train['num_tags'].sum())\n",
        "train_tags_A = spr.csr_matrix((dat, (row, col)), shape=(n_train, n_tags))\n",
        "train_tags_A = bm25_row(train_tags_A)"
      ],
      "execution_count": null,
      "outputs": []
    },
    {
      "cell_type": "code",
      "metadata": {
        "id": "7_QIIL2zCIzt"
      },
      "source": [
        "train_songs_A_T = train_songs_A.T.tocsr()\n",
        "train_tags_A_T = train_tags_A.T.tocsr()"
      ],
      "execution_count": null,
      "outputs": []
    },
    {
      "cell_type": "code",
      "metadata": {
        "colab": {
          "base_uri": "https://localhost:8080/"
        },
        "id": "BDFi_rp7dBpG",
        "outputId": "0abf5d8c-6b50-4ae2-e256-c227b81d9c65"
      },
      "source": [
        "train_songs_A.data"
      ],
      "execution_count": null,
      "outputs": [
        {
          "output_type": "execute_result",
          "data": {
            "text/plain": [
              "array([ 6.45773177,  5.24387366,  4.68657376, ..., 12.22118728,\n",
              "       12.57123369, 13.0645964 ])"
            ]
          },
          "metadata": {},
          "execution_count": 21
        }
      ]
    },
    {
      "cell_type": "code",
      "metadata": {
        "colab": {
          "base_uri": "https://localhost:8080/"
        },
        "id": "plQV1LGTLPnA",
        "outputId": "b06c191a-e6d7-40e9-ecd4-267a65d69d70"
      },
      "source": [
        "train_songs_A.shape"
      ],
      "execution_count": null,
      "outputs": [
        {
          "output_type": "execute_result",
          "data": {
            "text/plain": [
              "(92056, 576192)"
            ]
          },
          "metadata": {},
          "execution_count": 22
        }
      ]
    },
    {
      "cell_type": "markdown",
      "metadata": {
        "id": "8qDwHMf2Gi9y"
      },
      "source": [
        "### 유사도 계산\n",
        "1) 내적  \n",
        "2) 자카드 계수 "
      ]
    },
    {
      "cell_type": "markdown",
      "metadata": {
        "id": "Ftcjut6QIzhl"
      },
      "source": [
        "#### 유사도를 내적으로 계산"
      ]
    },
    {
      "cell_type": "code",
      "metadata": {
        "id": "hncUaaz9-ahN"
      },
      "source": [
        "# 유사도: 내적 활용\n",
        "from tqdm import tqdm\n",
        "\n",
        "def rec(pids):\n",
        "  tt = 1\n",
        "\n",
        "  res = []\n",
        "\n",
        "  for pid in pids:\n",
        "    p = np.zeros((n_songs,1))      # 전체 곡 개수를 길이로 하는 0으로 된 배열\n",
        "    p[test.loc[pid,'songs_id']] = 1   # 해당 플레이리스트가 포함하고 있는 song_id에 해당하는 값은 1 \n",
        "\n",
        "    val = train_songs_A.dot(p).reshape(-1)  # 해당 플레이리스트와 각각의 다른 플레이리스트들 간의 유사도\n",
        "\n",
        "    songs_already = test.loc[pid, \"songs_id\"]  # 해당 플레이리스트에 이미 포함된 곡\n",
        "    tags_already = test.loc[pid, \"tags_id\"]    # 해당 플레이리스트에 이미 포함된 태그\n",
        "\n",
        "    cand_song = train_songs_A_T.dot(val) # 각 곡의 벡터에 해당 플레이리스트와의 유사도를 내적\n",
        "    cand_song_idx = cand_song.reshape(-1).argsort()[-200:][::-1]  # 포함될 가능성이 높은 곡 순서대로 200개 곡의 인덱스 배열\n",
        "\n",
        "    # 위의 곡들 중에 이미 포함되어 있는 곡 제외하고 상위 100개 곡 인덱스 저장\n",
        "    cand_song_idx = cand_song_idx[np.isin(cand_song_idx, songs_already) == False][:100]  \n",
        "    rec_song_idx = [song_sid_id[i] for i in cand_song_idx]  # 곡 인덱스 바탕으로 추천할 곡 목록 리스트 저장\n",
        "\n",
        "    cand_tag = train_tags_A_T.dot(val)\n",
        "    cand_tag_idx = cand_tag.reshape(-1).argsort()[-15:][::-1]\n",
        "\n",
        "    cand_tag_idx = cand_tag_idx[np.isin(cand_tag_idx, tags_already) == False][:10]\n",
        "    rec_tag_idx = [tag_tid_id[i] for i in cand_tag_idx]\n",
        "\n",
        "    res.append({\n",
        "                \"id\": plylst_nid_id[pid],\n",
        "                \"songs\": rec_song_idx,\n",
        "                \"tags\": rec_tag_idx\n",
        "            })\n",
        "    \n",
        "    if tt % 1000 == 0:  # 플레이리스트 1000개 마다 tt 출력\n",
        "      print(tt)\n",
        "\n",
        "    tt += 1\n",
        "  return res"
      ],
      "execution_count": null,
      "outputs": []
    },
    {
      "cell_type": "code",
      "metadata": {
        "id": "UxfbdCynkN0j"
      },
      "source": [
        "answers = rec(test.index)"
      ],
      "execution_count": null,
      "outputs": []
    },
    {
      "cell_type": "code",
      "metadata": {
        "id": "FqneL6dELvYc"
      },
      "source": [
        "answers"
      ],
      "execution_count": null,
      "outputs": []
    },
    {
      "cell_type": "code",
      "metadata": {
        "id": "5u8ehmbhCtm0"
      },
      "source": [
        "write_json(answers, \"results/results.json\")"
      ],
      "execution_count": null,
      "outputs": []
    },
    {
      "cell_type": "code",
      "metadata": {
        "id": "i_iddRS7tRBe",
        "colab": {
          "base_uri": "https://localhost:8080/"
        },
        "outputId": "7adba494-ab0b-4840-b196-d29330848ad1"
      },
      "source": [
        "evaluator = CustomEvaluator()\n",
        "evaluator.evaluate(\"arena_data/answers/val.json\", \"arena_data/results/results.json\")"
      ],
      "execution_count": null,
      "outputs": [
        {
          "output_type": "stream",
          "name": "stdout",
          "text": [
            "Music nDCG: 0.174681\n",
            "Tag nDCG: 0.374618\n",
            "Score: 0.204671\n"
          ]
        }
      ]
    },
    {
      "cell_type": "markdown",
      "metadata": {
        "id": "HMdz7JTdI4wy"
      },
      "source": [
        "#### 유사도를 자카드 계수로 계산 \n",
        "- 두 배열에서 교집합 개수 / 합집합 개수\n",
        "- 참고 자료: https://scikit-learn.org/stable/modules/generated/sklearn.metrics.jaccard_score.html  \n",
        "https://wooono.tistory.com/132  "
      ]
    },
    {
      "cell_type": "code",
      "metadata": {
        "id": "PiLfWFOKHGyx"
      },
      "source": [
        "# 유사도: 자카드 계수 활용: 수정 필요\n",
        "from tqdm import tqdm\n",
        "from sklearn.metrics import jaccard_score\n",
        "\n",
        "def rec(pids):\n",
        "  tt = 1\n",
        "\n",
        "  res = []\n",
        "\n",
        "  for pid in pids:\n",
        "    p = np.zeros((n_songs, 1))      # 전체 곡 개수를 길이로 하는 0으로 된 배열\n",
        "    p[test.loc[pid,'songs_id']] = 1   # 위 배열에서 해당 플레이리스트가 포함하고 있는 song_id에 해당하는 값은 1 (나머지는 0)\n",
        "    \n",
        "    # 자카드 계수   \n",
        "    a_intersect_b = train_songs_A.dot(p).reshape(-1)  # 해당 플레이리스트와 다른 플레이리스트가 공통으로 포함하는 수록곡 개수\n",
        "\n",
        "    sum_a = train_songs_A.sum(axis=1)\n",
        "    sum_a = np.ravel(sum_a)\n",
        "\n",
        "    sum_b = np.repeat(sum(p), train_songs_A.shape[0])\n",
        "    \n",
        "    jaccard_sim = a_intersect_b / (sum_a + sum_b - a_intersect_b)\n",
        "\n",
        "    songs_already = test.loc[pid, \"songs_id\"]  # 해당 플레이리스트에 이미 포함된 곡\n",
        "    tags_already = test.loc[pid, \"tags_id\"]    # 해당 플레이리스트에 이미 포함된 태그\n",
        "\n",
        "    cand_song = train_songs_A_T.dot(jaccard_sim) # 각 곡이 해당 플레이리스트에 포함될 가능성\n",
        "    cand_song_idx = cand_song.reshape(-1).argsort()[-150:][::-1]  # 포함될 가능성이 높은 곡 순서대로 150개 곡의 인덱스 배열\n",
        "\n",
        "    cand_song_idx = cand_song_idx[np.isin(cand_song_idx, songs_already) == False][:100]  # 위의 곡들 중에 이미 포함되어 있는 곡 제외하고 상위 100개 곡 인덱스\n",
        "    rec_song_idx = [song_sid_id[i] for i in cand_song_idx]  # 곡 인덱스 바탕으로 추천할 곡 목록 리스트 저장\n",
        "\n",
        "    cand_tag = train_tags_A_T.dot(jaccard_sim)\n",
        "    cand_tag_idx = cand_tag.reshape(-1).argsort()[-15:][::-1]\n",
        "\n",
        "    cand_tag_idx = cand_tag_idx[np.isin(cand_tag_idx, tags_already) == False][:10]\n",
        "    rec_tag_idx = [tag_tid_id[i] for i in cand_tag_idx]\n",
        "\n",
        "    res.append({\n",
        "                \"id\": plylst_nid_id[pid],\n",
        "                \"songs\": rec_song_idx,\n",
        "                \"tags\": rec_tag_idx\n",
        "            })\n",
        "    \n",
        "    if tt % 1000 == 0:  # 플레이리스트 1000개 마다 tt 출력\n",
        "      print(tt)\n",
        "\n",
        "    tt += 1\n",
        "  return res"
      ],
      "execution_count": null,
      "outputs": []
    },
    {
      "cell_type": "markdown",
      "source": [
        "##### 자카드 계수로 유사도 구하여 추천한 결과 score"
      ],
      "metadata": {
        "id": "KNUOxFWoMOd_"
      }
    },
    {
      "cell_type": "code",
      "metadata": {
        "id": "3d9yIfBaMwYG"
      },
      "source": [
        "answers = rec(test.index)"
      ],
      "execution_count": null,
      "outputs": []
    },
    {
      "cell_type": "code",
      "metadata": {
        "id": "cnJwI_bBMwYG"
      },
      "source": [
        "write_json(answers, \"results/results.json\")"
      ],
      "execution_count": null,
      "outputs": []
    },
    {
      "cell_type": "code",
      "metadata": {
        "colab": {
          "base_uri": "https://localhost:8080/"
        },
        "id": "7iJb6jtfMwYH",
        "outputId": "f5abe33a-bc49-4d4d-d72a-339ff5d40bba"
      },
      "source": [
        "evaluator = CustomEvaluator()\n",
        "evaluator.evaluate(\"arena_data/answers/val.json\", \"arena_data/results/results.json\")"
      ],
      "execution_count": null,
      "outputs": [
        {
          "output_type": "stream",
          "name": "stdout",
          "text": [
            "Music nDCG: 0.21745\n",
            "Tag nDCG: 0.370077\n",
            "Score: 0.240344\n"
          ]
        }
      ]
    },
    {
      "cell_type": "markdown",
      "source": [
        "- 자카드 계수로 유사도 구한 결과 내적으로 유사도 계산한 모델에 비해 약 0.04 정도 score 상승!\n",
        "- tag nDCG는 비슷하나, song nDCG score가 상승함\n"
      ],
      "metadata": {
        "id": "SazIhpIpNNRB"
      }
    }
  ]
}