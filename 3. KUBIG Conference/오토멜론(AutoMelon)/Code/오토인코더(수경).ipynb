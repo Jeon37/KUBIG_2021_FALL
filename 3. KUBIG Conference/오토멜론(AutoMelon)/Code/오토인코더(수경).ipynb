{
  "cells": [
    {
      "cell_type": "code",
      "metadata": {
        "colab": {
          "base_uri": "https://localhost:8080/"
        },
        "id": "Xy6BRq3_O0K4",
        "outputId": "4cb1a772-f017-4df8-f4b9-d557394c825e"
      },
      "source": [
        "from google.colab import drive\n",
        "drive.mount('/content/drive')"
      ],
      "execution_count": null,
      "outputs": [
        {
          "output_type": "stream",
          "name": "stdout",
          "text": [
            "Mounted at /content/drive\n"
          ]
        }
      ],
      "id": "Xy6BRq3_O0K4"
    },
    {
      "cell_type": "code",
      "execution_count": null,
      "metadata": {
        "scrolled": true,
        "id": "97fe1958"
      },
      "outputs": [],
      "source": [
        "import pandas as pd\n",
        "import numpy as np\n",
        "import io \n",
        "import os \n",
        "import json \n",
        "import distutils.dir_util\n",
        "from collections import Counter\n",
        "from tensorflow.keras.models import save_model \n",
        "from tensorflow.keras.models import Model\n",
        "from tensorflow.keras.layers import Input,LSTM,Dense, SimpleRNN,Dropout"
      ],
      "id": "97fe1958"
    },
    {
      "cell_type": "code",
      "metadata": {
        "id": "rpoHDvolAD6T"
      },
      "source": [
        "# arena_util.py\n",
        "# -*- coding: utf-8 -*-\n",
        "\n",
        "import io\n",
        "import os\n",
        "import json\n",
        "import distutils.dir_util\n",
        "from collections import Counter\n",
        "\n",
        "import numpy as np\n",
        "\n",
        "\n",
        "def write_json(data, fname):\n",
        "    def _conv(o):\n",
        "        if isinstance(o, np.int64) or isinstance(o, np.int32):\n",
        "            return int(o)\n",
        "        raise TypeError\n",
        "\n",
        "    parent = os.path.dirname(fname)\n",
        "    distutils.dir_util.mkpath(\"./arena_data/\" + parent)\n",
        "    with io.open(\"./arena_data/\" + fname, \"w\", encoding=\"utf8\") as f:\n",
        "        json_str = json.dumps(data, ensure_ascii=False, default=_conv)\n",
        "        f.write(json_str)\n",
        "\n",
        "\n",
        "def load_json(fname):\n",
        "    with open(fname, encoding='utf8') as f:\n",
        "        json_obj = json.load(f)\n",
        "\n",
        "    return json_obj\n",
        "\n",
        "\n",
        "def debug_json(r):\n",
        "    print(json.dumps(r, ensure_ascii=False, indent=4))\n",
        "\n"
      ],
      "execution_count": null,
      "outputs": [],
      "id": "rpoHDvolAD6T"
    },
    {
      "cell_type": "code",
      "metadata": {
        "id": "LJdc5MxUAD6U"
      },
      "source": [
        "# evaluate.py\n",
        "# -*- coding: utf-8 -*-\n",
        "# import fire\n",
        "import numpy as np\n",
        "\n",
        "# from arena_util import load_json\n",
        "\n",
        "\n",
        "class CustomEvaluator:\n",
        "    def _idcg(self, l):\n",
        "        return sum((1.0 / np.log(i + 2) for i in range(l)))\n",
        "\n",
        "    def __init__(self):\n",
        "        self._idcgs = [self._idcg(i) for i in range(101)]\n",
        "\n",
        "    def _ndcg(self, gt, rec):\n",
        "        dcg = 0.0\n",
        "        for i, r in enumerate(rec):\n",
        "            if r in gt:\n",
        "                dcg += 1.0 / np.log(i + 2)\n",
        "\n",
        "        return dcg / self._idcgs[len(gt)]\n",
        "\n",
        "    def _eval(self, gt_fname, rec_fname):\n",
        "        gt_playlists = load_json(gt_fname)\n",
        "        gt_dict = {g[\"id\"]: g for g in gt_playlists}\n",
        "        rec_playlists = load_json(rec_fname)\n",
        "        \n",
        "        music_ndcg = 0.0\n",
        "        tag_ndcg = 0.0\n",
        "\n",
        "        for rec in rec_playlists:\n",
        "            gt = gt_dict[rec[\"id\"]]\n",
        "            music_ndcg += self._ndcg(gt[\"songs\"], rec[\"songs\"][:100])\n",
        "            tag_ndcg += self._ndcg(gt[\"tags\"], rec[\"tags\"][:10])\n",
        "\n",
        "        music_ndcg = music_ndcg / len(rec_playlists)\n",
        "        tag_ndcg = tag_ndcg / len(rec_playlists)\n",
        "        score = music_ndcg * 0.85 + tag_ndcg * 0.15\n",
        "\n",
        "        return music_ndcg, tag_ndcg, score\n",
        "\n",
        "    def evaluate(self, gt_fname, rec_fname):\n",
        "        try:\n",
        "            music_ndcg, tag_ndcg, score = self._eval(gt_fname, rec_fname)\n",
        "            print(f\"Music nDCG: {music_ndcg:.6}\")\n",
        "            print(f\"Tag nDCG: {tag_ndcg:.6}\")\n",
        "            print(f\"Score: {score:.6}\")\n",
        "        except Exception as e:\n",
        "            print(e)\n",
        "\n",
        "\n",
        "# if __name__ == \"__main__\":\n",
        "#     fire.Fire(ArenaEvaluator)\n"
      ],
      "execution_count": null,
      "outputs": [],
      "id": "LJdc5MxUAD6U"
    },
    {
      "cell_type": "code",
      "metadata": {
        "id": "nTE2Ig-CAD6V"
      },
      "source": [
        "# -*- coding: utf-8 -*-\n",
        "import copy\n",
        "import random\n",
        "import numpy as np\n",
        "\n",
        "\n",
        "class ArenaSplitter:\n",
        "    def _split_data(self, playlists):\n",
        "        tot = len(playlists)\n",
        "        train = playlists[:int(tot*0.80)]\n",
        "        val = playlists[int(tot*0.80):]\n",
        "\n",
        "        return train, val\n",
        "\n",
        "    def _mask(self, playlists, mask_cols, del_cols):\n",
        "        q_pl = copy.deepcopy(playlists)\n",
        "        a_pl = copy.deepcopy(playlists)\n",
        "\n",
        "        for i in range(len(playlists)):\n",
        "            for del_col in del_cols:\n",
        "                q_pl[i][del_col] = []\n",
        "                if del_col == 'songs':\n",
        "                    a_pl[i][del_col] = a_pl[i][del_col][:100]\n",
        "                elif del_col == 'tags':\n",
        "                    a_pl[i][del_col] = a_pl[i][del_col][:10]\n",
        "\n",
        "            for col in mask_cols:\n",
        "                mask_len = len(playlists[i][col])\n",
        "                mask = np.full(mask_len, False)\n",
        "                mask[:mask_len//2] = True\n",
        "                np.random.shuffle(mask)\n",
        "\n",
        "                q_pl[i][col] = list(np.array(q_pl[i][col])[mask])\n",
        "                a_pl[i][col] = list(np.array(a_pl[i][col])[np.invert(mask)])\n",
        "\n",
        "        return q_pl, a_pl\n",
        "\n",
        "    def _mask_data(self, playlists):\n",
        "        playlists = copy.deepcopy(playlists)\n",
        "        tot = len(playlists)\n",
        "        song_only = playlists[:int(tot * 0.3)]\n",
        "        song_and_tags = playlists[int(tot * 0.3):int(tot * 0.8)]\n",
        "        tags_only = playlists[int(tot * 0.8):int(tot * 0.95)]\n",
        "        title_only = playlists[int(tot * 0.95):]\n",
        "\n",
        "        print(f\"Total: {len(playlists)}, \"\n",
        "              f\"Song only: {len(song_only)}, \"\n",
        "              f\"Song & Tags: {len(song_and_tags)}, \"\n",
        "              f\"Tags only: {len(tags_only)}, \"\n",
        "              f\"Title only: {len(title_only)}\")\n",
        "\n",
        "        song_q, song_a = self._mask(song_only, ['songs'], ['tags'])\n",
        "        songtag_q, songtag_a = self._mask(song_and_tags, ['songs', 'tags'], [])\n",
        "        tag_q, tag_a = self._mask(tags_only, ['tags'], ['songs'])\n",
        "        title_q, title_a = self._mask(title_only, [], ['songs', 'tags'])\n",
        "\n",
        "        q = song_q + songtag_q + tag_q + title_q\n",
        "        a = song_a + songtag_a + tag_a + title_a\n",
        "\n",
        "        shuffle_indices = np.arange(len(q))\n",
        "        np.random.shuffle(shuffle_indices)\n",
        "\n",
        "        q = list(np.array(q)[shuffle_indices])\n",
        "        a = list(np.array(a)[shuffle_indices])\n",
        "\n",
        "        return q, a\n",
        "\n",
        "    def run(self, fname):\n",
        "        random.seed(777)\n",
        "\n",
        "        print(\"Reading data...\\n\")\n",
        "        playlists = load_json(fname)\n",
        "        random.shuffle(playlists)\n",
        "        print(f\"Total playlists: {len(playlists)}\")\n",
        "\n",
        "        print(\"Splitting data...\")\n",
        "        train, val = self._split_data(playlists)\n",
        "\n",
        "        print(\"Original train...\")\n",
        "        write_json(train, \"orig/train.json\")\n",
        "        print(\"Original val...\")\n",
        "        write_json(val, \"orig/val.json\")\n",
        "\n",
        "        print(\"Masked val...\")\n",
        "        val_q, val_a = self._mask_data(val)\n",
        "        write_json(val_q, \"questions/val.json\")\n",
        "        write_json(val_a, \"answers/val.json\")"
      ],
      "execution_count": null,
      "outputs": [],
      "id": "nTE2Ig-CAD6V"
    },
    {
      "cell_type": "code",
      "metadata": {
        "colab": {
          "base_uri": "https://localhost:8080/"
        },
        "outputId": "e0a25fad-b0c2-4cd4-d019-84d0ea568b3e",
        "id": "1sGNOAzJAD6W"
      },
      "source": [
        "split = ArenaSplitter()\n",
        "split.run(\"/content/drive/MyDrive/KUBIG 2021-2/추천시스템 프로젝트/멜론데이터/train.json\")"
      ],
      "execution_count": null,
      "outputs": [
        {
          "output_type": "stream",
          "name": "stdout",
          "text": [
            "Reading data...\n",
            "\n",
            "Total playlists: 115071\n",
            "Splitting data...\n",
            "Original train...\n",
            "Original val...\n",
            "Masked val...\n",
            "Total: 23015, Song only: 6904, Song & Tags: 11508, Tags only: 3452, Title only: 1151\n"
          ]
        }
      ],
      "id": "1sGNOAzJAD6W"
    },
    {
      "cell_type": "code",
      "source": [
        ""
      ],
      "metadata": {
        "id": "Fcq57KFw93mh"
      },
      "id": "Fcq57KFw93mh",
      "execution_count": null,
      "outputs": []
    },
    {
      "cell_type": "code",
      "execution_count": null,
      "id": "38e08486",
      "metadata": {
        "id": "38e08486"
      },
      "outputs": [],
      "source": [
        "def load_train_json(fname):\n",
        "    f = pd.read_json(fname+'.json' ,typ = 'frame', encoding=\"utf-8\")\n",
        "    df = pd.DataFrame(f)\n",
        "    df = df.sort_values(by=['like_cnt'],ascending=False)\n",
        "    df = df[df['like_cnt']>10]\n",
        "    print('load_train_json')\n",
        "    return df"
      ]
    },
    {
      "cell_type": "code",
      "execution_count": null,
      "id": "36b0398b",
      "metadata": {
        "id": "36b0398b"
      },
      "outputs": [],
      "source": [
        "def load_val_json(fname):\n",
        "    f = pd.read_json(fname+'.json' ,typ = 'frame', encoding=\"utf-8\")\n",
        "    df = pd.DataFrame(f)\n",
        "    df = df.sort_values(by=['like_cnt'],ascending=False)\n",
        "    #df = df[df['like_cnt']>10]\n",
        "    print('load_val_json')\n",
        "    return df"
      ]
    },
    {
      "cell_type": "code",
      "execution_count": null,
      "id": "f8fb3e87",
      "metadata": {
        "id": "f8fb3e87"
      },
      "outputs": [],
      "source": [
        "def most_popular(df,song_num):\n",
        "    train_song = df['songs']\n",
        "    train_tag = df['tags']\n",
        "    \n",
        "    song_list = [song for plist in train_song for song in plist ]\n",
        "    tag_list = [tag for plist in train_tag for tag in plist]\n",
        "    \n",
        "    count_song = Counter(song_list)\n",
        "    count_tag = Counter(tag_list)\n",
        "    x={}\n",
        "    for key, value in count_song.items():\n",
        "        if value>song_num:\n",
        "            x[key]=value\n",
        "    song_len = len(x)\n",
        "    for key, value in count_tag.items():\n",
        "        if value>1:\n",
        "            x[key]=value\n",
        "    tag_len=len(x)-song_len\n",
        "    print('most_popular')\n",
        "    return list(x.keys()),song_len, tag_len\n"
      ]
    },
    {
      "cell_type": "code",
      "execution_count": null,
      "id": "b402661d",
      "metadata": {
        "id": "b402661d"
      },
      "outputs": [],
      "source": [
        "def create_zero(column_name):\n",
        "    zero_df=pd.DataFrame(columns=col)\n",
        "    return zero_df"
      ]
    },
    {
      "cell_type": "code",
      "execution_count": null,
      "id": "4c8a632d",
      "metadata": {
        "id": "4c8a632d"
      },
      "outputs": [],
      "source": [
        "def create_onehot(df,column_name):\n",
        "    zero_matrix=np.zeros((len(df),len(column_name)))\n",
        "    zero_df=pd.DataFrame(zero_matrix,columns=column_name,index=df['id'])\n",
        "    for i in range(len(df)):\n",
        "        for tag,song in zip(df.iloc[i,0],df.iloc[i,3]):\n",
        "            if tag in column_name:\n",
        "                zero_df.iloc[i,column_name.index(tag)]=1\n",
        "            if song in column_name:\n",
        "                zero_df.iloc[i,column_name.index(song)]=1\n",
        "    return zero_df\n",
        "            "
      ]
    },
    {
      "cell_type": "code",
      "execution_count": null,
      "id": "c13914a5",
      "metadata": {
        "id": "c13914a5"
      },
      "outputs": [],
      "source": [
        "def deep_learing(column_name,train_onehot,val_onehot):\n",
        "        col = column_name\n",
        "        \n",
        "        encoding_dim=64\n",
        "        input_plist=Input(shape=(len(col),))\n",
        "        dropout = Dropout(0.2)(input_plist)\n",
        "        encoded=Dense(encoding_dim,activation='relu')(input_plist)\n",
        "        encoded=Dense(36,activation='relu')(encoded)\n",
        "        decoded=Dense(len(col),activation='sigmoid')(encoded)\n",
        "        autoencoder=Model(input_plist,decoded)\n",
        "        \n",
        "        autoencoder.compile(optimizer='adam',loss='binary_crossentropy',metrics=['accuracy'])\n",
        "        \n",
        "        autoencoder.fit(train_onehot,train_onehot,epochs=5,batch_size=64,validation_split=0.1)\n",
        "        \n",
        "        predict_plist=autoencoder.predict(val_onehot)\n",
        "        print('deep_learning')\n",
        "        return predict_plist\n"
      ]
    },
    {
      "cell_type": "code",
      "execution_count": null,
      "id": "a6b569e6",
      "metadata": {
        "id": "a6b569e6"
      },
      "outputs": [],
      "source": [
        "def result(df_id, column_name, song_len, tag_len, pre):\n",
        "        #train_df = df\n",
        "        df_id = list(df_id)\n",
        "        col= column_name\n",
        "        ori_song = col[:song_len]\n",
        "        ori_tag = col[song_len:]\n",
        "        #onehot = df_one\n",
        "        #predict = deep_learning(train)\n",
        "        print('ok')\n",
        "        song_predict = pre[:,:song_len]\n",
        "        tag_predict = pre[:,song_len:]\n",
        "        print('ok')\n",
        "        result=[]\n",
        "        n=0\n",
        "        for i in df_id:\n",
        "            dic={}\n",
        "            dic['id']=i\n",
        "\n",
        "            plist_song=song_predict[n].argsort()[-100:]\n",
        "            p_song=[]\n",
        "            for song in plist_song:\n",
        "                p_song.append(ori_song[song])\n",
        "            dic['songs']=p_song\n",
        "\n",
        "            plist_tag=tag_predict[n].argsort()[-10:]\n",
        "            p_tag=[]\n",
        "            for tag in plist_tag:\n",
        "                p_tag.append(ori_tag[tag])\n",
        "            dic['tags']=p_tag\n",
        "            n+=1\n",
        "            result.append(dic)\n",
        "        print('result')\n",
        "        return result\n"
      ]
    },
    {
      "cell_type": "code",
      "execution_count": null,
      "id": "9ddcd98c",
      "metadata": {
        "id": "9ddcd98c",
        "outputId": "13e3bb7f-bf50-4d91-cf74-37fe0b6d24a0",
        "colab": {
          "base_uri": "https://localhost:8080/"
        }
      },
      "outputs": [
        {
          "output_type": "stream",
          "name": "stdout",
          "text": [
            "load_train_json\n",
            "most_popular\n",
            "35880\n"
          ]
        }
      ],
      "source": [
        "train_df=load_train_json('/content/arena_data/orig/train')\n",
        "t_col,t_song, t_tag=most_popular(train_df,13)\n",
        "print(len(t_col))"
      ]
    },
    {
      "cell_type": "code",
      "execution_count": null,
      "id": "027b6579",
      "metadata": {
        "scrolled": true,
        "id": "027b6579"
      },
      "outputs": [],
      "source": [
        "train_one=create_onehot(train_df, t_col)"
      ]
    },
    {
      "cell_type": "code",
      "execution_count": null,
      "id": "2cfa305a",
      "metadata": {
        "id": "2cfa305a",
        "outputId": "786b79a0-caa5-4110-f8a1-cc5e4dca99c1",
        "colab": {
          "base_uri": "https://localhost:8080/"
        }
      },
      "outputs": [
        {
          "output_type": "stream",
          "name": "stdout",
          "text": [
            "load_val_json\n"
          ]
        }
      ],
      "source": [
        "val_df=load_val_json('/content/arena_data/questions/val')\n",
        "val_one=create_onehot(val_df, t_col)"
      ]
    },
    {
      "cell_type": "code",
      "execution_count": null,
      "id": "e42c126a",
      "metadata": {
        "id": "e42c126a",
        "outputId": "558a0a92-3662-4382-cdf9-28b77e9cf9f7",
        "colab": {
          "base_uri": "https://localhost:8080/"
        }
      },
      "outputs": [
        {
          "output_type": "stream",
          "name": "stdout",
          "text": [
            "Epoch 1/5\n",
            "537/537 [==============================] - 11s 19ms/step - loss: 0.0736 - accuracy: 0.0118 - val_loss: 0.0019 - val_accuracy: 0.0152\n",
            "Epoch 2/5\n",
            "537/537 [==============================] - 10s 18ms/step - loss: 0.0018 - accuracy: 0.0126 - val_loss: 0.0017 - val_accuracy: 0.0152\n",
            "Epoch 3/5\n",
            "537/537 [==============================] - 11s 20ms/step - loss: 0.0016 - accuracy: 0.0133 - val_loss: 0.0015 - val_accuracy: 0.0317\n",
            "Epoch 4/5\n",
            "537/537 [==============================] - 10s 19ms/step - loss: 0.0015 - accuracy: 0.0190 - val_loss: 0.0014 - val_accuracy: 0.0299\n",
            "Epoch 5/5\n",
            "537/537 [==============================] - 10s 19ms/step - loss: 0.0014 - accuracy: 0.0246 - val_loss: 0.0014 - val_accuracy: 0.0228\n",
            "deep_learning\n"
          ]
        }
      ],
      "source": [
        "pred = deep_learing(t_col,train_one, val_one)\n"
      ]
    },
    {
      "cell_type": "code",
      "execution_count": null,
      "id": "5d0b5bee",
      "metadata": {
        "id": "5d0b5bee",
        "outputId": "5970e8f3-1491-4e37-8869-d490dd08a253",
        "colab": {
          "base_uri": "https://localhost:8080/"
        }
      },
      "outputs": [
        {
          "output_type": "stream",
          "name": "stdout",
          "text": [
            "ok\n",
            "ok\n",
            "result\n"
          ]
        }
      ],
      "source": [
        "result_1 = result(val_df['id'], t_col, t_song, t_tag, pred)"
      ]
    },
    {
      "cell_type": "code",
      "execution_count": null,
      "id": "0d198eb4",
      "metadata": {
        "id": "0d198eb4"
      },
      "outputs": [],
      "source": [
        "result_1"
      ]
    },
    {
      "cell_type": "code",
      "execution_count": null,
      "id": "c527ea9a",
      "metadata": {
        "id": "c527ea9a",
        "outputId": "93f50326-410d-47ac-b8f0-21315c828634",
        "colab": {
          "base_uri": "https://localhost:8080/"
        }
      },
      "outputs": [
        {
          "output_type": "stream",
          "name": "stdout",
          "text": [
            "           id  ...                                           tags\n",
            "0      102123  ...  [휴식, 힐링, 새벽, 잔잔한, 팝, 감성, 드라이브, 힙합, 발라드, 기분전환]\n",
            "1       11762  ...     [까페, 기분전환, OST, CCM, 일렉, 랩, 팝, 힙합, 락, 발라드]\n",
            "2       56212  ...     [까페, 기분전환, OST, CCM, 일렉, 랩, 팝, 힙합, 락, 발라드]\n",
            "3       49159  ...     [까페, 기분전환, OST, CCM, 일렉, 랩, 팝, 힙합, 락, 발라드]\n",
            "4       46039  ...     [까페, 기분전환, OST, CCM, 일렉, 랩, 팝, 힙합, 락, 발라드]\n",
            "...       ...  ...                                            ...\n",
            "23010   16644  ...     [까페, 기분전환, OST, CCM, 일렉, 랩, 팝, 힙합, 락, 발라드]\n",
            "23011  150668  ...     [까페, 기분전환, OST, CCM, 일렉, 랩, 팝, 힙합, 락, 발라드]\n",
            "23012   98054  ...     [까페, 기분전환, OST, CCM, 일렉, 랩, 팝, 힙합, 락, 발라드]\n",
            "23013   83540  ...     [까페, 기분전환, OST, CCM, 일렉, 랩, 팝, 힙합, 락, 발라드]\n",
            "23014  102549  ...   [매장음악, OST, CCM, 일렉, 기분전환, 랩, 팝, 힙합, 락, 발라드]\n",
            "\n",
            "[23015 rows x 3 columns]\n"
          ]
        }
      ],
      "source": [
        "df_result=pd.DataFrame(result_1)\n",
        "print(df_result)"
      ]
    },
    {
      "cell_type": "code",
      "execution_count": null,
      "id": "d05245ff",
      "metadata": {
        "id": "d05245ff",
        "outputId": "c9e94881-fa08-44dc-b294-b2e28ee83486",
        "colab": {
          "base_uri": "https://localhost:8080/"
        }
      },
      "outputs": [
        {
          "output_type": "stream",
          "name": "stdout",
          "text": [
            "Music nDCG: 0.00854883\n",
            "Tag nDCG: 0.11458\n",
            "Score: 0.0244536\n"
          ]
        }
      ],
      "source": [
        "answers = result_1\n",
        "write_json(answers, \"results/results.json\")\n",
        "evaluator = CustomEvaluator()\n",
        "evaluator.evaluate(\"arena_data/answers/val.json\", \"arena_data/results/results.json\")"
      ]
    }
  ],
  "metadata": {
    "kernelspec": {
      "display_name": "Python 3",
      "language": "python",
      "name": "python3"
    },
    "language_info": {
      "codemirror_mode": {
        "name": "ipython",
        "version": 3
      },
      "file_extension": ".py",
      "mimetype": "text/x-python",
      "name": "python",
      "nbconvert_exporter": "python",
      "pygments_lexer": "ipython3",
      "version": "3.8.8"
    },
    "colab": {
      "name": "오토인코더(수경)_수정본.ipynb",
      "provenance": [],
      "machine_shape": "hm",
      "collapsed_sections": []
    },
    "accelerator": "TPU"
  },
  "nbformat": 4,
  "nbformat_minor": 5
}