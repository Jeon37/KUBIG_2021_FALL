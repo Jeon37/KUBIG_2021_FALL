{
 "cells": [
  {
   "cell_type": "code",
   "execution_count": 1,
   "metadata": {
    "ExecuteTime": {
     "end_time": "2021-09-01T17:56:48.108340Z",
     "start_time": "2021-09-01T17:56:46.877195Z"
    }
   },
   "outputs": [],
   "source": [
    "import os, sys\n",
    "import numpy as np\n",
    "import pandas as pd\n",
    "import matplotlib.pyplot as plt\n",
    "import skimage.io\n",
    "from skimage.transform import resize\n",
    "from imgaug import augmenters as iaa\n",
    "from tqdm import tqdm\n",
    "import PIL\n",
    "from PIL import Image\n",
    "import cv2\n",
    "from sklearn.utils import class_weight, shuffle"
   ]
  },
  {
   "cell_type": "code",
   "execution_count": 2,
   "metadata": {
    "ExecuteTime": {
     "end_time": "2021-09-01T17:56:49.864130Z",
     "start_time": "2021-09-01T17:56:48.124342Z"
    }
   },
   "outputs": [
    {
     "name": "stdout",
     "output_type": "stream",
     "text": [
      "Num GPUs Available:  1\n"
     ]
    }
   ],
   "source": [
    "import tensorflow as tf\n",
    "print(\"Num GPUs Available: \", len(tf.config.list_physical_devices('GPU')))\n",
    " \n",
    "gpu = tf.config.experimental.list_physical_devices('GPU')"
   ]
  },
  {
   "cell_type": "code",
   "execution_count": 3,
   "metadata": {
    "ExecuteTime": {
     "end_time": "2021-09-01T17:56:49.894131Z",
     "start_time": "2021-09-01T17:56:49.880131Z"
    }
   },
   "outputs": [],
   "source": [
    "import warnings\n",
    "warnings.filterwarnings(\"ignore\")\n",
    "SIZE = 299\n",
    "path_to_train = os.path.abspath(\"\")+'\\\\train\\\\'"
   ]
  },
  {
   "cell_type": "code",
   "execution_count": 4,
   "metadata": {
    "ExecuteTime": {
     "end_time": "2021-09-01T17:56:49.984131Z",
     "start_time": "2021-09-01T17:56:49.910130Z"
    }
   },
   "outputs": [],
   "source": [
    "import re\n",
    "data = pd.read_csv('full_train_labels.csv')"
   ]
  },
  {
   "cell_type": "code",
   "execution_count": 5,
   "metadata": {
    "ExecuteTime": {
     "end_time": "2021-09-01T17:56:50.269131Z",
     "start_time": "2021-09-01T17:56:50.000132Z"
    }
   },
   "outputs": [
    {
     "name": "stdout",
     "output_type": "stream",
     "text": [
      "(42611,)\n",
      "[16, 0]\n"
     ]
    }
   ],
   "source": [
    "train_dataset_info = []\n",
    "for name, labels in zip(data['Id'], data['Target']):\n",
    "    labels = re.sub(\"[^a-zA-Z0-9]\",\", \",labels)\n",
    "    labels = labels.replace(' ','')\n",
    "    labels = labels.replace(',,', ',')\n",
    "    labels = labels.replace(',', ' ')\n",
    "    labels = labels.strip()\n",
    "    labels = labels.split(' ')\n",
    "    labels = list(map(int, labels))\n",
    "    train_dataset_info.append({\n",
    "        'path':os.path.join(path_to_train, name),\n",
    "        'labels':labels})\n",
    "\n",
    "train_dataset_info = np.array(train_dataset_info)\n",
    "print(train_dataset_info.shape)\n",
    "print(train_dataset_info[0]['labels'])"
   ]
  },
  {
   "cell_type": "code",
   "execution_count": 6,
   "metadata": {
    "ExecuteTime": {
     "end_time": "2021-09-01T17:56:50.299130Z",
     "start_time": "2021-09-01T17:56:50.285132Z"
    }
   },
   "outputs": [],
   "source": [
    "class data_generator:\n",
    "   def create_train(dataset_info, batch_size, shape, augument=True):\n",
    "        assert shape[2] == 3\n",
    "        while True:\n",
    "            dataset_info = shuffle(dataset_info)\n",
    "            for start in range(0, len(dataset_info), batch_size):\n",
    "                end = min(start + batch_size, len(dataset_info))\n",
    "                batch_images = []#배치사이즈의 이미지 픽셀값이 담길 리스트\n",
    "                X_train_batch = dataset_info[start:end]\n",
    "                batch_labels = np.zeros((len(X_train_batch), 28))\n",
    "                for i in range(len(X_train_batch)):\n",
    "                    image = data_generator.load_image(\n",
    "                        X_train_batch[i]['path'], shape)#load_image는 클레스의 또다른 메서드, 이미지를 경로에 따라 열고, stack & resize  \n",
    "                    if augument:\n",
    "                        image = data_generator.augment(image)\n",
    "                    batch_images.append(image/255.)\n",
    "                    batch_labels[i][X_train_batch[i]['labels']] = 1\n",
    "                yield np.array(batch_images, np.float32), batch_labels #배치사이즈로 images를 뱉어내는 제네레이터\n",
    "\n",
    "   def load_image(path, shape):\n",
    "           R = np.array(Image.open(path+'_red.png'))#차원 (512, 512)\n",
    "           Y = np.array(Image.open(path+'_yellow.png'))\n",
    "           G = np.array(Image.open(path+'_green.png'))\n",
    "           B = np.array(Image.open(path+'_blue.png'))\n",
    "           \n",
    "           image = np.stack((\n",
    "            R/2 + Y/2, \n",
    "            G,\n",
    "            B/2 + Y/2,\n",
    "            ), -1)#차원 (512, 512, 3)'''\n",
    "           image = cv2.resize(image, (shape[0], shape[1]))#사용자 정의에 따라 resize\n",
    "           return image\n",
    "      \n",
    "   def augment(image):#image augumentation\n",
    "           augment_img = iaa.Sequential([\n",
    "           iaa.OneOf([\n",
    "                iaa.Affine(rotate=0),\n",
    "                iaa.Affine(rotate=90),\n",
    "                iaa.Affine(rotate=180),\n",
    "                iaa.Affine(rotate=270),\n",
    "                iaa.Fliplr(0.5),\n",
    "                iaa.Flipud(0.5),\n",
    "            ])], random_order=True)\n",
    "\n",
    "           image_aug = augment_img.augment_image(image)\n",
    "           return image_aug"
   ]
  },
  {
   "cell_type": "code",
   "execution_count": 7,
   "metadata": {
    "ExecuteTime": {
     "end_time": "2021-09-01T17:56:50.494129Z",
     "start_time": "2021-09-01T17:56:50.330129Z"
    }
   },
   "outputs": [
    {
     "name": "stdout",
     "output_type": "stream",
     "text": [
      "(512, 512)\n",
      "(512, 512, 3)\n"
     ]
    },
    {
     "data": {
      "image/png": "[encoded data removed]",
      "text/plain": [
       "<Figure size 432x288 with 2 Axes>"
      ]
     },
     "metadata": {
      "needs_background": "light"
     },
     "output_type": "display_data"
    }
   ],
   "source": [
    "#data generator 메서드 확인하기\n",
    "\n",
    "path = train_dataset_info[0]['path']\n",
    "image_red = np.array(Image.open(path+'_red.png'))#흑백으로 되는듯??(=convert('L'))\n",
    "image_blue = np.array(Image.open(path+'_blue.png'))\n",
    "image_green = np.array(Image.open(path+'_green.png'))\n",
    "image = np.stack((image_red, image_green, image_blue), -1)\n",
    "print(image_red.shape)\n",
    "print(image.shape)\n",
    "\n",
    "import matplotlib.pyplot as plt\n",
    "\n",
    "\n",
    "\n",
    "augment_img = iaa.Sequential([\n",
    "            iaa.OneOf([\n",
    "                iaa.Affine(rotate=0),#90도 만큼 회전\n",
    "                iaa.Affine(rotate=90),\n",
    "                iaa.Affine(rotate=180),\n",
    "                iaa.Affine(rotate=270),\n",
    "                iaa.Fliplr(0.5),#배열을 좌우로 뒤집기, 0.5는 이미지의 50%를 뒤집는다는 뜻\n",
    "                iaa.Flipud(0.5),#배열을 위아래 방향으로 뒤집기\n",
    "            ])], random_order=True)\n",
    "\n",
    "\n",
    "image_aug = augment_img.augment_image(image)\n",
    "\n",
    "\n",
    "fig = plt.figure()\n",
    "ax1 = fig.add_subplot(1, 2, 1)\n",
    "ax2 = fig.add_subplot(1, 2, 2)\n",
    "ax1.imshow(image)\n",
    "ax2.imshow(image_aug)\n",
    "plt.show()"
   ]
  },
  {
   "cell_type": "code",
   "execution_count": 8,
   "metadata": {
    "ExecuteTime": {
     "end_time": "2021-09-01T17:56:50.554129Z",
     "start_time": "2021-09-01T17:56:50.510130Z"
    }
   },
   "outputs": [
    {
     "name": "stdout",
     "output_type": "stream",
     "text": [
      "[29565 26457 19113 ...  6244 18152  7421]\n",
      "(36219,)\n"
     ]
    }
   ],
   "source": [
    "# split data into train, valid 인덱스 나누기\n",
    "from sklearn.model_selection import train_test_split\n",
    "batch_size = 8\n",
    "indexes = np.arange(train_dataset_info.shape[0])\n",
    "np.random.shuffle(indexes)\n",
    "train_indexes, valid_indexes = train_test_split(indexes, test_size=0.15, random_state=8)\n",
    "print(train_indexes)\n",
    "print(train_indexes.shape)"
   ]
  },
  {
   "cell_type": "code",
   "execution_count": 9,
   "metadata": {
    "ExecuteTime": {
     "end_time": "2021-09-01T17:56:51.246817Z",
     "start_time": "2021-09-01T17:56:51.236817Z"
    }
   },
   "outputs": [],
   "source": [
    "# train and valid 제네레이터 형성\n",
    "train_generator = data_generator.create_train(\n",
    "    train_dataset_info[train_indexes], batch_size, (SIZE,SIZE,3), augument=False)\n",
    "validation_generator = data_generator.create_train(\n",
    "    train_dataset_info[valid_indexes], 32, (SIZE,SIZE,3), augument=False)"
   ]
  },
  {
   "cell_type": "code",
   "execution_count": 10,
   "metadata": {
    "ExecuteTime": {
     "end_time": "2021-09-01T17:56:51.756819Z",
     "start_time": "2021-09-01T17:56:51.746818Z"
    }
   },
   "outputs": [],
   "source": [
    "#모델링\n",
    "\n",
    "from tensorflow.keras import models\n",
    "from tensorflow.keras.layers import Conv2D, MaxPooling2D, Flatten, Dense, Dropout, Input, GlobalAveragePooling2D,BatchNormalization\n",
    "from tensorflow.keras.applications import VGG16, ResNet50, InceptionV3, VGG19, InceptionResNetV2\n",
    "from tensorflow.keras import Model\n",
    "\n",
    "input_shape = (SIZE, SIZE, 3)\n",
    "n_classes= 28\n",
    "\n",
    "def create_model_incresv2():\n",
    "    base_model = InceptionResNetV2(\n",
    "        include_top=False, \n",
    "        weights='imagenet', \n",
    "        input_shape=input_shape)   \n",
    "    base_model.trainable = False\n",
    "    input_tensor = Input(shape=input_shape)\n",
    "    bn = BatchNormalization()(input_tensor)\n",
    "    x = base_model(bn)\n",
    "    x = Conv2D(32, kernel_size=(1,1), activation='relu')(x)\n",
    "    x = Flatten()(x)\n",
    "    x = Dropout(0.5)(x)\n",
    "    x = Dense(1024, activation='relu')(x)\n",
    "    x = Dropout(0.5)(x)\n",
    "    predictions = Dense(n_classes, activation='sigmoid')(x)\n",
    "    model = Model(inputs=input_tensor, outputs=predictions)\n",
    "    return model\n",
    "\n",
    "\n",
    "\n",
    "def create_model_incv3():\n",
    "    base_model = InceptionV3(\n",
    "        include_top=False, \n",
    "        weights='imagenet', \n",
    "        input_shape=input_shape)   \n",
    "    \n",
    "    \n",
    "    input_tensor = Input(shape=input_shape)\n",
    "    bn = BatchNormalization()(input_tensor)\n",
    "    x = base_model(bn)\n",
    "    x = Conv2D(32, kernel_size=(1,1), activation='relu')(x)\n",
    "    x = Flatten()(x)\n",
    "    x = Dropout(0.5)(x)\n",
    "    x = Dense(1024, activation='relu')(x)\n",
    "    x = Dropout(0.5)(x)\n",
    "    predictions = Dense(n_classes, activation='softmax')(x)\n",
    "    model = Model(inputs=input_tensor, outputs=predictions)\n",
    "    return model\n",
    "\n",
    "def create_model_resnet50():\n",
    "    base_model = ResNet50(\n",
    "        include_top=False, \n",
    "        weights='imagenet', \n",
    "        input_shape=input_shape)   \n",
    "  \n",
    "    \n",
    "    input_tensor = Input(shape=input_shape)\n",
    "    bn = BatchNormalization()(input_tensor)\n",
    "    x = base_model(bn)\n",
    "    x = Conv2D(32, kernel_size=(1,1), activation='relu')(x)\n",
    "    x = Flatten()(x)\n",
    "    x = Dropout(0.5)(x)\n",
    "    x = Dense(1024, activation='relu')(x)\n",
    "    x = Dropout(0.5)(x)\n",
    "    predictions = Dense(n_classes, activation='softmax')(x)\n",
    "    model = Model(inputs=input_tensor, outputs=predictions)\n",
    "    return model\n",
    "\n",
    "def create_model_vgg16():\n",
    "    base_model = VGG16(\n",
    "    include_top=False, \n",
    "    weights='imagenet', \n",
    "    input_shape=input_shape)   \n",
    "   \n",
    "    \n",
    "    input_tensor = Input(shape=input_shape)\n",
    "    bn = BatchNormalization()(input_tensor)\n",
    "    x = base_model(bn)\n",
    "    x = Conv2D(32, kernel_size=(1,1), activation='relu')(x)#커널크기 1로 하고, 갯수 32로 한거 신의 한수인듯\n",
    "    x = Flatten()(x)\n",
    "    x = Dropout(0.5)(x)\n",
    "    x = Dense(1024, activation='relu')(x)\n",
    "    x = Dropout(0.5)(x)\n",
    "    predictions = Dense(n_classes, activation='softmax')(x)\n",
    "    model = Model(inputs=input_tensor, outputs=predictions)\n",
    "    return model\n",
    "    \n",
    "def create_model_vgg19():\n",
    "    base_model = VGG19(\n",
    "    include_top=False, \n",
    "    weights='imagenet', \n",
    "    input_shape=input_shape)   \n",
    "    \n",
    "    input_tensor = Input(shape=input_shape)\n",
    "    bn = BatchNormalization()(input_tensor)\n",
    "    x = base_model(bn)\n",
    "    x = Conv2D(32, kernel_size=(1,1), activation='relu')(x)\n",
    "    x = Flatten()(x)\n",
    "    x = Dropout(0.5)(x)\n",
    "    x = Dense(1024, activation='relu')(x)\n",
    "    x = Dropout(0.5)(x)\n",
    "    predictions = Dense(n_classes, activation='sigmoid')(x)\n",
    "    model = Model(inputs=input_tensor, outputs=predictions)\n",
    "    return model"
   ]
  },
  {
   "cell_type": "code",
   "execution_count": 11,
   "metadata": {
    "ExecuteTime": {
     "end_time": "2021-09-01T17:57:05.632818Z",
     "start_time": "2021-09-01T17:57:01.584819Z"
    }
   },
   "outputs": [
    {
     "name": "stdout",
     "output_type": "stream",
     "text": [
      "Model: \"model\"\n",
      "_________________________________________________________________\n",
      "Layer (type)                 Output Shape              Param #   \n",
      "=================================================================\n",
      "input_2 (InputLayer)         [(None, 299, 299, 3)]     0         \n",
      "_________________________________________________________________\n",
      "batch_normalization_203 (Bat (None, 299, 299, 3)       12        \n",
      "_________________________________________________________________\n",
      "inception_resnet_v2 (Functio (None, 8, 8, 1536)        54336736  \n",
      "_________________________________________________________________\n",
      "conv2d_203 (Conv2D)          (None, 8, 8, 32)          49184     \n",
      "_________________________________________________________________\n",
      "flatten (Flatten)            (None, 2048)              0         \n",
      "_________________________________________________________________\n",
      "dropout (Dropout)            (None, 2048)              0         \n",
      "_________________________________________________________________\n",
      "dense (Dense)                (None, 1024)              2098176   \n",
      "_________________________________________________________________\n",
      "dropout_1 (Dropout)          (None, 1024)              0         \n",
      "_________________________________________________________________\n",
      "dense_1 (Dense)              (None, 28)                28700     \n",
      "=================================================================\n",
      "Total params: 56,512,808\n",
      "Trainable params: 2,176,066\n",
      "Non-trainable params: 54,336,742\n",
      "_________________________________________________________________\n"
     ]
    }
   ],
   "source": [
    "model = create_model_incresv2()\n",
    "model.summary()"
   ]
  },
  {
   "cell_type": "code",
   "execution_count": 12,
   "metadata": {
    "ExecuteTime": {
     "end_time": "2021-09-01T17:57:05.677817Z",
     "start_time": "2021-09-01T17:57:05.663817Z"
    }
   },
   "outputs": [],
   "source": [
    "#callbacks \n",
    "from tensorflow.keras.callbacks import ModelCheckpoint, LearningRateScheduler, EarlyStopping, ReduceLROnPlateau\n",
    "\n",
    "checkpoint = ModelCheckpoint('best_model_sig_rgby.h5', monitor='val_loss', verbose=1, \n",
    "                             save_best_only=True, mode='min', save_weights_only = True)\n",
    "reduceLROnPlat = ReduceLROnPlateau(monitor='val_loss', factor=0.1, patience=3, \n",
    "                                   verbose=1, mode='auto', min_delta=0.0001)\n",
    "early = EarlyStopping(monitor=\"val_loss\", \n",
    "                      mode=\"min\", \n",
    "                      patience=6)\n",
    "callbacks_list = [checkpoint, early, reduceLROnPlat]"
   ]
  },
  {
   "cell_type": "code",
   "execution_count": 13,
   "metadata": {
    "ExecuteTime": {
     "end_time": "2021-09-01T17:57:05.707818Z",
     "start_time": "2021-09-01T17:57:05.693820Z"
    }
   },
   "outputs": [],
   "source": [
    "from tensorflow.keras import backend as K\n",
    "import tensorflow as tf\n",
    "\n",
    "def f1(y_true, y_pred):\n",
    "    tp = K.sum(K.cast(y_true*y_pred, 'float'), axis=0)\n",
    "    fp = K.sum(K.cast((1-y_true)*y_pred, 'float'), axis=0)\n",
    "    fn = K.sum(K.cast(y_true*(1-y_pred), 'float'), axis=0)\n",
    "\n",
    "    p = tp / (tp + fp + K.epsilon())\n",
    "    r = tp / (tp + fn + K.epsilon())\n",
    "\n",
    "    f1 = 2*p*r / (p+r+K.epsilon())\n",
    "    f1 = tf.where(tf.math.is_nan(f1), tf.zeros_like(f1), f1)\n",
    "    return K.mean(f1)"
   ]
  },
  {
   "cell_type": "code",
   "execution_count": 14,
   "metadata": {
    "ExecuteTime": {
     "end_time": "2021-09-01T17:57:10.207817Z",
     "start_time": "2021-09-01T17:57:10.195819Z"
    }
   },
   "outputs": [],
   "source": [
    "batch_size = 12"
   ]
  },
  {
   "cell_type": "code",
   "execution_count": 16,
   "metadata": {
    "ExecuteTime": {
     "end_time": "2021-09-01T23:15:54.147122Z",
     "start_time": "2021-09-01T17:57:26.822993Z"
    }
   },
   "outputs": [
    {
     "name": "stdout",
     "output_type": "stream",
     "text": [
      "Epoch 1/20\n",
      "3019/3019 [==============================] - 970s 316ms/step - loss: 0.1668 - binary_accuracy: 0.9437 - f1: 0.1399 - val_loss: 0.1501 - val_binary_accuracy: 0.9488 - val_f1: 0.2085\n",
      "\n",
      "Epoch 00001: val_loss improved from inf to 0.15005, saving model to best_model_sig_rgby.h5\n",
      "Epoch 2/20\n",
      "3019/3019 [==============================] - 1018s 337ms/step - loss: 0.1518 - binary_accuracy: 0.9477 - f1: 0.1538 - val_loss: 0.1472 - val_binary_accuracy: 0.9489 - val_f1: 0.2160\n",
      "\n",
      "Epoch 00002: val_loss improved from 0.15005 to 0.14722, saving model to best_model_sig_rgby.h5\n",
      "Epoch 3/20\n",
      "3019/3019 [==============================] - 1027s 340ms/step - loss: 0.1462 - binary_accuracy: 0.9492 - f1: 0.1601 - val_loss: 0.1444 - val_binary_accuracy: 0.9495 - val_f1: 0.2205\n",
      "\n",
      "Epoch 00003: val_loss improved from 0.14722 to 0.14438, saving model to best_model_sig_rgby.h5\n",
      "Epoch 4/20\n",
      "3019/3019 [==============================] - 827s 274ms/step - loss: 0.1399 - binary_accuracy: 0.9510 - f1: 0.1692 - val_loss: 0.1327 - val_binary_accuracy: 0.9524 - val_f1: 0.2409\n",
      "\n",
      "Epoch 00004: val_loss improved from 0.14438 to 0.13272, saving model to best_model_sig_rgby.h5\n",
      "Epoch 5/20\n",
      "3019/3019 [==============================] - 947s 314ms/step - loss: 0.1340 - binary_accuracy: 0.9528 - f1: 0.1751 - val_loss: 0.1358 - val_binary_accuracy: 0.9518 - val_f1: 0.2364\n",
      "\n",
      "Epoch 00005: val_loss did not improve from 0.13272\n",
      "Epoch 6/20\n",
      "3019/3019 [==============================] - 1056s 350ms/step - loss: 0.1290 - binary_accuracy: 0.9541 - f1: 0.1828 - val_loss: 0.1239 - val_binary_accuracy: 0.9562 - val_f1: 0.2660\n",
      "\n",
      "Epoch 00006: val_loss improved from 0.13272 to 0.12385, saving model to best_model_sig_rgby.h5\n",
      "Epoch 7/20\n",
      "3019/3019 [==============================] - 847s 281ms/step - loss: 0.1286 - binary_accuracy: 0.9542 - f1: 0.1849 - val_loss: 0.1795 - val_binary_accuracy: 0.9370 - val_f1: 0.1728\n",
      "\n",
      "Epoch 00007: val_loss did not improve from 0.12385\n",
      "Epoch 8/20\n",
      "3019/3019 [==============================] - 937s 310ms/step - loss: 0.1308 - binary_accuracy: 0.9533 - f1: 0.1804 - val_loss: 0.1243 - val_binary_accuracy: 0.9553 - val_f1: 0.2809\n",
      "\n",
      "Epoch 00008: val_loss did not improve from 0.12385\n",
      "Epoch 9/20\n",
      "3019/3019 [==============================] - 941s 312ms/step - loss: 0.1240 - binary_accuracy: 0.9557 - f1: 0.1916 - val_loss: 0.1281 - val_binary_accuracy: 0.9546 - val_f1: 0.2660\n",
      "\n",
      "Epoch 00009: val_loss did not improve from 0.12385\n",
      "\n",
      "Epoch 00009: ReduceLROnPlateau reducing learning rate to 0.00010000000474974513.\n",
      "Epoch 10/20\n",
      "3019/3019 [==============================] - 869s 288ms/step - loss: 0.1117 - binary_accuracy: 0.9595 - f1: 0.2036 - val_loss: 0.1070 - val_binary_accuracy: 0.9614 - val_f1: 0.3104\n",
      "\n",
      "Epoch 00010: val_loss improved from 0.12385 to 0.10704, saving model to best_model_sig_rgby.h5\n",
      "Epoch 11/20\n",
      "3019/3019 [==============================] - 1024s 339ms/step - loss: 0.1088 - binary_accuracy: 0.9609 - f1: 0.2099 - val_loss: 0.1046 - val_binary_accuracy: 0.9623 - val_f1: 0.3177\n",
      "\n",
      "Epoch 00011: val_loss improved from 0.10704 to 0.10459, saving model to best_model_sig_rgby.h5\n",
      "Epoch 12/20\n",
      "3019/3019 [==============================] - 963s 319ms/step - loss: 0.1072 - binary_accuracy: 0.9611 - f1: 0.2107 - val_loss: 0.1055 - val_binary_accuracy: 0.9619 - val_f1: 0.3182\n",
      "\n",
      "Epoch 00012: val_loss did not improve from 0.10459\n",
      "Epoch 13/20\n",
      "3019/3019 [==============================] - 835s 277ms/step - loss: 0.1048 - binary_accuracy: 0.9620 - f1: 0.2135 - val_loss: 0.1038 - val_binary_accuracy: 0.9627 - val_f1: 0.3250\n",
      "\n",
      "Epoch 00013: val_loss improved from 0.10459 to 0.10385, saving model to best_model_sig_rgby.h5\n",
      "Epoch 14/20\n",
      "3019/3019 [==============================] - 1031s 342ms/step - loss: 0.1039 - binary_accuracy: 0.9620 - f1: 0.2155 - val_loss: 0.1022 - val_binary_accuracy: 0.9631 - val_f1: 0.3290\n",
      "\n",
      "Epoch 00014: val_loss improved from 0.10385 to 0.10221, saving model to best_model_sig_rgby.h5\n",
      "Epoch 15/20\n",
      "3019/3019 [==============================] - 1036s 343ms/step - loss: 0.1040 - binary_accuracy: 0.9622 - f1: 0.2158 - val_loss: 0.1003 - val_binary_accuracy: 0.9638 - val_f1: 0.3313\n",
      "\n",
      "Epoch 00015: val_loss improved from 0.10221 to 0.10034, saving model to best_model_sig_rgby.h5\n",
      "Epoch 16/20\n",
      "3019/3019 [==============================] - 844s 279ms/step - loss: 0.1022 - binary_accuracy: 0.9626 - f1: 0.2182 - val_loss: 0.0998 - val_binary_accuracy: 0.9637 - val_f1: 0.3329\n",
      "\n",
      "Epoch 00016: val_loss improved from 0.10034 to 0.09979, saving model to best_model_sig_rgby.h5\n",
      "Epoch 17/20\n",
      "3019/3019 [==============================] - 969s 321ms/step - loss: 0.1003 - binary_accuracy: 0.9633 - f1: 0.2211 - val_loss: 0.0998 - val_binary_accuracy: 0.9640 - val_f1: 0.3374\n",
      "\n",
      "Epoch 00017: val_loss did not improve from 0.09979\n",
      "Epoch 18/20\n",
      "3019/3019 [==============================] - 1070s 354ms/step - loss: 0.1004 - binary_accuracy: 0.9633 - f1: 0.2196 - val_loss: 0.0996 - val_binary_accuracy: 0.9641 - val_f1: 0.3363\n",
      "\n",
      "Epoch 00018: val_loss improved from 0.09979 to 0.09956, saving model to best_model_sig_rgby.h5\n",
      "Epoch 19/20\n",
      "3019/3019 [==============================] - 855s 283ms/step - loss: 0.0989 - binary_accuracy: 0.9640 - f1: 0.2223 - val_loss: 0.0979 - val_binary_accuracy: 0.9652 - val_f1: 0.3459\n",
      "\n",
      "Epoch 00019: val_loss improved from 0.09956 to 0.09793, saving model to best_model_sig_rgby.h5\n",
      "Epoch 20/20\n",
      "3019/3019 [==============================] - 982s 325ms/step - loss: 0.0981 - binary_accuracy: 0.9640 - f1: 0.2225 - val_loss: 0.0975 - val_binary_accuracy: 0.9648 - val_f1: 0.3409\n",
      "\n",
      "Epoch 00020: val_loss improved from 0.09793 to 0.09753, saving model to best_model_sig_rgby.h5\n"
     ]
    },
    {
     "data": {
      "text/plain": [
       "<tensorflow.python.keras.callbacks.History at 0x10c245bc988>"
      ]
     },
     "execution_count": 16,
     "metadata": {},
     "output_type": "execute_result"
    }
   ],
   "source": [
    "from tensorflow.keras.optimizers import Adam\n",
    "# train all layers\n",
    "for layer in model.layers:\n",
    "    layer.trainable = True\n",
    "    \n",
    "model.compile(\n",
    "    loss='binary_crossentropy',  \n",
    "    optimizer=Adam(1e-3),\n",
    "    metrics=['binary_accuracy', f1])#다중 레이블은 'binary_acccuracy'로 계산\n",
    "\n",
    "model.fit_generator(  \n",
    "    train_generator,\n",
    "    steps_per_epoch=np.ceil(float(len(train_indexes)) / float(batch_size)),\n",
    "    validation_data=validation_generator,\n",
    "    validation_steps=np.ceil(float(len(valid_indexes)) / float(batch_size)),\n",
    "    epochs=20, \n",
    "    verbose=1,\n",
    "    callbacks=callbacks_list)"
   ]
  },
  {
   "cell_type": "code",
   "execution_count": 17,
   "metadata": {
    "ExecuteTime": {
     "end_time": "2021-09-01T23:38:22.410468Z",
     "start_time": "2021-09-01T23:20:05.993606Z"
    }
   },
   "outputs": [
    {
     "name": "stderr",
     "output_type": "stream",
     "text": [
      "100%|████████████████████████████████████████████████████████████████████████████| 11702/11702 [18:14<00:00, 10.69it/s]\n"
     ]
    }
   ],
   "source": [
    "# Create submit\n",
    "submit = pd.read_csv('sample_submission.csv')\n",
    "predicted = []\n",
    "draw_predict = []\n",
    "model.load_weights('best_model_sig_rgby.h5')\n",
    "for name in tqdm(submit['Id']):\n",
    "    path = os.path.join('test', name)\n",
    "    image = data_generator.load_image(path, (SIZE,SIZE,3))/255.\n",
    "    score_predict = model.predict(image[np.newaxis])[0]#np.newaxis는 여기서는 행방향으로 차원한개 확장 (SIZE, SIZE, 3)->(1,SIZE, SIZE, 3)\n",
    "    draw_predict.append(score_predict)#score 값(출력값)을 \n",
    "    label_predict = np.arange(28)[score_predict>=0.2]#0~27 중에 score_predict가 0.2이상인 애들만 저장\n",
    "    str_predict_label = ' '.join(str(l) for l in label_predict)\n",
    "    predicted.append(str_predict_label)#0 12 이런석으로 저장\n",
    "\n",
    "submit['Predicted'] = predicted #test 폴더에 있는 친구들 예측 label 다 저장\n",
    "np.save('draw_predict_best_model_rgby.npy', score_predict)\n",
    "submit.to_csv('submit_best_model_rgby.csv', index=False)"
   ]
  },
  {
   "cell_type": "code",
   "execution_count": 18,
   "metadata": {
    "ExecuteTime": {
     "end_time": "2021-09-01T23:51:53.830723Z",
     "start_time": "2021-09-01T23:38:24.481469Z"
    }
   },
   "outputs": [
    {
     "name": "stderr",
     "output_type": "stream",
     "text": [
      "100%|████████████████████████████████████████████████████████████████████████████| 11702/11702 [13:26<00:00, 14.50it/s]\n"
     ]
    }
   ],
   "source": [
    "# Create submit\n",
    "submit = pd.read_csv('sample_submission.csv')\n",
    "predicted = []\n",
    "draw_predict = []\n",
    "model.load_weights('best_model_sig_g-only.h5')\n",
    "for name in tqdm(submit['Id']):\n",
    "    path = os.path.join('test', name)\n",
    "    image = data_generator.load_image(path, (SIZE,SIZE,3))/255.\n",
    "    score_predict = model.predict(image[np.newaxis])[0]#np.newaxis는 여기서는 행방향으로 차원한개 확장 (SIZE, SIZE, 3)->(1,SIZE, SIZE, 3)\n",
    "    draw_predict.append(score_predict)#score 값(출력값)을 \n",
    "    label_predict = np.arange(28)[score_predict>=0.2]#0~27 중에 score_predict가 0.2이상인 애들만 저장\n",
    "    str_predict_label = ' '.join(str(l) for l in label_predict)\n",
    "    predicted.append(str_predict_label)#0 12 이런석으로 저장\n",
    "\n",
    "submit['Predicted'] = predicted #test 폴더에 있는 친구들 예측 label 다 저장\n",
    "np.save('draw_predict_best_model_g-only.npy', score_predict)\n",
    "submit.to_csv('submit_best_model_g-only.csv', index=False)"
   ]
  },
  {
   "cell_type": "code",
   "execution_count": null,
   "metadata": {},
   "outputs": [],
   "source": []
  }
 ],
 "metadata": {
  "kernelspec": {
   "display_name": "protein_env",
   "language": "python",
   "name": "protein_env"
  },
  "language_info": {
   "codemirror_mode": {
    "name": "ipython",
    "version": 3
   },
   "file_extension": ".py",
   "mimetype": "text/x-python",
   "name": "python",
   "nbconvert_exporter": "python",
   "pygments_lexer": "ipython3",
   "version": "3.7.11"
  },
  "toc": {
   "base_numbering": 1,
   "nav_menu": {},
   "number_sections": true,
   "sideBar": true,
   "skip_h1_title": false,
   "title_cell": "Table of Contents",
   "title_sidebar": "Contents",
   "toc_cell": false,
   "toc_position": {},
   "toc_section_display": true,
   "toc_window_display": false
  },
  "varInspector": {
   "cols": {
    "lenName": 16,
    "lenType": 16,
    "lenVar": 40
   },
   "kernels_config": {
    "python": {
     "delete_cmd_postfix": "",
     "delete_cmd_prefix": "del ",
     "library": "var_list.py",
     "varRefreshCmd": "print(var_dic_list())"
    },
    "r": {
     "delete_cmd_postfix": ") ",
     "delete_cmd_prefix": "rm(",
     "library": "var_list.r",
     "varRefreshCmd": "cat(var_dic_list()) "
    }
   },
   "types_to_exclude": [
    "module",
    "function",
    "builtin_function_or_method",
    "instance",
    "_Feature"
   ],
   "window_display": false
  }
 },
 "nbformat": 4,
 "nbformat_minor": 5
}
