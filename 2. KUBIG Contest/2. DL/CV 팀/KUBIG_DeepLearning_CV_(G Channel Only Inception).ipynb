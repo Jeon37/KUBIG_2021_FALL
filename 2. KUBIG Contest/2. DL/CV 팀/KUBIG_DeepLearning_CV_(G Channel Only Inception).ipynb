{
 "cells": [
  {
   "cell_type": "code",
   "execution_count": 1,
   "metadata": {
    "ExecuteTime": {
     "end_time": "2021-09-01T09:11:53.212317Z",
     "start_time": "2021-09-01T09:11:51.381689Z"
    }
   },
   "outputs": [],
   "source": [
    "import os, sys\n",
    "import numpy as np\n",
    "import pandas as pd\n",
    "import matplotlib.pyplot as plt\n",
    "import skimage.io\n",
    "from skimage.transform import resize\n",
    "from imgaug import augmenters as iaa\n",
    "from tqdm import tqdm\n",
    "import PIL\n",
    "from PIL import Image\n",
    "import cv2\n",
    "from sklearn.utils import class_weight, shuffle"
   ]
  },
  {
   "cell_type": "code",
   "execution_count": 2,
   "metadata": {
    "ExecuteTime": {
     "end_time": "2021-09-01T09:11:56.043101Z",
     "start_time": "2021-09-01T09:11:53.716710Z"
    }
   },
   "outputs": [
    {
     "name": "stdout",
     "output_type": "stream",
     "text": [
      "Num GPUs Available:  1\n"
     ]
    }
   ],
   "source": [
    "import tensorflow as tf\n",
    "print(\"Num GPUs Available: \", len(tf.config.list_physical_devices('GPU')))\n",
    " \n",
    "gpu = tf.config.experimental.list_physical_devices('GPU')"
   ]
  },
  {
   "cell_type": "code",
   "execution_count": 3,
   "metadata": {
    "ExecuteTime": {
     "end_time": "2021-09-01T09:11:56.088102Z",
     "start_time": "2021-09-01T09:11:56.075102Z"
    }
   },
   "outputs": [],
   "source": [
    "import warnings\n",
    "warnings.filterwarnings(\"ignore\")\n",
    "SIZE = 299\n",
    "path_to_train = os.path.abspath(\"\")+'\\\\train\\\\'"
   ]
  },
  {
   "cell_type": "code",
   "execution_count": 4,
   "metadata": {
    "ExecuteTime": {
     "end_time": "2021-09-01T09:11:56.298780Z",
     "start_time": "2021-09-01T09:11:56.119544Z"
    }
   },
   "outputs": [],
   "source": [
    "import re\n",
    "data = pd.read_csv('full_train_labels.csv')"
   ]
  },
  {
   "cell_type": "code",
   "execution_count": 5,
   "metadata": {
    "ExecuteTime": {
     "end_time": "2021-09-01T09:11:56.613783Z",
     "start_time": "2021-09-01T09:11:56.329781Z"
    }
   },
   "outputs": [
    {
     "name": "stdout",
     "output_type": "stream",
     "text": [
      "(42611,)\n",
      "[16, 0]\n"
     ]
    }
   ],
   "source": [
    "train_dataset_info = []\n",
    "for name, labels in zip(data['Id'], data['Target']):\n",
    "    labels = re.sub(\"[^a-zA-Z0-9]\",\", \",labels)\n",
    "    labels = labels.replace(' ','')\n",
    "    labels = labels.replace(',,', ',')\n",
    "    labels = labels.replace(',', ' ')\n",
    "    labels = labels.strip()\n",
    "    labels = labels.split(' ')\n",
    "    labels = list(map(int, labels))\n",
    "    train_dataset_info.append({\n",
    "        'path':os.path.join(path_to_train, name),\n",
    "        'labels':labels})\n",
    "\n",
    "train_dataset_info = np.array(train_dataset_info)\n",
    "print(train_dataset_info.shape)\n",
    "print(train_dataset_info[0]['labels'])"
   ]
  },
  {
   "cell_type": "code",
   "execution_count": 6,
   "metadata": {
    "ExecuteTime": {
     "end_time": "2021-09-01T09:11:56.673783Z",
     "start_time": "2021-09-01T09:11:56.659782Z"
    }
   },
   "outputs": [],
   "source": [
    "class data_generator:\n",
    "   def create_train(dataset_info, batch_size, shape, augument=True):\n",
    "        assert shape[2] == 3\n",
    "        while True:\n",
    "            dataset_info = shuffle(dataset_info)\n",
    "            for start in range(0, len(dataset_info), batch_size):\n",
    "                end = min(start + batch_size, len(dataset_info))\n",
    "                batch_images = []#배치사이즈의 이미지 픽셀값이 담길 리스트\n",
    "                X_train_batch = dataset_info[start:end]\n",
    "                batch_labels = np.zeros((len(X_train_batch), 28))\n",
    "                for i in range(len(X_train_batch)):\n",
    "                    image = data_generator.load_image(\n",
    "                        X_train_batch[i]['path'], shape)#load_image는 클레스의 또다른 메서드, 이미지를 경로에 따라 열고, stack & resize  \n",
    "                    if augument:\n",
    "                        image = data_generator.augment(image)\n",
    "                    batch_images.append(image/255.)\n",
    "                    batch_labels[i][X_train_batch[i]['labels']] = 1\n",
    "                yield np.array(batch_images, np.float32), batch_labels #배치사이즈로 images를 뱉어내는 제네레이터\n",
    "\n",
    "   def load_image(path, shape):\n",
    "           R = np.array(Image.open(path+'_red.png'))#차원 (512, 512)\n",
    "           Y = np.array(Image.open(path+'_yellow.png'))\n",
    "           G = np.array(Image.open(path+'_green.png'))\n",
    "           B = np.array(Image.open(path+'_blue.png'))\n",
    "           \n",
    "           image = np.stack((\n",
    "            R*0, \n",
    "            G,\n",
    "            B*0,\n",
    "            ), -1)#차원 (512, 512, 3)'''\n",
    "           image = cv2.resize(image, (shape[0], shape[1]))#사용자 정의에 따라 resize\n",
    "           return image\n",
    "      \n",
    "   def augment(image):#image augumentation\n",
    "           augment_img = iaa.Sequential([\n",
    "           iaa.OneOf([\n",
    "                iaa.Affine(rotate=0),\n",
    "                iaa.Affine(rotate=90),\n",
    "                iaa.Affine(rotate=180),\n",
    "                iaa.Affine(rotate=270),\n",
    "                iaa.Fliplr(0.5),\n",
    "                iaa.Flipud(0.5),\n",
    "            ])], random_order=True)\n",
    "\n",
    "           image_aug = augment_img.augment_image(image)\n",
    "           return image_aug"
   ]
  },
  {
   "cell_type": "code",
   "execution_count": 7,
   "metadata": {
    "ExecuteTime": {
     "end_time": "2021-09-01T09:11:56.958838Z",
     "start_time": "2021-09-01T09:11:56.726839Z"
    }
   },
   "outputs": [
    {
     "name": "stdout",
     "output_type": "stream",
     "text": [
      "(512, 512)\n",
      "(512, 512, 3)\n"
     ]
    },
    {
     "data": {
      "image/png": "[encoded data removed]",
      "text/plain": [
       "<Figure size 432x288 with 2 Axes>"
      ]
     },
     "metadata": {
      "needs_background": "light"
     },
     "output_type": "display_data"
    }
   ],
   "source": [
    "#data generator 메서드 확인하기\n",
    "\n",
    "path = train_dataset_info[0]['path']\n",
    "image_red = np.array(Image.open(path+'_red.png'))#흑백으로 되는듯??(=convert('L'))\n",
    "image_blue = np.array(Image.open(path+'_blue.png'))\n",
    "image_green = np.array(Image.open(path+'_green.png'))\n",
    "image = np.stack((image_red, image_green, image_blue), -1)\n",
    "print(image_red.shape)\n",
    "print(image.shape)\n",
    "\n",
    "import matplotlib.pyplot as plt\n",
    "\n",
    "\n",
    "\n",
    "augment_img = iaa.Sequential([\n",
    "            iaa.OneOf([\n",
    "                iaa.Affine(rotate=0),#90도 만큼 회전\n",
    "                iaa.Affine(rotate=90),\n",
    "                iaa.Affine(rotate=180),\n",
    "                iaa.Affine(rotate=270),\n",
    "                iaa.Fliplr(0.5),#배열을 좌우로 뒤집기, 0.5는 이미지의 50%를 뒤집는다는 뜻\n",
    "                iaa.Flipud(0.5),#배열을 위아래 방향으로 뒤집기\n",
    "            ])], random_order=True)\n",
    "\n",
    "\n",
    "image_aug = augment_img.augment_image(image)\n",
    "\n",
    "\n",
    "fig = plt.figure()\n",
    "ax1 = fig.add_subplot(1, 2, 1)\n",
    "ax2 = fig.add_subplot(1, 2, 2)\n",
    "ax1.imshow(image)\n",
    "ax2.imshow(image_aug)\n",
    "plt.show()"
   ]
  },
  {
   "cell_type": "code",
   "execution_count": 8,
   "metadata": {
    "ExecuteTime": {
     "end_time": "2021-09-01T09:11:57.742648Z",
     "start_time": "2021-09-01T09:11:57.681647Z"
    }
   },
   "outputs": [
    {
     "name": "stdout",
     "output_type": "stream",
     "text": [
      "[37757 23753  7379 ...  8942  3585 12367]\n",
      "(36219,)\n"
     ]
    }
   ],
   "source": [
    "# split data into train, valid 인덱스 나누기\n",
    "from sklearn.model_selection import train_test_split\n",
    "batch_size = 8\n",
    "indexes = np.arange(train_dataset_info.shape[0])\n",
    "np.random.shuffle(indexes)\n",
    "train_indexes, valid_indexes = train_test_split(indexes, test_size=0.15, random_state=8)\n",
    "print(train_indexes)\n",
    "print(train_indexes.shape)"
   ]
  },
  {
   "cell_type": "code",
   "execution_count": 9,
   "metadata": {
    "ExecuteTime": {
     "end_time": "2021-09-01T09:11:59.612195Z",
     "start_time": "2021-09-01T09:11:59.606196Z"
    }
   },
   "outputs": [],
   "source": [
    "# train and valid 제네레이터 형성\n",
    "train_generator = data_generator.create_train(\n",
    "    train_dataset_info[train_indexes], batch_size, (SIZE,SIZE,3), augument=False)\n",
    "validation_generator = data_generator.create_train(\n",
    "    train_dataset_info[valid_indexes], 32, (SIZE,SIZE,3), augument=False)"
   ]
  },
  {
   "cell_type": "code",
   "execution_count": 16,
   "metadata": {
    "ExecuteTime": {
     "end_time": "2021-09-01T13:03:50.782391Z",
     "start_time": "2021-09-01T13:03:50.761391Z"
    }
   },
   "outputs": [],
   "source": [
    "#모델링\n",
    "\n",
    "from tensorflow.keras import models\n",
    "from tensorflow.keras.layers import Conv2D, MaxPooling2D, Flatten, Dense, Dropout, Input, GlobalAveragePooling2D,BatchNormalization\n",
    "from tensorflow.keras.applications import VGG16, ResNet50, InceptionV3, VGG19, InceptionResNetV2\n",
    "from tensorflow.keras import Model\n",
    "\n",
    "input_shape = (SIZE, SIZE, 3)\n",
    "n_classes= 28\n",
    "\n",
    "def create_model_incresv2():\n",
    "    base_model = InceptionResNetV2(\n",
    "        include_top=False, \n",
    "        weights='imagenet', \n",
    "        input_shape=input_shape)   \n",
    "    base_model.trainable = False\n",
    "    input_tensor = Input(shape=input_shape)\n",
    "    bn = BatchNormalization()(input_tensor)\n",
    "    x = base_model(bn)\n",
    "    x = Conv2D(32, kernel_size=(1,1), activation='relu')(x)\n",
    "    x = Flatten()(x)\n",
    "    x = Dropout(0.5)(x)\n",
    "    x = Dense(1024, activation='relu')(x)\n",
    "    x = Dropout(0.5)(x)\n",
    "    predictions = Dense(n_classes, activation='sigmoid')(x)\n",
    "    model = Model(inputs=input_tensor, outputs=predictions)\n",
    "    return model\n",
    "\n",
    "\n",
    "\n",
    "def create_model_incv3():\n",
    "    base_model = InceptionV3(\n",
    "        include_top=False, \n",
    "        weights='imagenet', \n",
    "        input_shape=input_shape)   \n",
    "    \n",
    "    \n",
    "    input_tensor = Input(shape=input_shape)\n",
    "    bn = BatchNormalization()(input_tensor)\n",
    "    x = base_model(bn)\n",
    "    x = Conv2D(32, kernel_size=(1,1), activation='relu')(x)\n",
    "    x = Flatten()(x)\n",
    "    x = Dropout(0.5)(x)\n",
    "    x = Dense(1024, activation='relu')(x)\n",
    "    x = Dropout(0.5)(x)\n",
    "    predictions = Dense(n_classes, activation='softmax')(x)\n",
    "    model = Model(inputs=input_tensor, outputs=predictions)\n",
    "    return model\n",
    "\n",
    "def create_model_resnet50():\n",
    "    base_model = ResNet50(\n",
    "        include_top=False, \n",
    "        weights='imagenet', \n",
    "        input_shape=input_shape)   \n",
    "  \n",
    "    \n",
    "    input_tensor = Input(shape=input_shape)\n",
    "    bn = BatchNormalization()(input_tensor)\n",
    "    x = base_model(bn)\n",
    "    x = Conv2D(32, kernel_size=(1,1), activation='relu')(x)\n",
    "    x = Flatten()(x)\n",
    "    x = Dropout(0.5)(x)\n",
    "    x = Dense(1024, activation='relu')(x)\n",
    "    x = Dropout(0.5)(x)\n",
    "    predictions = Dense(n_classes, activation='softmax')(x)\n",
    "    model = Model(inputs=input_tensor, outputs=predictions)\n",
    "    return model\n",
    "\n",
    "def create_model_vgg16():\n",
    "    base_model = VGG16(\n",
    "    include_top=False, \n",
    "    weights='imagenet', \n",
    "    input_shape=input_shape)   \n",
    "   \n",
    "    \n",
    "    input_tensor = Input(shape=input_shape)\n",
    "    bn = BatchNormalization()(input_tensor)\n",
    "    x = base_model(bn)\n",
    "    x = Conv2D(32, kernel_size=(1,1), activation='relu')(x)#커널크기 1로 하고, 갯수 32로 한거 신의 한수인듯\n",
    "    x = Flatten()(x)\n",
    "    x = Dropout(0.5)(x)\n",
    "    x = Dense(1024, activation='relu')(x)\n",
    "    x = Dropout(0.5)(x)\n",
    "    predictions = Dense(n_classes, activation='softmax')(x)\n",
    "    model = Model(inputs=input_tensor, outputs=predictions)\n",
    "    return model\n",
    "    \n",
    "def create_model_vgg19():\n",
    "    base_model = VGG19(\n",
    "    include_top=False, \n",
    "    weights='imagenet', \n",
    "    input_shape=input_shape)   \n",
    "    \n",
    "    input_tensor = Input(shape=input_shape)\n",
    "    bn = BatchNormalization()(input_tensor)\n",
    "    x = base_model(bn)\n",
    "    x = Conv2D(32, kernel_size=(1,1), activation='relu')(x)\n",
    "    x = Flatten()(x)\n",
    "    x = Dropout(0.5)(x)\n",
    "    x = Dense(1024, activation='relu')(x)\n",
    "    x = Dropout(0.5)(x)\n",
    "    predictions = Dense(n_classes, activation='sigmoid')(x)\n",
    "    model = Model(inputs=input_tensor, outputs=predictions)\n",
    "    return model"
   ]
  },
  {
   "cell_type": "code",
   "execution_count": 17,
   "metadata": {
    "ExecuteTime": {
     "end_time": "2021-09-01T13:03:55.522394Z",
     "start_time": "2021-09-01T13:03:51.230392Z"
    }
   },
   "outputs": [
    {
     "name": "stdout",
     "output_type": "stream",
     "text": [
      "Model: \"model_1\"\n",
      "_________________________________________________________________\n",
      "Layer (type)                 Output Shape              Param #   \n",
      "=================================================================\n",
      "input_4 (InputLayer)         [(None, 299, 299, 3)]     0         \n",
      "_________________________________________________________________\n",
      "batch_normalization_407 (Bat (None, 299, 299, 3)       12        \n",
      "_________________________________________________________________\n",
      "inception_resnet_v2 (Functio (None, 8, 8, 1536)        54336736  \n",
      "_________________________________________________________________\n",
      "conv2d_407 (Conv2D)          (None, 8, 8, 32)          49184     \n",
      "_________________________________________________________________\n",
      "flatten_1 (Flatten)          (None, 2048)              0         \n",
      "_________________________________________________________________\n",
      "dropout_2 (Dropout)          (None, 2048)              0         \n",
      "_________________________________________________________________\n",
      "dense_2 (Dense)              (None, 1024)              2098176   \n",
      "_________________________________________________________________\n",
      "dropout_3 (Dropout)          (None, 1024)              0         \n",
      "_________________________________________________________________\n",
      "dense_3 (Dense)              (None, 28)                28700     \n",
      "=================================================================\n",
      "Total params: 56,512,808\n",
      "Trainable params: 2,176,066\n",
      "Non-trainable params: 54,336,742\n",
      "_________________________________________________________________\n"
     ]
    }
   ],
   "source": [
    "model = create_model_incresv2()\n",
    "model.summary()"
   ]
  },
  {
   "cell_type": "code",
   "execution_count": 18,
   "metadata": {
    "ExecuteTime": {
     "end_time": "2021-09-01T13:03:55.597392Z",
     "start_time": "2021-09-01T13:03:55.584392Z"
    }
   },
   "outputs": [],
   "source": [
    "#callbacks \n",
    "from tensorflow.keras.callbacks import ModelCheckpoint, LearningRateScheduler, EarlyStopping, ReduceLROnPlateau\n",
    "\n",
    "checkpoint = ModelCheckpoint('best_model_sig_g-only.h5', monitor='val_loss', verbose=1, \n",
    "                             save_best_only=True, mode='min', save_weights_only = True)\n",
    "reduceLROnPlat = ReduceLROnPlateau(monitor='val_loss', factor=0.1, patience=3, \n",
    "                                   verbose=1, mode='auto', min_delta=0.0001)\n",
    "early = EarlyStopping(monitor=\"val_loss\", \n",
    "                      mode=\"min\", \n",
    "                      patience=6)\n",
    "callbacks_list = [checkpoint, early, reduceLROnPlat]"
   ]
  },
  {
   "cell_type": "code",
   "execution_count": 19,
   "metadata": {
    "ExecuteTime": {
     "end_time": "2021-09-01T13:03:55.657392Z",
     "start_time": "2021-09-01T13:03:55.644405Z"
    }
   },
   "outputs": [],
   "source": [
    "from tensorflow.keras import backend as K\n",
    "import tensorflow as tf\n",
    "\n",
    "def f1(y_true, y_pred):\n",
    "    tp = K.sum(K.cast(y_true*y_pred, 'float'), axis=0)\n",
    "    fp = K.sum(K.cast((1-y_true)*y_pred, 'float'), axis=0)\n",
    "    fn = K.sum(K.cast(y_true*(1-y_pred), 'float'), axis=0)\n",
    "\n",
    "    p = tp / (tp + fp + K.epsilon())\n",
    "    r = tp / (tp + fn + K.epsilon())\n",
    "\n",
    "    f1 = 2*p*r / (p+r+K.epsilon())\n",
    "    f1 = tf.where(tf.math.is_nan(f1), tf.zeros_like(f1), f1)\n",
    "    return K.mean(f1)"
   ]
  },
  {
   "cell_type": "code",
   "execution_count": 20,
   "metadata": {
    "ExecuteTime": {
     "end_time": "2021-09-01T13:03:55.747392Z",
     "start_time": "2021-09-01T13:03:55.736392Z"
    }
   },
   "outputs": [],
   "source": [
    "batch_size = 12"
   ]
  },
  {
   "cell_type": "code",
   "execution_count": 21,
   "metadata": {
    "ExecuteTime": {
     "end_time": "2021-09-01T17:36:58.383238Z",
     "start_time": "2021-09-01T13:03:55.812392Z"
    }
   },
   "outputs": [
    {
     "name": "stdout",
     "output_type": "stream",
     "text": [
      "Epoch 1/20\n",
      "3019/3019 [==============================] - 919s 300ms/step - loss: 0.1689 - binary_accuracy: 0.9432 - f1: 0.1390 - val_loss: 0.1814 - val_binary_accuracy: 0.9367 - val_f1: 0.1873\n",
      "\n",
      "Epoch 00001: val_loss improved from inf to 0.18138, saving model to best_model_sig_g-only.h5\n",
      "Epoch 2/20\n",
      "3019/3019 [==============================] - 996s 330ms/step - loss: 0.1517 - binary_accuracy: 0.9486 - f1: 0.1548 - val_loss: 0.1531 - val_binary_accuracy: 0.9457 - val_f1: 0.2137\n",
      "\n",
      "Epoch 00002: val_loss improved from 0.18138 to 0.15311, saving model to best_model_sig_g-only.h5\n",
      "Epoch 3/20\n",
      "3019/3019 [==============================] - 761s 252ms/step - loss: 0.1487 - binary_accuracy: 0.9491 - f1: 0.1585 - val_loss: 0.1621 - val_binary_accuracy: 0.9439 - val_f1: 0.1940\n",
      "\n",
      "Epoch 00003: val_loss did not improve from 0.15311\n",
      "Epoch 4/20\n",
      "3019/3019 [==============================] - 803s 266ms/step - loss: 0.1427 - binary_accuracy: 0.9506 - f1: 0.1665 - val_loss: 0.1361 - val_binary_accuracy: 0.9524 - val_f1: 0.2473\n",
      "\n",
      "Epoch 00004: val_loss improved from 0.15311 to 0.13610, saving model to best_model_sig_g-only.h5\n",
      "Epoch 5/20\n",
      "3019/3019 [==============================] - 748s 248ms/step - loss: 0.1396 - binary_accuracy: 0.9518 - f1: 0.1692 - val_loss: 0.1381 - val_binary_accuracy: 0.9511 - val_f1: 0.2357\n",
      "\n",
      "Epoch 00005: val_loss did not improve from 0.13610\n",
      "Epoch 6/20\n",
      "3019/3019 [==============================] - 836s 277ms/step - loss: 0.1358 - binary_accuracy: 0.9526 - f1: 0.1743 - val_loss: 0.1265 - val_binary_accuracy: 0.9557 - val_f1: 0.2644\n",
      "\n",
      "Epoch 00006: val_loss improved from 0.13610 to 0.12654, saving model to best_model_sig_g-only.h5\n",
      "Epoch 7/20\n",
      "3019/3019 [==============================] - 869s 288ms/step - loss: 0.1335 - binary_accuracy: 0.9533 - f1: 0.1777 - val_loss: 0.1468 - val_binary_accuracy: 0.9498 - val_f1: 0.2368\n",
      "\n",
      "Epoch 00007: val_loss did not improve from 0.12654\n",
      "Epoch 8/20\n",
      "3019/3019 [==============================] - 797s 264ms/step - loss: 0.1327 - binary_accuracy: 0.9536 - f1: 0.1803 - val_loss: 0.2029 - val_binary_accuracy: 0.9296 - val_f1: 0.1243\n",
      "\n",
      "Epoch 00008: val_loss did not improve from 0.12654\n",
      "Epoch 9/20\n",
      "3019/3019 [==============================] - 735s 244ms/step - loss: 0.1338 - binary_accuracy: 0.9531 - f1: 0.1771 - val_loss: 0.1296 - val_binary_accuracy: 0.9545 - val_f1: 0.2644\n",
      "\n",
      "Epoch 00009: val_loss did not improve from 0.12654\n",
      "\n",
      "Epoch 00009: ReduceLROnPlateau reducing learning rate to 0.00010000000474974513.\n",
      "Epoch 10/20\n",
      "3019/3019 [==============================] - 770s 255ms/step - loss: 0.1225 - binary_accuracy: 0.9566 - f1: 0.1912 - val_loss: 0.1148 - val_binary_accuracy: 0.9592 - val_f1: 0.2887\n",
      "\n",
      "Epoch 00010: val_loss improved from 0.12654 to 0.11477, saving model to best_model_sig_g-only.h5\n",
      "Epoch 11/20\n",
      "3019/3019 [==============================] - 889s 294ms/step - loss: 0.1189 - binary_accuracy: 0.9576 - f1: 0.1944 - val_loss: 0.1135 - val_binary_accuracy: 0.9601 - val_f1: 0.2957\n",
      "\n",
      "Epoch 00011: val_loss improved from 0.11477 to 0.11346, saving model to best_model_sig_g-only.h5\n",
      "Epoch 12/20\n",
      "3019/3019 [==============================] - 810s 268ms/step - loss: 0.1163 - binary_accuracy: 0.9585 - f1: 0.1984 - val_loss: 0.1120 - val_binary_accuracy: 0.9604 - val_f1: 0.3004\n",
      "\n",
      "Epoch 00012: val_loss improved from 0.11346 to 0.11200, saving model to best_model_sig_g-only.h5\n",
      "Epoch 13/20\n",
      "3019/3019 [==============================] - 824s 273ms/step - loss: 0.1156 - binary_accuracy: 0.9588 - f1: 0.1989 - val_loss: 0.1105 - val_binary_accuracy: 0.9609 - val_f1: 0.3029\n",
      "\n",
      "Epoch 00013: val_loss improved from 0.11200 to 0.11045, saving model to best_model_sig_g-only.h5\n",
      "Epoch 14/20\n",
      "3019/3019 [==============================] - 838s 277ms/step - loss: 0.1139 - binary_accuracy: 0.9593 - f1: 0.2019 - val_loss: 0.1089 - val_binary_accuracy: 0.9614 - val_f1: 0.3071\n",
      "\n",
      "Epoch 00014: val_loss improved from 0.11045 to 0.10887, saving model to best_model_sig_g-only.h5\n",
      "Epoch 15/20\n",
      "3019/3019 [==============================] - 812s 269ms/step - loss: 0.1117 - binary_accuracy: 0.9598 - f1: 0.2048 - val_loss: 0.1096 - val_binary_accuracy: 0.9613 - val_f1: 0.3060\n",
      "\n",
      "Epoch 00015: val_loss did not improve from 0.10887\n",
      "Epoch 16/20\n",
      "3019/3019 [==============================] - 840s 278ms/step - loss: 0.1106 - binary_accuracy: 0.9601 - f1: 0.2081 - val_loss: 0.1074 - val_binary_accuracy: 0.9621 - val_f1: 0.3144\n",
      "\n",
      "Epoch 00016: val_loss improved from 0.10887 to 0.10740, saving model to best_model_sig_g-only.h5\n",
      "Epoch 17/20\n",
      "3019/3019 [==============================] - 810s 268ms/step - loss: 0.1095 - binary_accuracy: 0.9606 - f1: 0.2055 - val_loss: 0.1081 - val_binary_accuracy: 0.9617 - val_f1: 0.3130\n",
      "\n",
      "Epoch 00017: val_loss did not improve from 0.10740\n",
      "Epoch 18/20\n",
      "3019/3019 [==============================] - 753s 250ms/step - loss: 0.1084 - binary_accuracy: 0.9610 - f1: 0.2098 - val_loss: 0.1079 - val_binary_accuracy: 0.9620 - val_f1: 0.3136\n",
      "\n",
      "Epoch 00018: val_loss did not improve from 0.10740\n",
      "Epoch 19/20\n",
      "3019/3019 [==============================] - 745s 247ms/step - loss: 0.1074 - binary_accuracy: 0.9614 - f1: 0.2104 - val_loss: 0.1050 - val_binary_accuracy: 0.9627 - val_f1: 0.3216\n",
      "\n",
      "Epoch 00019: val_loss improved from 0.10740 to 0.10505, saving model to best_model_sig_g-only.h5\n",
      "Epoch 20/20\n",
      "3019/3019 [==============================] - 781s 259ms/step - loss: 0.1065 - binary_accuracy: 0.9618 - f1: 0.2113 - val_loss: 0.1051 - val_binary_accuracy: 0.9627 - val_f1: 0.3190\n",
      "\n",
      "Epoch 00020: val_loss did not improve from 0.10505\n"
     ]
    },
    {
     "data": {
      "text/plain": [
       "<tensorflow.python.keras.callbacks.History at 0x208b6037888>"
      ]
     },
     "execution_count": 21,
     "metadata": {},
     "output_type": "execute_result"
    }
   ],
   "source": [
    "from tensorflow.keras.optimizers import Adam\n",
    "# train all layers\n",
    "for layer in model.layers:\n",
    "    layer.trainable = True\n",
    "    \n",
    "model.compile(\n",
    "    loss='binary_crossentropy',  \n",
    "    optimizer=Adam(1e-3),\n",
    "    metrics=['binary_accuracy', f1])#다중 레이블은 'binary_acccuracy'로 계산\n",
    "\n",
    "model.fit_generator(  \n",
    "    train_generator,\n",
    "    steps_per_epoch=np.ceil(float(len(train_indexes)) / float(batch_size)),\n",
    "    validation_data=validation_generator,\n",
    "    validation_steps=np.ceil(float(len(valid_indexes)) / float(batch_size)),\n",
    "    epochs=20, \n",
    "    verbose=1,\n",
    "    callbacks=callbacks_list)"
   ]
  },
  {
   "cell_type": "markdown",
   "metadata": {
    "collapsed": true
   },
   "source": [
    "뒤에는 RGBY 채널"
   ]
  },
  {
   "cell_type": "code",
   "execution_count": null,
   "metadata": {},
   "outputs": [],
   "source": []
  }
 ],
 "metadata": {
  "kernelspec": {
   "display_name": "protein_env",
   "language": "python",
   "name": "protein_env"
  },
  "language_info": {
   "codemirror_mode": {
    "name": "ipython",
    "version": 3
   },
   "file_extension": ".py",
   "mimetype": "text/x-python",
   "name": "python",
   "nbconvert_exporter": "python",
   "pygments_lexer": "ipython3",
   "version": "3.7.11"
  },
  "toc": {
   "base_numbering": 1,
   "nav_menu": {},
   "number_sections": true,
   "sideBar": true,
   "skip_h1_title": false,
   "title_cell": "Table of Contents",
   "title_sidebar": "Contents",
   "toc_cell": false,
   "toc_position": {},
   "toc_section_display": true,
   "toc_window_display": false
  },
  "varInspector": {
   "cols": {
    "lenName": 16,
    "lenType": 16,
    "lenVar": 40
   },
   "kernels_config": {
    "python": {
     "delete_cmd_postfix": "",
     "delete_cmd_prefix": "del ",
     "library": "var_list.py",
     "varRefreshCmd": "print(var_dic_list())"
    },
    "r": {
     "delete_cmd_postfix": ") ",
     "delete_cmd_prefix": "rm(",
     "library": "var_list.r",
     "varRefreshCmd": "cat(var_dic_list()) "
    }
   },
   "types_to_exclude": [
    "module",
    "function",
    "builtin_function_or_method",
    "instance",
    "_Feature"
   ],
   "window_display": false
  }
 },
 "nbformat": 4,
 "nbformat_minor": 5
}
