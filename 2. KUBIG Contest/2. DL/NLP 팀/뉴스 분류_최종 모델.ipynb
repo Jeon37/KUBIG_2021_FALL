{
  "nbformat": 4,
  "nbformat_minor": 0,
  "metadata": {
    "colab": {
      "name": "뉴스 분류 최종 모델_09.13.ipynb",
      "provenance": [],
      "collapsed_sections": [
        "_d2vaqfQdIZO",
        "SCBDWo8vAZgO",
        "ZNcdBp8vJqsh",
        "oyOC9NI2Jw2U",
        "VUW6TEFpFlJx",
        "zIdevOA8O2xK",
        "ZKJdg0b9QbcH",
        "W_8hkrvL0afG"
      ]
    },
    "kernelspec": {
      "name": "python3",
      "display_name": "Python 3"
    },
    "language_info": {
      "name": "python"
    },
    "accelerator": "GPU"
  },
  "cells": [
    {
      "cell_type": "markdown",
      "metadata": {
        "id": "_d2vaqfQdIZO"
      },
      "source": [
        "## 데이터 로드"
      ]
    },
    {
      "cell_type": "code",
      "metadata": {
        "colab": {
          "base_uri": "https://localhost:8080/"
        },
        "id": "wkKQVNxiCWou",
        "outputId": "1e31db55-de5c-43ea-d012-3f0935143426"
      },
      "source": [
        "import pandas as pd\n",
        "import numpy as np\n",
        "from google.colab import drive\n",
        "import keras\n",
        "from keras.layers import Dropout\n",
        "drive.mount('/content/drive')"
      ],
      "execution_count": null,
      "outputs": [
        {
          "output_type": "stream",
          "name": "stdout",
          "text": [
            "Drive already mounted at /content/drive; to attempt to forcibly remount, call drive.mount(\"/content/drive\", force_remount=True).\n"
          ]
        }
      ]
    },
    {
      "cell_type": "code",
      "metadata": {
        "id": "8B6stXlgC_0a"
      },
      "source": [
        "X_train = np.load('/content/drive/MyDrive/뉴스 분류/X_train.npy')\n",
        "X_test = np.load('/content/drive/MyDrive/뉴스 분류/X_test.npy')\n",
        "y_train = np.load('/content/drive/MyDrive/뉴스 분류/y_train.npy')\n",
        "y_test = np.load('/content/drive/MyDrive/뉴스 분류/y_test.npy')\n",
        "X_Test = np.load('/content/drive/MyDrive/뉴스 분류/X_Test.npy')  # 제출용 테스트 데이터"
      ],
      "execution_count": null,
      "outputs": []
    },
    {
      "cell_type": "markdown",
      "metadata": {
        "id": "SCBDWo8vAZgO"
      },
      "source": [
        "### Y값 원-핫-인코딩\n",
        "\n",
        "\n"
      ]
    },
    {
      "cell_type": "markdown",
      "metadata": {
        "id": "Yx6TWsLbI2hD"
      },
      "source": [
        ""
      ]
    },
    {
      "cell_type": "markdown",
      "metadata": {
        "id": "Hif-Cbg1AZgR"
      },
      "source": [
        "- 참고: https://wikidocs.net/22933 (로이터 뉴스 분류하기)\n",
        "- 시도해볼 모델 종류: RNN, LSTM, GRU, BiLSTM, 1D CNN(multi-kernel), CNN + LSTM,  \n",
        " BiLSTM + Attention, Transformer(self-attention), BERT, KoBERT\n",
        "- tf-idf 벡터화 등 벡터화, 임베딩 방법도 여러 개 생각해보기"
      ]
    },
    {
      "cell_type": "code",
      "metadata": {
        "id": "ZFM69FS-Zd-d"
      },
      "source": [
        "from tensorflow.keras.utils import to_categorical\n",
        "from tensorflow.keras.models import Sequential\n",
        "from tensorflow.keras.layers import Dense, Embedding, LSTM, GRU, Bidirectional\n",
        "from tensorflow.keras.callbacks import EarlyStopping, ModelCheckpoint\n",
        "from tensorflow.keras.models import load_model"
      ],
      "execution_count": null,
      "outputs": []
    },
    {
      "cell_type": "code",
      "metadata": {
        "id": "QxU5CMz6l-ra"
      },
      "source": [
        "# 레이블 One-hot encoding\n",
        "y_train = to_categorical(y_train) # 훈련용 레이블의 원-핫 인코딩\n",
        "y_test = to_categorical(y_test) # 테스트용 레이블의 원-핫 인코딩"
      ],
      "execution_count": null,
      "outputs": []
    },
    {
      "cell_type": "code",
      "metadata": {
        "id": "W9thh5mzjX5H"
      },
      "source": [
        "vocab_size = 14592  # 단어 집합의 크기 (전처리 코드 참고)"
      ],
      "execution_count": null,
      "outputs": []
    },
    {
      "cell_type": "markdown",
      "metadata": {
        "id": "1RWYsjWYiLB9"
      },
      "source": [
        "## 모델링\n",
        "\n",
        "\n"
      ]
    },
    {
      "cell_type": "markdown",
      "metadata": {
        "id": "cU112YxomJpO"
      },
      "source": [
        "- **BiLSTM 기본 모델 제외한 다른 모델은 아직 안 돌려봤습니다!!**\n",
        "- 참고: https://wikidocs.net/22933 (로이터 뉴스 분류하기)\n",
        "- 시도해볼 모델 종류: RNN, LSTM, GRU, BiLSTM, 1D CNN(multi-kernel), CNN + LSTM,  \n",
        " BiLSTM + Attention, Transformer(self-attention), BERT, KoBERT\n",
        "- tf-idf 벡터화 등 벡터화, 임베딩 방법도 여러 개 생각해보기"
      ]
    },
    {
      "cell_type": "code",
      "metadata": {
        "id": "OEdMmDj_67JR"
      },
      "source": [
        "total = pd.DataFrame(columns=['accuracy'], index=['GRU', 'LSTM','BiLSTM','BiLSTM + Attention'])"
      ],
      "execution_count": null,
      "outputs": []
    },
    {
      "cell_type": "markdown",
      "metadata": {
        "id": "ZNcdBp8vJqsh"
      },
      "source": [
        "### GRU"
      ]
    },
    {
      "cell_type": "code",
      "metadata": {
        "id": "Tu3SdQ4PZlwq"
      },
      "source": [
        "gpu_model = Sequential()\n",
        "gpu_model.add(Embedding(vocab_size, 100))  # 단어들을 밀집벡터로 만드는 역할 (임베딩 벡터의 출력 차원수 = 120)\n",
        "gpu_model.add(GRU(100)) # LSTM 모델 활용(은닉 상태의 크기 = 120)\n",
        "gpu_model.add(Dense(7, activation='softmax'))  # 출력 뉴런 수 = 7 (7개의 카테고리)"
      ],
      "execution_count": null,
      "outputs": []
    },
    {
      "cell_type": "code",
      "metadata": {
        "id": "u72okWUzV6qk"
      },
      "source": [
        "es = EarlyStopping(monitor='val_loss', mode='min', verbose=1, patience=4)  # 연속해서 5번 이상 검증 데이터의 손실함수가 감소하지 않으면 에폭 중단\n",
        "mc = ModelCheckpoint('gpu_best_model.h5', monitor='val_acc', mode='max', verbose=1, save_best_only=True)  # 검증 데이터의 acc를 기준으로 가장 우수한 모수만 저장"
      ],
      "execution_count": null,
      "outputs": []
    },
    {
      "cell_type": "code",
      "metadata": {
        "colab": {
          "base_uri": "https://localhost:8080/"
        },
        "id": "34MWag0PWIEz",
        "outputId": "78954405-e540-4200-9298-42f8b6cd4ece"
      },
      "source": [
        "gpu_model.compile(optimizer='adam', loss='categorical_crossentropy', metrics=['acc'])  # 모델 컴파일\n",
        "gpu_history = gpu_model.fit(X_train, y_train, epochs=15, callbacks=[es, mc], batch_size=80, validation_data=(X_test, y_test))  # 모델 학습"
      ],
      "execution_count": null,
      "outputs": [
        {
          "output_type": "stream",
          "name": "stdout",
          "text": [
            "Epoch 1/15\n",
            "428/428 [==============================] - 8s 13ms/step - loss: 0.8245 - acc: 0.7110 - val_loss: 0.4931 - val_acc: 0.8398\n",
            "\n",
            "Epoch 00001: val_acc improved from -inf to 0.83980, saving model to gpu_best_model.h5\n",
            "Epoch 2/15\n",
            "428/428 [==============================] - 5s 12ms/step - loss: 0.3177 - acc: 0.8950 - val_loss: 0.4882 - val_acc: 0.8399\n",
            "\n",
            "Epoch 00002: val_acc improved from 0.83980 to 0.83989, saving model to gpu_best_model.h5\n",
            "Epoch 3/15\n",
            "428/428 [==============================] - 7s 16ms/step - loss: 0.1942 - acc: 0.9362 - val_loss: 0.5735 - val_acc: 0.8307\n",
            "\n",
            "Epoch 00003: val_acc did not improve from 0.83989\n",
            "Epoch 4/15\n",
            "428/428 [==============================] - 6s 14ms/step - loss: 0.1297 - acc: 0.9577 - val_loss: 0.6671 - val_acc: 0.8263\n",
            "\n",
            "Epoch 00004: val_acc did not improve from 0.83989\n",
            "Epoch 5/15\n",
            "428/428 [==============================] - 5s 12ms/step - loss: 0.0922 - acc: 0.9689 - val_loss: 0.7448 - val_acc: 0.8180\n",
            "\n",
            "Epoch 00005: val_acc did not improve from 0.83989\n",
            "Epoch 6/15\n",
            "428/428 [==============================] - 5s 11ms/step - loss: 0.0696 - acc: 0.9769 - val_loss: 0.7895 - val_acc: 0.8059\n",
            "\n",
            "Epoch 00006: val_acc did not improve from 0.83989\n",
            "Epoch 00006: early stopping\n"
          ]
        }
      ]
    },
    {
      "cell_type": "code",
      "metadata": {
        "colab": {
          "base_uri": "https://localhost:8080/"
        },
        "id": "FW0wNbsV7Jzl",
        "outputId": "4cce02bf-6a2b-45ea-c47b-dcc0cbd44bbc"
      },
      "source": [
        "gpu_loaded_model = load_model('gpu_best_model.h5')\n",
        "accuracy = gpu_loaded_model.evaluate(X_test, y_test)[1]\n",
        "total['accuracy'][0] = accuracy\n",
        "print(\"\\n 테스트 정확도: %.4f\" % (accuracy))"
      ],
      "execution_count": null,
      "outputs": [
        {
          "output_type": "stream",
          "name": "stdout",
          "text": [
            "357/357 [==============================] - 2s 4ms/step - loss: 0.4882 - acc: 0.8399\n",
            "\n",
            " 테스트 정확도: 0.8399\n"
          ]
        }
      ]
    },
    {
      "cell_type": "markdown",
      "metadata": {
        "id": "oyOC9NI2Jw2U"
      },
      "source": [
        "### LSTM"
      ]
    },
    {
      "cell_type": "code",
      "metadata": {
        "id": "LcXSAIHHMdZ5"
      },
      "source": [
        "\n",
        "lstm_model = Sequential()\n",
        "lstm_model.add(Embedding(vocab_size, 200))  # 단어들을 밀집벡터로 만드는 역할 (임베딩 벡터의 출력 차원수 = 100)\n",
        "lstm_model.add(Dropout(0.3)) \n",
        "lstm_model.add(LSTM(200))\n",
        "lstm_model.add(Dense(7, activation='softmax'))  # 출력 뉴런 수 = 7 (7개의 카테고리)"
      ],
      "execution_count": null,
      "outputs": []
    },
    {
      "cell_type": "code",
      "metadata": {
        "id": "7pk3cl1XMdZ6"
      },
      "source": [
        "es = EarlyStopping(monitor='val_acc', mode='max', verbose=1, patience=3)  # 연속해서 5번 이상 검증 데이터의 손실함수가 감소하지 않으면 에폭 중단\n",
        "mc = ModelCheckpoint('best_model.h5', monitor='val_loss', mode='min', verbose=1, save_best_only=True)  # 검증 데이터의 acc를 기준으로 가장 우수한 모수만 저장"
      ],
      "execution_count": null,
      "outputs": []
    },
    {
      "cell_type": "code",
      "metadata": {
        "colab": {
          "base_uri": "https://localhost:8080/"
        },
        "id": "MvX6FIhDMdZ6",
        "outputId": "7131dd28-324d-40b8-b64b-f1e241b7320b"
      },
      "source": [
        "lstm_model.compile(optimizer='adam', loss='categorical_crossentropy', metrics=['acc'])  # 모델 컴파일\n",
        "lstm_history=lstm_model.fit(X_train, y_train, epochs=15, batch_size=80, validation_data=(X_test, y_test), callbacks=[es, mc])"
      ],
      "execution_count": null,
      "outputs": [
        {
          "output_type": "stream",
          "name": "stdout",
          "text": [
            "Epoch 1/15\n",
            "428/428 [==============================] - 5s 7ms/step - loss: 0.7841 - acc: 0.7280 - val_loss: 0.4744 - val_acc: 0.8424\n",
            "\n",
            "Epoch 00001: val_loss improved from inf to 0.47437, saving model to best_model.h5\n",
            "Epoch 2/15\n",
            "428/428 [==============================] - 3s 7ms/step - loss: 0.3168 - acc: 0.8952 - val_loss: 0.4704 - val_acc: 0.8466\n",
            "\n",
            "Epoch 00002: val_loss improved from 0.47437 to 0.47043, saving model to best_model.h5\n",
            "Epoch 3/15\n",
            "428/428 [==============================] - 3s 7ms/step - loss: 0.2035 - acc: 0.9306 - val_loss: 0.5441 - val_acc: 0.8329\n",
            "\n",
            "Epoch 00003: val_loss did not improve from 0.47043\n",
            "Epoch 4/15\n",
            "428/428 [==============================] - 3s 6ms/step - loss: 0.1426 - acc: 0.9526 - val_loss: 0.6244 - val_acc: 0.8308\n",
            "\n",
            "Epoch 00004: val_loss did not improve from 0.47043\n",
            "Epoch 5/15\n",
            "428/428 [==============================] - 3s 6ms/step - loss: 0.1066 - acc: 0.9628 - val_loss: 0.6833 - val_acc: 0.8259\n",
            "\n",
            "Epoch 00005: val_loss did not improve from 0.47043\n",
            "Epoch 00005: early stopping\n"
          ]
        }
      ]
    },
    {
      "cell_type": "code",
      "metadata": {
        "colab": {
          "base_uri": "https://localhost:8080/"
        },
        "id": "rzILB_1E7So-",
        "outputId": "e5c20457-4380-4c02-800f-f8970ed465c6"
      },
      "source": [
        "lstm_loaded_model = load_model('best_model.h5')\n",
        "accuracy = lstm_loaded_model.evaluate(X_test, y_test)[1]\n",
        "total['accuracy'][1] = accuracy\n",
        "print(\"\\n 테스트 정확도: %.4f\" % (accuracy))"
      ],
      "execution_count": null,
      "outputs": [
        {
          "output_type": "stream",
          "name": "stdout",
          "text": [
            "357/357 [==============================] - 1s 3ms/step - loss: 0.4704 - acc: 0.8466\n",
            "\n",
            " 테스트 정확도: 0.8466\n"
          ]
        }
      ]
    },
    {
      "cell_type": "code",
      "metadata": {
        "id": "4e65fBMPO2Zl",
        "colab": {
          "base_uri": "https://localhost:8080/"
        },
        "outputId": "35e846c5-822f-4cb4-8216-5c7bc8b70ff1"
      },
      "source": [
        "import matplotlib.pyplot as plt\n",
        "plt.plot(lstm_history.history['loss'])\n",
        "plt.plot(lstm_history.history['val_loss'])\n",
        "plt.xlabel('epoch')\n",
        "plt.ylabel('loss')\n",
        "plt.legend(['train','val'])\n",
        "plt.show()"
      ],
      "execution_count": null,
      "outputs": [
        {
          "output_type": "display_data",
          "data": {
            "image/png": "[encoded data removed]",
            "text/plain": [
              "<Figure size 432x288 with 1 Axes>"
            ]
          },
          "metadata": {
            "needs_background": "light"
          }
        }
      ]
    },
    {
      "cell_type": "code",
      "metadata": {
        "id": "GJUB9EzEDmUp"
      },
      "source": [
        ""
      ],
      "execution_count": null,
      "outputs": []
    },
    {
      "cell_type": "markdown",
      "metadata": {
        "id": "VUW6TEFpFlJx"
      },
      "source": [
        "### LSTM 2"
      ]
    },
    {
      "cell_type": "code",
      "metadata": {
        "id": "h4_IsIKFDmWX"
      },
      "source": [
        "model = Sequential()\n",
        "model.add(Embedding(vocab_size, 100))\n",
        "model.add(LSTM(256,return_sequences=True))\n",
        "model.add(Dropout(0.3))\n",
        "model.add(LSTM(256, return_sequences=True))\n",
        "model.add(Dropout(0.3))\n",
        "model.add(LSTM(256))\n",
        "model.add(Dense(128))\n",
        "model.add(Dropout(0.3))\n",
        "model.add(Dense(7, activation='softmax'))"
      ],
      "execution_count": null,
      "outputs": []
    },
    {
      "cell_type": "code",
      "metadata": {
        "id": "l730bklRZVC0"
      },
      "source": [
        "es_2 = EarlyStopping(monitor='val_loss', mode='min', verbose=1, patience=4)  # 연속해서 5번 이상 검증 데이터의 손실함수가 감소하지 않으면 에폭 중단\n",
        "mc_2 = ModelCheckpoint('lstm_best_model.h5', monitor='val_acc', mode='max', verbose=1, save_best_only=True)  # 검증 데이터의 acc를 기준으로 가장 우수한 모수만 저장"
      ],
      "execution_count": null,
      "outputs": []
    },
    {
      "cell_type": "code",
      "metadata": {
        "id": "8pZVDhkrF2bV",
        "colab": {
          "base_uri": "https://localhost:8080/"
        },
        "outputId": "5a93856b-a865-4e07-c56a-2fffd3a959bb"
      },
      "source": [
        "model.compile(optimizer='adam', loss='categorical_crossentropy', metrics=['acc'])  # 모델 컴파일\n",
        "history=model.fit(X_train, y_train, epochs=15, batch_size=80, validation_data=(X_test, y_test), callbacks=[es_2, mc_2])"
      ],
      "execution_count": null,
      "outputs": [
        {
          "output_type": "stream",
          "name": "stdout",
          "text": [
            "Epoch 1/15\n",
            "428/428 [==============================] - 20s 35ms/step - loss: 0.9145 - acc: 0.6565 - val_loss: 0.5233 - val_acc: 0.8274\n",
            "\n",
            "Epoch 00001: val_acc improved from -inf to 0.82736, saving model to lstm_best_model.h5\n",
            "Epoch 2/15\n",
            "428/428 [==============================] - 14s 33ms/step - loss: 0.3741 - acc: 0.8801 - val_loss: 0.5134 - val_acc: 0.8381\n",
            "\n",
            "Epoch 00002: val_acc improved from 0.82736 to 0.83814, saving model to lstm_best_model.h5\n",
            "Epoch 3/15\n",
            "428/428 [==============================] - 13s 31ms/step - loss: 0.2519 - acc: 0.9198 - val_loss: 0.5465 - val_acc: 0.8302\n",
            "\n",
            "Epoch 00003: val_acc did not improve from 0.83814\n",
            "Epoch 4/15\n",
            "428/428 [==============================] - 13s 31ms/step - loss: 0.1861 - acc: 0.9392 - val_loss: 0.6348 - val_acc: 0.8268\n",
            "\n",
            "Epoch 00004: val_acc did not improve from 0.83814\n",
            "Epoch 5/15\n",
            "428/428 [==============================] - 14s 32ms/step - loss: 0.1471 - acc: 0.9528 - val_loss: 0.7189 - val_acc: 0.8162\n",
            "\n",
            "Epoch 00005: val_acc did not improve from 0.83814\n",
            "Epoch 6/15\n",
            "428/428 [==============================] - 15s 34ms/step - loss: 0.1184 - acc: 0.9604 - val_loss: 0.8020 - val_acc: 0.8148\n",
            "\n",
            "Epoch 00006: val_acc did not improve from 0.83814\n",
            "Epoch 00006: early stopping\n"
          ]
        }
      ]
    },
    {
      "cell_type": "markdown",
      "metadata": {
        "id": "NceDjXUjFkXt"
      },
      "source": [
        ""
      ]
    },
    {
      "cell_type": "code",
      "metadata": {
        "id": "giydwDWTDmZL",
        "colab": {
          "base_uri": "https://localhost:8080/"
        },
        "outputId": "9f847196-d235-4435-a911-e731332538c1"
      },
      "source": [
        "loaded_model = load_model('lstm_best_model.h5')\n",
        "accuracy = loaded_model.evaluate(X_test, y_test)[1]\n",
        "total['accuracy'][1] = accuracy\n",
        "print(\"\\n 테스트 정확도: %.4f\" % (accuracy))"
      ],
      "execution_count": null,
      "outputs": [
        {
          "output_type": "stream",
          "name": "stdout",
          "text": [
            "357/357 [==============================] - 6s 13ms/step - loss: 0.5134 - acc: 0.8381\n",
            "\n",
            " 테스트 정확도: 0.8381\n"
          ]
        }
      ]
    },
    {
      "cell_type": "code",
      "metadata": {
        "id": "E9Panfl5Dma7",
        "colab": {
          "base_uri": "https://localhost:8080/",
          "height": 279
        },
        "outputId": "a2a5de0b-f104-47fd-b2ae-9130ec9b72b4"
      },
      "source": [
        "import matplotlib.pyplot as plt\n",
        "plt.plot(history.history['loss'])\n",
        "plt.plot(history.history['val_loss'])\n",
        "plt.xlabel('epoch')\n",
        "plt.ylabel('loss')\n",
        "plt.legend(['train','val'])\n",
        "plt.show()"
      ],
      "execution_count": null,
      "outputs": [
        {
          "output_type": "display_data",
          "data": {
            "image/png": "[encoded data removed]",
            "text/plain": [
              "<Figure size 432x288 with 1 Axes>"
            ]
          },
          "metadata": {
            "needs_background": "light"
          }
        }
      ]
    },
    {
      "cell_type": "markdown",
      "metadata": {
        "id": "zIdevOA8O2xK"
      },
      "source": [
        "### BiLSTM"
      ]
    },
    {
      "cell_type": "code",
      "metadata": {
        "id": "4yj6R66KKnb3"
      },
      "source": [
        "from keras.layers import Dropout"
      ],
      "execution_count": null,
      "outputs": []
    },
    {
      "cell_type": "code",
      "metadata": {
        "id": "p4tCEna7P5Cc"
      },
      "source": [
        "BiLSTM_model = Sequential()\n",
        "BiLSTM_model.add(Embedding(vocab_size, 100))  # 단어들을 밀집벡터로 만드는 역할 (임베딩 벡터의 출력 차원수 = 100)\n",
        "BiLSTM_model.add(Bidirectional(LSTM(512,return_sequences=True)))\n",
        "BiLSTM_model.add(Dropout(0.4))\n",
        "BiLSTM_model.add(Bidirectional(LSTM(256,return_sequences=True)))\n",
        "BiLSTM_model.add(Dropout(0.4))\n",
        "BiLSTM_model.add(Bidirectional(LSTM(128)))\n",
        "BiLSTM_model.add(Dense(128))\n",
        "BiLSTM_model.add(Dropout(0.4))\n",
        "BiLSTM_model.add(Dense(7, activation='softmax'))"
      ],
      "execution_count": null,
      "outputs": []
    },
    {
      "cell_type": "code",
      "metadata": {
        "id": "vbdwExokP5Cd"
      },
      "source": [
        "es = EarlyStopping(monitor='val_loss', mode='min', verbose=1, patience=5)  # 연속해서 5번 이상 검증 데이터의 손실함수가 감소하지 않으면 에폭 중단\n",
        "mc = ModelCheckpoint('bi-lstm_best_model.h5', monitor='val_acc', mode='max', verbose=1, save_best_only=True)  # 검증 데이터의 acc를 기준으로 가장 우수한 모수만 저장"
      ],
      "execution_count": null,
      "outputs": []
    },
    {
      "cell_type": "code",
      "metadata": {
        "id": "HuZyG2sGKPaV",
        "colab": {
          "base_uri": "https://localhost:8080/"
        },
        "outputId": "495bd398-9afc-414b-94af-fc1c153c1b60"
      },
      "source": [
        "BiLSTM_model.compile(optimizer='adam', loss='categorical_crossentropy', metrics=['acc'])  # 모델 컴파일\n",
        "history=BiLSTM_model.fit(X_train, y_train, epochs=15, batch_size=80, validation_data=(X_test, y_test), callbacks=[es, mc])"
      ],
      "execution_count": null,
      "outputs": [
        {
          "output_type": "stream",
          "name": "stdout",
          "text": [
            "Epoch 1/15\n",
            "428/428 [==============================] - 46s 84ms/step - loss: 0.8019 - acc: 0.7118 - val_loss: 0.5232 - val_acc: 0.8259\n",
            "\n",
            "Epoch 00001: val_acc improved from -inf to 0.82587, saving model to bi-lstm_best_model.h5\n",
            "Epoch 2/15\n",
            "428/428 [==============================] - 33s 77ms/step - loss: 0.3661 - acc: 0.8805 - val_loss: 0.5579 - val_acc: 0.8273\n",
            "\n",
            "Epoch 00002: val_acc improved from 0.82587 to 0.82727, saving model to bi-lstm_best_model.h5\n",
            "Epoch 3/15\n",
            "428/428 [==============================] - 33s 78ms/step - loss: 0.2509 - acc: 0.9216 - val_loss: 0.5832 - val_acc: 0.8212\n",
            "\n",
            "Epoch 00003: val_acc did not improve from 0.82727\n",
            "Epoch 4/15\n",
            "428/428 [==============================] - 33s 78ms/step - loss: 0.1908 - acc: 0.9395 - val_loss: 0.6476 - val_acc: 0.8201\n",
            "\n",
            "Epoch 00004: val_acc did not improve from 0.82727\n",
            "Epoch 5/15\n",
            "428/428 [==============================] - 33s 77ms/step - loss: 0.1467 - acc: 0.9521 - val_loss: 0.7423 - val_acc: 0.8147\n",
            "\n",
            "Epoch 00005: val_acc did not improve from 0.82727\n",
            "Epoch 6/15\n",
            "428/428 [==============================] - 33s 77ms/step - loss: 0.1232 - acc: 0.9599 - val_loss: 0.7301 - val_acc: 0.8125\n",
            "\n",
            "Epoch 00006: val_acc did not improve from 0.82727\n",
            "Epoch 00006: early stopping\n"
          ]
        }
      ]
    },
    {
      "cell_type": "code",
      "metadata": {
        "id": "KRAL21LNP5Cd",
        "colab": {
          "base_uri": "https://localhost:8080/"
        },
        "outputId": "6b263ae9-ef79-46bc-8272-b04474df14be"
      },
      "source": [
        "BILSTM_loaded_model = load_model('bi-lstm_best_model.h5')\n",
        "accuracy = BILSTM_loaded_model.evaluate(X_test, y_test)[1]\n",
        "total['accuracy'][2] = accuracy\n",
        "print(\"\\n 테스트 정확도: %.4f\" % (accuracy))"
      ],
      "execution_count": null,
      "outputs": [
        {
          "output_type": "stream",
          "name": "stdout",
          "text": [
            "357/357 [==============================] - 13s 29ms/step - loss: 0.5579 - acc: 0.8273\n",
            "\n",
            " 테스트 정확도: 0.8273\n"
          ]
        }
      ]
    },
    {
      "cell_type": "code",
      "metadata": {
        "id": "M5cASN4Vzqrz"
      },
      "source": [
        ""
      ],
      "execution_count": null,
      "outputs": []
    },
    {
      "cell_type": "code",
      "metadata": {
        "id": "GmwlI9d-zqt2"
      },
      "source": [
        ""
      ],
      "execution_count": null,
      "outputs": []
    },
    {
      "cell_type": "code",
      "metadata": {
        "id": "7mcfroNYzqwd"
      },
      "source": [
        ""
      ],
      "execution_count": null,
      "outputs": []
    },
    {
      "cell_type": "code",
      "metadata": {
        "id": "TUuzWVJ7yaVY"
      },
      "source": [
        ""
      ],
      "execution_count": null,
      "outputs": []
    },
    {
      "cell_type": "markdown",
      "metadata": {
        "id": "ZKJdg0b9QbcH"
      },
      "source": [
        "### BiLSTM + Attention\n",
        "- 참고: https://wikidocs.net/48920 \n",
        "- keras의 functional API 활용 (참고: https://wikidocs.net/38861)"
      ]
    },
    {
      "cell_type": "markdown",
      "metadata": {
        "id": "Qwz1lQSPf69I"
      },
      "source": [
        "- 바다나우 어텐션 함수"
      ]
    },
    {
      "cell_type": "code",
      "metadata": {
        "id": "IhRCixhAf_qj"
      },
      "source": [
        "import tensorflow as tf"
      ],
      "execution_count": null,
      "outputs": []
    },
    {
      "cell_type": "code",
      "metadata": {
        "id": "RHbhK6GzS-T3"
      },
      "source": [
        "class BahdanauAttention(tf.keras.Model):\n",
        "  def __init__(self, units):\n",
        "    super(BahdanauAttention, self).__init__()\n",
        "    self.W1 = Dense(units)\n",
        "    self.W2 = Dense(units)\n",
        "    self.V = Dense(1)\n",
        "\n",
        "  def call(self, values, query): # 단, key와 value는 같음\n",
        "    # query shape == (batch_size, hidden size)\n",
        "    # hidden_with_time_axis shape == (batch_size, 1, hidden size)\n",
        "    # score 계산을 위해 뒤에서 할 덧셈을 위해서 차원을 변경해줍니다.\n",
        "    hidden_with_time_axis = tf.expand_dims(query, 1)\n",
        "\n",
        "    # score shape == (batch_size, max_length, 1)\n",
        "    # we get 1 at the last axis because we are applying score to self.V\n",
        "    # the shape of the tensor before applying self.V is (batch_size, max_length, units)\n",
        "    score = self.V(tf.nn.tanh(\n",
        "        self.W1(values) + self.W2(hidden_with_time_axis)))\n",
        "\n",
        "    # attention_weights shape == (batch_size, max_length, 1)\n",
        "    attention_weights = tf.nn.softmax(score, axis=1)\n",
        "\n",
        "    # context_vector shape after sum == (batch_size, hidden_size)\n",
        "    context_vector = attention_weights * values\n",
        "    context_vector = tf.reduce_sum(context_vector, axis=1)\n",
        "\n",
        "    return context_vector, attention_weights"
      ],
      "execution_count": null,
      "outputs": []
    },
    {
      "cell_type": "markdown",
      "metadata": {
        "id": "k-pkbnbJgJFY"
      },
      "source": [
        "- 양방향 LSTM + 바다나우 어텐션"
      ]
    },
    {
      "cell_type": "code",
      "metadata": {
        "id": "GZNh_PQZQ07Q"
      },
      "source": [
        "from tensorflow.keras.layers import Dense, Embedding, Bidirectional, LSTM, Concatenate, Dropout\n",
        "from tensorflow.keras import Input, Model\n",
        "from tensorflow.keras import optimizers\n",
        "import os"
      ],
      "execution_count": null,
      "outputs": []
    },
    {
      "cell_type": "code",
      "metadata": {
        "id": "-ltFotH2ggH4"
      },
      "source": [
        "max_len = 16  # 최대 길이 16으로 패딩함 (전처리 코드 참고)"
      ],
      "execution_count": null,
      "outputs": []
    },
    {
      "cell_type": "code",
      "metadata": {
        "id": "4COZ35VYgFwT"
      },
      "source": [
        "sequence_input = Input(shape=(max_len,), dtype='int32')  # 입력층\n",
        "embedded_sequences = Embedding(vocab_size, 128, input_length=max_len, mask_zero = True)(sequence_input)  # 임베딩 층"
      ],
      "execution_count": null,
      "outputs": []
    },
    {
      "cell_type": "code",
      "metadata": {
        "id": "K-qjikGEgwZX"
      },
      "source": [
        "# 양방향 LSTM 2층 쌓기\n",
        "lstm = Bidirectional(LSTM(64, dropout=0.5, return_sequences = True))(embedded_sequences)\n",
        "lstm, forward_h, forward_c, backward_h, backward_c = Bidirectional \\\n",
        "  (LSTM(64, dropout=0.5, return_sequences=True, return_state=True))(lstm)"
      ],
      "execution_count": null,
      "outputs": []
    },
    {
      "cell_type": "code",
      "metadata": {
        "colab": {
          "base_uri": "https://localhost:8080/"
        },
        "id": "7BPZxWE8hHwj",
        "outputId": "9357882a-cb5c-4680-8a0f-a5f0b50e2623"
      },
      "source": [
        "# 각 상태의 크기 출력\n",
        "print(lstm.shape, forward_h.shape, forward_c.shape, backward_h.shape, backward_c.shape)"
      ],
      "execution_count": null,
      "outputs": [
        {
          "output_type": "stream",
          "name": "stdout",
          "text": [
            "(None, 16, 128) (None, 64) (None, 64) (None, 64) (None, 64)\n"
          ]
        }
      ]
    },
    {
      "cell_type": "code",
      "metadata": {
        "id": "5-RsvIRdhQrz"
      },
      "source": [
        "# 순방향 LSTM과 역방향 LSTM의 상태 연결\n",
        "state_h = Concatenate()([forward_h, backward_h]) # 은닉 상태\n",
        "state_c = Concatenate()([forward_c, backward_c]) # 셀 상태"
      ],
      "execution_count": null,
      "outputs": []
    },
    {
      "cell_type": "code",
      "metadata": {
        "id": "FctQPVEzhemL"
      },
      "source": [
        "# 어텐션 메커니즘: 은닉상태 사용, 컨텍스트 벡터 얻음\n",
        "attention = BahdanauAttention(64) # 가중치 크기 정의\n",
        "context_vector, attention_weights = attention(lstm, state_h)"
      ],
      "execution_count": null,
      "outputs": []
    },
    {
      "cell_type": "code",
      "metadata": {
        "id": "-b0ZIUPhiAKi"
      },
      "source": [
        "dense1 = Dense(20, activation=\"relu\")(context_vector)\n",
        "dropout = Dropout(0.5)(dense1)\n",
        "output = Dense(7, activation=\"softmax\")(dropout)\n",
        "model = Model(inputs=sequence_input, outputs=output)"
      ],
      "execution_count": null,
      "outputs": []
    },
    {
      "cell_type": "code",
      "metadata": {
        "id": "IQjlf3QPit3h"
      },
      "source": [
        "es = EarlyStopping(monitor='val_loss', mode='min', verbose=1, patience=4)  # 연속해서 5번 이상 검증 데이터의 손실함수가 감소하지 않으면 에폭 중단\n",
        "mc = ModelCheckpoint('best_model.h5', monitor='val_acc', mode='max', verbose=1, save_best_only=True)  # 검증 데이터의 acc를 기준으로 가장 우수한 모수만 저장"
      ],
      "execution_count": null,
      "outputs": []
    },
    {
      "cell_type": "code",
      "metadata": {
        "colab": {
          "base_uri": "https://localhost:8080/"
        },
        "id": "Hn6n2396iNUD",
        "outputId": "6bf50cf7-fb9e-4acb-8db3-b00cbb40f768"
      },
      "source": [
        "model.compile(loss='categorical_crossentropy', optimizer='adam', metrics=['accuracy'])  # 모델 컴파일\n",
        "history = model.fit(X_train, y_train, epochs = 15, callbacks=[es, mc], batch_size = 256, validation_split=0.2)"
      ],
      "execution_count": null,
      "outputs": [
        {
          "output_type": "stream",
          "name": "stdout",
          "text": [
            "Epoch 1/15\n",
            "107/107 [==============================] - 60s 376ms/step - loss: 1.5585 - accuracy: 0.3619 - val_loss: 1.0123 - val_accuracy: 0.6521\n",
            "WARNING:tensorflow:Can save best model only with val_acc available, skipping.\n",
            "Epoch 2/15\n",
            "107/107 [==============================] - 34s 322ms/step - loss: 0.9294 - accuracy: 0.6722 - val_loss: 0.7114 - val_accuracy: 0.7870\n",
            "WARNING:tensorflow:Can save best model only with val_acc available, skipping.\n",
            "Epoch 3/15\n",
            "107/107 [==============================] - 34s 320ms/step - loss: 0.6690 - accuracy: 0.7929 - val_loss: 0.6191 - val_accuracy: 0.8190\n",
            "WARNING:tensorflow:Can save best model only with val_acc available, skipping.\n",
            "Epoch 4/15\n",
            "107/107 [==============================] - 35s 324ms/step - loss: 0.5167 - accuracy: 0.8471 - val_loss: 0.6183 - val_accuracy: 0.8249\n",
            "WARNING:tensorflow:Can save best model only with val_acc available, skipping.\n",
            "Epoch 5/15\n",
            "107/107 [==============================] - 34s 319ms/step - loss: 0.4298 - accuracy: 0.8748 - val_loss: 0.6474 - val_accuracy: 0.8240\n",
            "WARNING:tensorflow:Can save best model only with val_acc available, skipping.\n",
            "Epoch 6/15\n",
            "107/107 [==============================] - 34s 316ms/step - loss: 0.3570 - accuracy: 0.8977 - val_loss: 0.6990 - val_accuracy: 0.8271\n",
            "WARNING:tensorflow:Can save best model only with val_acc available, skipping.\n",
            "Epoch 7/15\n",
            "107/107 [==============================] - 34s 321ms/step - loss: 0.3235 - accuracy: 0.9069 - val_loss: 0.7210 - val_accuracy: 0.8246\n",
            "WARNING:tensorflow:Can save best model only with val_acc available, skipping.\n",
            "Epoch 8/15\n",
            "107/107 [==============================] - 35s 323ms/step - loss: 0.2905 - accuracy: 0.9147 - val_loss: 0.8139 - val_accuracy: 0.8200\n",
            "WARNING:tensorflow:Can save best model only with val_acc available, skipping.\n",
            "Epoch 00008: early stopping\n"
          ]
        }
      ]
    },
    {
      "cell_type": "code",
      "metadata": {
        "colab": {
          "base_uri": "https://localhost:8080/"
        },
        "id": "g4sZu1w7japn",
        "outputId": "432c0f12-1eec-49e0-8a63-2cb216c0243b"
      },
      "source": [
        "attention_loaded_model = load_model('best_model.h5')\n",
        "accuracy = attention_loaded_model.evaluate(X_test, y_test)[1]\n",
        "total['accuracy'][3] = accuracy\n",
        "print(\"\\n 테스트 정확도: %.4f\" % (accuracy))"
      ],
      "execution_count": null,
      "outputs": [
        {
          "output_type": "stream",
          "name": "stdout",
          "text": [
            "357/357 [==============================] - 2s 5ms/step - loss: 0.5922 - acc: 0.8229\n",
            "\n",
            " 테스트 정확도: 0.8229\n"
          ]
        }
      ]
    },
    {
      "cell_type": "markdown",
      "metadata": {
        "id": "W_8hkrvL0afG"
      },
      "source": [
        "## 실제 테스트 데이터 전처리 및 분류하기\n",
        "- GRU, LSTM, BiLSTM, Attention_bi_lstm 모델의 best model 적용 -> 확률 기반 앙상블"
      ]
    },
    {
      "cell_type": "code",
      "metadata": {
        "id": "sWfqa3xm0wii"
      },
      "source": [
        "y_predicted_0 = gpu_loaded_model.predict(X_Test) #gru\n",
        "y_predicted_1 = loaded_model.predict(X_Test) #lstm\n",
        "y_predicted_2 = BILSTM_loaded_model.predict(X_Test)\n",
        "y_predicted_3 = attention_loaded_model.predict(X_Test)"
      ],
      "execution_count": null,
      "outputs": []
    },
    {
      "cell_type": "code",
      "metadata": {
        "colab": {
          "base_uri": "https://localhost:8080/"
        },
        "id": "MHjF9rLgfAt_",
        "outputId": "ffff727f-aafd-44e2-ecf2-d61545bfeb75"
      },
      "source": [
        "len(y_predicted_0)"
      ],
      "execution_count": null,
      "outputs": [
        {
          "output_type": "execute_result",
          "data": {
            "text/plain": [
              "9131"
            ]
          },
          "metadata": {},
          "execution_count": 71
        }
      ]
    },
    {
      "cell_type": "code",
      "metadata": {
        "colab": {
          "base_uri": "https://localhost:8080/"
        },
        "id": "a0D4XY6ffUE3",
        "outputId": "e519efe3-ce1e-4b70-a56b-388828625f17"
      },
      "source": [
        "len(y_predicted_1)"
      ],
      "execution_count": null,
      "outputs": [
        {
          "output_type": "execute_result",
          "data": {
            "text/plain": [
              "9131"
            ]
          },
          "metadata": {},
          "execution_count": 72
        }
      ]
    },
    {
      "cell_type": "code",
      "metadata": {
        "id": "vzvqukOefbWx"
      },
      "source": [
        "y_predicted=y_predicted_0+y_predicted_1+y_predicted_2+y_predicted_3"
      ],
      "execution_count": null,
      "outputs": []
    },
    {
      "cell_type": "code",
      "metadata": {
        "colab": {
          "base_uri": "https://localhost:8080/"
        },
        "id": "NYvwN5_6jlgU",
        "outputId": "edc11ecf-8f09-4db9-f4b7-24331cbce661"
      },
      "source": [
        "y_predicted"
      ],
      "execution_count": null,
      "outputs": [
        {
          "output_type": "execute_result",
          "data": {
            "text/plain": [
              "array([[3.0914676e-01, 1.6002579e-01, 1.9845570e+00, ..., 1.5693169e-02,\n",
              "        3.0351670e-03, 1.4310813e-02],\n",
              "       [1.5335877e-03, 3.4693704e-04, 4.7833538e-03, ..., 5.2970275e-04,\n",
              "        1.4233373e-03, 1.4825692e-04],\n",
              "       [2.9707050e-01, 1.1006049e-01, 2.8359458e+00, ..., 7.1519196e-02,\n",
              "        2.6257614e-02, 6.1158907e-01],\n",
              "       ...,\n",
              "       [2.1161568e-01, 2.2268852e-02, 1.8025734e+00, ..., 2.4602478e-02,\n",
              "        1.3707418e-02, 7.9901591e-03],\n",
              "       [2.7698212e+00, 4.9272415e-01, 6.7724645e-01, ..., 2.4609797e-02,\n",
              "        4.7645564e-03, 2.0437751e-02],\n",
              "       [5.8893476e-02, 5.1320091e-02, 2.2921877e+00, ..., 1.8502671e-02,\n",
              "        3.2014498e-03, 1.5669694e+00]], dtype=float32)"
            ]
          },
          "metadata": {},
          "execution_count": 125
        }
      ]
    },
    {
      "cell_type": "code",
      "metadata": {
        "id": "igHpTVaRfiLU"
      },
      "source": [
        "y_predicted = y_predicted.argmax(axis=-1)# 예측된 정수 시퀀스로 변환"
      ],
      "execution_count": null,
      "outputs": []
    },
    {
      "cell_type": "code",
      "metadata": {
        "id": "C8X3Kked7JcD",
        "colab": {
          "base_uri": "https://localhost:8080/"
        },
        "outputId": "33324305-fe3d-4256-d010-db74921ef35c"
      },
      "source": [
        "y_predicted"
      ],
      "execution_count": null,
      "outputs": [
        {
          "output_type": "execute_result",
          "data": {
            "text/plain": [
              "array([2, 3, 2, ..., 3, 0, 2])"
            ]
          },
          "metadata": {},
          "execution_count": 127
        }
      ]
    },
    {
      "cell_type": "code",
      "metadata": {
        "id": "-cen6bthGGmA"
      },
      "source": [
        "Test_data=pd.read_csv('/content/drive/MyDrive/뉴스 분류/test_data.csv')"
      ],
      "execution_count": null,
      "outputs": []
    },
    {
      "cell_type": "code",
      "metadata": {
        "id": "rgLudU1u7BKe"
      },
      "source": [
        "Test_data['topic_idx'] = y_predicted"
      ],
      "execution_count": null,
      "outputs": []
    },
    {
      "cell_type": "code",
      "metadata": {
        "id": "avdJLq-71le1"
      },
      "source": [
        "del Test_data['title']"
      ],
      "execution_count": null,
      "outputs": []
    },
    {
      "cell_type": "code",
      "metadata": {
        "colab": {
          "base_uri": "https://localhost:8080/"
        },
        "id": "V_DgHuYDL_vM",
        "outputId": "19995ee7-44ab-4a49-b52d-ec44c8e30744"
      },
      "source": [
        "len(Test_data)"
      ],
      "execution_count": null,
      "outputs": [
        {
          "output_type": "execute_result",
          "data": {
            "text/plain": [
              "9131"
            ]
          },
          "metadata": {},
          "execution_count": 131
        }
      ]
    },
    {
      "cell_type": "code",
      "metadata": {
        "id": "ofVGDMvXGSJW"
      },
      "source": [
        "# to_csv 저장\n",
        "Test_data.to_csv('/content/drive/MyDrive/뉴스 분류/무성_제출파일_앙상블 두번째.csv', index=None)"
      ],
      "execution_count": null,
      "outputs": []
    },
    {
      "cell_type": "code",
      "metadata": {
        "colab": {
          "base_uri": "https://localhost:8080/",
          "height": 172
        },
        "id": "NrqmqoH94xRF",
        "outputId": "bb846aa8-f115-4010-bcab-bcf197c96c79"
      },
      "source": [
        "total"
      ],
      "execution_count": null,
      "outputs": [
        {
          "output_type": "execute_result",
          "data": {
            "text/html": [
              "<div>\n",
              "<style scoped>\n",
              "    .dataframe tbody tr th:only-of-type {\n",
              "        vertical-align: middle;\n",
              "    }\n",
              "\n",
              "    .dataframe tbody tr th {\n",
              "        vertical-align: top;\n",
              "    }\n",
              "\n",
              "    .dataframe thead th {\n",
              "        text-align: right;\n",
              "    }\n",
              "</style>\n",
              "<table border=\"1\" class=\"dataframe\">\n",
              "  <thead>\n",
              "    <tr style=\"text-align: right;\">\n",
              "      <th></th>\n",
              "      <th>accuracy</th>\n",
              "    </tr>\n",
              "  </thead>\n",
              "  <tbody>\n",
              "    <tr>\n",
              "      <th>GRU</th>\n",
              "      <td>0.839891</td>\n",
              "    </tr>\n",
              "    <tr>\n",
              "      <th>LSTM</th>\n",
              "      <td>0.838139</td>\n",
              "    </tr>\n",
              "    <tr>\n",
              "      <th>BiLSTM</th>\n",
              "      <td>0.827272</td>\n",
              "    </tr>\n",
              "    <tr>\n",
              "      <th>BiLSTM + Attention</th>\n",
              "      <td>0.82289</td>\n",
              "    </tr>\n",
              "  </tbody>\n",
              "</table>\n",
              "</div>"
            ],
            "text/plain": [
              "                    accuracy\n",
              "GRU                 0.839891\n",
              "LSTM                0.838139\n",
              "BiLSTM              0.827272\n",
              "BiLSTM + Attention   0.82289"
            ]
          },
          "metadata": {},
          "execution_count": 133
        }
      ]
    },
    {
      "cell_type": "code",
      "metadata": {
        "id": "N7oCDatw4y2n"
      },
      "source": [
        ""
      ],
      "execution_count": null,
      "outputs": []
    }
  ]
}